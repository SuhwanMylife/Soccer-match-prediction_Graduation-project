{
 "cells": [
  {
   "cell_type": "code",
   "execution_count": 1,
   "id": "08cf8744",
   "metadata": {},
   "outputs": [],
   "source": [
    "from selenium import webdriver\n",
    "from selenium.webdriver.common.keys import Keys\n",
    "from selenium.webdriver.common.by import By"
   ]
  },
  {
   "cell_type": "code",
   "execution_count": 2,
   "id": "e86251dd",
   "metadata": {},
   "outputs": [
    {
     "name": "stderr",
     "output_type": "stream",
     "text": [
      "/usr/local/lib/python3.7/site-packages/ipykernel_launcher.py:5: DeprecationWarning: executable_path has been deprecated, please pass in a Service object\n",
      "  \"\"\"\n"
     ]
    }
   ],
   "source": [
    "options = webdriver.ChromeOptions()\n",
    "options.add_argument('--headless')\n",
    "options.add_argument('--no-sandbox')\n",
    "options.add_argument('--disable-dev-shm-usage')\n",
    "driver = webdriver.Chrome('/chromedriver',options=options)"
   ]
  },
  {
   "cell_type": "code",
   "execution_count": 3,
   "id": "002ba9e3",
   "metadata": {},
   "outputs": [],
   "source": [
    "driver.get(\"https://understat.com/league/EPL\")"
   ]
  },
  {
   "cell_type": "code",
   "execution_count": 4,
   "id": "eb0fb38e",
   "metadata": {
    "scrolled": true
   },
   "outputs": [
    {
     "name": "stderr",
     "output_type": "stream",
     "text": [
      "/usr/local/lib/python3.7/site-packages/ipykernel_launcher.py:1: DeprecationWarning: find_elements_by_xpath is deprecated. Please use find_elements(by=By.XPATH, value=xpath) instead\n",
      "  \"\"\"Entry point for launching an IPython kernel.\n"
     ]
    },
    {
     "data": {
      "text/plain": [
       "'93.40-5.60'"
      ]
     },
     "execution_count": 4,
     "metadata": {},
     "output_type": "execute_result"
    }
   ],
   "source": [
    "xG_origin = driver.find_elements_by_xpath('//div[@id=\"league-chemp\"]//table/tbody//td[@class=\"align-right nowrap\"]')\n",
    "xG_origin[0].text"
   ]
  },
  {
   "cell_type": "code",
   "execution_count": 5,
   "id": "e2ed82bc",
   "metadata": {},
   "outputs": [],
   "source": [
    "# driver.refresh()\n",
    "# driver.delete_all_cookies()"
   ]
  },
  {
   "cell_type": "code",
   "execution_count": 6,
   "id": "677416bd",
   "metadata": {},
   "outputs": [],
   "source": [
    "# date_start = driver.find_elements(By.XPATH, '//input[@class=\"datepicker hasDatepicker\"]')"
   ]
  },
  {
   "cell_type": "code",
   "execution_count": 93,
   "id": "23d75ba9",
   "metadata": {},
   "outputs": [
    {
     "name": "stderr",
     "output_type": "stream",
     "text": [
      "/usr/local/lib/python3.7/site-packages/ipykernel_launcher.py:2: DeprecationWarning: find_elements_by_xpath is deprecated. Please use find_elements(by=By.XPATH, value=xpath) instead\n",
      "  \n"
     ]
    },
    {
     "data": {
      "text/plain": [
       "[]"
      ]
     },
     "execution_count": 93,
     "metadata": {},
     "output_type": "execute_result"
    }
   ],
   "source": [
    "# 날짜창 클릭 이벤트\n",
    "date_click = driver.find_elements_by_xpath('//*[@id=\"dp1653987795835\"]')\n",
    "date_click\n",
    "# date_click[0].text\n",
    "# date_click[0].click()\n",
    "# date_click[0].send_keys(Keys.ENTER)"
   ]
  },
  {
   "cell_type": "code",
   "execution_count": 91,
   "id": "1b3bf1e4",
   "metadata": {},
   "outputs": [
    {
     "name": "stderr",
     "output_type": "stream",
     "text": [
      "/usr/local/lib/python3.7/site-packages/ipykernel_launcher.py:2: DeprecationWarning: find_elements_by_xpath is deprecated. Please use find_elements(by=By.XPATH, value=xpath) instead\n",
      "  \n"
     ]
    },
    {
     "data": {
      "text/plain": [
       "''"
      ]
     },
     "execution_count": 91,
     "metadata": {},
     "output_type": "execute_result"
    }
   ],
   "source": [
    "# 달력 클릭 이벤트\n",
    "calendar_click = driver.find_elements_by_xpath('//*[@id=\"ui-datepicker-div\"]/table/tbody/tr[2]/td[2]/a')\n",
    "calendar_click[0].text\n",
    "# calendar_click[0].send_keys(Keys.ENTER)\n",
    "# calendar_click[0].click()"
   ]
  },
  {
   "cell_type": "code",
   "execution_count": 7,
   "id": "a93e3aae",
   "metadata": {},
   "outputs": [],
   "source": [
    "# # date_start[0].send_keys(Keys.DELETE)Apr 6, 2022Apr 6, 2022\n",
    "# date_start[0].send_keys(\"Apr 6, 2022\")\n",
    "# date_start[0].send_keys(Keys.RETURN)"
   ]
  },
  {
   "cell_type": "code",
   "execution_count": 23,
   "id": "ffff7917",
   "metadata": {},
   "outputs": [
    {
     "name": "stderr",
     "output_type": "stream",
     "text": [
      "/usr/local/lib/python3.7/site-packages/ipykernel_launcher.py:1: DeprecationWarning: find_elements_by_xpath is deprecated. Please use find_elements(by=By.XPATH, value=xpath) instead\n",
      "  \"\"\"Entry point for launching an IPython kernel.\n",
      "/usr/local/lib/python3.7/site-packages/ipykernel_launcher.py:2: DeprecationWarning: find_elements_by_xpath is deprecated. Please use find_elements(by=By.XPATH, value=xpath) instead\n",
      "  \n",
      "/usr/local/lib/python3.7/site-packages/ipykernel_launcher.py:3: DeprecationWarning: find_elements_by_xpath is deprecated. Please use find_elements(by=By.XPATH, value=xpath) instead\n",
      "  This is separate from the ipykernel package so we can avoid doing imports until\n"
     ]
    },
    {
     "data": {
      "text/plain": [
       "[<selenium.webdriver.remote.webelement.WebElement (session=\"532083d3aefd9c10b87d9900d06d9e8e\", element=\"9c35caf0-d93e-48b9-9799-9135a739377c\")>]"
      ]
     },
     "execution_count": 23,
     "metadata": {},
     "output_type": "execute_result"
    }
   ],
   "source": [
    "date_test_1 = driver.find_elements_by_xpath('//div[@id=\"ui-datepicker-div\"]')\n",
    "date_test_2 = driver.find_elements_by_xpath('//div[@id=\"ui-datepicker-div\"]/table')\n",
    "date_test_3 = driver.find_elements_by_xpath('//div[@id=\"ui-datepicker-div\"]/table/tbody//tr')\n",
    "date_test_1"
   ]
  },
  {
   "cell_type": "code",
   "execution_count": 21,
   "id": "9cc56d83",
   "metadata": {},
   "outputs": [
    {
     "data": {
      "text/plain": [
       "[<selenium.webdriver.remote.webelement.WebElement (session=\"532083d3aefd9c10b87d9900d06d9e8e\", element=\"b927bef5-debd-456d-9288-aea6dd0ccb7a\")>]"
      ]
     },
     "execution_count": 21,
     "metadata": {},
     "output_type": "execute_result"
    }
   ],
   "source": [
    "date_test_2"
   ]
  },
  {
   "cell_type": "code",
   "execution_count": 25,
   "id": "09ca2b5a",
   "metadata": {},
   "outputs": [
    {
     "data": {
      "text/plain": [
       "''"
      ]
     },
     "execution_count": 25,
     "metadata": {},
     "output_type": "execute_result"
    }
   ],
   "source": [
    "date_test_3[0].text"
   ]
  },
  {
   "cell_type": "code",
   "execution_count": 33,
   "id": "ab77ffb3",
   "metadata": {},
   "outputs": [
    {
     "name": "stderr",
     "output_type": "stream",
     "text": [
      "/usr/local/lib/python3.7/site-packages/ipykernel_launcher.py:2: DeprecationWarning: find_elements_by_xpath is deprecated. Please use find_elements(by=By.XPATH, value=xpath) instead\n",
      "  \n"
     ]
    },
    {
     "data": {
      "text/plain": [
       "''"
      ]
     },
     "execution_count": 33,
     "metadata": {},
     "output_type": "execute_result"
    }
   ],
   "source": [
    "# 클릭 이벤트 실행\n",
    "date_selector = driver.find_elements_by_xpath('//div[@id=\"ui-datepicker-div\"]//table[@class=\"ui-datepicker-calendar\"]/tbody')\n",
    "date_selector[0].text"
   ]
  },
  {
   "cell_type": "code",
   "execution_count": null,
   "id": "7fe78f13",
   "metadata": {},
   "outputs": [],
   "source": [
    "'//div[@id=\"league-chemp\"]//table/tbody//td[@class=\"align-right nowrap\"]'"
   ]
  },
  {
   "cell_type": "code",
   "execution_count": 85,
   "id": "6023bee6",
   "metadata": {},
   "outputs": [
    {
     "name": "stderr",
     "output_type": "stream",
     "text": [
      "/usr/local/lib/python3.7/site-packages/ipykernel_launcher.py:1: DeprecationWarning: find_elements_by_xpath is deprecated. Please use find_elements(by=By.XPATH, value=xpath) instead\n",
      "  \"\"\"Entry point for launching an IPython kernel.\n"
     ]
    },
    {
     "data": {
      "text/plain": [
       "'93.40-5.60'"
      ]
     },
     "execution_count": 85,
     "metadata": {},
     "output_type": "execute_result"
    }
   ],
   "source": [
    "xG_date_change = driver.find_elements_by_xpath('//div[@id=\"league-chemp\"]//table/tbody//td[@class=\"align-right nowrap\"]')\n",
    "xG_date_change[0].text"
   ]
  },
  {
   "cell_type": "code",
   "execution_count": 10,
   "id": "dd7fa06c",
   "metadata": {},
   "outputs": [
    {
     "data": {
      "text/plain": [
       "[<selenium.webdriver.remote.webelement.WebElement (session=\"532083d3aefd9c10b87d9900d06d9e8e\", element=\"b44afc5e-ea3b-4c89-8198-c991a645010e\")>,\n",
       " <selenium.webdriver.remote.webelement.WebElement (session=\"532083d3aefd9c10b87d9900d06d9e8e\", element=\"4bdd3630-c0f9-4ae7-be7e-1519e6e8e22d\")>,\n",
       " <selenium.webdriver.remote.webelement.WebElement (session=\"532083d3aefd9c10b87d9900d06d9e8e\", element=\"573df2f9-e0a1-466a-8da1-f1f75dd97985\")>,\n",
       " <selenium.webdriver.remote.webelement.WebElement (session=\"532083d3aefd9c10b87d9900d06d9e8e\", element=\"1cfce6cc-dc5b-4854-9d2d-f0cbdf055a94\")>,\n",
       " <selenium.webdriver.remote.webelement.WebElement (session=\"532083d3aefd9c10b87d9900d06d9e8e\", element=\"f12762a0-ba93-4419-8b03-c94bf1dc699b\")>,\n",
       " <selenium.webdriver.remote.webelement.WebElement (session=\"532083d3aefd9c10b87d9900d06d9e8e\", element=\"ecea3f79-13ce-4dcc-9e8d-271ad933e776\")>,\n",
       " <selenium.webdriver.remote.webelement.WebElement (session=\"532083d3aefd9c10b87d9900d06d9e8e\", element=\"65b0eed5-3a0f-4496-9325-58151007f598\")>,\n",
       " <selenium.webdriver.remote.webelement.WebElement (session=\"532083d3aefd9c10b87d9900d06d9e8e\", element=\"8786e807-48cc-491e-875d-ff37eec0433e\")>,\n",
       " <selenium.webdriver.remote.webelement.WebElement (session=\"532083d3aefd9c10b87d9900d06d9e8e\", element=\"7d9a8e3d-c7bf-4942-9289-839cc80a6fd0\")>,\n",
       " <selenium.webdriver.remote.webelement.WebElement (session=\"532083d3aefd9c10b87d9900d06d9e8e\", element=\"0963a16f-ecad-45db-8e6e-7e46e52eb97d\")>,\n",
       " <selenium.webdriver.remote.webelement.WebElement (session=\"532083d3aefd9c10b87d9900d06d9e8e\", element=\"7bff3c6b-36f1-4514-b766-669600d902c5\")>,\n",
       " <selenium.webdriver.remote.webelement.WebElement (session=\"532083d3aefd9c10b87d9900d06d9e8e\", element=\"e0197870-2cce-42f3-88b7-91c603365f5e\")>,\n",
       " <selenium.webdriver.remote.webelement.WebElement (session=\"532083d3aefd9c10b87d9900d06d9e8e\", element=\"7e3b348c-ddff-449a-a93d-054e1ff1bf09\")>,\n",
       " <selenium.webdriver.remote.webelement.WebElement (session=\"532083d3aefd9c10b87d9900d06d9e8e\", element=\"eeb55f21-3800-44a7-87c1-1ebec3bd396c\")>,\n",
       " <selenium.webdriver.remote.webelement.WebElement (session=\"532083d3aefd9c10b87d9900d06d9e8e\", element=\"6b5d00b2-f9ae-4bfe-bbe3-7dda1ea61523\")>,\n",
       " <selenium.webdriver.remote.webelement.WebElement (session=\"532083d3aefd9c10b87d9900d06d9e8e\", element=\"f4b92fca-c466-4048-bb3f-609fa4066860\")>,\n",
       " <selenium.webdriver.remote.webelement.WebElement (session=\"532083d3aefd9c10b87d9900d06d9e8e\", element=\"3730681c-10ad-4f92-9bfa-1986214368f3\")>,\n",
       " <selenium.webdriver.remote.webelement.WebElement (session=\"532083d3aefd9c10b87d9900d06d9e8e\", element=\"363f61ff-808b-42b9-b3f6-fabbca581876\")>,\n",
       " <selenium.webdriver.remote.webelement.WebElement (session=\"532083d3aefd9c10b87d9900d06d9e8e\", element=\"d849fa39-3fa7-4a8a-9c07-20bae0ef2298\")>,\n",
       " <selenium.webdriver.remote.webelement.WebElement (session=\"532083d3aefd9c10b87d9900d06d9e8e\", element=\"70501b9b-ff83-4e5c-b55a-90751ccb0f68\")>,\n",
       " <selenium.webdriver.remote.webelement.WebElement (session=\"532083d3aefd9c10b87d9900d06d9e8e\", element=\"4686a1b1-49d9-486c-9a3b-350ebc5e95d6\")>,\n",
       " <selenium.webdriver.remote.webelement.WebElement (session=\"532083d3aefd9c10b87d9900d06d9e8e\", element=\"33a5ce3f-ba9a-4610-aa44-f57f4dcb125a\")>,\n",
       " <selenium.webdriver.remote.webelement.WebElement (session=\"532083d3aefd9c10b87d9900d06d9e8e\", element=\"8864ebef-49b2-4ff3-879e-0433b6cd4952\")>,\n",
       " <selenium.webdriver.remote.webelement.WebElement (session=\"532083d3aefd9c10b87d9900d06d9e8e\", element=\"133cf9db-3a9a-4c49-abd4-10ea6fe8237e\")>,\n",
       " <selenium.webdriver.remote.webelement.WebElement (session=\"532083d3aefd9c10b87d9900d06d9e8e\", element=\"5d005920-fe81-4997-a396-c43f6b66bdf8\")>,\n",
       " <selenium.webdriver.remote.webelement.WebElement (session=\"532083d3aefd9c10b87d9900d06d9e8e\", element=\"882fa116-cff6-4078-9892-b78c5f79f11c\")>,\n",
       " <selenium.webdriver.remote.webelement.WebElement (session=\"532083d3aefd9c10b87d9900d06d9e8e\", element=\"5ea21814-b3c6-4722-a2c8-a193cad5725f\")>,\n",
       " <selenium.webdriver.remote.webelement.WebElement (session=\"532083d3aefd9c10b87d9900d06d9e8e\", element=\"4219462c-2765-48fe-bf8b-dcf885a4d820\")>,\n",
       " <selenium.webdriver.remote.webelement.WebElement (session=\"532083d3aefd9c10b87d9900d06d9e8e\", element=\"0c0e35fb-2e0d-4c7b-a366-b027cbfb4310\")>,\n",
       " <selenium.webdriver.remote.webelement.WebElement (session=\"532083d3aefd9c10b87d9900d06d9e8e\", element=\"8c586889-9d7e-4be8-8c29-848203ded7bc\")>,\n",
       " <selenium.webdriver.remote.webelement.WebElement (session=\"532083d3aefd9c10b87d9900d06d9e8e\", element=\"061a1192-4849-489f-bd28-e39391b4c85d\")>,\n",
       " <selenium.webdriver.remote.webelement.WebElement (session=\"532083d3aefd9c10b87d9900d06d9e8e\", element=\"b06d48f6-fd47-45bf-a6e0-10da6717d84c\")>,\n",
       " <selenium.webdriver.remote.webelement.WebElement (session=\"532083d3aefd9c10b87d9900d06d9e8e\", element=\"5d7fc182-0dce-4658-8359-e9d743c14a81\")>,\n",
       " <selenium.webdriver.remote.webelement.WebElement (session=\"532083d3aefd9c10b87d9900d06d9e8e\", element=\"48be3ac1-0716-4b9b-8946-a146f18f7ef3\")>,\n",
       " <selenium.webdriver.remote.webelement.WebElement (session=\"532083d3aefd9c10b87d9900d06d9e8e\", element=\"49a4c66f-1986-44be-8699-0205d0c44c61\")>,\n",
       " <selenium.webdriver.remote.webelement.WebElement (session=\"532083d3aefd9c10b87d9900d06d9e8e\", element=\"a238034b-2046-4499-9afa-fab2c65ba920\")>,\n",
       " <selenium.webdriver.remote.webelement.WebElement (session=\"532083d3aefd9c10b87d9900d06d9e8e\", element=\"ca0fd1c0-5b94-4e97-91a9-2f2db1ef8b2f\")>,\n",
       " <selenium.webdriver.remote.webelement.WebElement (session=\"532083d3aefd9c10b87d9900d06d9e8e\", element=\"1e93474d-8ded-46f1-81a4-77f5c22e56b0\")>,\n",
       " <selenium.webdriver.remote.webelement.WebElement (session=\"532083d3aefd9c10b87d9900d06d9e8e\", element=\"4846ec6e-70d3-42db-8c39-68dd67b7849f\")>,\n",
       " <selenium.webdriver.remote.webelement.WebElement (session=\"532083d3aefd9c10b87d9900d06d9e8e\", element=\"ccad276e-ca98-4907-a613-13d2aa04c67c\")>,\n",
       " <selenium.webdriver.remote.webelement.WebElement (session=\"532083d3aefd9c10b87d9900d06d9e8e\", element=\"35486aed-6256-45cf-8c08-481b7f497a0a\")>,\n",
       " <selenium.webdriver.remote.webelement.WebElement (session=\"532083d3aefd9c10b87d9900d06d9e8e\", element=\"99c50dbb-13b6-4d5b-ad65-24a5447f04d1\")>,\n",
       " <selenium.webdriver.remote.webelement.WebElement (session=\"532083d3aefd9c10b87d9900d06d9e8e\", element=\"d96b4fa0-f196-402c-b40e-eb74432c074f\")>,\n",
       " <selenium.webdriver.remote.webelement.WebElement (session=\"532083d3aefd9c10b87d9900d06d9e8e\", element=\"922c911c-b074-4864-9011-4ef9c231db2b\")>,\n",
       " <selenium.webdriver.remote.webelement.WebElement (session=\"532083d3aefd9c10b87d9900d06d9e8e\", element=\"9c758376-ac3d-4837-b384-b014a50e431d\")>,\n",
       " <selenium.webdriver.remote.webelement.WebElement (session=\"532083d3aefd9c10b87d9900d06d9e8e\", element=\"2639e0ba-6d77-44e2-b7cd-0163a380be2e\")>,\n",
       " <selenium.webdriver.remote.webelement.WebElement (session=\"532083d3aefd9c10b87d9900d06d9e8e\", element=\"d96f1c52-c993-42ad-8166-389cfb5ff83c\")>,\n",
       " <selenium.webdriver.remote.webelement.WebElement (session=\"532083d3aefd9c10b87d9900d06d9e8e\", element=\"7e152001-3ab9-4def-b2fd-0044ed7c165d\")>,\n",
       " <selenium.webdriver.remote.webelement.WebElement (session=\"532083d3aefd9c10b87d9900d06d9e8e\", element=\"23bf0444-113f-4123-9a03-82347642e163\")>,\n",
       " <selenium.webdriver.remote.webelement.WebElement (session=\"532083d3aefd9c10b87d9900d06d9e8e\", element=\"67bafae6-cb4e-4074-a03e-1eec00c149f4\")>,\n",
       " <selenium.webdriver.remote.webelement.WebElement (session=\"532083d3aefd9c10b87d9900d06d9e8e\", element=\"1cf4dc02-576a-476f-9658-1a0a424f0f23\")>,\n",
       " <selenium.webdriver.remote.webelement.WebElement (session=\"532083d3aefd9c10b87d9900d06d9e8e\", element=\"8784a73b-5604-4f52-b1d4-173d23008047\")>,\n",
       " <selenium.webdriver.remote.webelement.WebElement (session=\"532083d3aefd9c10b87d9900d06d9e8e\", element=\"e0686dbe-218c-4c69-8720-e9e4ff73f80f\")>,\n",
       " <selenium.webdriver.remote.webelement.WebElement (session=\"532083d3aefd9c10b87d9900d06d9e8e\", element=\"ba5c3fd3-ca93-479c-b45c-83737ef1eecd\")>,\n",
       " <selenium.webdriver.remote.webelement.WebElement (session=\"532083d3aefd9c10b87d9900d06d9e8e\", element=\"180b80cd-6da3-40a7-863e-bc2e51988998\")>,\n",
       " <selenium.webdriver.remote.webelement.WebElement (session=\"532083d3aefd9c10b87d9900d06d9e8e\", element=\"e248afed-c6f7-4907-9cd7-0a5f11ee9a52\")>,\n",
       " <selenium.webdriver.remote.webelement.WebElement (session=\"532083d3aefd9c10b87d9900d06d9e8e\", element=\"0c64179f-6776-4de4-87d1-be95f8379d2b\")>,\n",
       " <selenium.webdriver.remote.webelement.WebElement (session=\"532083d3aefd9c10b87d9900d06d9e8e\", element=\"4c838da9-f45b-433e-aadc-fa84444f5988\")>,\n",
       " <selenium.webdriver.remote.webelement.WebElement (session=\"532083d3aefd9c10b87d9900d06d9e8e\", element=\"6775d23c-50ac-4f42-b50d-2ed890f6ec38\")>,\n",
       " <selenium.webdriver.remote.webelement.WebElement (session=\"532083d3aefd9c10b87d9900d06d9e8e\", element=\"39eac301-3d7e-4c83-8540-17c5cb39a802\")>]"
      ]
     },
     "execution_count": 10,
     "metadata": {},
     "output_type": "execute_result"
    }
   ],
   "source": [
    "xG_date_change"
   ]
  },
  {
   "cell_type": "code",
   "execution_count": null,
   "id": "88d871c3",
   "metadata": {},
   "outputs": [],
   "source": []
  }
 ],
 "metadata": {
  "kernelspec": {
   "display_name": "Python 3 (ipykernel)",
   "language": "python",
   "name": "python3"
  },
  "language_info": {
   "codemirror_mode": {
    "name": "ipython",
    "version": 3
   },
   "file_extension": ".py",
   "mimetype": "text/x-python",
   "name": "python",
   "nbconvert_exporter": "python",
   "pygments_lexer": "ipython3",
   "version": "3.7.13"
  }
 },
 "nbformat": 4,
 "nbformat_minor": 5
}
