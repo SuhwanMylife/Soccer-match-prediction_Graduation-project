{
 "cells": [
  {
   "cell_type": "code",
   "execution_count": 62,
   "id": "815e6788",
   "metadata": {},
   "outputs": [],
   "source": [
    "from selenium import webdriver\n",
    "from selenium.webdriver.common.keys import Keys\n",
    "from selenium.webdriver.common.by import By\n",
    "from selenium.webdriver.support.ui import WebDriverWait\n",
    "import time"
   ]
  },
  {
   "cell_type": "code",
   "execution_count": 63,
   "id": "7e58184a",
   "metadata": {},
   "outputs": [
    {
     "name": "stderr",
     "output_type": "stream",
     "text": [
      "/usr/local/lib/python3.7/site-packages/ipykernel_launcher.py:5: DeprecationWarning: executable_path has been deprecated, please pass in a Service object\n",
      "  \"\"\"\n"
     ]
    }
   ],
   "source": [
    "options = webdriver.ChromeOptions()\n",
    "options.add_argument('--headless')\n",
    "options.add_argument('--no-sandbox')\n",
    "options.add_argument('--disable-dev-shm-usage')\n",
    "driver = webdriver.Chrome('/chromedriver',options=options)"
   ]
  },
  {
   "cell_type": "code",
   "execution_count": 64,
   "id": "1a1bd3ae",
   "metadata": {},
   "outputs": [],
   "source": [
    "driver.get(\"https://understat.com/league/EPL\")\n",
    "time.sleep(3)"
   ]
  },
  {
   "cell_type": "code",
   "execution_count": 65,
   "id": "e27408dd",
   "metadata": {},
   "outputs": [
    {
     "name": "stderr",
     "output_type": "stream",
     "text": [
      "/usr/local/lib/python3.7/site-packages/ipykernel_launcher.py:3: DeprecationWarning: find_elements_by_xpath is deprecated. Please use find_elements(by=By.XPATH, value=xpath) instead\n",
      "  This is separate from the ipykernel package so we can avoid doing imports until\n"
     ]
    }
   ],
   "source": [
    "time.sleep(3)\n",
    "\n",
    "date_start = driver.find_elements_by_xpath(\"\"\"//*[@class=\"datepicker hasDatepicker\"]\"\"\")\n",
    "\n",
    "date = \"May 2, 2022\"\n",
    "\n",
    "date_start[0].clear()\n",
    "date_start[0].send_keys(date)\n",
    "date_start[0].send_keys(Keys.ENTER)\n",
    "date_start[0].send_keys(Keys.ENTER)\n",
    "\n",
    "date_start[1].clear()\n",
    "date_start[1].send_keys(date)\n",
    "date_start[1].send_keys(Keys.ENTER)\n",
    "date_start[1].send_keys(Keys.ENTER)\n"
   ]
  },
  {
   "cell_type": "code",
   "execution_count": 66,
   "id": "13b9cd19",
   "metadata": {},
   "outputs": [
    {
     "name": "stderr",
     "output_type": "stream",
     "text": [
      "/usr/local/lib/python3.7/site-packages/ipykernel_launcher.py:1: DeprecationWarning: find_elements_by_xpath is deprecated. Please use find_elements(by=By.XPATH, value=xpath) instead\n",
      "  \"\"\"Entry point for launching an IPython kernel.\n"
     ]
    },
    {
     "data": {
      "text/plain": [
       "'1.84-1.16'"
      ]
     },
     "execution_count": 66,
     "metadata": {},
     "output_type": "execute_result"
    }
   ],
   "source": [
    "xG = driver.find_elements_by_xpath('//div[@id=\"league-chemp\"]//table/tbody//td[@class=\"align-right nowrap\"]')\n",
    "xG[0].text"
   ]
  },
  {
   "cell_type": "code",
   "execution_count": null,
   "id": "4d20bad2",
   "metadata": {},
   "outputs": [],
   "source": []
  },
  {
   "cell_type": "code",
   "execution_count": 67,
   "id": "00d10b56",
   "metadata": {},
   "outputs": [
    {
     "name": "stderr",
     "output_type": "stream",
     "text": [
      "/usr/local/lib/python3.7/site-packages/ipykernel_launcher.py:8: DeprecationWarning: find_elements_by_xpath is deprecated. Please use find_elements(by=By.XPATH, value=xpath) instead\n",
      "  \n",
      "/usr/local/lib/python3.7/site-packages/ipykernel_launcher.py:9: DeprecationWarning: find_elements_by_xpath is deprecated. Please use find_elements(by=By.XPATH, value=xpath) instead\n",
      "  if __name__ == \"__main__\":\n"
     ]
    }
   ],
   "source": [
    "time.sleep(5)\n",
    "team_list = []\n",
    "match_or_not_list = []\n",
    "\n",
    "for i in range(1, 21):\n",
    "    xpath_str = '//*[@id=\"league-chemp\"]/table/tbody/tr[{}]/td[2]/a'.format(i)\n",
    "    xpath_match = '//*[@id=\"league-chemp\"]/table/tbody/tr[{}]/td[3]'.format(i)\n",
    "    team = driver.find_elements_by_xpath(xpath_str)\n",
    "    match = driver.find_elements_by_xpath(xpath_match)\n",
    "    team = team[0].text\n",
    "    match = match[0].text\n",
    "    \n",
    "    team_list.append(team)\n",
    "    match_or_not_list.append(match)\n",
    "    "
   ]
  },
  {
   "cell_type": "code",
   "execution_count": 68,
   "id": "ee4208ed",
   "metadata": {},
   "outputs": [
    {
     "data": {
      "text/plain": [
       "['1',\n",
       " '0',\n",
       " '0',\n",
       " '0',\n",
       " '0',\n",
       " '0',\n",
       " '0',\n",
       " '0',\n",
       " '0',\n",
       " '0',\n",
       " '0',\n",
       " '0',\n",
       " '0',\n",
       " '0',\n",
       " '0',\n",
       " '0',\n",
       " '0',\n",
       " '0',\n",
       " '0',\n",
       " '1']"
      ]
     },
     "execution_count": 68,
     "metadata": {},
     "output_type": "execute_result"
    }
   ],
   "source": [
    "match_or_not_list"
   ]
  },
  {
   "cell_type": "code",
   "execution_count": 69,
   "id": "cabb49d1",
   "metadata": {},
   "outputs": [],
   "source": [
    "xG_list, xA_list, xPTS_list = [], [], []\n",
    "for i in range(len(xG)):\n",
    "    \n",
    "    xG_temp = xG[i].text\n",
    "    if '-' in xG_temp:\n",
    "        index = xG_temp.find('-')\n",
    "        xG_temp = xG_temp[0:index]\n",
    "    if '+' in xG_temp:\n",
    "        index = xG_temp.find('+')\n",
    "        xG_temp = xG_temp[0:index]\n",
    "        \n",
    "    if i % 3 == 0:\n",
    "        xG_list.append(xG_temp)\n",
    "    elif i % 3 == 1:\n",
    "        xA_list.append(xG_temp)\n",
    "    else:\n",
    "        xPTS_list.append(xG_temp)"
   ]
  },
  {
   "cell_type": "code",
   "execution_count": 70,
   "id": "cd6a2331",
   "metadata": {},
   "outputs": [
    {
     "data": {
      "text/plain": [
       "['2.36',\n",
       " '0.00',\n",
       " '0.00',\n",
       " '0.00',\n",
       " '0.00',\n",
       " '0.00',\n",
       " '0.00',\n",
       " '0.00',\n",
       " '0.00',\n",
       " '0.00',\n",
       " '0.00',\n",
       " '0.00',\n",
       " '0.00',\n",
       " '0.00',\n",
       " '0.00',\n",
       " '0.00',\n",
       " '0.00',\n",
       " '0.00',\n",
       " '0.00',\n",
       " '0.44']"
      ]
     },
     "execution_count": 70,
     "metadata": {},
     "output_type": "execute_result"
    }
   ],
   "source": [
    "xPTS_list"
   ]
  },
  {
   "cell_type": "code",
   "execution_count": 71,
   "id": "92788018",
   "metadata": {},
   "outputs": [
    {
     "data": {
      "text/plain": [
       "'05'"
      ]
     },
     "execution_count": 71,
     "metadata": {},
     "output_type": "execute_result"
    }
   ],
   "source": [
    "## 날짜 전처리\n",
    "# 월 전처리\n",
    "\n",
    "date_temp = date.replace(\",\", \"\")\n",
    "date_temp = date_temp.split()\n",
    "\n",
    "month_list = ['Jan', 'Feb', 'Mar', 'Apr', 'May', 'Jun', 'Jul', 'Aug', 'Sep', 'Oct', 'Nov', 'Dec']\n",
    "for month in month_list:\n",
    "    if date_temp[0] == month:\n",
    "        index = month_list.index(month)+1\n",
    "        index = str(index).zfill(2)\n",
    "index"
   ]
  },
  {
   "cell_type": "code",
   "execution_count": 72,
   "id": "0223cb97",
   "metadata": {},
   "outputs": [
    {
     "data": {
      "text/plain": [
       "'02/05/2022'"
      ]
     },
     "execution_count": 72,
     "metadata": {},
     "output_type": "execute_result"
    }
   ],
   "source": [
    "## 날짜 전처리\n",
    "# date = \"May 2, 2022\"\n",
    "\n",
    "date_day = date_temp[1].zfill(2)\n",
    "date_pretreat = \"{}/{}/{}\".format(date_day, index, date_temp[2])\n",
    "date_pretreat"
   ]
  },
  {
   "cell_type": "code",
   "execution_count": 73,
   "id": "e7a0ac8a",
   "metadata": {},
   "outputs": [
    {
     "data": {
      "text/plain": [
       "[['02/05/2022', 'Manchester United', '1.84', '0.68', '2.36', '1'],\n",
       " ['02/05/2022', 'Aston Villa', '0.00', '0.00', '0.00', '0'],\n",
       " ['02/05/2022', 'Everton', '0.00', '0.00', '0.00', '0'],\n",
       " ['02/05/2022', 'Southampton', '0.00', '0.00', '0.00', '0'],\n",
       " ['02/05/2022', 'Leicester', '0.00', '0.00', '0.00', '0'],\n",
       " ['02/05/2022', 'Crystal Palace', '0.00', '0.00', '0.00', '0'],\n",
       " ['02/05/2022', 'Norwich', '0.00', '0.00', '0.00', '0'],\n",
       " ['02/05/2022', 'Chelsea', '0.00', '0.00', '0.00', '0'],\n",
       " ['02/05/2022', 'West Ham', '0.00', '0.00', '0.00', '0'],\n",
       " ['02/05/2022', 'Tottenham', '0.00', '0.00', '0.00', '0'],\n",
       " ['02/05/2022', 'Arsenal', '0.00', '0.00', '0.00', '0'],\n",
       " ['02/05/2022', 'Newcastle United', '0.00', '0.00', '0.00', '0'],\n",
       " ['02/05/2022', 'Liverpool', '0.00', '0.00', '0.00', '0'],\n",
       " ['02/05/2022', 'Manchester City', '0.00', '0.00', '0.00', '0'],\n",
       " ['02/05/2022', 'Watford', '0.00', '0.00', '0.00', '0'],\n",
       " ['02/05/2022', 'Burnley', '0.00', '0.00', '0.00', '0'],\n",
       " ['02/05/2022', 'Brighton', '0.00', '0.00', '0.00', '0'],\n",
       " ['02/05/2022', 'Wolverhampton Wanderers', '0.00', '0.00', '0.00', '0'],\n",
       " ['02/05/2022', 'Leeds', '0.00', '0.00', '0.00', '0'],\n",
       " ['02/05/2022', 'Brentford', '0.68', '1.84', '0.44', '1']]"
      ]
     },
     "execution_count": 73,
     "metadata": {},
     "output_type": "execute_result"
    }
   ],
   "source": [
    "import numpy as np\n",
    "import pandas as pd\n",
    "\n",
    "# 최종 리스트 선언\n",
    "df_temp = [[0 for col in range(6)] for row in range(20)]\n",
    "\n",
    "for i in range(20):\n",
    "    df_temp[i][0] = date_pretreat\n",
    "    df_temp[i][1] = team_list[i]\n",
    "    df_temp[i][2] = xG_list[i]\n",
    "    df_temp[i][3] = xA_list[i]\n",
    "    df_temp[i][4] = xPTS_list[i]\n",
    "    df_temp[i][5] = match_or_not_list[i]\n",
    "    \n",
    "# df_temp_np = np.array(df_temp)\n",
    "# df_temp_np\n",
    "df_temp"
   ]
  },
  {
   "cell_type": "code",
   "execution_count": 74,
   "id": "f6fb8d6b",
   "metadata": {},
   "outputs": [
    {
     "data": {
      "text/plain": [
       "[['02/05/2022', 'Manchester United', '1.84', '0.68', '2.36', '1'],\n",
       " ['02/05/2022', 'Brentford', '0.68', '1.84', '0.44', '1']]"
      ]
     },
     "execution_count": 74,
     "metadata": {},
     "output_type": "execute_result"
    }
   ],
   "source": [
    "df_temp_final = df_temp.copy()\n",
    "\n",
    "for i in reversed(range(len(df_temp_final))):\n",
    "    if df_temp_final[i][5] == '0':\n",
    "        del df_temp_final[i]\n",
    "\n",
    "df_temp_final"
   ]
  },
  {
   "cell_type": "code",
   "execution_count": 75,
   "id": "e760c114",
   "metadata": {},
   "outputs": [
    {
     "data": {
      "text/html": [
       "<div>\n",
       "<style scoped>\n",
       "    .dataframe tbody tr th:only-of-type {\n",
       "        vertical-align: middle;\n",
       "    }\n",
       "\n",
       "    .dataframe tbody tr th {\n",
       "        vertical-align: top;\n",
       "    }\n",
       "\n",
       "    .dataframe thead th {\n",
       "        text-align: right;\n",
       "    }\n",
       "</style>\n",
       "<table border=\"1\" class=\"dataframe\">\n",
       "  <thead>\n",
       "    <tr style=\"text-align: right;\">\n",
       "      <th></th>\n",
       "      <th>Date</th>\n",
       "      <th>Team</th>\n",
       "      <th>xG</th>\n",
       "      <th>xA</th>\n",
       "      <th>xPTS</th>\n",
       "      <th>match_or_not</th>\n",
       "    </tr>\n",
       "  </thead>\n",
       "  <tbody>\n",
       "    <tr>\n",
       "      <th>0</th>\n",
       "      <td>02/05/2022</td>\n",
       "      <td>Manchester United</td>\n",
       "      <td>1.84</td>\n",
       "      <td>0.68</td>\n",
       "      <td>2.36</td>\n",
       "      <td>1</td>\n",
       "    </tr>\n",
       "    <tr>\n",
       "      <th>1</th>\n",
       "      <td>02/05/2022</td>\n",
       "      <td>Brentford</td>\n",
       "      <td>0.68</td>\n",
       "      <td>1.84</td>\n",
       "      <td>0.44</td>\n",
       "      <td>1</td>\n",
       "    </tr>\n",
       "  </tbody>\n",
       "</table>\n",
       "</div>"
      ],
      "text/plain": [
       "         Date               Team    xG    xA  xPTS match_or_not\n",
       "0  02/05/2022  Manchester United  1.84  0.68  2.36            1\n",
       "1  02/05/2022          Brentford  0.68  1.84  0.44            1"
      ]
     },
     "execution_count": 75,
     "metadata": {},
     "output_type": "execute_result"
    }
   ],
   "source": [
    "df = pd.DataFrame(df_temp_final, columns=['Date', 'Team', 'xG', 'xA', 'xPTS', 'match_or_not'])\n",
    "df"
   ]
  },
  {
   "cell_type": "code",
   "execution_count": 76,
   "id": "de8d906d",
   "metadata": {},
   "outputs": [
    {
     "data": {
      "text/html": [
       "<div>\n",
       "<style scoped>\n",
       "    .dataframe tbody tr th:only-of-type {\n",
       "        vertical-align: middle;\n",
       "    }\n",
       "\n",
       "    .dataframe tbody tr th {\n",
       "        vertical-align: top;\n",
       "    }\n",
       "\n",
       "    .dataframe thead th {\n",
       "        text-align: right;\n",
       "    }\n",
       "</style>\n",
       "<table border=\"1\" class=\"dataframe\">\n",
       "  <thead>\n",
       "    <tr style=\"text-align: right;\">\n",
       "      <th></th>\n",
       "      <th>Date</th>\n",
       "      <th>Team</th>\n",
       "      <th>xG</th>\n",
       "      <th>xA</th>\n",
       "      <th>xPTS</th>\n",
       "      <th>match_or_not</th>\n",
       "    </tr>\n",
       "  </thead>\n",
       "  <tbody>\n",
       "  </tbody>\n",
       "</table>\n",
       "</div>"
      ],
      "text/plain": [
       "Empty DataFrame\n",
       "Columns: [Date, Team, xG, xA, xPTS, match_or_not]\n",
       "Index: []"
      ]
     },
     "execution_count": 76,
     "metadata": {},
     "output_type": "execute_result"
    }
   ],
   "source": [
    "df2 = pd.DataFrame(columns=['Date', 'Team', 'xG', 'xA', 'xPTS', 'match_or_not'])\n",
    "df2"
   ]
  },
  {
   "cell_type": "code",
   "execution_count": 77,
   "id": "7d09d7f7",
   "metadata": {},
   "outputs": [
    {
     "data": {
      "text/html": [
       "<div>\n",
       "<style scoped>\n",
       "    .dataframe tbody tr th:only-of-type {\n",
       "        vertical-align: middle;\n",
       "    }\n",
       "\n",
       "    .dataframe tbody tr th {\n",
       "        vertical-align: top;\n",
       "    }\n",
       "\n",
       "    .dataframe thead th {\n",
       "        text-align: right;\n",
       "    }\n",
       "</style>\n",
       "<table border=\"1\" class=\"dataframe\">\n",
       "  <thead>\n",
       "    <tr style=\"text-align: right;\">\n",
       "      <th></th>\n",
       "      <th>Date</th>\n",
       "      <th>Team</th>\n",
       "      <th>xG</th>\n",
       "      <th>xA</th>\n",
       "      <th>xPTS</th>\n",
       "      <th>match_or_not</th>\n",
       "    </tr>\n",
       "  </thead>\n",
       "  <tbody>\n",
       "    <tr>\n",
       "      <th>0</th>\n",
       "      <td>02/05/2022</td>\n",
       "      <td>Manchester United</td>\n",
       "      <td>1.84</td>\n",
       "      <td>0.68</td>\n",
       "      <td>2.36</td>\n",
       "      <td>1</td>\n",
       "    </tr>\n",
       "    <tr>\n",
       "      <th>1</th>\n",
       "      <td>02/05/2022</td>\n",
       "      <td>Brentford</td>\n",
       "      <td>0.68</td>\n",
       "      <td>1.84</td>\n",
       "      <td>0.44</td>\n",
       "      <td>1</td>\n",
       "    </tr>\n",
       "  </tbody>\n",
       "</table>\n",
       "</div>"
      ],
      "text/plain": [
       "         Date               Team    xG    xA  xPTS match_or_not\n",
       "0  02/05/2022  Manchester United  1.84  0.68  2.36            1\n",
       "1  02/05/2022          Brentford  0.68  1.84  0.44            1"
      ]
     },
     "execution_count": 77,
     "metadata": {},
     "output_type": "execute_result"
    }
   ],
   "source": [
    "result = pd.concat([df2, df])\n",
    "result"
   ]
  }
 ],
 "metadata": {
  "kernelspec": {
   "display_name": "Python 3 (ipykernel)",
   "language": "python",
   "name": "python3"
  },
  "language_info": {
   "codemirror_mode": {
    "name": "ipython",
    "version": 3
   },
   "file_extension": ".py",
   "mimetype": "text/x-python",
   "name": "python",
   "nbconvert_exporter": "python",
   "pygments_lexer": "ipython3",
   "version": "3.7.13"
  }
 },
 "nbformat": 4,
 "nbformat_minor": 5
}
