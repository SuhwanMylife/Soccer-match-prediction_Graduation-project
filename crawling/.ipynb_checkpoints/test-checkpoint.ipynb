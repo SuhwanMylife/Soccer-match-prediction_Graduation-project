{
 "cells": [
  {
   "cell_type": "code",
   "execution_count": 9,
   "id": "58b4d8c0",
   "metadata": {
    "scrolled": true
   },
   "outputs": [],
   "source": [
    "# from selenium import webdriver\n",
    "\n",
    "# user_agent = 'Mozilla/5.0 (X11; Linux x86_64) AppleWebKit/537.36 (KHTML, like Gecko) Chrome/60.0.3112.50 Safari/537.36'\n",
    "\n",
    "# options = webdriver.ChromeOptions()\n",
    "# options.add_argument('--headless')\n",
    "# options.add_argument('--no-sandbox')\n",
    "# options.add_argument('--disable-dev-shm-usage')\n",
    "# options.add_argument('user-agent={0}'.format(user_agent))\n",
    "# driver = webdriver.Chrome('/chromedriver',options=options)\n",
    "# # 아무런 경고가 없다면 이상없이 작동되는 것입니다\n",
    "\n",
    "# driver.get(url='https://naver.com')\n",
    "# # 페이지 이동\n",
    "\n",
    "# print(driver.current_url)\n",
    "# # 이동되었는지 확인\n",
    "\n",
    "# driver.close()\n",
    "# # 종료"
   ]
  },
  {
   "cell_type": "code",
   "execution_count": 8,
   "id": "d862ea94",
   "metadata": {},
   "outputs": [],
   "source": [
    "# import requests\n",
    "# # 친한 형의 블로그 입니다!!\n",
    "# responese = requests.get('https://blog.naver.com/ldw0811')\n",
    "# print(responese.text)"
   ]
  },
  {
   "cell_type": "code",
   "execution_count": 2,
   "id": "c9047e05",
   "metadata": {},
   "outputs": [],
   "source": [
    "from selenium import webdriver\n",
    "from selenium.webdriver.common.keys import Keys"
   ]
  },
  {
   "cell_type": "code",
   "execution_count": 7,
   "id": "11451ee3",
   "metadata": {},
   "outputs": [
    {
     "name": "stderr",
     "output_type": "stream",
     "text": [
      "/usr/local/lib/python3.7/site-packages/ipykernel_launcher.py:6: DeprecationWarning: executable_path has been deprecated, please pass in a Service object\n",
      "  \n"
     ]
    }
   ],
   "source": [
    "options = webdriver.ChromeOptions()\n",
    "options.add_argument('--headless')\n",
    "options.add_argument('--no-sandbox')\n",
    "# options.add_argument('--disable-dev-shm-usage')\n",
    "# options.add_argument('user-agent={0}'.format(user_agent))\n",
    "driver = webdriver.Chrome('/chromedriver',options=options)"
   ]
  },
  {
   "cell_type": "code",
   "execution_count": 11,
   "id": "ddf0dfa8",
   "metadata": {},
   "outputs": [],
   "source": [
    "driver.get(\"https://www.python.org\")"
   ]
  },
  {
   "cell_type": "code",
   "execution_count": 12,
   "id": "379cb264",
   "metadata": {},
   "outputs": [
    {
     "name": "stdout",
     "output_type": "stream",
     "text": [
      "Welcome to Python.org\n"
     ]
    }
   ],
   "source": [
    "print(driver.title)"
   ]
  },
  {
   "cell_type": "code",
   "execution_count": 13,
   "id": "8ad9adb7",
   "metadata": {},
   "outputs": [
    {
     "name": "stderr",
     "output_type": "stream",
     "text": [
      "/usr/local/lib/python3.7/site-packages/ipykernel_launcher.py:1: DeprecationWarning: find_element_by_name is deprecated. Please use find_element(by=By.NAME, value=name) instead\n",
      "  \"\"\"Entry point for launching an IPython kernel.\n"
     ]
    }
   ],
   "source": [
    "search_bar = driver.find_element_by_name(\"q\")"
   ]
  },
  {
   "cell_type": "code",
   "execution_count": 14,
   "id": "ea3f36b9",
   "metadata": {},
   "outputs": [],
   "source": [
    "search_bar.clear()\n",
    "search_bar.send_keys(\"getting started with python\")\n",
    "\n",
    "search_bar.send_keys(Keys.RETURN)"
   ]
  },
  {
   "cell_type": "code",
   "execution_count": 15,
   "id": "f74edccb",
   "metadata": {},
   "outputs": [
    {
     "name": "stdout",
     "output_type": "stream",
     "text": [
      "https://www.python.org/search/?q=getting+started+with+python&submit=\n"
     ]
    }
   ],
   "source": [
    "print(driver.current_url)"
   ]
  },
  {
   "cell_type": "code",
   "execution_count": 16,
   "id": "af39a67e",
   "metadata": {},
   "outputs": [],
   "source": [
    "driver.close()"
   ]
  },
  {
   "cell_type": "code",
   "execution_count": null,
   "id": "d1dd4e00",
   "metadata": {},
   "outputs": [],
   "source": []
  },
  {
   "cell_type": "code",
   "execution_count": null,
   "id": "09a4c69f",
   "metadata": {},
   "outputs": [],
   "source": []
  }
 ],
 "metadata": {
  "kernelspec": {
   "display_name": "Python 3 (ipykernel)",
   "language": "python",
   "name": "python3"
  },
  "language_info": {
   "codemirror_mode": {
    "name": "ipython",
    "version": 3
   },
   "file_extension": ".py",
   "mimetype": "text/x-python",
   "name": "python",
   "nbconvert_exporter": "python",
   "pygments_lexer": "ipython3",
   "version": "3.7.13"
  }
 },
 "nbformat": 4,
 "nbformat_minor": 5
}
