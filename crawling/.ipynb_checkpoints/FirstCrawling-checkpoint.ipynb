{
 "cells": [
  {
   "cell_type": "code",
   "execution_count": 137,
   "id": "c9047e05",
   "metadata": {},
   "outputs": [],
   "source": [
    "from selenium import webdriver\n",
    "from selenium.webdriver.common.keys import Keys\n",
    "from selenium.webdriver.common.by import By"
   ]
  },
  {
   "cell_type": "code",
   "execution_count": 20,
   "id": "11451ee3",
   "metadata": {},
   "outputs": [
    {
     "name": "stderr",
     "output_type": "stream",
     "text": [
      "/usr/local/lib/python3.7/site-packages/ipykernel_launcher.py:6: DeprecationWarning: executable_path has been deprecated, please pass in a Service object\n",
      "  \n"
     ]
    }
   ],
   "source": [
    "options = webdriver.ChromeOptions()\n",
    "options.add_argument('--headless')\n",
    "options.add_argument('--no-sandbox')\n",
    "# options.add_argument('--disable-dev-shm-usage')\n",
    "# options.add_argument('user-agent={0}'.format(user_agent))\n",
    "driver = webdriver.Chrome('/chromedriver',options=options)"
   ]
  },
  {
   "cell_type": "code",
   "execution_count": 21,
   "id": "d1dd4e00",
   "metadata": {},
   "outputs": [],
   "source": [
    "driver.get(\"https://understat.com/league/EPL\")"
   ]
  },
  {
   "cell_type": "code",
   "execution_count": 22,
   "id": "09a4c69f",
   "metadata": {},
   "outputs": [
    {
     "name": "stdout",
     "output_type": "stream",
     "text": [
      "EPL xG Table and Scorers for the 2021/2022 season | Understat.com\n"
     ]
    }
   ],
   "source": [
    "print(driver.title)"
   ]
  },
  {
   "cell_type": "code",
   "execution_count": 23,
   "id": "120328c2",
   "metadata": {},
   "outputs": [
    {
     "name": "stderr",
     "output_type": "stream",
     "text": [
      "/usr/local/lib/python3.7/site-packages/ipykernel_launcher.py:1: DeprecationWarning: find_elements_by_xpath is deprecated. Please use find_elements(by=By.XPATH, value=xpath) instead\n",
      "  \"\"\"Entry point for launching an IPython kernel.\n"
     ]
    }
   ],
   "source": [
    "a = driver.find_elements_by_xpath('//div[@id=\"league-chemp\"]//table/tbody//td[@class=\"align-right nowrap\"]')"
   ]
  },
  {
   "cell_type": "code",
   "execution_count": 24,
   "id": "36de68d2",
   "metadata": {},
   "outputs": [
    {
     "data": {
      "text/plain": [
       "'93.40-5.60'"
      ]
     },
     "execution_count": 24,
     "metadata": {},
     "output_type": "execute_result"
    }
   ],
   "source": [
    "a[0].text"
   ]
  },
  {
   "cell_type": "code",
   "execution_count": 111,
   "id": "a5416808",
   "metadata": {},
   "outputs": [
    {
     "name": "stderr",
     "output_type": "stream",
     "text": [
      "/usr/local/lib/python3.7/site-packages/ipykernel_launcher.py:1: DeprecationWarning: find_element_by_name is deprecated. Please use find_element(by=By.NAME, value=name) instead\n",
      "  \"\"\"Entry point for launching an IPython kernel.\n"
     ]
    },
    {
     "data": {
      "text/plain": [
       "selenium.webdriver.remote.webelement.WebElement"
      ]
     },
     "execution_count": 111,
     "metadata": {},
     "output_type": "execute_result"
    }
   ],
   "source": [
    "elem = driver.find_element_by_name(\"date-start\")\n",
    "type(elem)"
   ]
  },
  {
   "cell_type": "code",
   "execution_count": 112,
   "id": "81f7c252",
   "metadata": {},
   "outputs": [
    {
     "data": {
      "text/plain": [
       "''"
      ]
     },
     "execution_count": 112,
     "metadata": {},
     "output_type": "execute_result"
    }
   ],
   "source": [
    "elem.text"
   ]
  },
  {
   "cell_type": "code",
   "execution_count": 164,
   "id": "a2b86c59",
   "metadata": {},
   "outputs": [
    {
     "data": {
      "text/plain": [
       "[<selenium.webdriver.remote.webelement.WebElement (session=\"4cb51e899f6be821c866c3de321ffb1d\", element=\"00ebd6a2-5cd9-4193-b37f-b5b5149a0967\")>,\n",
       " <selenium.webdriver.remote.webelement.WebElement (session=\"4cb51e899f6be821c866c3de321ffb1d\", element=\"9d07786e-f28d-4975-939b-7621ac1cfeb1\")>,\n",
       " <selenium.webdriver.remote.webelement.WebElement (session=\"4cb51e899f6be821c866c3de321ffb1d\", element=\"db7b03ef-a2ae-465d-a5ab-87d894c59ae3\")>,\n",
       " <selenium.webdriver.remote.webelement.WebElement (session=\"4cb51e899f6be821c866c3de321ffb1d\", element=\"f3f303a0-ed58-4fd1-934c-f27df9a48648\")>]"
      ]
     },
     "execution_count": 164,
     "metadata": {},
     "output_type": "execute_result"
    }
   ],
   "source": [
    "# a = driver.find_elements_by_xpath('//input[@id=\"dp1653893018021\"]')\n",
    "# type(a)\n",
    "a = driver.find_elements(By.XPATH, '//input[@class=\"datepicker hasDatepicker\"]')\n",
    "a"
   ]
  },
  {
   "cell_type": "code",
   "execution_count": 172,
   "id": "67578a1f",
   "metadata": {},
   "outputs": [
    {
     "data": {
      "text/plain": [
       "''"
      ]
     },
     "execution_count": 172,
     "metadata": {},
     "output_type": "execute_result"
    }
   ],
   "source": [
    "a[0].text"
   ]
  },
  {
   "cell_type": "code",
   "execution_count": 173,
   "id": "03a5671b",
   "metadata": {},
   "outputs": [],
   "source": [
    "a[0].clear()\n",
    "a[0].send_keys(\"20220522\")\n",
    "elem.send_keys(Keys.RETURN)"
   ]
  },
  {
   "cell_type": "code",
   "execution_count": null,
   "id": "94a4b16b",
   "metadata": {},
   "outputs": [],
   "source": []
  },
  {
   "cell_type": "code",
   "execution_count": 51,
   "id": "2f619d62",
   "metadata": {},
   "outputs": [],
   "source": [
    "# elem.send_keys(\"20220522\")\n",
    "# # elem.send_keys(\"May 2, 2022\")\n",
    "# # elem.send_keys(Keys.ENTER)\n",
    "# elem.send_keys(Keys.RETURN)"
   ]
  },
  {
   "cell_type": "code",
   "execution_count": 174,
   "id": "6a60b2b9",
   "metadata": {},
   "outputs": [
    {
     "name": "stderr",
     "output_type": "stream",
     "text": [
      "/usr/local/lib/python3.7/site-packages/ipykernel_launcher.py:1: DeprecationWarning: find_elements_by_xpath is deprecated. Please use find_elements(by=By.XPATH, value=xpath) instead\n",
      "  \"\"\"Entry point for launching an IPython kernel.\n"
     ]
    },
    {
     "data": {
      "text/plain": [
       "'3.81-1.19'"
      ]
     },
     "execution_count": 174,
     "metadata": {},
     "output_type": "execute_result"
    }
   ],
   "source": [
    "xG = driver.find_elements_by_xpath('//div[@id=\"league-chemp\"]//table/tbody//td[@class=\"align-right nowrap\"]')\n",
    "xG[0].text"
   ]
  },
  {
   "cell_type": "code",
   "execution_count": 175,
   "id": "33168a6f",
   "metadata": {},
   "outputs": [
    {
     "data": {
      "text/plain": [
       "str"
      ]
     },
     "execution_count": 175,
     "metadata": {},
     "output_type": "execute_result"
    }
   ],
   "source": []
  }
 ],
 "metadata": {
  "kernelspec": {
   "display_name": "Python 3 (ipykernel)",
   "language": "python",
   "name": "python3"
  },
  "language_info": {
   "codemirror_mode": {
    "name": "ipython",
    "version": 3
   },
   "file_extension": ".py",
   "mimetype": "text/x-python",
   "name": "python",
   "nbconvert_exporter": "python",
   "pygments_lexer": "ipython3",
   "version": "3.7.13"
  }
 },
 "nbformat": 4,
 "nbformat_minor": 5
}
