{
 "cells": [
  {
   "cell_type": "code",
   "execution_count": 46,
   "id": "1da5575c",
   "metadata": {},
   "outputs": [],
   "source": [
    "from selenium import webdriver\n",
    "from selenium.webdriver.common.keys import Keys\n",
    "from selenium.webdriver.common.by import By\n",
    "from selenium.webdriver.support.ui import WebDriverWait\n",
    "import time"
   ]
  },
  {
   "cell_type": "code",
   "execution_count": 47,
   "id": "7ab3cf2d",
   "metadata": {},
   "outputs": [
    {
     "name": "stderr",
     "output_type": "stream",
     "text": [
      "/usr/local/lib/python3.7/site-packages/ipykernel_launcher.py:6: DeprecationWarning: executable_path has been deprecated, please pass in a Service object\n",
      "  \n"
     ]
    }
   ],
   "source": [
    "# 크롤링 설정 및 시작\n",
    "options = webdriver.ChromeOptions()\n",
    "options.add_argument('--headless')\n",
    "options.add_argument('--no-sandbox')\n",
    "options.add_argument('--disable-dev-shm-usage')\n",
    "driver = webdriver.Chrome('/chromedriver',options=options)"
   ]
  },
  {
   "cell_type": "code",
   "execution_count": 48,
   "id": "197a954d",
   "metadata": {},
   "outputs": [],
   "source": [
    "# URL 접속\n",
    "driver.get(\"https://understat.com/league/EPL\")"
   ]
  },
  {
   "cell_type": "code",
   "execution_count": 49,
   "id": "d5fbf8e6",
   "metadata": {},
   "outputs": [
    {
     "name": "stderr",
     "output_type": "stream",
     "text": [
      "/usr/local/lib/python3.7/site-packages/ipykernel_launcher.py:2: DeprecationWarning: find_elements_by_xpath is deprecated. Please use find_elements(by=By.XPATH, value=xpath) instead\n",
      "  \n",
      "/usr/local/lib/python3.7/site-packages/ipykernel_launcher.py:4: DeprecationWarning: find_elements_by_xpath is deprecated. Please use find_elements(by=By.XPATH, value=xpath) instead\n",
      "  after removing the cwd from sys.path.\n"
     ]
    }
   ],
   "source": [
    "# 시즌 선택\n",
    "season_select = driver.find_elements_by_xpath(\"\"\"//*[@id=\"header\"]/div/div[2]/div\"\"\")\n",
    "season_select[0].click()\n",
    "season_select_num = driver.find_elements_by_xpath(\"\"\"//*[@id=\"header\"]/div/div[2]/ul/li[7]\"\"\")\n",
    "season_select_num[0].click()"
   ]
  },
  {
   "cell_type": "code",
   "execution_count": 50,
   "id": "51b8a3ee",
   "metadata": {},
   "outputs": [
    {
     "name": "stdout",
     "output_type": "stream",
     "text": [
      "Aug 8, 2015\n"
     ]
    },
    {
     "name": "stderr",
     "output_type": "stream",
     "text": [
      "/usr/local/lib/python3.7/site-packages/ipykernel_launcher.py:51: DeprecationWarning: find_elements_by_xpath is deprecated. Please use find_elements(by=By.XPATH, value=xpath) instead\n",
      "/usr/local/lib/python3.7/site-packages/ipykernel_launcher.py:67: DeprecationWarning: find_elements_by_xpath is deprecated. Please use find_elements(by=By.XPATH, value=xpath) instead\n",
      "/usr/local/lib/python3.7/site-packages/ipykernel_launcher.py:83: DeprecationWarning: find_elements_by_xpath is deprecated. Please use find_elements(by=By.XPATH, value=xpath) instead\n",
      "/usr/local/lib/python3.7/site-packages/ipykernel_launcher.py:84: DeprecationWarning: find_elements_by_xpath is deprecated. Please use find_elements(by=By.XPATH, value=xpath) instead\n",
      "/usr/local/lib/python3.7/site-packages/ipykernel_launcher.py:93: DeprecationWarning: find_elements_by_xpath is deprecated. Please use find_elements(by=By.XPATH, value=xpath) instead\n"
     ]
    },
    {
     "name": "stdout",
     "output_type": "stream",
     "text": [
      "          Date               Team    xG    xA  xPTS match_or_not\n",
      "0   08/08/2015          Leicester  2.57  1.46  2.13            1\n",
      "1   08/08/2015     Crystal Palace  2.11  1.13  2.13            1\n",
      "2   08/08/2015        Aston Villa  0.78  0.88  1.23            1\n",
      "3   08/08/2015  Manchester United  0.63  0.67  1.24            1\n",
      "4   08/08/2015            Everton  0.60  0.56  1.33            1\n",
      "5   08/08/2015            Chelsea  0.64  2.59  0.18            1\n",
      "6   08/08/2015            Swansea  2.59  0.64  2.72            1\n",
      "7   08/08/2015            Watford  0.56  0.60  1.24            1\n",
      "8   08/08/2015        Bournemouth  0.88  0.78  1.42            1\n",
      "9   08/08/2015          Tottenham  0.67  0.63  1.36            1\n",
      "10  08/08/2015         Sunderland  1.46  2.57  0.66            1\n",
      "11  08/08/2015            Norwich  1.13  2.11  0.65            1\n",
      "Aug 9, 2015\n"
     ]
    },
    {
     "name": "stderr",
     "output_type": "stream",
     "text": [
      "/usr/local/lib/python3.7/site-packages/ipykernel_launcher.py:51: DeprecationWarning: find_elements_by_xpath is deprecated. Please use find_elements(by=By.XPATH, value=xpath) instead\n",
      "/usr/local/lib/python3.7/site-packages/ipykernel_launcher.py:67: DeprecationWarning: find_elements_by_xpath is deprecated. Please use find_elements(by=By.XPATH, value=xpath) instead\n",
      "/usr/local/lib/python3.7/site-packages/ipykernel_launcher.py:83: DeprecationWarning: find_elements_by_xpath is deprecated. Please use find_elements(by=By.XPATH, value=xpath) instead\n",
      "/usr/local/lib/python3.7/site-packages/ipykernel_launcher.py:84: DeprecationWarning: find_elements_by_xpath is deprecated. Please use find_elements(by=By.XPATH, value=xpath) instead\n",
      "/usr/local/lib/python3.7/site-packages/ipykernel_launcher.py:93: DeprecationWarning: find_elements_by_xpath is deprecated. Please use find_elements(by=By.XPATH, value=xpath) instead\n"
     ]
    },
    {
     "name": "stdout",
     "output_type": "stream",
     "text": [
      "          Date               Team    xG    xA  xPTS match_or_not\n",
      "0   08/08/2015          Leicester  2.57  1.46  2.13            1\n",
      "1   08/08/2015     Crystal Palace  2.11  1.13  2.13            1\n",
      "2   08/08/2015        Aston Villa  0.78  0.88  1.23            1\n",
      "3   08/08/2015  Manchester United  0.63  0.67  1.24            1\n",
      "4   08/08/2015            Everton  0.60  0.56  1.33            1\n",
      "5   08/08/2015            Chelsea  0.64  2.59  0.18            1\n",
      "6   08/08/2015            Swansea  2.59  0.64  2.72            1\n",
      "7   08/08/2015            Watford  0.56  0.60  1.24            1\n",
      "8   08/08/2015        Bournemouth  0.88  0.78  1.42            1\n",
      "9   08/08/2015          Tottenham  0.67  0.63  1.36            1\n",
      "10  08/08/2015         Sunderland  1.46  2.57  0.66            1\n",
      "11  08/08/2015            Norwich  1.13  2.11  0.65            1\n",
      "0   09/08/2015           West Ham  0.54  1.33  0.71            1\n",
      "1   09/08/2015          Liverpool  0.33  0.38  1.16            1\n",
      "2   09/08/2015        Southampton  1.25  1.55  1.05            1\n",
      "3   09/08/2015   Newcastle United  1.55  1.25  1.63            1\n",
      "4   09/08/2015              Stoke  0.38  0.33  1.29            1\n",
      "5   09/08/2015            Arsenal  1.33  0.54  2.01            1\n",
      "Aug 10, 2015\n"
     ]
    },
    {
     "name": "stderr",
     "output_type": "stream",
     "text": [
      "/usr/local/lib/python3.7/site-packages/ipykernel_launcher.py:51: DeprecationWarning: find_elements_by_xpath is deprecated. Please use find_elements(by=By.XPATH, value=xpath) instead\n",
      "/usr/local/lib/python3.7/site-packages/ipykernel_launcher.py:67: DeprecationWarning: find_elements_by_xpath is deprecated. Please use find_elements(by=By.XPATH, value=xpath) instead\n",
      "/usr/local/lib/python3.7/site-packages/ipykernel_launcher.py:83: DeprecationWarning: find_elements_by_xpath is deprecated. Please use find_elements(by=By.XPATH, value=xpath) instead\n",
      "/usr/local/lib/python3.7/site-packages/ipykernel_launcher.py:84: DeprecationWarning: find_elements_by_xpath is deprecated. Please use find_elements(by=By.XPATH, value=xpath) instead\n",
      "/usr/local/lib/python3.7/site-packages/ipykernel_launcher.py:93: DeprecationWarning: find_elements_by_xpath is deprecated. Please use find_elements(by=By.XPATH, value=xpath) instead\n"
     ]
    },
    {
     "name": "stdout",
     "output_type": "stream",
     "text": [
      "          Date                  Team    xG    xA  xPTS match_or_not\n",
      "0   08/08/2015             Leicester  2.57  1.46  2.13            1\n",
      "1   08/08/2015        Crystal Palace  2.11  1.13  2.13            1\n",
      "2   08/08/2015           Aston Villa  0.78  0.88  1.23            1\n",
      "3   08/08/2015     Manchester United  0.63  0.67  1.24            1\n",
      "4   08/08/2015               Everton  0.60  0.56  1.33            1\n",
      "5   08/08/2015               Chelsea  0.64  2.59  0.18            1\n",
      "6   08/08/2015               Swansea  2.59  0.64  2.72            1\n",
      "7   08/08/2015               Watford  0.56  0.60  1.24            1\n",
      "8   08/08/2015           Bournemouth  0.88  0.78  1.42            1\n",
      "9   08/08/2015             Tottenham  0.67  0.63  1.36            1\n",
      "10  08/08/2015            Sunderland  1.46  2.57  0.66            1\n",
      "11  08/08/2015               Norwich  1.13  2.11  0.65            1\n",
      "0   09/08/2015              West Ham  0.54  1.33  0.71            1\n",
      "1   09/08/2015             Liverpool  0.33  0.38  1.16            1\n",
      "2   09/08/2015           Southampton  1.25  1.55  1.05            1\n",
      "3   09/08/2015      Newcastle United  1.55  1.25  1.63            1\n",
      "4   09/08/2015                 Stoke  0.38  0.33  1.29            1\n",
      "5   09/08/2015               Arsenal  1.33  0.54  2.01            1\n",
      "0   10/08/2015       Manchester City  1.92  0.44  2.48            1\n",
      "1   10/08/2015  West Bromwich Albion  0.44  1.92  0.35            1\n",
      "Aug 11, 2015\n"
     ]
    },
    {
     "name": "stderr",
     "output_type": "stream",
     "text": [
      "/usr/local/lib/python3.7/site-packages/ipykernel_launcher.py:51: DeprecationWarning: find_elements_by_xpath is deprecated. Please use find_elements(by=By.XPATH, value=xpath) instead\n",
      "/usr/local/lib/python3.7/site-packages/ipykernel_launcher.py:67: DeprecationWarning: find_elements_by_xpath is deprecated. Please use find_elements(by=By.XPATH, value=xpath) instead\n"
     ]
    },
    {
     "name": "stdout",
     "output_type": "stream",
     "text": [
      "Aug 12, 2015\n",
      "Aug 13, 2015\n",
      "Aug 14, 2015\n"
     ]
    },
    {
     "name": "stderr",
     "output_type": "stream",
     "text": [
      "/usr/local/lib/python3.7/site-packages/ipykernel_launcher.py:83: DeprecationWarning: find_elements_by_xpath is deprecated. Please use find_elements(by=By.XPATH, value=xpath) instead\n",
      "/usr/local/lib/python3.7/site-packages/ipykernel_launcher.py:84: DeprecationWarning: find_elements_by_xpath is deprecated. Please use find_elements(by=By.XPATH, value=xpath) instead\n",
      "/usr/local/lib/python3.7/site-packages/ipykernel_launcher.py:93: DeprecationWarning: find_elements_by_xpath is deprecated. Please use find_elements(by=By.XPATH, value=xpath) instead\n"
     ]
    },
    {
     "name": "stdout",
     "output_type": "stream",
     "text": [
      "          Date                  Team    xG    xA  xPTS match_or_not\n",
      "0   08/08/2015             Leicester  2.57  1.46  2.13            1\n",
      "1   08/08/2015        Crystal Palace  2.11  1.13  2.13            1\n",
      "2   08/08/2015           Aston Villa  0.78  0.88  1.23            1\n",
      "3   08/08/2015     Manchester United  0.63  0.67  1.24            1\n",
      "4   08/08/2015               Everton  0.60  0.56  1.33            1\n",
      "5   08/08/2015               Chelsea  0.64  2.59  0.18            1\n",
      "6   08/08/2015               Swansea  2.59  0.64  2.72            1\n",
      "7   08/08/2015               Watford  0.56  0.60  1.24            1\n",
      "8   08/08/2015           Bournemouth  0.88  0.78  1.42            1\n",
      "9   08/08/2015             Tottenham  0.67  0.63  1.36            1\n",
      "10  08/08/2015            Sunderland  1.46  2.57  0.66            1\n",
      "11  08/08/2015               Norwich  1.13  2.11  0.65            1\n",
      "0   09/08/2015              West Ham  0.54  1.33  0.71            1\n",
      "1   09/08/2015             Liverpool  0.33  0.38  1.16            1\n",
      "2   09/08/2015           Southampton  1.25  1.55  1.05            1\n",
      "3   09/08/2015      Newcastle United  1.55  1.25  1.63            1\n",
      "4   09/08/2015                 Stoke  0.38  0.33  1.29            1\n",
      "5   09/08/2015               Arsenal  1.33  0.54  2.01            1\n",
      "0   10/08/2015       Manchester City  1.92  0.44  2.48            1\n",
      "1   10/08/2015  West Bromwich Albion  0.44  1.92  0.35            1\n",
      "0   14/08/2015     Manchester United  0.66  0.22  1.75            1\n",
      "1   14/08/2015           Aston Villa  0.22  0.66  0.78            1\n",
      "Aug 15, 2015\n"
     ]
    },
    {
     "name": "stderr",
     "output_type": "stream",
     "text": [
      "/usr/local/lib/python3.7/site-packages/ipykernel_launcher.py:51: DeprecationWarning: find_elements_by_xpath is deprecated. Please use find_elements(by=By.XPATH, value=xpath) instead\n",
      "/usr/local/lib/python3.7/site-packages/ipykernel_launcher.py:67: DeprecationWarning: find_elements_by_xpath is deprecated. Please use find_elements(by=By.XPATH, value=xpath) instead\n",
      "/usr/local/lib/python3.7/site-packages/ipykernel_launcher.py:83: DeprecationWarning: find_elements_by_xpath is deprecated. Please use find_elements(by=By.XPATH, value=xpath) instead\n",
      "/usr/local/lib/python3.7/site-packages/ipykernel_launcher.py:84: DeprecationWarning: find_elements_by_xpath is deprecated. Please use find_elements(by=By.XPATH, value=xpath) instead\n",
      "/usr/local/lib/python3.7/site-packages/ipykernel_launcher.py:93: DeprecationWarning: find_elements_by_xpath is deprecated. Please use find_elements(by=By.XPATH, value=xpath) instead\n"
     ]
    },
    {
     "name": "stdout",
     "output_type": "stream",
     "text": [
      "          Date                  Team    xG    xA  xPTS match_or_not\n",
      "0   08/08/2015             Leicester  2.57  1.46  2.13            1\n",
      "1   08/08/2015        Crystal Palace  2.11  1.13  2.13            1\n",
      "2   08/08/2015           Aston Villa  0.78  0.88  1.23            1\n",
      "3   08/08/2015     Manchester United  0.63  0.67  1.24            1\n",
      "4   08/08/2015               Everton  0.60  0.56  1.33            1\n",
      "5   08/08/2015               Chelsea  0.64  2.59  0.18            1\n",
      "6   08/08/2015               Swansea  2.59  0.64  2.72            1\n",
      "7   08/08/2015               Watford  0.56  0.60  1.24            1\n",
      "8   08/08/2015           Bournemouth  0.88  0.78  1.42            1\n",
      "9   08/08/2015             Tottenham  0.67  0.63  1.36            1\n",
      "10  08/08/2015            Sunderland  1.46  2.57  0.66            1\n",
      "11  08/08/2015               Norwich  1.13  2.11  0.65            1\n",
      "0   09/08/2015              West Ham  0.54  1.33  0.71            1\n",
      "1   09/08/2015             Liverpool  0.33  0.38  1.16            1\n",
      "2   09/08/2015           Southampton  1.25  1.55  1.05            1\n",
      "3   09/08/2015      Newcastle United  1.55  1.25  1.63            1\n",
      "4   09/08/2015                 Stoke  0.38  0.33  1.29            1\n",
      "5   09/08/2015               Arsenal  1.33  0.54  2.01            1\n",
      "0   10/08/2015       Manchester City  1.92  0.44  2.48            1\n",
      "1   10/08/2015  West Bromwich Albion  0.44  1.92  0.35            1\n",
      "0   14/08/2015     Manchester United  0.66  0.22  1.75            1\n",
      "1   14/08/2015           Aston Villa  0.22  0.66  0.78            1\n",
      "0   15/08/2015               Everton  1.40  1.06  1.67            1\n",
      "1   15/08/2015               Norwich  1.72  0.33  2.48            1\n",
      "2   15/08/2015               Swansea  1.97  0.11  2.83            1\n",
      "3   15/08/2015             Leicester  1.81  0.51  2.51            1\n",
      "4   15/08/2015             Tottenham  1.71  2.81  0.68            1\n",
      "5   15/08/2015                 Stoke  2.81  1.71  2.13            1\n",
      "6   15/08/2015  West Bromwich Albion  0.68  0.76  1.25            1\n",
      "7   15/08/2015               Watford  0.76  0.68  1.37            1\n",
      "8   15/08/2015              West Ham  0.51  1.81  0.32            1\n",
      "9   15/08/2015            Sunderland  0.33  1.72  0.34            1\n",
      "10  15/08/2015      Newcastle United  0.11  1.97  0.10            1\n",
      "11  15/08/2015           Southampton  1.06  1.40  1.05            1\n",
      "Aug 16, 2015\n"
     ]
    },
    {
     "name": "stderr",
     "output_type": "stream",
     "text": [
      "/usr/local/lib/python3.7/site-packages/ipykernel_launcher.py:51: DeprecationWarning: find_elements_by_xpath is deprecated. Please use find_elements(by=By.XPATH, value=xpath) instead\n",
      "/usr/local/lib/python3.7/site-packages/ipykernel_launcher.py:67: DeprecationWarning: find_elements_by_xpath is deprecated. Please use find_elements(by=By.XPATH, value=xpath) instead\n",
      "/usr/local/lib/python3.7/site-packages/ipykernel_launcher.py:83: DeprecationWarning: find_elements_by_xpath is deprecated. Please use find_elements(by=By.XPATH, value=xpath) instead\n",
      "/usr/local/lib/python3.7/site-packages/ipykernel_launcher.py:84: DeprecationWarning: find_elements_by_xpath is deprecated. Please use find_elements(by=By.XPATH, value=xpath) instead\n",
      "/usr/local/lib/python3.7/site-packages/ipykernel_launcher.py:93: DeprecationWarning: find_elements_by_xpath is deprecated. Please use find_elements(by=By.XPATH, value=xpath) instead\n"
     ]
    },
    {
     "name": "stdout",
     "output_type": "stream",
     "text": [
      "          Date                  Team    xG    xA  xPTS match_or_not\n",
      "0   08/08/2015             Leicester  2.57  1.46  2.13            1\n",
      "1   08/08/2015        Crystal Palace  2.11  1.13  2.13            1\n",
      "2   08/08/2015           Aston Villa  0.78  0.88  1.23            1\n",
      "3   08/08/2015     Manchester United  0.63  0.67  1.24            1\n",
      "4   08/08/2015               Everton  0.60  0.56  1.33            1\n",
      "5   08/08/2015               Chelsea  0.64  2.59  0.18            1\n",
      "6   08/08/2015               Swansea  2.59  0.64  2.72            1\n",
      "7   08/08/2015               Watford  0.56  0.60  1.24            1\n",
      "8   08/08/2015           Bournemouth  0.88  0.78  1.42            1\n",
      "9   08/08/2015             Tottenham  0.67  0.63  1.36            1\n",
      "10  08/08/2015            Sunderland  1.46  2.57  0.66            1\n",
      "11  08/08/2015               Norwich  1.13  2.11  0.65            1\n",
      "0   09/08/2015              West Ham  0.54  1.33  0.71            1\n",
      "1   09/08/2015             Liverpool  0.33  0.38  1.16            1\n",
      "2   09/08/2015           Southampton  1.25  1.55  1.05            1\n",
      "3   09/08/2015      Newcastle United  1.55  1.25  1.63            1\n",
      "4   09/08/2015                 Stoke  0.38  0.33  1.29            1\n",
      "5   09/08/2015               Arsenal  1.33  0.54  2.01            1\n",
      "0   10/08/2015       Manchester City  1.92  0.44  2.48            1\n",
      "1   10/08/2015  West Bromwich Albion  0.44  1.92  0.35            1\n",
      "0   14/08/2015     Manchester United  0.66  0.22  1.75            1\n",
      "1   14/08/2015           Aston Villa  0.22  0.66  0.78            1\n",
      "0   15/08/2015               Everton  1.40  1.06  1.67            1\n",
      "1   15/08/2015               Norwich  1.72  0.33  2.48            1\n",
      "2   15/08/2015               Swansea  1.97  0.11  2.83            1\n",
      "3   15/08/2015             Leicester  1.81  0.51  2.51            1\n",
      "4   15/08/2015             Tottenham  1.71  2.81  0.68            1\n",
      "5   15/08/2015                 Stoke  2.81  1.71  2.13            1\n",
      "6   15/08/2015  West Bromwich Albion  0.68  0.76  1.25            1\n",
      "7   15/08/2015               Watford  0.76  0.68  1.37            1\n",
      "8   15/08/2015              West Ham  0.51  1.81  0.32            1\n",
      "9   15/08/2015            Sunderland  0.33  1.72  0.34            1\n",
      "10  15/08/2015      Newcastle United  0.11  1.97  0.10            1\n",
      "11  15/08/2015           Southampton  1.06  1.40  1.05            1\n",
      "0   16/08/2015       Manchester City  2.19  0.48  2.58            1\n",
      "1   16/08/2015               Arsenal  2.06  0.96  2.19            1\n",
      "2   16/08/2015        Crystal Palace  0.96  2.06  0.60            1\n",
      "3   16/08/2015               Chelsea  0.48  2.19  0.28            1\n",
      "Aug 17, 2015\n"
     ]
    },
    {
     "name": "stderr",
     "output_type": "stream",
     "text": [
      "/usr/local/lib/python3.7/site-packages/ipykernel_launcher.py:51: DeprecationWarning: find_elements_by_xpath is deprecated. Please use find_elements(by=By.XPATH, value=xpath) instead\n",
      "/usr/local/lib/python3.7/site-packages/ipykernel_launcher.py:67: DeprecationWarning: find_elements_by_xpath is deprecated. Please use find_elements(by=By.XPATH, value=xpath) instead\n",
      "/usr/local/lib/python3.7/site-packages/ipykernel_launcher.py:83: DeprecationWarning: find_elements_by_xpath is deprecated. Please use find_elements(by=By.XPATH, value=xpath) instead\n",
      "/usr/local/lib/python3.7/site-packages/ipykernel_launcher.py:84: DeprecationWarning: find_elements_by_xpath is deprecated. Please use find_elements(by=By.XPATH, value=xpath) instead\n",
      "/usr/local/lib/python3.7/site-packages/ipykernel_launcher.py:93: DeprecationWarning: find_elements_by_xpath is deprecated. Please use find_elements(by=By.XPATH, value=xpath) instead\n"
     ]
    },
    {
     "name": "stdout",
     "output_type": "stream",
     "text": [
      "          Date                  Team    xG    xA  xPTS match_or_not\n",
      "0   08/08/2015             Leicester  2.57  1.46  2.13            1\n",
      "1   08/08/2015        Crystal Palace  2.11  1.13  2.13            1\n",
      "2   08/08/2015           Aston Villa  0.78  0.88  1.23            1\n",
      "3   08/08/2015     Manchester United  0.63  0.67  1.24            1\n",
      "4   08/08/2015               Everton  0.60  0.56  1.33            1\n",
      "5   08/08/2015               Chelsea  0.64  2.59  0.18            1\n",
      "6   08/08/2015               Swansea  2.59  0.64  2.72            1\n",
      "7   08/08/2015               Watford  0.56  0.60  1.24            1\n",
      "8   08/08/2015           Bournemouth  0.88  0.78  1.42            1\n",
      "9   08/08/2015             Tottenham  0.67  0.63  1.36            1\n",
      "10  08/08/2015            Sunderland  1.46  2.57  0.66            1\n",
      "11  08/08/2015               Norwich  1.13  2.11  0.65            1\n",
      "0   09/08/2015              West Ham  0.54  1.33  0.71            1\n",
      "1   09/08/2015             Liverpool  0.33  0.38  1.16            1\n",
      "2   09/08/2015           Southampton  1.25  1.55  1.05            1\n",
      "3   09/08/2015      Newcastle United  1.55  1.25  1.63            1\n",
      "4   09/08/2015                 Stoke  0.38  0.33  1.29            1\n",
      "5   09/08/2015               Arsenal  1.33  0.54  2.01            1\n",
      "0   10/08/2015       Manchester City  1.92  0.44  2.48            1\n",
      "1   10/08/2015  West Bromwich Albion  0.44  1.92  0.35            1\n",
      "0   14/08/2015     Manchester United  0.66  0.22  1.75            1\n",
      "1   14/08/2015           Aston Villa  0.22  0.66  0.78            1\n",
      "0   15/08/2015               Everton  1.40  1.06  1.67            1\n",
      "1   15/08/2015               Norwich  1.72  0.33  2.48            1\n",
      "2   15/08/2015               Swansea  1.97  0.11  2.83            1\n",
      "3   15/08/2015             Leicester  1.81  0.51  2.51            1\n",
      "4   15/08/2015             Tottenham  1.71  2.81  0.68            1\n",
      "5   15/08/2015                 Stoke  2.81  1.71  2.13            1\n",
      "6   15/08/2015  West Bromwich Albion  0.68  0.76  1.25            1\n",
      "7   15/08/2015               Watford  0.76  0.68  1.37            1\n",
      "8   15/08/2015              West Ham  0.51  1.81  0.32            1\n",
      "9   15/08/2015            Sunderland  0.33  1.72  0.34            1\n",
      "10  15/08/2015      Newcastle United  0.11  1.97  0.10            1\n",
      "11  15/08/2015           Southampton  1.06  1.40  1.05            1\n",
      "0   16/08/2015       Manchester City  2.19  0.48  2.58            1\n",
      "1   16/08/2015               Arsenal  2.06  0.96  2.19            1\n",
      "2   16/08/2015        Crystal Palace  0.96  2.06  0.60            1\n",
      "3   16/08/2015               Chelsea  0.48  2.19  0.28            1\n",
      "0   17/08/2015             Liverpool  2.15  0.46  2.58            1\n",
      "1   17/08/2015           Bournemouth  0.46  2.15  0.28            1\n",
      "Aug 18, 2015\n"
     ]
    },
    {
     "name": "stderr",
     "output_type": "stream",
     "text": [
      "/usr/local/lib/python3.7/site-packages/ipykernel_launcher.py:51: DeprecationWarning: find_elements_by_xpath is deprecated. Please use find_elements(by=By.XPATH, value=xpath) instead\n",
      "/usr/local/lib/python3.7/site-packages/ipykernel_launcher.py:67: DeprecationWarning: find_elements_by_xpath is deprecated. Please use find_elements(by=By.XPATH, value=xpath) instead\n"
     ]
    },
    {
     "name": "stdout",
     "output_type": "stream",
     "text": [
      "Aug 19, 2015\n",
      "Aug 20, 2015\n",
      "Aug 21, 2015\n",
      "Aug 22, 2015\n"
     ]
    },
    {
     "name": "stderr",
     "output_type": "stream",
     "text": [
      "/usr/local/lib/python3.7/site-packages/ipykernel_launcher.py:83: DeprecationWarning: find_elements_by_xpath is deprecated. Please use find_elements(by=By.XPATH, value=xpath) instead\n",
      "/usr/local/lib/python3.7/site-packages/ipykernel_launcher.py:84: DeprecationWarning: find_elements_by_xpath is deprecated. Please use find_elements(by=By.XPATH, value=xpath) instead\n",
      "/usr/local/lib/python3.7/site-packages/ipykernel_launcher.py:93: DeprecationWarning: find_elements_by_xpath is deprecated. Please use find_elements(by=By.XPATH, value=xpath) instead\n"
     ]
    },
    {
     "name": "stdout",
     "output_type": "stream",
     "text": [
      "          Date                  Team    xG    xA  xPTS match_or_not\n",
      "0   08/08/2015             Leicester  2.57  1.46  2.13            1\n",
      "1   08/08/2015        Crystal Palace  2.11  1.13  2.13            1\n",
      "2   08/08/2015           Aston Villa  0.78  0.88  1.23            1\n",
      "3   08/08/2015     Manchester United  0.63  0.67  1.24            1\n",
      "4   08/08/2015               Everton  0.60  0.56  1.33            1\n",
      "5   08/08/2015               Chelsea  0.64  2.59  0.18            1\n",
      "6   08/08/2015               Swansea  2.59  0.64  2.72            1\n",
      "7   08/08/2015               Watford  0.56  0.60  1.24            1\n",
      "8   08/08/2015           Bournemouth  0.88  0.78  1.42            1\n",
      "9   08/08/2015             Tottenham  0.67  0.63  1.36            1\n",
      "10  08/08/2015            Sunderland  1.46  2.57  0.66            1\n",
      "11  08/08/2015               Norwich  1.13  2.11  0.65            1\n",
      "0   09/08/2015              West Ham  0.54  1.33  0.71            1\n",
      "1   09/08/2015             Liverpool  0.33  0.38  1.16            1\n",
      "2   09/08/2015           Southampton  1.25  1.55  1.05            1\n",
      "3   09/08/2015      Newcastle United  1.55  1.25  1.63            1\n",
      "4   09/08/2015                 Stoke  0.38  0.33  1.29            1\n",
      "5   09/08/2015               Arsenal  1.33  0.54  2.01            1\n",
      "0   10/08/2015       Manchester City  1.92  0.44  2.48            1\n",
      "1   10/08/2015  West Bromwich Albion  0.44  1.92  0.35            1\n",
      "0   14/08/2015     Manchester United  0.66  0.22  1.75            1\n",
      "1   14/08/2015           Aston Villa  0.22  0.66  0.78            1\n",
      "0   15/08/2015               Everton  1.40  1.06  1.67            1\n",
      "1   15/08/2015               Norwich  1.72  0.33  2.48            1\n",
      "2   15/08/2015               Swansea  1.97  0.11  2.83            1\n",
      "3   15/08/2015             Leicester  1.81  0.51  2.51            1\n",
      "4   15/08/2015             Tottenham  1.71  2.81  0.68            1\n",
      "5   15/08/2015                 Stoke  2.81  1.71  2.13            1\n",
      "6   15/08/2015  West Bromwich Albion  0.68  0.76  1.25            1\n",
      "7   15/08/2015               Watford  0.76  0.68  1.37            1\n",
      "8   15/08/2015              West Ham  0.51  1.81  0.32            1\n",
      "9   15/08/2015            Sunderland  0.33  1.72  0.34            1\n",
      "10  15/08/2015      Newcastle United  0.11  1.97  0.10            1\n",
      "11  15/08/2015           Southampton  1.06  1.40  1.05            1\n",
      "0   16/08/2015       Manchester City  2.19  0.48  2.58            1\n",
      "1   16/08/2015               Arsenal  2.06  0.96  2.19            1\n",
      "2   16/08/2015        Crystal Palace  0.96  2.06  0.60            1\n",
      "3   16/08/2015               Chelsea  0.48  2.19  0.28            1\n",
      "0   17/08/2015             Liverpool  2.15  0.46  2.58            1\n",
      "1   17/08/2015           Bournemouth  0.46  2.15  0.28            1\n",
      "0   22/08/2015           Bournemouth  2.86  1.50  2.34            1\n",
      "1   22/08/2015        Crystal Palace  1.24  0.77  1.73            1\n",
      "2   22/08/2015             Leicester  0.83  1.89  0.58            1\n",
      "3   22/08/2015            Sunderland  0.57  1.56  0.61            1\n",
      "4   22/08/2015               Norwich  3.15  0.70  2.78            1\n",
      "5   22/08/2015             Tottenham  1.89  0.83  2.20            1\n",
      "6   22/08/2015               Swansea  1.56  0.57  2.15            1\n",
      "7   22/08/2015                 Stoke  0.70  3.15  0.15            1\n",
      "8   22/08/2015      Newcastle United  0.44  1.25  0.65            1\n",
      "9   22/08/2015     Manchester United  1.25  0.44  2.06            1\n",
      "10  22/08/2015              West Ham  1.50  2.86  0.49            1\n",
      "11  22/08/2015           Aston Villa  0.77  1.24  0.96            1\n",
      "Aug 23, 2015\n"
     ]
    },
    {
     "name": "stderr",
     "output_type": "stream",
     "text": [
      "/usr/local/lib/python3.7/site-packages/ipykernel_launcher.py:51: DeprecationWarning: find_elements_by_xpath is deprecated. Please use find_elements(by=By.XPATH, value=xpath) instead\n",
      "/usr/local/lib/python3.7/site-packages/ipykernel_launcher.py:67: DeprecationWarning: find_elements_by_xpath is deprecated. Please use find_elements(by=By.XPATH, value=xpath) instead\n",
      "/usr/local/lib/python3.7/site-packages/ipykernel_launcher.py:83: DeprecationWarning: find_elements_by_xpath is deprecated. Please use find_elements(by=By.XPATH, value=xpath) instead\n",
      "/usr/local/lib/python3.7/site-packages/ipykernel_launcher.py:84: DeprecationWarning: find_elements_by_xpath is deprecated. Please use find_elements(by=By.XPATH, value=xpath) instead\n",
      "/usr/local/lib/python3.7/site-packages/ipykernel_launcher.py:93: DeprecationWarning: find_elements_by_xpath is deprecated. Please use find_elements(by=By.XPATH, value=xpath) instead\n"
     ]
    },
    {
     "name": "stdout",
     "output_type": "stream",
     "text": [
      "          Date                  Team    xG    xA  xPTS match_or_not\n",
      "0   08/08/2015             Leicester  2.57  1.46  2.13            1\n",
      "1   08/08/2015        Crystal Palace  2.11  1.13  2.13            1\n",
      "2   08/08/2015           Aston Villa  0.78  0.88  1.23            1\n",
      "3   08/08/2015     Manchester United  0.63  0.67  1.24            1\n",
      "4   08/08/2015               Everton  0.60  0.56  1.33            1\n",
      "5   08/08/2015               Chelsea  0.64  2.59  0.18            1\n",
      "6   08/08/2015               Swansea  2.59  0.64  2.72            1\n",
      "7   08/08/2015               Watford  0.56  0.60  1.24            1\n",
      "8   08/08/2015           Bournemouth  0.88  0.78  1.42            1\n",
      "9   08/08/2015             Tottenham  0.67  0.63  1.36            1\n",
      "10  08/08/2015            Sunderland  1.46  2.57  0.66            1\n",
      "11  08/08/2015               Norwich  1.13  2.11  0.65            1\n",
      "0   09/08/2015              West Ham  0.54  1.33  0.71            1\n",
      "1   09/08/2015             Liverpool  0.33  0.38  1.16            1\n",
      "2   09/08/2015           Southampton  1.25  1.55  1.05            1\n",
      "3   09/08/2015      Newcastle United  1.55  1.25  1.63            1\n",
      "4   09/08/2015                 Stoke  0.38  0.33  1.29            1\n",
      "5   09/08/2015               Arsenal  1.33  0.54  2.01            1\n",
      "0   10/08/2015       Manchester City  1.92  0.44  2.48            1\n",
      "1   10/08/2015  West Bromwich Albion  0.44  1.92  0.35            1\n",
      "0   14/08/2015     Manchester United  0.66  0.22  1.75            1\n",
      "1   14/08/2015           Aston Villa  0.22  0.66  0.78            1\n",
      "0   15/08/2015               Everton  1.40  1.06  1.67            1\n",
      "1   15/08/2015               Norwich  1.72  0.33  2.48            1\n",
      "2   15/08/2015               Swansea  1.97  0.11  2.83            1\n",
      "3   15/08/2015             Leicester  1.81  0.51  2.51            1\n",
      "4   15/08/2015             Tottenham  1.71  2.81  0.68            1\n",
      "5   15/08/2015                 Stoke  2.81  1.71  2.13            1\n",
      "6   15/08/2015  West Bromwich Albion  0.68  0.76  1.25            1\n",
      "7   15/08/2015               Watford  0.76  0.68  1.37            1\n",
      "8   15/08/2015              West Ham  0.51  1.81  0.32            1\n",
      "9   15/08/2015            Sunderland  0.33  1.72  0.34            1\n",
      "10  15/08/2015      Newcastle United  0.11  1.97  0.10            1\n",
      "11  15/08/2015           Southampton  1.06  1.40  1.05            1\n",
      "0   16/08/2015       Manchester City  2.19  0.48  2.58            1\n",
      "1   16/08/2015               Arsenal  2.06  0.96  2.19            1\n",
      "2   16/08/2015        Crystal Palace  0.96  2.06  0.60            1\n",
      "3   16/08/2015               Chelsea  0.48  2.19  0.28            1\n",
      "0   17/08/2015             Liverpool  2.15  0.46  2.58            1\n",
      "1   17/08/2015           Bournemouth  0.46  2.15  0.28            1\n",
      "0   22/08/2015           Bournemouth  2.86  1.50  2.34            1\n",
      "1   22/08/2015        Crystal Palace  1.24  0.77  1.73            1\n",
      "2   22/08/2015             Leicester  0.83  1.89  0.58            1\n",
      "3   22/08/2015            Sunderland  0.57  1.56  0.61            1\n",
      "4   22/08/2015               Norwich  3.15  0.70  2.78            1\n",
      "5   22/08/2015             Tottenham  1.89  0.83  2.20            1\n",
      "6   22/08/2015               Swansea  1.56  0.57  2.15            1\n",
      "7   22/08/2015                 Stoke  0.70  3.15  0.15            1\n",
      "8   22/08/2015      Newcastle United  0.44  1.25  0.65            1\n",
      "9   22/08/2015     Manchester United  1.25  0.44  2.06            1\n",
      "10  22/08/2015              West Ham  1.50  2.86  0.49            1\n",
      "11  22/08/2015           Aston Villa  0.77  1.24  0.96            1\n",
      "0   23/08/2015       Manchester City  1.58  0.58  2.20            1\n",
      "1   23/08/2015               Chelsea  2.03  1.43  1.81            1\n",
      "2   23/08/2015           Southampton  0.68  1.18  0.81            1\n",
      "3   23/08/2015               Watford  1.18  0.68  1.88            1\n",
      "4   23/08/2015  West Bromwich Albion  1.43  2.03  0.93            1\n",
      "5   23/08/2015               Everton  0.58  1.58  0.56            1\n",
      "Aug 24, 2015\n"
     ]
    },
    {
     "name": "stderr",
     "output_type": "stream",
     "text": [
      "/usr/local/lib/python3.7/site-packages/ipykernel_launcher.py:51: DeprecationWarning: find_elements_by_xpath is deprecated. Please use find_elements(by=By.XPATH, value=xpath) instead\n",
      "/usr/local/lib/python3.7/site-packages/ipykernel_launcher.py:67: DeprecationWarning: find_elements_by_xpath is deprecated. Please use find_elements(by=By.XPATH, value=xpath) instead\n",
      "/usr/local/lib/python3.7/site-packages/ipykernel_launcher.py:83: DeprecationWarning: find_elements_by_xpath is deprecated. Please use find_elements(by=By.XPATH, value=xpath) instead\n",
      "/usr/local/lib/python3.7/site-packages/ipykernel_launcher.py:84: DeprecationWarning: find_elements_by_xpath is deprecated. Please use find_elements(by=By.XPATH, value=xpath) instead\n",
      "/usr/local/lib/python3.7/site-packages/ipykernel_launcher.py:93: DeprecationWarning: find_elements_by_xpath is deprecated. Please use find_elements(by=By.XPATH, value=xpath) instead\n"
     ]
    },
    {
     "name": "stdout",
     "output_type": "stream",
     "text": [
      "          Date                  Team    xG    xA  xPTS match_or_not\n",
      "0   08/08/2015             Leicester  2.57  1.46  2.13            1\n",
      "1   08/08/2015        Crystal Palace  2.11  1.13  2.13            1\n",
      "2   08/08/2015           Aston Villa  0.78  0.88  1.23            1\n",
      "3   08/08/2015     Manchester United  0.63  0.67  1.24            1\n",
      "4   08/08/2015               Everton  0.60  0.56  1.33            1\n",
      "5   08/08/2015               Chelsea  0.64  2.59  0.18            1\n",
      "6   08/08/2015               Swansea  2.59  0.64  2.72            1\n",
      "7   08/08/2015               Watford  0.56  0.60  1.24            1\n",
      "8   08/08/2015           Bournemouth  0.88  0.78  1.42            1\n",
      "9   08/08/2015             Tottenham  0.67  0.63  1.36            1\n",
      "10  08/08/2015            Sunderland  1.46  2.57  0.66            1\n",
      "11  08/08/2015               Norwich  1.13  2.11  0.65            1\n",
      "0   09/08/2015              West Ham  0.54  1.33  0.71            1\n",
      "1   09/08/2015             Liverpool  0.33  0.38  1.16            1\n",
      "2   09/08/2015           Southampton  1.25  1.55  1.05            1\n",
      "3   09/08/2015      Newcastle United  1.55  1.25  1.63            1\n",
      "4   09/08/2015                 Stoke  0.38  0.33  1.29            1\n",
      "5   09/08/2015               Arsenal  1.33  0.54  2.01            1\n",
      "0   10/08/2015       Manchester City  1.92  0.44  2.48            1\n",
      "1   10/08/2015  West Bromwich Albion  0.44  1.92  0.35            1\n",
      "0   14/08/2015     Manchester United  0.66  0.22  1.75            1\n",
      "1   14/08/2015           Aston Villa  0.22  0.66  0.78            1\n",
      "0   15/08/2015               Everton  1.40  1.06  1.67            1\n",
      "1   15/08/2015               Norwich  1.72  0.33  2.48            1\n",
      "2   15/08/2015               Swansea  1.97  0.11  2.83            1\n",
      "3   15/08/2015             Leicester  1.81  0.51  2.51            1\n",
      "4   15/08/2015             Tottenham  1.71  2.81  0.68            1\n",
      "5   15/08/2015                 Stoke  2.81  1.71  2.13            1\n",
      "6   15/08/2015  West Bromwich Albion  0.68  0.76  1.25            1\n",
      "7   15/08/2015               Watford  0.76  0.68  1.37            1\n",
      "8   15/08/2015              West Ham  0.51  1.81  0.32            1\n",
      "9   15/08/2015            Sunderland  0.33  1.72  0.34            1\n",
      "10  15/08/2015      Newcastle United  0.11  1.97  0.10            1\n",
      "11  15/08/2015           Southampton  1.06  1.40  1.05            1\n",
      "0   16/08/2015       Manchester City  2.19  0.48  2.58            1\n",
      "1   16/08/2015               Arsenal  2.06  0.96  2.19            1\n",
      "2   16/08/2015        Crystal Palace  0.96  2.06  0.60            1\n",
      "3   16/08/2015               Chelsea  0.48  2.19  0.28            1\n",
      "0   17/08/2015             Liverpool  2.15  0.46  2.58            1\n",
      "1   17/08/2015           Bournemouth  0.46  2.15  0.28            1\n",
      "0   22/08/2015           Bournemouth  2.86  1.50  2.34            1\n",
      "1   22/08/2015        Crystal Palace  1.24  0.77  1.73            1\n",
      "2   22/08/2015             Leicester  0.83  1.89  0.58            1\n",
      "3   22/08/2015            Sunderland  0.57  1.56  0.61            1\n",
      "4   22/08/2015               Norwich  3.15  0.70  2.78            1\n",
      "5   22/08/2015             Tottenham  1.89  0.83  2.20            1\n",
      "6   22/08/2015               Swansea  1.56  0.57  2.15            1\n",
      "7   22/08/2015                 Stoke  0.70  3.15  0.15            1\n",
      "8   22/08/2015      Newcastle United  0.44  1.25  0.65            1\n",
      "9   22/08/2015     Manchester United  1.25  0.44  2.06            1\n",
      "10  22/08/2015              West Ham  1.50  2.86  0.49            1\n",
      "11  22/08/2015           Aston Villa  0.77  1.24  0.96            1\n",
      "0   23/08/2015       Manchester City  1.58  0.58  2.20            1\n",
      "1   23/08/2015               Chelsea  2.03  1.43  1.81            1\n",
      "2   23/08/2015           Southampton  0.68  1.18  0.81            1\n",
      "3   23/08/2015               Watford  1.18  0.68  1.88            1\n",
      "4   23/08/2015  West Bromwich Albion  1.43  2.03  0.93            1\n",
      "5   23/08/2015               Everton  0.58  1.58  0.56            1\n",
      "0   24/08/2015               Arsenal  1.84  1.29  1.80            1\n",
      "1   24/08/2015             Liverpool  1.29  1.84  0.94            1\n",
      "Aug 25, 2015\n"
     ]
    },
    {
     "name": "stderr",
     "output_type": "stream",
     "text": [
      "/usr/local/lib/python3.7/site-packages/ipykernel_launcher.py:51: DeprecationWarning: find_elements_by_xpath is deprecated. Please use find_elements(by=By.XPATH, value=xpath) instead\n",
      "/usr/local/lib/python3.7/site-packages/ipykernel_launcher.py:67: DeprecationWarning: find_elements_by_xpath is deprecated. Please use find_elements(by=By.XPATH, value=xpath) instead\n"
     ]
    },
    {
     "name": "stdout",
     "output_type": "stream",
     "text": [
      "Aug 26, 2015\n",
      "Aug 27, 2015\n",
      "Aug 28, 2015\n",
      "Aug 29, 2015\n"
     ]
    },
    {
     "name": "stderr",
     "output_type": "stream",
     "text": [
      "/usr/local/lib/python3.7/site-packages/ipykernel_launcher.py:83: DeprecationWarning: find_elements_by_xpath is deprecated. Please use find_elements(by=By.XPATH, value=xpath) instead\n",
      "/usr/local/lib/python3.7/site-packages/ipykernel_launcher.py:84: DeprecationWarning: find_elements_by_xpath is deprecated. Please use find_elements(by=By.XPATH, value=xpath) instead\n",
      "/usr/local/lib/python3.7/site-packages/ipykernel_launcher.py:93: DeprecationWarning: find_elements_by_xpath is deprecated. Please use find_elements(by=By.XPATH, value=xpath) instead\n"
     ]
    },
    {
     "name": "stdout",
     "output_type": "stream",
     "text": [
      "          Date               Team    xG    xA  xPTS match_or_not\n",
      "0   08/08/2015          Leicester  2.57  1.46  2.13            1\n",
      "1   08/08/2015     Crystal Palace  2.11  1.13  2.13            1\n",
      "2   08/08/2015        Aston Villa  0.78  0.88  1.23            1\n",
      "3   08/08/2015  Manchester United  0.63  0.67  1.24            1\n",
      "4   08/08/2015            Everton  0.60  0.56  1.33            1\n",
      "..         ...                ...   ...   ...   ...          ...\n",
      "11  29/08/2015            Chelsea  1.28  2.19  0.75            1\n",
      "12  29/08/2015              Stoke  1.22  0.88  1.74            1\n",
      "13  29/08/2015   Newcastle United  0.03  2.34  0.07            1\n",
      "14  29/08/2015            Watford  0.36  1.53  0.43            1\n",
      "15  29/08/2015          Liverpool  0.56  0.97  0.93            1\n",
      "\n",
      "[76 rows x 6 columns]\n",
      "Aug 30, 2015\n"
     ]
    },
    {
     "name": "stderr",
     "output_type": "stream",
     "text": [
      "/usr/local/lib/python3.7/site-packages/ipykernel_launcher.py:51: DeprecationWarning: find_elements_by_xpath is deprecated. Please use find_elements(by=By.XPATH, value=xpath) instead\n",
      "/usr/local/lib/python3.7/site-packages/ipykernel_launcher.py:67: DeprecationWarning: find_elements_by_xpath is deprecated. Please use find_elements(by=By.XPATH, value=xpath) instead\n",
      "/usr/local/lib/python3.7/site-packages/ipykernel_launcher.py:83: DeprecationWarning: find_elements_by_xpath is deprecated. Please use find_elements(by=By.XPATH, value=xpath) instead\n",
      "/usr/local/lib/python3.7/site-packages/ipykernel_launcher.py:84: DeprecationWarning: find_elements_by_xpath is deprecated. Please use find_elements(by=By.XPATH, value=xpath) instead\n",
      "/usr/local/lib/python3.7/site-packages/ipykernel_launcher.py:93: DeprecationWarning: find_elements_by_xpath is deprecated. Please use find_elements(by=By.XPATH, value=xpath) instead\n"
     ]
    },
    {
     "name": "stdout",
     "output_type": "stream",
     "text": [
      "          Date               Team    xG    xA  xPTS match_or_not\n",
      "0   08/08/2015          Leicester  2.57  1.46  2.13            1\n",
      "1   08/08/2015     Crystal Palace  2.11  1.13  2.13            1\n",
      "2   08/08/2015        Aston Villa  0.78  0.88  1.23            1\n",
      "3   08/08/2015  Manchester United  0.63  0.67  1.24            1\n",
      "4   08/08/2015            Everton  0.60  0.56  1.33            1\n",
      "..         ...                ...   ...   ...   ...          ...\n",
      "15  29/08/2015          Liverpool  0.56  0.97  0.93            1\n",
      "0   30/08/2015        Southampton  2.86  0.64  2.82            1\n",
      "1   30/08/2015            Swansea  0.97  1.28  1.07            1\n",
      "2   30/08/2015  Manchester United  1.28  0.97  1.62            1\n",
      "3   30/08/2015            Norwich  0.64  2.86  0.11            1\n",
      "\n",
      "[80 rows x 6 columns]\n",
      "Aug 31, 2015\n"
     ]
    },
    {
     "name": "stderr",
     "output_type": "stream",
     "text": [
      "/usr/local/lib/python3.7/site-packages/ipykernel_launcher.py:51: DeprecationWarning: find_elements_by_xpath is deprecated. Please use find_elements(by=By.XPATH, value=xpath) instead\n",
      "/usr/local/lib/python3.7/site-packages/ipykernel_launcher.py:67: DeprecationWarning: find_elements_by_xpath is deprecated. Please use find_elements(by=By.XPATH, value=xpath) instead\n"
     ]
    },
    {
     "name": "stdout",
     "output_type": "stream",
     "text": [
      "Sep 1, 2015\n",
      "Sep 2, 2015\n",
      "Sep 3, 2015\n",
      "Sep 4, 2015\n",
      "Sep 5, 2015\n",
      "Sep 6, 2015\n",
      "Sep 7, 2015\n",
      "Sep 8, 2015\n",
      "Sep 9, 2015\n",
      "Sep 10, 2015\n",
      "Sep 11, 2015\n",
      "Sep 12, 2015\n"
     ]
    },
    {
     "name": "stderr",
     "output_type": "stream",
     "text": [
      "/usr/local/lib/python3.7/site-packages/ipykernel_launcher.py:83: DeprecationWarning: find_elements_by_xpath is deprecated. Please use find_elements(by=By.XPATH, value=xpath) instead\n",
      "/usr/local/lib/python3.7/site-packages/ipykernel_launcher.py:84: DeprecationWarning: find_elements_by_xpath is deprecated. Please use find_elements(by=By.XPATH, value=xpath) instead\n",
      "/usr/local/lib/python3.7/site-packages/ipykernel_launcher.py:93: DeprecationWarning: find_elements_by_xpath is deprecated. Please use find_elements(by=By.XPATH, value=xpath) instead\n"
     ]
    },
    {
     "name": "stdout",
     "output_type": "stream",
     "text": [
      "          Date               Team    xG    xA  xPTS match_or_not\n",
      "0   08/08/2015          Leicester  2.57  1.46  2.13            1\n",
      "1   08/08/2015     Crystal Palace  2.11  1.13  2.13            1\n",
      "2   08/08/2015        Aston Villa  0.78  0.88  1.23            1\n",
      "3   08/08/2015  Manchester United  0.63  0.67  1.24            1\n",
      "4   08/08/2015            Everton  0.60  0.56  1.33            1\n",
      "..         ...                ...   ...   ...   ...          ...\n",
      "9   12/09/2015            Swansea  0.50  1.57  0.49            1\n",
      "10  12/09/2015        Bournemouth  0.39  1.33  0.52            1\n",
      "11  12/09/2015            Chelsea  0.66  1.18  0.84            1\n",
      "12  12/09/2015          Liverpool  1.03  1.46  0.89            1\n",
      "13  12/09/2015              Stoke  0.19  4.43  0.01            1\n",
      "\n",
      "[94 rows x 6 columns]\n",
      "Sep 13, 2015\n"
     ]
    },
    {
     "name": "stderr",
     "output_type": "stream",
     "text": [
      "/usr/local/lib/python3.7/site-packages/ipykernel_launcher.py:51: DeprecationWarning: find_elements_by_xpath is deprecated. Please use find_elements(by=By.XPATH, value=xpath) instead\n",
      "/usr/local/lib/python3.7/site-packages/ipykernel_launcher.py:67: DeprecationWarning: find_elements_by_xpath is deprecated. Please use find_elements(by=By.XPATH, value=xpath) instead\n",
      "/usr/local/lib/python3.7/site-packages/ipykernel_launcher.py:83: DeprecationWarning: find_elements_by_xpath is deprecated. Please use find_elements(by=By.XPATH, value=xpath) instead\n",
      "/usr/local/lib/python3.7/site-packages/ipykernel_launcher.py:84: DeprecationWarning: find_elements_by_xpath is deprecated. Please use find_elements(by=By.XPATH, value=xpath) instead\n",
      "/usr/local/lib/python3.7/site-packages/ipykernel_launcher.py:93: DeprecationWarning: find_elements_by_xpath is deprecated. Please use find_elements(by=By.XPATH, value=xpath) instead\n"
     ]
    },
    {
     "name": "stdout",
     "output_type": "stream",
     "text": [
      "          Date               Team    xG    xA  xPTS match_or_not\n",
      "0   08/08/2015          Leicester  2.57  1.46  2.13            1\n",
      "1   08/08/2015     Crystal Palace  2.11  1.13  2.13            1\n",
      "2   08/08/2015        Aston Villa  0.78  0.88  1.23            1\n",
      "3   08/08/2015  Manchester United  0.63  0.67  1.24            1\n",
      "4   08/08/2015            Everton  0.60  0.56  1.33            1\n",
      "..         ...                ...   ...   ...   ...          ...\n",
      "13  12/09/2015              Stoke  0.19  4.43  0.01            1\n",
      "0   13/09/2015          Leicester  1.35  0.95  1.67            1\n",
      "1   13/09/2015          Tottenham  1.46  1.04  1.68            1\n",
      "2   13/09/2015        Aston Villa  0.95  1.35  1.03            1\n",
      "3   13/09/2015         Sunderland  1.04  1.46  1.02            1\n",
      "\n",
      "[98 rows x 6 columns]\n",
      "Sep 14, 2015\n"
     ]
    },
    {
     "name": "stderr",
     "output_type": "stream",
     "text": [
      "/usr/local/lib/python3.7/site-packages/ipykernel_launcher.py:51: DeprecationWarning: find_elements_by_xpath is deprecated. Please use find_elements(by=By.XPATH, value=xpath) instead\n",
      "/usr/local/lib/python3.7/site-packages/ipykernel_launcher.py:67: DeprecationWarning: find_elements_by_xpath is deprecated. Please use find_elements(by=By.XPATH, value=xpath) instead\n",
      "/usr/local/lib/python3.7/site-packages/ipykernel_launcher.py:83: DeprecationWarning: find_elements_by_xpath is deprecated. Please use find_elements(by=By.XPATH, value=xpath) instead\n",
      "/usr/local/lib/python3.7/site-packages/ipykernel_launcher.py:84: DeprecationWarning: find_elements_by_xpath is deprecated. Please use find_elements(by=By.XPATH, value=xpath) instead\n",
      "/usr/local/lib/python3.7/site-packages/ipykernel_launcher.py:93: DeprecationWarning: find_elements_by_xpath is deprecated. Please use find_elements(by=By.XPATH, value=xpath) instead\n"
     ]
    },
    {
     "name": "stdout",
     "output_type": "stream",
     "text": [
      "          Date               Team    xG    xA  xPTS match_or_not\n",
      "0   08/08/2015          Leicester  2.57  1.46  2.13            1\n",
      "1   08/08/2015     Crystal Palace  2.11  1.13  2.13            1\n",
      "2   08/08/2015        Aston Villa  0.78  0.88  1.23            1\n",
      "3   08/08/2015  Manchester United  0.63  0.67  1.24            1\n",
      "4   08/08/2015            Everton  0.60  0.56  1.33            1\n",
      "..         ...                ...   ...   ...   ...          ...\n",
      "1   13/09/2015          Tottenham  1.46  1.04  1.68            1\n",
      "2   13/09/2015        Aston Villa  0.95  1.35  1.03            1\n",
      "3   13/09/2015         Sunderland  1.04  1.46  1.02            1\n",
      "0   14/09/2015           West Ham  1.71  0.72  2.20            1\n",
      "1   14/09/2015   Newcastle United  0.72  1.71  0.57            1\n",
      "\n",
      "[100 rows x 6 columns]\n",
      "Sep 15, 2015\n"
     ]
    },
    {
     "name": "stderr",
     "output_type": "stream",
     "text": [
      "/usr/local/lib/python3.7/site-packages/ipykernel_launcher.py:51: DeprecationWarning: find_elements_by_xpath is deprecated. Please use find_elements(by=By.XPATH, value=xpath) instead\n",
      "/usr/local/lib/python3.7/site-packages/ipykernel_launcher.py:67: DeprecationWarning: find_elements_by_xpath is deprecated. Please use find_elements(by=By.XPATH, value=xpath) instead\n"
     ]
    },
    {
     "name": "stdout",
     "output_type": "stream",
     "text": [
      "Sep 16, 2015\n",
      "Sep 17, 2015\n",
      "Sep 18, 2015\n",
      "Sep 19, 2015\n"
     ]
    },
    {
     "name": "stderr",
     "output_type": "stream",
     "text": [
      "/usr/local/lib/python3.7/site-packages/ipykernel_launcher.py:83: DeprecationWarning: find_elements_by_xpath is deprecated. Please use find_elements(by=By.XPATH, value=xpath) instead\n",
      "/usr/local/lib/python3.7/site-packages/ipykernel_launcher.py:84: DeprecationWarning: find_elements_by_xpath is deprecated. Please use find_elements(by=By.XPATH, value=xpath) instead\n",
      "/usr/local/lib/python3.7/site-packages/ipykernel_launcher.py:93: DeprecationWarning: find_elements_by_xpath is deprecated. Please use find_elements(by=By.XPATH, value=xpath) instead\n"
     ]
    },
    {
     "name": "stdout",
     "output_type": "stream",
     "text": [
      "          Date               Team    xG    xA  xPTS match_or_not\n",
      "0   08/08/2015          Leicester  2.57  1.46  2.13            1\n",
      "1   08/08/2015     Crystal Palace  2.11  1.13  2.13            1\n",
      "2   08/08/2015        Aston Villa  0.78  0.88  1.23            1\n",
      "3   08/08/2015  Manchester United  0.63  0.67  1.24            1\n",
      "4   08/08/2015            Everton  0.60  0.56  1.33            1\n",
      "..         ...                ...   ...   ...   ...          ...\n",
      "9   19/09/2015   Newcastle United  1.15  1.34  1.18            1\n",
      "10  19/09/2015    Manchester City  2.98  1.00  2.64            1\n",
      "11  19/09/2015        Aston Villa  0.88  0.63  1.56            1\n",
      "12  19/09/2015         Sunderland  0.85  0.64  1.56            1\n",
      "13  19/09/2015            Arsenal  0.78  2.07  0.45            1\n",
      "\n",
      "[114 rows x 6 columns]\n",
      "Sep 20, 2015\n"
     ]
    },
    {
     "name": "stderr",
     "output_type": "stream",
     "text": [
      "/usr/local/lib/python3.7/site-packages/ipykernel_launcher.py:51: DeprecationWarning: find_elements_by_xpath is deprecated. Please use find_elements(by=By.XPATH, value=xpath) instead\n",
      "/usr/local/lib/python3.7/site-packages/ipykernel_launcher.py:67: DeprecationWarning: find_elements_by_xpath is deprecated. Please use find_elements(by=By.XPATH, value=xpath) instead\n",
      "/usr/local/lib/python3.7/site-packages/ipykernel_launcher.py:83: DeprecationWarning: find_elements_by_xpath is deprecated. Please use find_elements(by=By.XPATH, value=xpath) instead\n",
      "/usr/local/lib/python3.7/site-packages/ipykernel_launcher.py:84: DeprecationWarning: find_elements_by_xpath is deprecated. Please use find_elements(by=By.XPATH, value=xpath) instead\n",
      "/usr/local/lib/python3.7/site-packages/ipykernel_launcher.py:93: DeprecationWarning: find_elements_by_xpath is deprecated. Please use find_elements(by=By.XPATH, value=xpath) instead\n"
     ]
    },
    {
     "name": "stdout",
     "output_type": "stream",
     "text": [
      "          Date               Team    xG    xA  xPTS match_or_not\n",
      "0   08/08/2015          Leicester  2.57  1.46  2.13            1\n",
      "1   08/08/2015     Crystal Palace  2.11  1.13  2.13            1\n",
      "2   08/08/2015        Aston Villa  0.78  0.88  1.23            1\n",
      "3   08/08/2015  Manchester United  0.63  0.67  1.24            1\n",
      "4   08/08/2015            Everton  0.60  0.56  1.33            1\n",
      "..         ...                ...   ...   ...   ...          ...\n",
      "1   20/09/2015          Tottenham  1.02  0.54  1.76            1\n",
      "2   20/09/2015            Norwich  0.56  1.90  0.44            1\n",
      "3   20/09/2015          Liverpool  1.90  0.56  2.36            1\n",
      "4   20/09/2015        Southampton  1.84  1.65  1.51            1\n",
      "5   20/09/2015     Crystal Palace  0.54  1.02  0.90            1\n",
      "\n",
      "[120 rows x 6 columns]\n",
      "Sep 21, 2015\n"
     ]
    },
    {
     "name": "stderr",
     "output_type": "stream",
     "text": [
      "/usr/local/lib/python3.7/site-packages/ipykernel_launcher.py:51: DeprecationWarning: find_elements_by_xpath is deprecated. Please use find_elements(by=By.XPATH, value=xpath) instead\n",
      "/usr/local/lib/python3.7/site-packages/ipykernel_launcher.py:67: DeprecationWarning: find_elements_by_xpath is deprecated. Please use find_elements(by=By.XPATH, value=xpath) instead\n"
     ]
    },
    {
     "name": "stdout",
     "output_type": "stream",
     "text": [
      "Sep 22, 2015\n",
      "Sep 23, 2015\n",
      "Sep 24, 2015\n",
      "Sep 25, 2015\n",
      "Sep 26, 2015\n"
     ]
    },
    {
     "name": "stderr",
     "output_type": "stream",
     "text": [
      "/usr/local/lib/python3.7/site-packages/ipykernel_launcher.py:83: DeprecationWarning: find_elements_by_xpath is deprecated. Please use find_elements(by=By.XPATH, value=xpath) instead\n",
      "/usr/local/lib/python3.7/site-packages/ipykernel_launcher.py:84: DeprecationWarning: find_elements_by_xpath is deprecated. Please use find_elements(by=By.XPATH, value=xpath) instead\n",
      "/usr/local/lib/python3.7/site-packages/ipykernel_launcher.py:93: DeprecationWarning: find_elements_by_xpath is deprecated. Please use find_elements(by=By.XPATH, value=xpath) instead\n"
     ]
    },
    {
     "name": "stdout",
     "output_type": "stream",
     "text": [
      "          Date               Team    xG    xA  xPTS match_or_not\n",
      "0   08/08/2015          Leicester  2.57  1.46  2.13            1\n",
      "1   08/08/2015     Crystal Palace  2.11  1.13  2.13            1\n",
      "2   08/08/2015        Aston Villa  0.78  0.88  1.23            1\n",
      "3   08/08/2015  Manchester United  0.63  0.67  1.24            1\n",
      "4   08/08/2015            Everton  0.60  0.56  1.33            1\n",
      "..         ...                ...   ...   ...   ...          ...\n",
      "11  26/09/2015        Bournemouth  0.87  1.94  0.54            1\n",
      "12  26/09/2015            Swansea  1.42  1.55  1.28            1\n",
      "13  26/09/2015          Leicester  1.39  3.90  0.24            1\n",
      "14  26/09/2015    Manchester City  1.58  2.31  0.88            1\n",
      "15  26/09/2015         Sunderland  0.83  2.90  0.14            1\n",
      "\n",
      "[136 rows x 6 columns]\n",
      "Sep 27, 2015\n"
     ]
    },
    {
     "name": "stderr",
     "output_type": "stream",
     "text": [
      "/usr/local/lib/python3.7/site-packages/ipykernel_launcher.py:51: DeprecationWarning: find_elements_by_xpath is deprecated. Please use find_elements(by=By.XPATH, value=xpath) instead\n",
      "/usr/local/lib/python3.7/site-packages/ipykernel_launcher.py:67: DeprecationWarning: find_elements_by_xpath is deprecated. Please use find_elements(by=By.XPATH, value=xpath) instead\n",
      "/usr/local/lib/python3.7/site-packages/ipykernel_launcher.py:83: DeprecationWarning: find_elements_by_xpath is deprecated. Please use find_elements(by=By.XPATH, value=xpath) instead\n",
      "/usr/local/lib/python3.7/site-packages/ipykernel_launcher.py:84: DeprecationWarning: find_elements_by_xpath is deprecated. Please use find_elements(by=By.XPATH, value=xpath) instead\n",
      "/usr/local/lib/python3.7/site-packages/ipykernel_launcher.py:93: DeprecationWarning: find_elements_by_xpath is deprecated. Please use find_elements(by=By.XPATH, value=xpath) instead\n"
     ]
    },
    {
     "name": "stdout",
     "output_type": "stream",
     "text": [
      "          Date               Team    xG    xA  xPTS match_or_not\n",
      "0   08/08/2015          Leicester  2.57  1.46  2.13            1\n",
      "1   08/08/2015     Crystal Palace  2.11  1.13  2.13            1\n",
      "2   08/08/2015        Aston Villa  0.78  0.88  1.23            1\n",
      "3   08/08/2015  Manchester United  0.63  0.67  1.24            1\n",
      "4   08/08/2015            Everton  0.60  0.56  1.33            1\n",
      "..         ...                ...   ...   ...   ...          ...\n",
      "13  26/09/2015          Leicester  1.39  3.90  0.24            1\n",
      "14  26/09/2015    Manchester City  1.58  2.31  0.88            1\n",
      "15  26/09/2015         Sunderland  0.83  2.90  0.14            1\n",
      "0   27/09/2015     Crystal Palace  2.34  0.69  2.54            1\n",
      "1   27/09/2015            Watford  0.69  2.34  0.31            1\n",
      "\n",
      "[138 rows x 6 columns]\n",
      "Sep 28, 2015\n"
     ]
    },
    {
     "name": "stderr",
     "output_type": "stream",
     "text": [
      "/usr/local/lib/python3.7/site-packages/ipykernel_launcher.py:51: DeprecationWarning: find_elements_by_xpath is deprecated. Please use find_elements(by=By.XPATH, value=xpath) instead\n",
      "/usr/local/lib/python3.7/site-packages/ipykernel_launcher.py:67: DeprecationWarning: find_elements_by_xpath is deprecated. Please use find_elements(by=By.XPATH, value=xpath) instead\n",
      "/usr/local/lib/python3.7/site-packages/ipykernel_launcher.py:83: DeprecationWarning: find_elements_by_xpath is deprecated. Please use find_elements(by=By.XPATH, value=xpath) instead\n",
      "/usr/local/lib/python3.7/site-packages/ipykernel_launcher.py:84: DeprecationWarning: find_elements_by_xpath is deprecated. Please use find_elements(by=By.XPATH, value=xpath) instead\n",
      "/usr/local/lib/python3.7/site-packages/ipykernel_launcher.py:93: DeprecationWarning: find_elements_by_xpath is deprecated. Please use find_elements(by=By.XPATH, value=xpath) instead\n"
     ]
    },
    {
     "name": "stdout",
     "output_type": "stream",
     "text": [
      "          Date                  Team    xG    xA  xPTS match_or_not\n",
      "0   08/08/2015             Leicester  2.57  1.46  2.13            1\n",
      "1   08/08/2015        Crystal Palace  2.11  1.13  2.13            1\n",
      "2   08/08/2015           Aston Villa  0.78  0.88  1.23            1\n",
      "3   08/08/2015     Manchester United  0.63  0.67  1.24            1\n",
      "4   08/08/2015               Everton  0.60  0.56  1.33            1\n",
      "..         ...                   ...   ...   ...   ...          ...\n",
      "15  26/09/2015            Sunderland  0.83  2.90  0.14            1\n",
      "0   27/09/2015        Crystal Palace  2.34  0.69  2.54            1\n",
      "1   27/09/2015               Watford  0.69  2.34  0.31            1\n",
      "0   28/09/2015               Everton  2.30  1.28  2.14            1\n",
      "1   28/09/2015  West Bromwich Albion  1.28  2.30  0.65            1\n",
      "\n",
      "[140 rows x 6 columns]\n",
      "Sep 29, 2015\n"
     ]
    },
    {
     "name": "stderr",
     "output_type": "stream",
     "text": [
      "/usr/local/lib/python3.7/site-packages/ipykernel_launcher.py:51: DeprecationWarning: find_elements_by_xpath is deprecated. Please use find_elements(by=By.XPATH, value=xpath) instead\n",
      "/usr/local/lib/python3.7/site-packages/ipykernel_launcher.py:67: DeprecationWarning: find_elements_by_xpath is deprecated. Please use find_elements(by=By.XPATH, value=xpath) instead\n"
     ]
    },
    {
     "name": "stdout",
     "output_type": "stream",
     "text": [
      "Sep 30, 2015\n",
      "Oct 1, 2015\n",
      "Oct 2, 2015\n",
      "Oct 3, 2015\n"
     ]
    },
    {
     "name": "stderr",
     "output_type": "stream",
     "text": [
      "/usr/local/lib/python3.7/site-packages/ipykernel_launcher.py:83: DeprecationWarning: find_elements_by_xpath is deprecated. Please use find_elements(by=By.XPATH, value=xpath) instead\n",
      "/usr/local/lib/python3.7/site-packages/ipykernel_launcher.py:84: DeprecationWarning: find_elements_by_xpath is deprecated. Please use find_elements(by=By.XPATH, value=xpath) instead\n",
      "/usr/local/lib/python3.7/site-packages/ipykernel_launcher.py:93: DeprecationWarning: find_elements_by_xpath is deprecated. Please use find_elements(by=By.XPATH, value=xpath) instead\n"
     ]
    },
    {
     "name": "stdout",
     "output_type": "stream",
     "text": [
      "          Date                  Team    xG    xA  xPTS match_or_not\n",
      "0   08/08/2015             Leicester  2.57  1.46  2.13            1\n",
      "1   08/08/2015        Crystal Palace  2.11  1.13  2.13            1\n",
      "2   08/08/2015           Aston Villa  0.78  0.88  1.23            1\n",
      "3   08/08/2015     Manchester United  0.63  0.67  1.24            1\n",
      "4   08/08/2015               Everton  0.60  0.56  1.33            1\n",
      "..         ...                   ...   ...   ...   ...          ...\n",
      "9   03/10/2015               Norwich  1.18  3.00  0.33            1\n",
      "10  03/10/2015           Aston Villa  0.84  1.03  1.17            1\n",
      "11  03/10/2015               Chelsea  0.52  1.58  0.54            1\n",
      "12  03/10/2015  West Bromwich Albion  0.26  1.99  0.17            1\n",
      "13  03/10/2015      Newcastle United  0.98  3.33  0.20            1\n",
      "\n",
      "[154 rows x 6 columns]\n",
      "Oct 4, 2015\n"
     ]
    },
    {
     "name": "stderr",
     "output_type": "stream",
     "text": [
      "/usr/local/lib/python3.7/site-packages/ipykernel_launcher.py:51: DeprecationWarning: find_elements_by_xpath is deprecated. Please use find_elements(by=By.XPATH, value=xpath) instead\n",
      "/usr/local/lib/python3.7/site-packages/ipykernel_launcher.py:67: DeprecationWarning: find_elements_by_xpath is deprecated. Please use find_elements(by=By.XPATH, value=xpath) instead\n",
      "/usr/local/lib/python3.7/site-packages/ipykernel_launcher.py:83: DeprecationWarning: find_elements_by_xpath is deprecated. Please use find_elements(by=By.XPATH, value=xpath) instead\n",
      "/usr/local/lib/python3.7/site-packages/ipykernel_launcher.py:84: DeprecationWarning: find_elements_by_xpath is deprecated. Please use find_elements(by=By.XPATH, value=xpath) instead\n",
      "/usr/local/lib/python3.7/site-packages/ipykernel_launcher.py:93: DeprecationWarning: find_elements_by_xpath is deprecated. Please use find_elements(by=By.XPATH, value=xpath) instead\n"
     ]
    },
    {
     "name": "stdout",
     "output_type": "stream",
     "text": [
      "          Date               Team    xG    xA  xPTS match_or_not\n",
      "0   08/08/2015          Leicester  2.57  1.46  2.13            1\n",
      "1   08/08/2015     Crystal Palace  2.11  1.13  2.13            1\n",
      "2   08/08/2015        Aston Villa  0.78  0.88  1.23            1\n",
      "3   08/08/2015  Manchester United  0.63  0.67  1.24            1\n",
      "4   08/08/2015            Everton  0.60  0.56  1.33            1\n",
      "..         ...                ...   ...   ...   ...          ...\n",
      "1   04/10/2015          Tottenham  1.18  0.77  1.69            1\n",
      "2   04/10/2015            Swansea  0.77  1.18  1.01            1\n",
      "3   04/10/2015            Everton  1.20  1.31  1.27            1\n",
      "4   04/10/2015          Liverpool  1.31  1.20  1.44            1\n",
      "5   04/10/2015  Manchester United  1.04  2.17  0.56            1\n",
      "\n",
      "[160 rows x 6 columns]\n",
      "Oct 5, 2015\n"
     ]
    },
    {
     "name": "stderr",
     "output_type": "stream",
     "text": [
      "/usr/local/lib/python3.7/site-packages/ipykernel_launcher.py:51: DeprecationWarning: find_elements_by_xpath is deprecated. Please use find_elements(by=By.XPATH, value=xpath) instead\n",
      "/usr/local/lib/python3.7/site-packages/ipykernel_launcher.py:67: DeprecationWarning: find_elements_by_xpath is deprecated. Please use find_elements(by=By.XPATH, value=xpath) instead\n"
     ]
    },
    {
     "name": "stdout",
     "output_type": "stream",
     "text": [
      "Oct 6, 2015\n",
      "Oct 7, 2015\n",
      "Oct 8, 2015\n",
      "Oct 9, 2015\n",
      "Oct 10, 2015\n",
      "Oct 11, 2015\n",
      "Oct 12, 2015\n",
      "Oct 13, 2015\n",
      "Oct 14, 2015\n",
      "Oct 15, 2015\n",
      "Oct 16, 2015\n",
      "Oct 17, 2015\n"
     ]
    },
    {
     "name": "stderr",
     "output_type": "stream",
     "text": [
      "/usr/local/lib/python3.7/site-packages/ipykernel_launcher.py:83: DeprecationWarning: find_elements_by_xpath is deprecated. Please use find_elements(by=By.XPATH, value=xpath) instead\n",
      "/usr/local/lib/python3.7/site-packages/ipykernel_launcher.py:84: DeprecationWarning: find_elements_by_xpath is deprecated. Please use find_elements(by=By.XPATH, value=xpath) instead\n",
      "/usr/local/lib/python3.7/site-packages/ipykernel_launcher.py:93: DeprecationWarning: find_elements_by_xpath is deprecated. Please use find_elements(by=By.XPATH, value=xpath) instead\n"
     ]
    },
    {
     "name": "stdout",
     "output_type": "stream",
     "text": [
      "          Date               Team    xG    xA  xPTS match_or_not\n",
      "0   08/08/2015          Leicester  2.57  1.46  2.13            1\n",
      "1   08/08/2015     Crystal Palace  2.11  1.13  2.13            1\n",
      "2   08/08/2015        Aston Villa  0.78  0.88  1.23            1\n",
      "3   08/08/2015  Manchester United  0.63  0.67  1.24            1\n",
      "4   08/08/2015            Everton  0.60  0.56  1.33            1\n",
      "..         ...                ...   ...   ...   ...          ...\n",
      "11  17/10/2015     Crystal Palace  1.08  2.76  0.34            1\n",
      "12  17/10/2015        Aston Villa  0.80  1.23  0.96            1\n",
      "13  17/10/2015            Everton  0.65  1.48  0.71            1\n",
      "14  17/10/2015            Watford  0.25  2.69  0.09            1\n",
      "15  17/10/2015        Bournemouth  0.17  4.71  0.00            1\n",
      "\n",
      "[176 rows x 6 columns]\n",
      "Oct 18, 2015\n"
     ]
    },
    {
     "name": "stderr",
     "output_type": "stream",
     "text": [
      "/usr/local/lib/python3.7/site-packages/ipykernel_launcher.py:51: DeprecationWarning: find_elements_by_xpath is deprecated. Please use find_elements(by=By.XPATH, value=xpath) instead\n",
      "/usr/local/lib/python3.7/site-packages/ipykernel_launcher.py:67: DeprecationWarning: find_elements_by_xpath is deprecated. Please use find_elements(by=By.XPATH, value=xpath) instead\n",
      "/usr/local/lib/python3.7/site-packages/ipykernel_launcher.py:83: DeprecationWarning: find_elements_by_xpath is deprecated. Please use find_elements(by=By.XPATH, value=xpath) instead\n",
      "/usr/local/lib/python3.7/site-packages/ipykernel_launcher.py:84: DeprecationWarning: find_elements_by_xpath is deprecated. Please use find_elements(by=By.XPATH, value=xpath) instead\n",
      "/usr/local/lib/python3.7/site-packages/ipykernel_launcher.py:93: DeprecationWarning: find_elements_by_xpath is deprecated. Please use find_elements(by=By.XPATH, value=xpath) instead\n"
     ]
    },
    {
     "name": "stdout",
     "output_type": "stream",
     "text": [
      "          Date               Team    xG    xA  xPTS match_or_not\n",
      "0   08/08/2015          Leicester  2.57  1.46  2.13            1\n",
      "1   08/08/2015     Crystal Palace  2.11  1.13  2.13            1\n",
      "2   08/08/2015        Aston Villa  0.78  0.88  1.23            1\n",
      "3   08/08/2015  Manchester United  0.63  0.67  1.24            1\n",
      "4   08/08/2015            Everton  0.60  0.56  1.33            1\n",
      "..         ...                ...   ...   ...   ...          ...\n",
      "13  17/10/2015            Everton  0.65  1.48  0.71            1\n",
      "14  17/10/2015            Watford  0.25  2.69  0.09            1\n",
      "15  17/10/2015        Bournemouth  0.17  4.71  0.00            1\n",
      "0   18/10/2015   Newcastle United  2.25  1.34  2.03            1\n",
      "1   18/10/2015            Norwich  1.34  2.25  0.75            1\n",
      "\n",
      "[178 rows x 6 columns]\n",
      "Oct 19, 2015\n"
     ]
    },
    {
     "name": "stderr",
     "output_type": "stream",
     "text": [
      "/usr/local/lib/python3.7/site-packages/ipykernel_launcher.py:51: DeprecationWarning: find_elements_by_xpath is deprecated. Please use find_elements(by=By.XPATH, value=xpath) instead\n",
      "/usr/local/lib/python3.7/site-packages/ipykernel_launcher.py:67: DeprecationWarning: find_elements_by_xpath is deprecated. Please use find_elements(by=By.XPATH, value=xpath) instead\n",
      "/usr/local/lib/python3.7/site-packages/ipykernel_launcher.py:83: DeprecationWarning: find_elements_by_xpath is deprecated. Please use find_elements(by=By.XPATH, value=xpath) instead\n",
      "/usr/local/lib/python3.7/site-packages/ipykernel_launcher.py:84: DeprecationWarning: find_elements_by_xpath is deprecated. Please use find_elements(by=By.XPATH, value=xpath) instead\n",
      "/usr/local/lib/python3.7/site-packages/ipykernel_launcher.py:93: DeprecationWarning: find_elements_by_xpath is deprecated. Please use find_elements(by=By.XPATH, value=xpath) instead\n"
     ]
    },
    {
     "name": "stdout",
     "output_type": "stream",
     "text": [
      "          Date               Team    xG    xA  xPTS match_or_not\n",
      "0   08/08/2015          Leicester  2.57  1.46  2.13            1\n",
      "1   08/08/2015     Crystal Palace  2.11  1.13  2.13            1\n",
      "2   08/08/2015        Aston Villa  0.78  0.88  1.23            1\n",
      "3   08/08/2015  Manchester United  0.63  0.67  1.24            1\n",
      "4   08/08/2015            Everton  0.60  0.56  1.33            1\n",
      "..         ...                ...   ...   ...   ...          ...\n",
      "15  17/10/2015        Bournemouth  0.17  4.71  0.00            1\n",
      "0   18/10/2015   Newcastle United  2.25  1.34  2.03            1\n",
      "1   18/10/2015            Norwich  1.34  2.25  0.75            1\n",
      "0   19/10/2015              Stoke  1.65  0.49  2.41            1\n",
      "1   19/10/2015            Swansea  0.49  1.65  0.39            1\n",
      "\n",
      "[180 rows x 6 columns]\n",
      "Oct 20, 2015\n"
     ]
    },
    {
     "name": "stderr",
     "output_type": "stream",
     "text": [
      "/usr/local/lib/python3.7/site-packages/ipykernel_launcher.py:51: DeprecationWarning: find_elements_by_xpath is deprecated. Please use find_elements(by=By.XPATH, value=xpath) instead\n",
      "/usr/local/lib/python3.7/site-packages/ipykernel_launcher.py:67: DeprecationWarning: find_elements_by_xpath is deprecated. Please use find_elements(by=By.XPATH, value=xpath) instead\n"
     ]
    },
    {
     "name": "stdout",
     "output_type": "stream",
     "text": [
      "Oct 21, 2015\n",
      "Oct 22, 2015\n",
      "Oct 23, 2015\n",
      "Oct 24, 2015\n"
     ]
    },
    {
     "name": "stderr",
     "output_type": "stream",
     "text": [
      "/usr/local/lib/python3.7/site-packages/ipykernel_launcher.py:83: DeprecationWarning: find_elements_by_xpath is deprecated. Please use find_elements(by=By.XPATH, value=xpath) instead\n",
      "/usr/local/lib/python3.7/site-packages/ipykernel_launcher.py:84: DeprecationWarning: find_elements_by_xpath is deprecated. Please use find_elements(by=By.XPATH, value=xpath) instead\n",
      "/usr/local/lib/python3.7/site-packages/ipykernel_launcher.py:93: DeprecationWarning: find_elements_by_xpath is deprecated. Please use find_elements(by=By.XPATH, value=xpath) instead\n"
     ]
    },
    {
     "name": "stdout",
     "output_type": "stream",
     "text": [
      "          Date               Team    xG    xA  xPTS match_or_not\n",
      "0   08/08/2015          Leicester  2.57  1.46  2.13            1\n",
      "1   08/08/2015     Crystal Palace  2.11  1.13  2.13            1\n",
      "2   08/08/2015        Aston Villa  0.78  0.88  1.23            1\n",
      "3   08/08/2015  Manchester United  0.63  0.67  1.24            1\n",
      "4   08/08/2015            Everton  0.60  0.56  1.33            1\n",
      "..         ...                ...   ...   ...   ...          ...\n",
      "7   24/10/2015            Everton  0.37  2.56  0.13            1\n",
      "8   24/10/2015            Chelsea  1.14  0.77  1.66            1\n",
      "9   24/10/2015     Crystal Palace  0.24  1.34  0.21            1\n",
      "10  24/10/2015            Norwich  1.03  1.45  0.96            1\n",
      "11  24/10/2015              Stoke  0.85  1.04  1.18            1\n",
      "\n",
      "[192 rows x 6 columns]\n",
      "Oct 25, 2015\n"
     ]
    },
    {
     "name": "stderr",
     "output_type": "stream",
     "text": [
      "/usr/local/lib/python3.7/site-packages/ipykernel_launcher.py:51: DeprecationWarning: find_elements_by_xpath is deprecated. Please use find_elements(by=By.XPATH, value=xpath) instead\n",
      "/usr/local/lib/python3.7/site-packages/ipykernel_launcher.py:67: DeprecationWarning: find_elements_by_xpath is deprecated. Please use find_elements(by=By.XPATH, value=xpath) instead\n",
      "/usr/local/lib/python3.7/site-packages/ipykernel_launcher.py:83: DeprecationWarning: find_elements_by_xpath is deprecated. Please use find_elements(by=By.XPATH, value=xpath) instead\n",
      "/usr/local/lib/python3.7/site-packages/ipykernel_launcher.py:84: DeprecationWarning: find_elements_by_xpath is deprecated. Please use find_elements(by=By.XPATH, value=xpath) instead\n",
      "/usr/local/lib/python3.7/site-packages/ipykernel_launcher.py:93: DeprecationWarning: find_elements_by_xpath is deprecated. Please use find_elements(by=By.XPATH, value=xpath) instead\n"
     ]
    },
    {
     "name": "stdout",
     "output_type": "stream",
     "text": [
      "          Date               Team    xG    xA  xPTS match_or_not\n",
      "0   08/08/2015          Leicester  2.57  1.46  2.13            1\n",
      "1   08/08/2015     Crystal Palace  2.11  1.13  2.13            1\n",
      "2   08/08/2015        Aston Villa  0.78  0.88  1.23            1\n",
      "3   08/08/2015  Manchester United  0.63  0.67  1.24            1\n",
      "4   08/08/2015            Everton  0.60  0.56  1.33            1\n",
      "..         ...                ...   ...   ...   ...          ...\n",
      "3   25/10/2015          Liverpool  0.68  1.56  0.53            1\n",
      "4   25/10/2015    Manchester City  0.31  0.39  1.11            1\n",
      "5   25/10/2015  Manchester United  0.39  0.31  1.33            1\n",
      "6   25/10/2015   Newcastle United  1.42  2.38  0.62            1\n",
      "7   25/10/2015        Bournemouth  0.49  3.43  0.05            1\n",
      "\n",
      "[200 rows x 6 columns]\n",
      "Oct 26, 2015\n"
     ]
    },
    {
     "name": "stderr",
     "output_type": "stream",
     "text": [
      "/usr/local/lib/python3.7/site-packages/ipykernel_launcher.py:51: DeprecationWarning: find_elements_by_xpath is deprecated. Please use find_elements(by=By.XPATH, value=xpath) instead\n",
      "/usr/local/lib/python3.7/site-packages/ipykernel_launcher.py:67: DeprecationWarning: find_elements_by_xpath is deprecated. Please use find_elements(by=By.XPATH, value=xpath) instead\n"
     ]
    },
    {
     "name": "stdout",
     "output_type": "stream",
     "text": [
      "Oct 27, 2015\n",
      "Oct 28, 2015\n",
      "Oct 29, 2015\n",
      "Oct 30, 2015\n",
      "Oct 31, 2015\n"
     ]
    },
    {
     "name": "stderr",
     "output_type": "stream",
     "text": [
      "/usr/local/lib/python3.7/site-packages/ipykernel_launcher.py:83: DeprecationWarning: find_elements_by_xpath is deprecated. Please use find_elements(by=By.XPATH, value=xpath) instead\n",
      "/usr/local/lib/python3.7/site-packages/ipykernel_launcher.py:84: DeprecationWarning: find_elements_by_xpath is deprecated. Please use find_elements(by=By.XPATH, value=xpath) instead\n",
      "/usr/local/lib/python3.7/site-packages/ipykernel_launcher.py:93: DeprecationWarning: find_elements_by_xpath is deprecated. Please use find_elements(by=By.XPATH, value=xpath) instead\n"
     ]
    },
    {
     "name": "stdout",
     "output_type": "stream",
     "text": [
      "          Date                  Team    xG    xA  xPTS match_or_not\n",
      "0   08/08/2015             Leicester  2.57  1.46  2.13            1\n",
      "1   08/08/2015        Crystal Palace  2.11  1.13  2.13            1\n",
      "2   08/08/2015           Aston Villa  0.78  0.88  1.23            1\n",
      "3   08/08/2015     Manchester United  0.63  0.67  1.24            1\n",
      "4   08/08/2015               Everton  0.60  0.56  1.33            1\n",
      "..         ...                   ...   ...   ...   ...          ...\n",
      "9   31/10/2015  West Bromwich Albion  1.50  2.23  0.83            1\n",
      "10  31/10/2015               Norwich  1.17  2.84  0.26            1\n",
      "11  31/10/2015               Chelsea  0.74  0.84  1.25            1\n",
      "12  31/10/2015              West Ham  0.61  1.62  0.61            1\n",
      "13  31/10/2015               Swansea  0.26  2.18  0.17            1\n",
      "\n",
      "[214 rows x 6 columns]\n",
      "Nov 1, 2015\n"
     ]
    },
    {
     "name": "stderr",
     "output_type": "stream",
     "text": [
      "/usr/local/lib/python3.7/site-packages/ipykernel_launcher.py:51: DeprecationWarning: find_elements_by_xpath is deprecated. Please use find_elements(by=By.XPATH, value=xpath) instead\n",
      "/usr/local/lib/python3.7/site-packages/ipykernel_launcher.py:67: DeprecationWarning: find_elements_by_xpath is deprecated. Please use find_elements(by=By.XPATH, value=xpath) instead\n",
      "/usr/local/lib/python3.7/site-packages/ipykernel_launcher.py:83: DeprecationWarning: find_elements_by_xpath is deprecated. Please use find_elements(by=By.XPATH, value=xpath) instead\n",
      "/usr/local/lib/python3.7/site-packages/ipykernel_launcher.py:84: DeprecationWarning: find_elements_by_xpath is deprecated. Please use find_elements(by=By.XPATH, value=xpath) instead\n",
      "/usr/local/lib/python3.7/site-packages/ipykernel_launcher.py:93: DeprecationWarning: find_elements_by_xpath is deprecated. Please use find_elements(by=By.XPATH, value=xpath) instead\n"
     ]
    },
    {
     "name": "stdout",
     "output_type": "stream",
     "text": [
      "          Date               Team    xG    xA  xPTS match_or_not\n",
      "0   08/08/2015          Leicester  2.57  1.46  2.13            1\n",
      "1   08/08/2015     Crystal Palace  2.11  1.13  2.13            1\n",
      "2   08/08/2015        Aston Villa  0.78  0.88  1.23            1\n",
      "3   08/08/2015  Manchester United  0.63  0.67  1.24            1\n",
      "4   08/08/2015            Everton  0.60  0.56  1.33            1\n",
      "..         ...                ...   ...   ...   ...          ...\n",
      "13  31/10/2015            Swansea  0.26  2.18  0.17            1\n",
      "0   01/11/2015            Everton  2.35  1.22  2.19            1\n",
      "1   01/11/2015        Southampton  1.16  0.71  1.79            1\n",
      "2   01/11/2015        Bournemouth  0.71  1.16  0.90            1\n",
      "3   01/11/2015         Sunderland  1.22  2.35  0.62            1\n",
      "\n",
      "[218 rows x 6 columns]\n",
      "Nov 2, 2015\n"
     ]
    },
    {
     "name": "stderr",
     "output_type": "stream",
     "text": [
      "/usr/local/lib/python3.7/site-packages/ipykernel_launcher.py:51: DeprecationWarning: find_elements_by_xpath is deprecated. Please use find_elements(by=By.XPATH, value=xpath) instead\n",
      "/usr/local/lib/python3.7/site-packages/ipykernel_launcher.py:67: DeprecationWarning: find_elements_by_xpath is deprecated. Please use find_elements(by=By.XPATH, value=xpath) instead\n"
     ]
    },
    {
     "name": "stdout",
     "output_type": "stream",
     "text": [
      "Nov 3, 2015\n"
     ]
    },
    {
     "name": "stderr",
     "output_type": "stream",
     "text": [
      "/usr/local/lib/python3.7/site-packages/ipykernel_launcher.py:83: DeprecationWarning: find_elements_by_xpath is deprecated. Please use find_elements(by=By.XPATH, value=xpath) instead\n",
      "/usr/local/lib/python3.7/site-packages/ipykernel_launcher.py:84: DeprecationWarning: find_elements_by_xpath is deprecated. Please use find_elements(by=By.XPATH, value=xpath) instead\n",
      "/usr/local/lib/python3.7/site-packages/ipykernel_launcher.py:93: DeprecationWarning: find_elements_by_xpath is deprecated. Please use find_elements(by=By.XPATH, value=xpath) instead\n"
     ]
    },
    {
     "name": "stdout",
     "output_type": "stream",
     "text": [
      "          Date               Team    xG    xA  xPTS match_or_not\n",
      "0   08/08/2015          Leicester  2.57  1.46  2.13            1\n",
      "1   08/08/2015     Crystal Palace  2.11  1.13  2.13            1\n",
      "2   08/08/2015        Aston Villa  0.78  0.88  1.23            1\n",
      "3   08/08/2015  Manchester United  0.63  0.67  1.24            1\n",
      "4   08/08/2015            Everton  0.60  0.56  1.33            1\n",
      "..         ...                ...   ...   ...   ...          ...\n",
      "1   01/11/2015        Southampton  1.16  0.71  1.79            1\n",
      "2   01/11/2015        Bournemouth  0.71  1.16  0.90            1\n",
      "3   01/11/2015         Sunderland  1.22  2.35  0.62            1\n",
      "0   03/11/2015          Tottenham  1.14  0.33  2.09            1\n",
      "1   03/11/2015        Aston Villa  0.33  1.14  0.61            1\n",
      "\n",
      "[220 rows x 6 columns]\n",
      "Nov 4, 2015\n"
     ]
    },
    {
     "name": "stderr",
     "output_type": "stream",
     "text": [
      "/usr/local/lib/python3.7/site-packages/ipykernel_launcher.py:51: DeprecationWarning: find_elements_by_xpath is deprecated. Please use find_elements(by=By.XPATH, value=xpath) instead\n",
      "/usr/local/lib/python3.7/site-packages/ipykernel_launcher.py:67: DeprecationWarning: find_elements_by_xpath is deprecated. Please use find_elements(by=By.XPATH, value=xpath) instead\n"
     ]
    },
    {
     "name": "stdout",
     "output_type": "stream",
     "text": [
      "Nov 5, 2015\n",
      "Nov 6, 2015\n",
      "Nov 7, 2015\n"
     ]
    },
    {
     "name": "stderr",
     "output_type": "stream",
     "text": [
      "/usr/local/lib/python3.7/site-packages/ipykernel_launcher.py:83: DeprecationWarning: find_elements_by_xpath is deprecated. Please use find_elements(by=By.XPATH, value=xpath) instead\n",
      "/usr/local/lib/python3.7/site-packages/ipykernel_launcher.py:84: DeprecationWarning: find_elements_by_xpath is deprecated. Please use find_elements(by=By.XPATH, value=xpath) instead\n",
      "/usr/local/lib/python3.7/site-packages/ipykernel_launcher.py:93: DeprecationWarning: find_elements_by_xpath is deprecated. Please use find_elements(by=By.XPATH, value=xpath) instead\n"
     ]
    },
    {
     "name": "stdout",
     "output_type": "stream",
     "text": [
      "          Date                  Team    xG    xA  xPTS match_or_not\n",
      "0   08/08/2015             Leicester  2.57  1.46  2.13            1\n",
      "1   08/08/2015        Crystal Palace  2.11  1.13  2.13            1\n",
      "2   08/08/2015           Aston Villa  0.78  0.88  1.23            1\n",
      "3   08/08/2015     Manchester United  0.63  0.67  1.24            1\n",
      "4   08/08/2015               Everton  0.60  0.56  1.33            1\n",
      "..         ...                   ...   ...   ...   ...          ...\n",
      "9   07/11/2015           Bournemouth  1.00  0.50  1.74            1\n",
      "10  07/11/2015            Sunderland  0.30  1.80  0.25            1\n",
      "11  07/11/2015               Chelsea  1.03  0.83  1.50            1\n",
      "12  07/11/2015               Swansea  0.40  1.20  0.59            1\n",
      "13  07/11/2015  West Bromwich Albion  0.59  1.28  0.65            1\n",
      "\n",
      "[234 rows x 6 columns]\n",
      "Nov 8, 2015\n"
     ]
    },
    {
     "name": "stderr",
     "output_type": "stream",
     "text": [
      "/usr/local/lib/python3.7/site-packages/ipykernel_launcher.py:51: DeprecationWarning: find_elements_by_xpath is deprecated. Please use find_elements(by=By.XPATH, value=xpath) instead\n",
      "/usr/local/lib/python3.7/site-packages/ipykernel_launcher.py:67: DeprecationWarning: find_elements_by_xpath is deprecated. Please use find_elements(by=By.XPATH, value=xpath) instead\n",
      "/usr/local/lib/python3.7/site-packages/ipykernel_launcher.py:83: DeprecationWarning: find_elements_by_xpath is deprecated. Please use find_elements(by=By.XPATH, value=xpath) instead\n",
      "/usr/local/lib/python3.7/site-packages/ipykernel_launcher.py:84: DeprecationWarning: find_elements_by_xpath is deprecated. Please use find_elements(by=By.XPATH, value=xpath) instead\n",
      "/usr/local/lib/python3.7/site-packages/ipykernel_launcher.py:93: DeprecationWarning: find_elements_by_xpath is deprecated. Please use find_elements(by=By.XPATH, value=xpath) instead\n"
     ]
    },
    {
     "name": "stdout",
     "output_type": "stream",
     "text": [
      "          Date               Team    xG    xA  xPTS match_or_not\n",
      "0   08/08/2015          Leicester  2.57  1.46  2.13            1\n",
      "1   08/08/2015     Crystal Palace  2.11  1.13  2.13            1\n",
      "2   08/08/2015        Aston Villa  0.78  0.88  1.23            1\n",
      "3   08/08/2015  Manchester United  0.63  0.67  1.24            1\n",
      "4   08/08/2015            Everton  0.60  0.56  1.33            1\n",
      "..         ...                ...   ...   ...   ...          ...\n",
      "1   08/11/2015          Tottenham  0.91  2.02  0.57            1\n",
      "2   08/11/2015            Arsenal  2.02  0.91  2.23            1\n",
      "3   08/11/2015        Aston Villa  0.18  1.53  0.24            1\n",
      "4   08/11/2015    Manchester City  1.53  0.18  2.59            1\n",
      "5   08/11/2015          Liverpool  2.16  0.85  2.30            1\n",
      "\n",
      "[240 rows x 6 columns]\n",
      "Nov 9, 2015\n"
     ]
    },
    {
     "name": "stderr",
     "output_type": "stream",
     "text": [
      "/usr/local/lib/python3.7/site-packages/ipykernel_launcher.py:51: DeprecationWarning: find_elements_by_xpath is deprecated. Please use find_elements(by=By.XPATH, value=xpath) instead\n",
      "/usr/local/lib/python3.7/site-packages/ipykernel_launcher.py:67: DeprecationWarning: find_elements_by_xpath is deprecated. Please use find_elements(by=By.XPATH, value=xpath) instead\n"
     ]
    },
    {
     "name": "stdout",
     "output_type": "stream",
     "text": [
      "Nov 10, 2015\n",
      "Nov 11, 2015\n",
      "Nov 12, 2015\n",
      "Nov 13, 2015\n",
      "Nov 14, 2015\n",
      "Nov 15, 2015\n",
      "Nov 16, 2015\n",
      "Nov 17, 2015\n",
      "Nov 18, 2015\n",
      "Nov 19, 2015\n",
      "Nov 20, 2015\n",
      "Nov 21, 2015\n"
     ]
    },
    {
     "name": "stderr",
     "output_type": "stream",
     "text": [
      "/usr/local/lib/python3.7/site-packages/ipykernel_launcher.py:83: DeprecationWarning: find_elements_by_xpath is deprecated. Please use find_elements(by=By.XPATH, value=xpath) instead\n",
      "/usr/local/lib/python3.7/site-packages/ipykernel_launcher.py:84: DeprecationWarning: find_elements_by_xpath is deprecated. Please use find_elements(by=By.XPATH, value=xpath) instead\n",
      "/usr/local/lib/python3.7/site-packages/ipykernel_launcher.py:93: DeprecationWarning: find_elements_by_xpath is deprecated. Please use find_elements(by=By.XPATH, value=xpath) instead\n"
     ]
    },
    {
     "name": "stdout",
     "output_type": "stream",
     "text": [
      "          Date               Team    xG    xA  xPTS match_or_not\n",
      "0   08/08/2015          Leicester  2.57  1.46  2.13            1\n",
      "1   08/08/2015     Crystal Palace  2.11  1.13  2.13            1\n",
      "2   08/08/2015        Aston Villa  0.78  0.88  1.23            1\n",
      "3   08/08/2015  Manchester United  0.63  0.67  1.24            1\n",
      "4   08/08/2015            Everton  0.60  0.56  1.33            1\n",
      "..         ...                ...   ...   ...   ...          ...\n",
      "11  21/11/2015        Southampton  0.71  1.19  0.92            1\n",
      "12  21/11/2015            Norwich  0.20  2.16  0.17            1\n",
      "13  21/11/2015    Manchester City  1.09  2.62  0.44            1\n",
      "14  21/11/2015   Newcastle United  0.37  3.27  0.04            1\n",
      "15  21/11/2015        Aston Villa  0.32  2.83  0.09            1\n",
      "\n",
      "[256 rows x 6 columns]\n",
      "Nov 22, 2015\n"
     ]
    },
    {
     "name": "stderr",
     "output_type": "stream",
     "text": [
      "/usr/local/lib/python3.7/site-packages/ipykernel_launcher.py:51: DeprecationWarning: find_elements_by_xpath is deprecated. Please use find_elements(by=By.XPATH, value=xpath) instead\n",
      "/usr/local/lib/python3.7/site-packages/ipykernel_launcher.py:67: DeprecationWarning: find_elements_by_xpath is deprecated. Please use find_elements(by=By.XPATH, value=xpath) instead\n",
      "/usr/local/lib/python3.7/site-packages/ipykernel_launcher.py:83: DeprecationWarning: find_elements_by_xpath is deprecated. Please use find_elements(by=By.XPATH, value=xpath) instead\n",
      "/usr/local/lib/python3.7/site-packages/ipykernel_launcher.py:84: DeprecationWarning: find_elements_by_xpath is deprecated. Please use find_elements(by=By.XPATH, value=xpath) instead\n",
      "/usr/local/lib/python3.7/site-packages/ipykernel_launcher.py:93: DeprecationWarning: find_elements_by_xpath is deprecated. Please use find_elements(by=By.XPATH, value=xpath) instead\n"
     ]
    },
    {
     "name": "stdout",
     "output_type": "stream",
     "text": [
      "          Date               Team    xG    xA  xPTS match_or_not\n",
      "0   08/08/2015          Leicester  2.57  1.46  2.13            1\n",
      "1   08/08/2015     Crystal Palace  2.11  1.13  2.13            1\n",
      "2   08/08/2015        Aston Villa  0.78  0.88  1.23            1\n",
      "3   08/08/2015  Manchester United  0.63  0.67  1.24            1\n",
      "4   08/08/2015            Everton  0.60  0.56  1.33            1\n",
      "..         ...                ...   ...   ...   ...          ...\n",
      "13  21/11/2015    Manchester City  1.09  2.62  0.44            1\n",
      "14  21/11/2015   Newcastle United  0.37  3.27  0.04            1\n",
      "15  21/11/2015        Aston Villa  0.32  2.83  0.09            1\n",
      "0   22/11/2015          Tottenham  3.22  0.82  2.77            1\n",
      "1   22/11/2015           West Ham  0.82  3.22  0.15            1\n",
      "\n",
      "[258 rows x 6 columns]\n",
      "Nov 23, 2015\n"
     ]
    },
    {
     "name": "stderr",
     "output_type": "stream",
     "text": [
      "/usr/local/lib/python3.7/site-packages/ipykernel_launcher.py:51: DeprecationWarning: find_elements_by_xpath is deprecated. Please use find_elements(by=By.XPATH, value=xpath) instead\n",
      "/usr/local/lib/python3.7/site-packages/ipykernel_launcher.py:67: DeprecationWarning: find_elements_by_xpath is deprecated. Please use find_elements(by=By.XPATH, value=xpath) instead\n"
     ]
    },
    {
     "name": "stdout",
     "output_type": "stream",
     "text": [
      "Nov 24, 2015\n"
     ]
    },
    {
     "name": "stderr",
     "output_type": "stream",
     "text": [
      "/usr/local/lib/python3.7/site-packages/ipykernel_launcher.py:83: DeprecationWarning: find_elements_by_xpath is deprecated. Please use find_elements(by=By.XPATH, value=xpath) instead\n",
      "/usr/local/lib/python3.7/site-packages/ipykernel_launcher.py:84: DeprecationWarning: find_elements_by_xpath is deprecated. Please use find_elements(by=By.XPATH, value=xpath) instead\n",
      "/usr/local/lib/python3.7/site-packages/ipykernel_launcher.py:93: DeprecationWarning: find_elements_by_xpath is deprecated. Please use find_elements(by=By.XPATH, value=xpath) instead\n"
     ]
    },
    {
     "name": "stdout",
     "output_type": "stream",
     "text": [
      "          Date               Team    xG    xA  xPTS match_or_not\n",
      "0   08/08/2015          Leicester  2.57  1.46  2.13            1\n",
      "1   08/08/2015     Crystal Palace  2.11  1.13  2.13            1\n",
      "2   08/08/2015        Aston Villa  0.78  0.88  1.23            1\n",
      "3   08/08/2015  Manchester United  0.63  0.67  1.24            1\n",
      "4   08/08/2015            Everton  0.60  0.56  1.33            1\n",
      "..         ...                ...   ...   ...   ...          ...\n",
      "15  21/11/2015        Aston Villa  0.32  2.83  0.09            1\n",
      "0   22/11/2015          Tottenham  3.22  0.82  2.77            1\n",
      "1   22/11/2015           West Ham  0.82  3.22  0.15            1\n",
      "0   24/11/2015         Sunderland  1.31  0.70  1.93            1\n",
      "1   24/11/2015     Crystal Palace  0.70  1.31  0.79            1\n",
      "\n",
      "[260 rows x 6 columns]\n",
      "Nov 25, 2015\n"
     ]
    },
    {
     "name": "stderr",
     "output_type": "stream",
     "text": [
      "/usr/local/lib/python3.7/site-packages/ipykernel_launcher.py:51: DeprecationWarning: find_elements_by_xpath is deprecated. Please use find_elements(by=By.XPATH, value=xpath) instead\n",
      "/usr/local/lib/python3.7/site-packages/ipykernel_launcher.py:67: DeprecationWarning: find_elements_by_xpath is deprecated. Please use find_elements(by=By.XPATH, value=xpath) instead\n"
     ]
    },
    {
     "name": "stdout",
     "output_type": "stream",
     "text": [
      "Nov 26, 2015\n",
      "Nov 27, 2015\n",
      "Nov 28, 2015\n"
     ]
    },
    {
     "name": "stderr",
     "output_type": "stream",
     "text": [
      "/usr/local/lib/python3.7/site-packages/ipykernel_launcher.py:83: DeprecationWarning: find_elements_by_xpath is deprecated. Please use find_elements(by=By.XPATH, value=xpath) instead\n",
      "/usr/local/lib/python3.7/site-packages/ipykernel_launcher.py:84: DeprecationWarning: find_elements_by_xpath is deprecated. Please use find_elements(by=By.XPATH, value=xpath) instead\n",
      "/usr/local/lib/python3.7/site-packages/ipykernel_launcher.py:93: DeprecationWarning: find_elements_by_xpath is deprecated. Please use find_elements(by=By.XPATH, value=xpath) instead\n"
     ]
    },
    {
     "name": "stdout",
     "output_type": "stream",
     "text": [
      "          Date               Team    xG    xA  xPTS match_or_not\n",
      "0   08/08/2015          Leicester  2.57  1.46  2.13            1\n",
      "1   08/08/2015     Crystal Palace  2.11  1.13  2.13            1\n",
      "2   08/08/2015        Aston Villa  0.78  0.88  1.23            1\n",
      "3   08/08/2015  Manchester United  0.63  0.67  1.24            1\n",
      "4   08/08/2015            Everton  0.60  0.56  1.33            1\n",
      "..         ...                ...   ...   ...   ...          ...\n",
      "7   28/11/2015  Manchester United  1.06  0.88  1.48            1\n",
      "8   28/11/2015        Aston Villa  1.49  1.45  1.40            1\n",
      "9   28/11/2015        Southampton  1.24  2.12  0.70            1\n",
      "10  28/11/2015              Stoke  0.79  0.86  1.32            1\n",
      "11  28/11/2015   Newcastle United  0.79  1.68  0.70            1\n",
      "\n",
      "[272 rows x 6 columns]\n",
      "Nov 29, 2015\n"
     ]
    },
    {
     "name": "stderr",
     "output_type": "stream",
     "text": [
      "/usr/local/lib/python3.7/site-packages/ipykernel_launcher.py:51: DeprecationWarning: find_elements_by_xpath is deprecated. Please use find_elements(by=By.XPATH, value=xpath) instead\n",
      "/usr/local/lib/python3.7/site-packages/ipykernel_launcher.py:67: DeprecationWarning: find_elements_by_xpath is deprecated. Please use find_elements(by=By.XPATH, value=xpath) instead\n",
      "/usr/local/lib/python3.7/site-packages/ipykernel_launcher.py:83: DeprecationWarning: find_elements_by_xpath is deprecated. Please use find_elements(by=By.XPATH, value=xpath) instead\n",
      "/usr/local/lib/python3.7/site-packages/ipykernel_launcher.py:84: DeprecationWarning: find_elements_by_xpath is deprecated. Please use find_elements(by=By.XPATH, value=xpath) instead\n",
      "/usr/local/lib/python3.7/site-packages/ipykernel_launcher.py:93: DeprecationWarning: find_elements_by_xpath is deprecated. Please use find_elements(by=By.XPATH, value=xpath) instead\n"
     ]
    },
    {
     "name": "stdout",
     "output_type": "stream",
     "text": [
      "          Date               Team    xG    xA  xPTS match_or_not\n",
      "0   08/08/2015          Leicester  2.57  1.46  2.13            1\n",
      "1   08/08/2015     Crystal Palace  2.11  1.13  2.13            1\n",
      "2   08/08/2015        Aston Villa  0.78  0.88  1.23            1\n",
      "3   08/08/2015  Manchester United  0.63  0.67  1.24            1\n",
      "4   08/08/2015            Everton  0.60  0.56  1.33            1\n",
      "..         ...                ...   ...   ...   ...          ...\n",
      "3   29/11/2015           West Ham  1.41  0.87  1.75            1\n",
      "4   29/11/2015            Arsenal  1.66  1.01  1.90            1\n",
      "5   29/11/2015            Chelsea  0.28  0.33  1.18            1\n",
      "6   29/11/2015          Tottenham  0.33  0.28  1.23            1\n",
      "7   29/11/2015            Swansea  0.37  1.19  0.48            1\n",
      "\n",
      "[280 rows x 6 columns]\n",
      "Nov 30, 2015\n"
     ]
    },
    {
     "name": "stderr",
     "output_type": "stream",
     "text": [
      "/usr/local/lib/python3.7/site-packages/ipykernel_launcher.py:51: DeprecationWarning: find_elements_by_xpath is deprecated. Please use find_elements(by=By.XPATH, value=xpath) instead\n",
      "/usr/local/lib/python3.7/site-packages/ipykernel_launcher.py:67: DeprecationWarning: find_elements_by_xpath is deprecated. Please use find_elements(by=By.XPATH, value=xpath) instead\n"
     ]
    },
    {
     "name": "stdout",
     "output_type": "stream",
     "text": [
      "Dec 1, 2015\n",
      "Dec 2, 2015\n",
      "Dec 3, 2015\n",
      "Dec 4, 2015\n",
      "Dec 5, 2015\n"
     ]
    },
    {
     "name": "stderr",
     "output_type": "stream",
     "text": [
      "/usr/local/lib/python3.7/site-packages/ipykernel_launcher.py:83: DeprecationWarning: find_elements_by_xpath is deprecated. Please use find_elements(by=By.XPATH, value=xpath) instead\n",
      "/usr/local/lib/python3.7/site-packages/ipykernel_launcher.py:84: DeprecationWarning: find_elements_by_xpath is deprecated. Please use find_elements(by=By.XPATH, value=xpath) instead\n",
      "/usr/local/lib/python3.7/site-packages/ipykernel_launcher.py:93: DeprecationWarning: find_elements_by_xpath is deprecated. Please use find_elements(by=By.XPATH, value=xpath) instead\n"
     ]
    },
    {
     "name": "stdout",
     "output_type": "stream",
     "text": [
      "          Date               Team    xG    xA  xPTS match_or_not\n",
      "0   08/08/2015          Leicester  2.57  1.46  2.13            1\n",
      "1   08/08/2015     Crystal Palace  2.11  1.13  2.13            1\n",
      "2   08/08/2015        Aston Villa  0.78  0.88  1.23            1\n",
      "3   08/08/2015  Manchester United  0.63  0.67  1.24            1\n",
      "4   08/08/2015            Everton  0.60  0.56  1.33            1\n",
      "..         ...                ...   ...   ...   ...          ...\n",
      "11  05/12/2015            Chelsea  1.67  1.26  1.67            1\n",
      "12  05/12/2015         Sunderland  1.52  2.30  0.83            1\n",
      "13  05/12/2015            Norwich  0.31  2.07  0.18            1\n",
      "14  05/12/2015    Manchester City  0.48  2.01  0.29            1\n",
      "15  05/12/2015            Swansea  0.78  2.21  0.46            1\n",
      "\n",
      "[296 rows x 6 columns]\n",
      "Dec 6, 2015\n"
     ]
    },
    {
     "name": "stderr",
     "output_type": "stream",
     "text": [
      "/usr/local/lib/python3.7/site-packages/ipykernel_launcher.py:51: DeprecationWarning: find_elements_by_xpath is deprecated. Please use find_elements(by=By.XPATH, value=xpath) instead\n",
      "/usr/local/lib/python3.7/site-packages/ipykernel_launcher.py:67: DeprecationWarning: find_elements_by_xpath is deprecated. Please use find_elements(by=By.XPATH, value=xpath) instead\n",
      "/usr/local/lib/python3.7/site-packages/ipykernel_launcher.py:83: DeprecationWarning: find_elements_by_xpath is deprecated. Please use find_elements(by=By.XPATH, value=xpath) instead\n",
      "/usr/local/lib/python3.7/site-packages/ipykernel_launcher.py:84: DeprecationWarning: find_elements_by_xpath is deprecated. Please use find_elements(by=By.XPATH, value=xpath) instead\n",
      "/usr/local/lib/python3.7/site-packages/ipykernel_launcher.py:93: DeprecationWarning: find_elements_by_xpath is deprecated. Please use find_elements(by=By.XPATH, value=xpath) instead\n"
     ]
    },
    {
     "name": "stdout",
     "output_type": "stream",
     "text": [
      "          Date               Team    xG    xA  xPTS match_or_not\n",
      "0   08/08/2015          Leicester  2.57  1.46  2.13            1\n",
      "1   08/08/2015     Crystal Palace  2.11  1.13  2.13            1\n",
      "2   08/08/2015        Aston Villa  0.78  0.88  1.23            1\n",
      "3   08/08/2015  Manchester United  0.63  0.67  1.24            1\n",
      "4   08/08/2015            Everton  0.60  0.56  1.33            1\n",
      "..         ...                ...   ...   ...   ...          ...\n",
      "13  05/12/2015            Norwich  0.31  2.07  0.18            1\n",
      "14  05/12/2015    Manchester City  0.48  2.01  0.29            1\n",
      "15  05/12/2015            Swansea  0.78  2.21  0.46            1\n",
      "0   06/12/2015   Newcastle United  0.65  1.00  0.94            1\n",
      "1   06/12/2015          Liverpool  1.00  0.65  1.71            1\n",
      "\n",
      "[298 rows x 6 columns]\n",
      "Dec 7, 2015\n"
     ]
    },
    {
     "name": "stderr",
     "output_type": "stream",
     "text": [
      "/usr/local/lib/python3.7/site-packages/ipykernel_launcher.py:51: DeprecationWarning: find_elements_by_xpath is deprecated. Please use find_elements(by=By.XPATH, value=xpath) instead\n",
      "/usr/local/lib/python3.7/site-packages/ipykernel_launcher.py:67: DeprecationWarning: find_elements_by_xpath is deprecated. Please use find_elements(by=By.XPATH, value=xpath) instead\n"
     ]
    },
    {
     "name": "stdout",
     "output_type": "stream",
     "text": [
      "Dec 8, 2015\n"
     ]
    },
    {
     "name": "stderr",
     "output_type": "stream",
     "text": [
      "/usr/local/lib/python3.7/site-packages/ipykernel_launcher.py:83: DeprecationWarning: find_elements_by_xpath is deprecated. Please use find_elements(by=By.XPATH, value=xpath) instead\n",
      "/usr/local/lib/python3.7/site-packages/ipykernel_launcher.py:84: DeprecationWarning: find_elements_by_xpath is deprecated. Please use find_elements(by=By.XPATH, value=xpath) instead\n",
      "/usr/local/lib/python3.7/site-packages/ipykernel_launcher.py:93: DeprecationWarning: find_elements_by_xpath is deprecated. Please use find_elements(by=By.XPATH, value=xpath) instead\n"
     ]
    },
    {
     "name": "stdout",
     "output_type": "stream",
     "text": [
      "          Date               Team    xG    xA  xPTS match_or_not\n",
      "0   08/08/2015          Leicester  2.57  1.46  2.13            1\n",
      "1   08/08/2015     Crystal Palace  2.11  1.13  2.13            1\n",
      "2   08/08/2015        Aston Villa  0.78  0.88  1.23            1\n",
      "3   08/08/2015  Manchester United  0.63  0.67  1.24            1\n",
      "4   08/08/2015            Everton  0.60  0.56  1.33            1\n",
      "..         ...                ...   ...   ...   ...          ...\n",
      "15  05/12/2015            Swansea  0.78  2.21  0.46            1\n",
      "0   06/12/2015   Newcastle United  0.65  1.00  0.94            1\n",
      "1   06/12/2015          Liverpool  1.00  0.65  1.71            1\n",
      "0   08/12/2015            Everton  1.70  1.19  1.78            1\n",
      "1   08/12/2015     Crystal Palace  1.19  1.70  0.94            1\n",
      "\n",
      "[300 rows x 6 columns]\n",
      "Dec 9, 2015\n"
     ]
    },
    {
     "name": "stderr",
     "output_type": "stream",
     "text": [
      "/usr/local/lib/python3.7/site-packages/ipykernel_launcher.py:51: DeprecationWarning: find_elements_by_xpath is deprecated. Please use find_elements(by=By.XPATH, value=xpath) instead\n",
      "/usr/local/lib/python3.7/site-packages/ipykernel_launcher.py:67: DeprecationWarning: find_elements_by_xpath is deprecated. Please use find_elements(by=By.XPATH, value=xpath) instead\n"
     ]
    },
    {
     "name": "stdout",
     "output_type": "stream",
     "text": [
      "Dec 10, 2015\n",
      "Dec 11, 2015\n",
      "Dec 12, 2015\n"
     ]
    },
    {
     "name": "stderr",
     "output_type": "stream",
     "text": [
      "/usr/local/lib/python3.7/site-packages/ipykernel_launcher.py:83: DeprecationWarning: find_elements_by_xpath is deprecated. Please use find_elements(by=By.XPATH, value=xpath) instead\n",
      "/usr/local/lib/python3.7/site-packages/ipykernel_launcher.py:84: DeprecationWarning: find_elements_by_xpath is deprecated. Please use find_elements(by=By.XPATH, value=xpath) instead\n",
      "/usr/local/lib/python3.7/site-packages/ipykernel_launcher.py:93: DeprecationWarning: find_elements_by_xpath is deprecated. Please use find_elements(by=By.XPATH, value=xpath) instead\n"
     ]
    },
    {
     "name": "stdout",
     "output_type": "stream",
     "text": [
      "          Date               Team    xG    xA  xPTS match_or_not\n",
      "0   08/08/2015          Leicester  2.57  1.46  2.13            1\n",
      "1   08/08/2015     Crystal Palace  2.11  1.13  2.13            1\n",
      "2   08/08/2015        Aston Villa  0.78  0.88  1.23            1\n",
      "3   08/08/2015  Manchester United  0.63  0.67  1.24            1\n",
      "4   08/08/2015            Everton  0.60  0.56  1.33            1\n",
      "..         ...                ...   ...   ...   ...          ...\n",
      "7   12/12/2015              Stoke  1.87  1.13  1.96            1\n",
      "8   12/12/2015            Swansea  0.96  1.34  1.04            1\n",
      "9   12/12/2015  Manchester United  1.97  1.05  2.10            1\n",
      "10  12/12/2015        Southampton  0.89  1.31  0.97            1\n",
      "11  12/12/2015         Sunderland  0.88  2.06  0.56            1\n",
      "\n",
      "[312 rows x 6 columns]\n",
      "Dec 13, 2015\n"
     ]
    },
    {
     "name": "stderr",
     "output_type": "stream",
     "text": [
      "/usr/local/lib/python3.7/site-packages/ipykernel_launcher.py:51: DeprecationWarning: find_elements_by_xpath is deprecated. Please use find_elements(by=By.XPATH, value=xpath) instead\n",
      "/usr/local/lib/python3.7/site-packages/ipykernel_launcher.py:67: DeprecationWarning: find_elements_by_xpath is deprecated. Please use find_elements(by=By.XPATH, value=xpath) instead\n",
      "/usr/local/lib/python3.7/site-packages/ipykernel_launcher.py:83: DeprecationWarning: find_elements_by_xpath is deprecated. Please use find_elements(by=By.XPATH, value=xpath) instead\n",
      "/usr/local/lib/python3.7/site-packages/ipykernel_launcher.py:84: DeprecationWarning: find_elements_by_xpath is deprecated. Please use find_elements(by=By.XPATH, value=xpath) instead\n",
      "/usr/local/lib/python3.7/site-packages/ipykernel_launcher.py:93: DeprecationWarning: find_elements_by_xpath is deprecated. Please use find_elements(by=By.XPATH, value=xpath) instead\n"
     ]
    },
    {
     "name": "stdout",
     "output_type": "stream",
     "text": [
      "          Date                  Team    xG    xA  xPTS match_or_not\n",
      "0   08/08/2015             Leicester  2.57  1.46  2.13            1\n",
      "1   08/08/2015        Crystal Palace  2.11  1.13  2.13            1\n",
      "2   08/08/2015           Aston Villa  0.78  0.88  1.23            1\n",
      "3   08/08/2015     Manchester United  0.63  0.67  1.24            1\n",
      "4   08/08/2015               Everton  0.60  0.56  1.33            1\n",
      "..         ...                   ...   ...   ...   ...          ...\n",
      "1   13/12/2015      Newcastle United  1.55  1.03  1.87            1\n",
      "2   13/12/2015  West Bromwich Albion  0.84  2.13  0.50            1\n",
      "3   13/12/2015             Liverpool  2.13  0.84  2.30            1\n",
      "4   13/12/2015             Tottenham  1.03  1.55  0.84            1\n",
      "5   13/12/2015           Aston Villa  1.01  1.68  0.78            1\n",
      "\n",
      "[318 rows x 6 columns]\n",
      "Dec 14, 2015\n"
     ]
    },
    {
     "name": "stderr",
     "output_type": "stream",
     "text": [
      "/usr/local/lib/python3.7/site-packages/ipykernel_launcher.py:51: DeprecationWarning: find_elements_by_xpath is deprecated. Please use find_elements(by=By.XPATH, value=xpath) instead\n",
      "/usr/local/lib/python3.7/site-packages/ipykernel_launcher.py:67: DeprecationWarning: find_elements_by_xpath is deprecated. Please use find_elements(by=By.XPATH, value=xpath) instead\n"
     ]
    },
    {
     "name": "stdout",
     "output_type": "stream",
     "text": [
      "Dec 15, 2015\n"
     ]
    },
    {
     "name": "stderr",
     "output_type": "stream",
     "text": [
      "/usr/local/lib/python3.7/site-packages/ipykernel_launcher.py:83: DeprecationWarning: find_elements_by_xpath is deprecated. Please use find_elements(by=By.XPATH, value=xpath) instead\n",
      "/usr/local/lib/python3.7/site-packages/ipykernel_launcher.py:84: DeprecationWarning: find_elements_by_xpath is deprecated. Please use find_elements(by=By.XPATH, value=xpath) instead\n",
      "/usr/local/lib/python3.7/site-packages/ipykernel_launcher.py:93: DeprecationWarning: find_elements_by_xpath is deprecated. Please use find_elements(by=By.XPATH, value=xpath) instead\n"
     ]
    },
    {
     "name": "stdout",
     "output_type": "stream",
     "text": [
      "          Date               Team    xG    xA  xPTS match_or_not\n",
      "0   08/08/2015          Leicester  2.57  1.46  2.13            1\n",
      "1   08/08/2015     Crystal Palace  2.11  1.13  2.13            1\n",
      "2   08/08/2015        Aston Villa  0.78  0.88  1.23            1\n",
      "3   08/08/2015  Manchester United  0.63  0.67  1.24            1\n",
      "4   08/08/2015            Everton  0.60  0.56  1.33            1\n",
      "..         ...                ...   ...   ...   ...          ...\n",
      "3   13/12/2015          Liverpool  2.13  0.84  2.30            1\n",
      "4   13/12/2015          Tottenham  1.03  1.55  0.84            1\n",
      "5   13/12/2015        Aston Villa  1.01  1.68  0.78            1\n",
      "0   15/12/2015          Leicester  0.71  2.27  0.31            1\n",
      "1   15/12/2015            Chelsea  2.27  0.71  2.54            1\n",
      "\n",
      "[320 rows x 6 columns]\n",
      "Dec 16, 2015\n"
     ]
    },
    {
     "name": "stderr",
     "output_type": "stream",
     "text": [
      "/usr/local/lib/python3.7/site-packages/ipykernel_launcher.py:51: DeprecationWarning: find_elements_by_xpath is deprecated. Please use find_elements(by=By.XPATH, value=xpath) instead\n",
      "/usr/local/lib/python3.7/site-packages/ipykernel_launcher.py:67: DeprecationWarning: find_elements_by_xpath is deprecated. Please use find_elements(by=By.XPATH, value=xpath) instead\n"
     ]
    },
    {
     "name": "stdout",
     "output_type": "stream",
     "text": [
      "Dec 17, 2015\n",
      "Dec 18, 2015\n",
      "Dec 19, 2015\n"
     ]
    },
    {
     "name": "stderr",
     "output_type": "stream",
     "text": [
      "/usr/local/lib/python3.7/site-packages/ipykernel_launcher.py:83: DeprecationWarning: find_elements_by_xpath is deprecated. Please use find_elements(by=By.XPATH, value=xpath) instead\n",
      "/usr/local/lib/python3.7/site-packages/ipykernel_launcher.py:84: DeprecationWarning: find_elements_by_xpath is deprecated. Please use find_elements(by=By.XPATH, value=xpath) instead\n",
      "/usr/local/lib/python3.7/site-packages/ipykernel_launcher.py:93: DeprecationWarning: find_elements_by_xpath is deprecated. Please use find_elements(by=By.XPATH, value=xpath) instead\n"
     ]
    },
    {
     "name": "stdout",
     "output_type": "stream",
     "text": [
      "          Date                  Team    xG    xA  xPTS match_or_not\n",
      "0   08/08/2015             Leicester  2.57  1.46  2.13            1\n",
      "1   08/08/2015        Crystal Palace  2.11  1.13  2.13            1\n",
      "2   08/08/2015           Aston Villa  0.78  0.88  1.23            1\n",
      "3   08/08/2015     Manchester United  0.63  0.67  1.24            1\n",
      "4   08/08/2015               Everton  0.60  0.56  1.33            1\n",
      "..         ...                   ...   ...   ...   ...          ...\n",
      "9   19/12/2015  West Bromwich Albion  0.70  1.89  0.44            1\n",
      "10  19/12/2015                 Stoke  2.41  1.95  1.68            1\n",
      "11  19/12/2015     Manchester United  1.01  0.56  1.74            1\n",
      "12  19/12/2015            Sunderland  1.24  3.02  0.30            1\n",
      "13  19/12/2015           Southampton  0.83  1.47  0.80            1\n",
      "\n",
      "[334 rows x 6 columns]\n",
      "Dec 20, 2015\n"
     ]
    },
    {
     "name": "stderr",
     "output_type": "stream",
     "text": [
      "/usr/local/lib/python3.7/site-packages/ipykernel_launcher.py:51: DeprecationWarning: find_elements_by_xpath is deprecated. Please use find_elements(by=By.XPATH, value=xpath) instead\n",
      "/usr/local/lib/python3.7/site-packages/ipykernel_launcher.py:67: DeprecationWarning: find_elements_by_xpath is deprecated. Please use find_elements(by=By.XPATH, value=xpath) instead\n",
      "/usr/local/lib/python3.7/site-packages/ipykernel_launcher.py:83: DeprecationWarning: find_elements_by_xpath is deprecated. Please use find_elements(by=By.XPATH, value=xpath) instead\n",
      "/usr/local/lib/python3.7/site-packages/ipykernel_launcher.py:84: DeprecationWarning: find_elements_by_xpath is deprecated. Please use find_elements(by=By.XPATH, value=xpath) instead\n",
      "/usr/local/lib/python3.7/site-packages/ipykernel_launcher.py:93: DeprecationWarning: find_elements_by_xpath is deprecated. Please use find_elements(by=By.XPATH, value=xpath) instead\n"
     ]
    },
    {
     "name": "stdout",
     "output_type": "stream",
     "text": [
      "          Date               Team    xG    xA  xPTS match_or_not\n",
      "0   08/08/2015          Leicester  2.57  1.46  2.13            1\n",
      "1   08/08/2015     Crystal Palace  2.11  1.13  2.13            1\n",
      "2   08/08/2015        Aston Villa  0.78  0.88  1.23            1\n",
      "3   08/08/2015  Manchester United  0.63  0.67  1.24            1\n",
      "4   08/08/2015            Everton  0.60  0.56  1.33            1\n",
      "..         ...                ...   ...   ...   ...          ...\n",
      "13  19/12/2015        Southampton  0.83  1.47  0.80            1\n",
      "0   20/12/2015            Watford  1.99  0.38  2.71            1\n",
      "1   20/12/2015           West Ham  0.40  0.97  0.81            1\n",
      "2   20/12/2015            Swansea  0.97  0.40  1.83            1\n",
      "3   20/12/2015          Liverpool  0.38  1.99  0.19            1\n",
      "\n",
      "[338 rows x 6 columns]\n",
      "Dec 21, 2015\n"
     ]
    },
    {
     "name": "stderr",
     "output_type": "stream",
     "text": [
      "/usr/local/lib/python3.7/site-packages/ipykernel_launcher.py:51: DeprecationWarning: find_elements_by_xpath is deprecated. Please use find_elements(by=By.XPATH, value=xpath) instead\n",
      "/usr/local/lib/python3.7/site-packages/ipykernel_launcher.py:67: DeprecationWarning: find_elements_by_xpath is deprecated. Please use find_elements(by=By.XPATH, value=xpath) instead\n"
     ]
    },
    {
     "name": "stdout",
     "output_type": "stream",
     "text": [
      "Dec 22, 2015\n"
     ]
    },
    {
     "name": "stderr",
     "output_type": "stream",
     "text": [
      "/usr/local/lib/python3.7/site-packages/ipykernel_launcher.py:83: DeprecationWarning: find_elements_by_xpath is deprecated. Please use find_elements(by=By.XPATH, value=xpath) instead\n",
      "/usr/local/lib/python3.7/site-packages/ipykernel_launcher.py:84: DeprecationWarning: find_elements_by_xpath is deprecated. Please use find_elements(by=By.XPATH, value=xpath) instead\n",
      "/usr/local/lib/python3.7/site-packages/ipykernel_launcher.py:93: DeprecationWarning: find_elements_by_xpath is deprecated. Please use find_elements(by=By.XPATH, value=xpath) instead\n"
     ]
    },
    {
     "name": "stdout",
     "output_type": "stream",
     "text": [
      "          Date               Team    xG    xA  xPTS match_or_not\n",
      "0   08/08/2015          Leicester  2.57  1.46  2.13            1\n",
      "1   08/08/2015     Crystal Palace  2.11  1.13  2.13            1\n",
      "2   08/08/2015        Aston Villa  0.78  0.88  1.23            1\n",
      "3   08/08/2015  Manchester United  0.63  0.67  1.24            1\n",
      "4   08/08/2015            Everton  0.60  0.56  1.33            1\n",
      "..         ...                ...   ...   ...   ...          ...\n",
      "1   20/12/2015           West Ham  0.40  0.97  0.81            1\n",
      "2   20/12/2015            Swansea  0.97  0.40  1.83            1\n",
      "3   20/12/2015          Liverpool  0.38  1.99  0.19            1\n",
      "0   22/12/2015            Arsenal  1.50  0.77  2.00            1\n",
      "1   22/12/2015    Manchester City  0.77  1.50  0.74            1\n",
      "\n",
      "[340 rows x 6 columns]\n",
      "Dec 23, 2015\n"
     ]
    },
    {
     "name": "stderr",
     "output_type": "stream",
     "text": [
      "/usr/local/lib/python3.7/site-packages/ipykernel_launcher.py:51: DeprecationWarning: find_elements_by_xpath is deprecated. Please use find_elements(by=By.XPATH, value=xpath) instead\n",
      "/usr/local/lib/python3.7/site-packages/ipykernel_launcher.py:67: DeprecationWarning: find_elements_by_xpath is deprecated. Please use find_elements(by=By.XPATH, value=xpath) instead\n"
     ]
    },
    {
     "name": "stdout",
     "output_type": "stream",
     "text": [
      "Dec 24, 2015\n",
      "Dec 25, 2015\n",
      "Dec 26, 2015\n"
     ]
    },
    {
     "name": "stderr",
     "output_type": "stream",
     "text": [
      "/usr/local/lib/python3.7/site-packages/ipykernel_launcher.py:83: DeprecationWarning: find_elements_by_xpath is deprecated. Please use find_elements(by=By.XPATH, value=xpath) instead\n",
      "/usr/local/lib/python3.7/site-packages/ipykernel_launcher.py:84: DeprecationWarning: find_elements_by_xpath is deprecated. Please use find_elements(by=By.XPATH, value=xpath) instead\n",
      "/usr/local/lib/python3.7/site-packages/ipykernel_launcher.py:93: DeprecationWarning: find_elements_by_xpath is deprecated. Please use find_elements(by=By.XPATH, value=xpath) instead\n"
     ]
    },
    {
     "name": "stdout",
     "output_type": "stream",
     "text": [
      "          Date               Team    xG    xA  xPTS match_or_not\n",
      "0   08/08/2015          Leicester  2.57  1.46  2.13            1\n",
      "1   08/08/2015     Crystal Palace  2.11  1.13  2.13            1\n",
      "2   08/08/2015        Aston Villa  0.78  0.88  1.23            1\n",
      "3   08/08/2015  Manchester United  0.63  0.67  1.24            1\n",
      "4   08/08/2015            Everton  0.60  0.56  1.33            1\n",
      "..         ...                ...   ...   ...   ...          ...\n",
      "15  26/12/2015   Newcastle United  1.36  1.70  1.11            1\n",
      "16  26/12/2015  Manchester United  1.29  1.18  1.45            1\n",
      "17  26/12/2015         Sunderland  1.08  3.52  0.15            1\n",
      "18  26/12/2015            Norwich  0.45  2.41  0.19            1\n",
      "19  26/12/2015            Arsenal  0.83  2.43  0.33            1\n",
      "\n",
      "[360 rows x 6 columns]\n",
      "Dec 27, 2015\n"
     ]
    },
    {
     "name": "stderr",
     "output_type": "stream",
     "text": [
      "/usr/local/lib/python3.7/site-packages/ipykernel_launcher.py:51: DeprecationWarning: find_elements_by_xpath is deprecated. Please use find_elements(by=By.XPATH, value=xpath) instead\n",
      "/usr/local/lib/python3.7/site-packages/ipykernel_launcher.py:67: DeprecationWarning: find_elements_by_xpath is deprecated. Please use find_elements(by=By.XPATH, value=xpath) instead\n"
     ]
    },
    {
     "name": "stdout",
     "output_type": "stream",
     "text": [
      "Dec 28, 2015\n"
     ]
    },
    {
     "name": "stderr",
     "output_type": "stream",
     "text": [
      "/usr/local/lib/python3.7/site-packages/ipykernel_launcher.py:83: DeprecationWarning: find_elements_by_xpath is deprecated. Please use find_elements(by=By.XPATH, value=xpath) instead\n",
      "/usr/local/lib/python3.7/site-packages/ipykernel_launcher.py:84: DeprecationWarning: find_elements_by_xpath is deprecated. Please use find_elements(by=By.XPATH, value=xpath) instead\n",
      "/usr/local/lib/python3.7/site-packages/ipykernel_launcher.py:93: DeprecationWarning: find_elements_by_xpath is deprecated. Please use find_elements(by=By.XPATH, value=xpath) instead\n"
     ]
    },
    {
     "name": "stdout",
     "output_type": "stream",
     "text": [
      "          Date               Team    xG    xA  xPTS match_or_not\n",
      "0   08/08/2015          Leicester  2.57  1.46  2.13            1\n",
      "1   08/08/2015     Crystal Palace  2.11  1.13  2.13            1\n",
      "2   08/08/2015        Aston Villa  0.78  0.88  1.23            1\n",
      "3   08/08/2015  Manchester United  0.63  0.67  1.24            1\n",
      "4   08/08/2015            Everton  0.60  0.56  1.33            1\n",
      "..         ...                ...   ...   ...   ...          ...\n",
      "11  28/12/2015        Southampton  1.37  1.80  1.02            1\n",
      "12  28/12/2015            Watford  1.13  0.53  2.03            1\n",
      "13  28/12/2015   Newcastle United  0.46  2.10  0.33            1\n",
      "14  28/12/2015        Aston Villa  0.24  1.10  0.50            1\n",
      "15  28/12/2015        Bournemouth  0.34  3.13  0.07            1\n",
      "\n",
      "[376 rows x 6 columns]\n",
      "Dec 29, 2015\n"
     ]
    },
    {
     "name": "stderr",
     "output_type": "stream",
     "text": [
      "/usr/local/lib/python3.7/site-packages/ipykernel_launcher.py:51: DeprecationWarning: find_elements_by_xpath is deprecated. Please use find_elements(by=By.XPATH, value=xpath) instead\n",
      "/usr/local/lib/python3.7/site-packages/ipykernel_launcher.py:67: DeprecationWarning: find_elements_by_xpath is deprecated. Please use find_elements(by=By.XPATH, value=xpath) instead\n",
      "/usr/local/lib/python3.7/site-packages/ipykernel_launcher.py:83: DeprecationWarning: find_elements_by_xpath is deprecated. Please use find_elements(by=By.XPATH, value=xpath) instead\n",
      "/usr/local/lib/python3.7/site-packages/ipykernel_launcher.py:84: DeprecationWarning: find_elements_by_xpath is deprecated. Please use find_elements(by=By.XPATH, value=xpath) instead\n",
      "/usr/local/lib/python3.7/site-packages/ipykernel_launcher.py:93: DeprecationWarning: find_elements_by_xpath is deprecated. Please use find_elements(by=By.XPATH, value=xpath) instead\n"
     ]
    },
    {
     "name": "stdout",
     "output_type": "stream",
     "text": [
      "          Date               Team    xG    xA  xPTS match_or_not\n",
      "0   08/08/2015          Leicester  2.57  1.46  2.13            1\n",
      "1   08/08/2015     Crystal Palace  2.11  1.13  2.13            1\n",
      "2   08/08/2015        Aston Villa  0.78  0.88  1.23            1\n",
      "3   08/08/2015  Manchester United  0.63  0.67  1.24            1\n",
      "4   08/08/2015            Everton  0.60  0.56  1.33            1\n",
      "..         ...                ...   ...   ...   ...          ...\n",
      "13  28/12/2015   Newcastle United  0.46  2.10  0.33            1\n",
      "14  28/12/2015        Aston Villa  0.24  1.10  0.50            1\n",
      "15  28/12/2015        Bournemouth  0.34  3.13  0.07            1\n",
      "0   29/12/2015          Leicester  0.81  1.67  0.70            1\n",
      "1   29/12/2015    Manchester City  1.67  0.81  2.05            1\n",
      "\n",
      "[378 rows x 6 columns]\n",
      "Dec 30, 2015\n"
     ]
    },
    {
     "name": "stderr",
     "output_type": "stream",
     "text": [
      "/usr/local/lib/python3.7/site-packages/ipykernel_launcher.py:51: DeprecationWarning: find_elements_by_xpath is deprecated. Please use find_elements(by=By.XPATH, value=xpath) instead\n",
      "/usr/local/lib/python3.7/site-packages/ipykernel_launcher.py:67: DeprecationWarning: find_elements_by_xpath is deprecated. Please use find_elements(by=By.XPATH, value=xpath) instead\n",
      "/usr/local/lib/python3.7/site-packages/ipykernel_launcher.py:83: DeprecationWarning: find_elements_by_xpath is deprecated. Please use find_elements(by=By.XPATH, value=xpath) instead\n",
      "/usr/local/lib/python3.7/site-packages/ipykernel_launcher.py:84: DeprecationWarning: find_elements_by_xpath is deprecated. Please use find_elements(by=By.XPATH, value=xpath) instead\n",
      "/usr/local/lib/python3.7/site-packages/ipykernel_launcher.py:93: DeprecationWarning: find_elements_by_xpath is deprecated. Please use find_elements(by=By.XPATH, value=xpath) instead\n"
     ]
    },
    {
     "name": "stdout",
     "output_type": "stream",
     "text": [
      "          Date               Team    xG    xA  xPTS match_or_not\n",
      "0   08/08/2015          Leicester  2.57  1.46  2.13            1\n",
      "1   08/08/2015     Crystal Palace  2.11  1.13  2.13            1\n",
      "2   08/08/2015        Aston Villa  0.78  0.88  1.23            1\n",
      "3   08/08/2015  Manchester United  0.63  0.67  1.24            1\n",
      "4   08/08/2015            Everton  0.60  0.56  1.33            1\n",
      "..         ...                ...   ...   ...   ...          ...\n",
      "15  28/12/2015        Bournemouth  0.34  3.13  0.07            1\n",
      "0   29/12/2015          Leicester  0.81  1.67  0.70            1\n",
      "1   29/12/2015    Manchester City  1.67  0.81  2.05            1\n",
      "0   30/12/2015          Liverpool  1.81  0.48  2.40            1\n",
      "1   30/12/2015         Sunderland  0.48  1.81  0.40            1\n",
      "\n",
      "[380 rows x 6 columns]\n",
      "Dec 31, 2015\n"
     ]
    },
    {
     "name": "stderr",
     "output_type": "stream",
     "text": [
      "/usr/local/lib/python3.7/site-packages/ipykernel_launcher.py:51: DeprecationWarning: find_elements_by_xpath is deprecated. Please use find_elements(by=By.XPATH, value=xpath) instead\n",
      "/usr/local/lib/python3.7/site-packages/ipykernel_launcher.py:67: DeprecationWarning: find_elements_by_xpath is deprecated. Please use find_elements(by=By.XPATH, value=xpath) instead\n"
     ]
    },
    {
     "name": "stdout",
     "output_type": "stream",
     "text": [
      "Jan 1, 2016\n",
      "Jan 2, 2016\n"
     ]
    },
    {
     "name": "stderr",
     "output_type": "stream",
     "text": [
      "/usr/local/lib/python3.7/site-packages/ipykernel_launcher.py:83: DeprecationWarning: find_elements_by_xpath is deprecated. Please use find_elements(by=By.XPATH, value=xpath) instead\n",
      "/usr/local/lib/python3.7/site-packages/ipykernel_launcher.py:84: DeprecationWarning: find_elements_by_xpath is deprecated. Please use find_elements(by=By.XPATH, value=xpath) instead\n",
      "/usr/local/lib/python3.7/site-packages/ipykernel_launcher.py:93: DeprecationWarning: find_elements_by_xpath is deprecated. Please use find_elements(by=By.XPATH, value=xpath) instead\n"
     ]
    },
    {
     "name": "stdout",
     "output_type": "stream",
     "text": [
      "          Date               Team    xG    xA  xPTS match_or_not\n",
      "0   08/08/2015          Leicester  2.57  1.46  2.13            1\n",
      "1   08/08/2015     Crystal Palace  2.11  1.13  2.13            1\n",
      "2   08/08/2015        Aston Villa  0.78  0.88  1.23            1\n",
      "3   08/08/2015  Manchester United  0.63  0.67  1.24            1\n",
      "4   08/08/2015            Everton  0.60  0.56  1.33            1\n",
      "..         ...                ...   ...   ...   ...          ...\n",
      "11  02/01/2016            Watford  0.99  0.69  1.62            1\n",
      "12  02/01/2016        Southampton  0.93  1.51  0.86            1\n",
      "13  02/01/2016   Newcastle United  1.15  1.93  0.80            1\n",
      "14  02/01/2016        Aston Villa  0.28  0.76  0.81            1\n",
      "15  02/01/2016          Liverpool  1.87  2.07  1.21            1\n",
      "\n",
      "[396 rows x 6 columns]\n",
      "Jan 3, 2016\n"
     ]
    },
    {
     "name": "stderr",
     "output_type": "stream",
     "text": [
      "/usr/local/lib/python3.7/site-packages/ipykernel_launcher.py:51: DeprecationWarning: find_elements_by_xpath is deprecated. Please use find_elements(by=By.XPATH, value=xpath) instead\n",
      "/usr/local/lib/python3.7/site-packages/ipykernel_launcher.py:67: DeprecationWarning: find_elements_by_xpath is deprecated. Please use find_elements(by=By.XPATH, value=xpath) instead\n",
      "/usr/local/lib/python3.7/site-packages/ipykernel_launcher.py:83: DeprecationWarning: find_elements_by_xpath is deprecated. Please use find_elements(by=By.XPATH, value=xpath) instead\n",
      "/usr/local/lib/python3.7/site-packages/ipykernel_launcher.py:84: DeprecationWarning: find_elements_by_xpath is deprecated. Please use find_elements(by=By.XPATH, value=xpath) instead\n",
      "/usr/local/lib/python3.7/site-packages/ipykernel_launcher.py:93: DeprecationWarning: find_elements_by_xpath is deprecated. Please use find_elements(by=By.XPATH, value=xpath) instead\n"
     ]
    },
    {
     "name": "stdout",
     "output_type": "stream",
     "text": [
      "          Date               Team    xG    xA  xPTS match_or_not\n",
      "0   08/08/2015          Leicester  2.57  1.46  2.13            1\n",
      "1   08/08/2015     Crystal Palace  2.11  1.13  2.13            1\n",
      "2   08/08/2015        Aston Villa  0.78  0.88  1.23            1\n",
      "3   08/08/2015  Manchester United  0.63  0.67  1.24            1\n",
      "4   08/08/2015            Everton  0.60  0.56  1.33            1\n",
      "..         ...                ...   ...   ...   ...          ...\n",
      "15  02/01/2016          Liverpool  1.87  2.07  1.21            1\n",
      "0   03/01/2016            Chelsea  2.37  0.55  2.68            1\n",
      "1   03/01/2016            Everton  0.72  0.76  1.29            1\n",
      "2   03/01/2016          Tottenham  0.76  0.72  1.34            1\n",
      "3   03/01/2016     Crystal Palace  0.55  2.37  0.20            1\n",
      "\n",
      "[400 rows x 6 columns]\n",
      "Jan 4, 2016\n"
     ]
    },
    {
     "name": "stderr",
     "output_type": "stream",
     "text": [
      "/usr/local/lib/python3.7/site-packages/ipykernel_launcher.py:51: DeprecationWarning: find_elements_by_xpath is deprecated. Please use find_elements(by=By.XPATH, value=xpath) instead\n",
      "/usr/local/lib/python3.7/site-packages/ipykernel_launcher.py:67: DeprecationWarning: find_elements_by_xpath is deprecated. Please use find_elements(by=By.XPATH, value=xpath) instead\n"
     ]
    },
    {
     "name": "stdout",
     "output_type": "stream",
     "text": [
      "Jan 5, 2016\n",
      "Jan 6, 2016\n",
      "Jan 7, 2016\n",
      "Jan 8, 2016\n",
      "Jan 9, 2016\n",
      "Jan 10, 2016\n",
      "Jan 11, 2016\n",
      "Jan 12, 2016\n"
     ]
    },
    {
     "name": "stderr",
     "output_type": "stream",
     "text": [
      "/usr/local/lib/python3.7/site-packages/ipykernel_launcher.py:83: DeprecationWarning: find_elements_by_xpath is deprecated. Please use find_elements(by=By.XPATH, value=xpath) instead\n",
      "/usr/local/lib/python3.7/site-packages/ipykernel_launcher.py:84: DeprecationWarning: find_elements_by_xpath is deprecated. Please use find_elements(by=By.XPATH, value=xpath) instead\n",
      "/usr/local/lib/python3.7/site-packages/ipykernel_launcher.py:93: DeprecationWarning: find_elements_by_xpath is deprecated. Please use find_elements(by=By.XPATH, value=xpath) instead\n"
     ]
    },
    {
     "name": "stdout",
     "output_type": "stream",
     "text": [
      "          Date               Team    xG    xA  xPTS match_or_not\n",
      "0   08/08/2015          Leicester  2.57  1.46  2.13            1\n",
      "1   08/08/2015     Crystal Palace  2.11  1.13  2.13            1\n",
      "2   08/08/2015        Aston Villa  0.78  0.88  1.23            1\n",
      "3   08/08/2015  Manchester United  0.63  0.67  1.24            1\n",
      "4   08/08/2015            Everton  0.60  0.56  1.33            1\n",
      "..         ...                ...   ...   ...   ...          ...\n",
      "1   12/01/2016        Aston Villa  0.55  0.55  1.26            1\n",
      "2   12/01/2016   Newcastle United  1.81  2.36  0.98            1\n",
      "3   12/01/2016  Manchester United  2.36  1.81  1.77            1\n",
      "4   12/01/2016     Crystal Palace  0.55  0.55  1.30            1\n",
      "5   12/01/2016        Bournemouth  0.73  1.18  0.91            1\n",
      "\n",
      "[406 rows x 6 columns]\n",
      "Jan 13, 2016\n"
     ]
    },
    {
     "name": "stderr",
     "output_type": "stream",
     "text": [
      "/usr/local/lib/python3.7/site-packages/ipykernel_launcher.py:51: DeprecationWarning: find_elements_by_xpath is deprecated. Please use find_elements(by=By.XPATH, value=xpath) instead\n",
      "/usr/local/lib/python3.7/site-packages/ipykernel_launcher.py:67: DeprecationWarning: find_elements_by_xpath is deprecated. Please use find_elements(by=By.XPATH, value=xpath) instead\n",
      "/usr/local/lib/python3.7/site-packages/ipykernel_launcher.py:83: DeprecationWarning: find_elements_by_xpath is deprecated. Please use find_elements(by=By.XPATH, value=xpath) instead\n",
      "/usr/local/lib/python3.7/site-packages/ipykernel_launcher.py:84: DeprecationWarning: find_elements_by_xpath is deprecated. Please use find_elements(by=By.XPATH, value=xpath) instead\n",
      "/usr/local/lib/python3.7/site-packages/ipykernel_launcher.py:93: DeprecationWarning: find_elements_by_xpath is deprecated. Please use find_elements(by=By.XPATH, value=xpath) instead\n"
     ]
    },
    {
     "name": "stdout",
     "output_type": "stream",
     "text": [
      "          Date               Team    xG    xA  xPTS match_or_not\n",
      "0   08/08/2015          Leicester  2.57  1.46  2.13            1\n",
      "1   08/08/2015     Crystal Palace  2.11  1.13  2.13            1\n",
      "2   08/08/2015        Aston Villa  0.78  0.88  1.23            1\n",
      "3   08/08/2015  Manchester United  0.63  0.67  1.24            1\n",
      "4   08/08/2015            Everton  0.60  0.56  1.33            1\n",
      "..         ...                ...   ...   ...   ...          ...\n",
      "5   13/01/2016            Everton  0.37  1.45  0.50            1\n",
      "6   13/01/2016    Manchester City  1.45  0.37  2.25            1\n",
      "7   13/01/2016            Swansea  1.07  2.49  0.30            1\n",
      "8   13/01/2016            Norwich  0.19  1.24  0.40            1\n",
      "9   13/01/2016            Watford  0.12  1.72  0.21            1\n",
      "\n",
      "[416 rows x 6 columns]\n",
      "Jan 14, 2016\n"
     ]
    },
    {
     "name": "stderr",
     "output_type": "stream",
     "text": [
      "/usr/local/lib/python3.7/site-packages/ipykernel_launcher.py:51: DeprecationWarning: find_elements_by_xpath is deprecated. Please use find_elements(by=By.XPATH, value=xpath) instead\n",
      "/usr/local/lib/python3.7/site-packages/ipykernel_launcher.py:67: DeprecationWarning: find_elements_by_xpath is deprecated. Please use find_elements(by=By.XPATH, value=xpath) instead\n",
      "/usr/local/lib/python3.7/site-packages/ipykernel_launcher.py:83: DeprecationWarning: find_elements_by_xpath is deprecated. Please use find_elements(by=By.XPATH, value=xpath) instead\n",
      "/usr/local/lib/python3.7/site-packages/ipykernel_launcher.py:84: DeprecationWarning: find_elements_by_xpath is deprecated. Please use find_elements(by=By.XPATH, value=xpath) instead\n",
      "/usr/local/lib/python3.7/site-packages/ipykernel_launcher.py:93: DeprecationWarning: find_elements_by_xpath is deprecated. Please use find_elements(by=By.XPATH, value=xpath) instead\n"
     ]
    },
    {
     "name": "stdout",
     "output_type": "stream",
     "text": [
      "          Date               Team    xG    xA  xPTS match_or_not\n",
      "0   08/08/2015          Leicester  2.57  1.46  2.13            1\n",
      "1   08/08/2015     Crystal Palace  2.11  1.13  2.13            1\n",
      "2   08/08/2015        Aston Villa  0.78  0.88  1.23            1\n",
      "3   08/08/2015  Manchester United  0.63  0.67  1.24            1\n",
      "4   08/08/2015            Everton  0.60  0.56  1.33            1\n",
      "..         ...                ...   ...   ...   ...          ...\n",
      "9   13/01/2016            Watford  0.12  1.72  0.21            1\n",
      "0   14/01/2016          Leicester  0.59  1.23  0.81            1\n",
      "1   14/01/2016            Arsenal  2.23  1.16  2.19            1\n",
      "2   14/01/2016          Liverpool  1.16  2.23  0.61            1\n",
      "3   14/01/2016          Tottenham  1.23  0.59  1.88            1\n",
      "\n",
      "[420 rows x 6 columns]\n",
      "Jan 15, 2016\n"
     ]
    },
    {
     "name": "stderr",
     "output_type": "stream",
     "text": [
      "/usr/local/lib/python3.7/site-packages/ipykernel_launcher.py:51: DeprecationWarning: find_elements_by_xpath is deprecated. Please use find_elements(by=By.XPATH, value=xpath) instead\n",
      "/usr/local/lib/python3.7/site-packages/ipykernel_launcher.py:67: DeprecationWarning: find_elements_by_xpath is deprecated. Please use find_elements(by=By.XPATH, value=xpath) instead\n"
     ]
    },
    {
     "name": "stdout",
     "output_type": "stream",
     "text": [
      "Jan 16, 2016\n"
     ]
    },
    {
     "name": "stderr",
     "output_type": "stream",
     "text": [
      "/usr/local/lib/python3.7/site-packages/ipykernel_launcher.py:83: DeprecationWarning: find_elements_by_xpath is deprecated. Please use find_elements(by=By.XPATH, value=xpath) instead\n",
      "/usr/local/lib/python3.7/site-packages/ipykernel_launcher.py:84: DeprecationWarning: find_elements_by_xpath is deprecated. Please use find_elements(by=By.XPATH, value=xpath) instead\n",
      "/usr/local/lib/python3.7/site-packages/ipykernel_launcher.py:93: DeprecationWarning: find_elements_by_xpath is deprecated. Please use find_elements(by=By.XPATH, value=xpath) instead\n"
     ]
    },
    {
     "name": "stdout",
     "output_type": "stream",
     "text": [
      "          Date                  Team    xG    xA  xPTS match_or_not\n",
      "0   08/08/2015             Leicester  2.57  1.46  2.13            1\n",
      "1   08/08/2015        Crystal Palace  2.11  1.13  2.13            1\n",
      "2   08/08/2015           Aston Villa  0.78  0.88  1.23            1\n",
      "3   08/08/2015     Manchester United  0.63  0.67  1.24            1\n",
      "4   08/08/2015               Everton  0.60  0.56  1.33            1\n",
      "..         ...                   ...   ...   ...   ...          ...\n",
      "9   16/01/2016              West Ham  1.08  1.84  0.82            1\n",
      "10  16/01/2016            Sunderland  0.62  2.03  0.38            1\n",
      "11  16/01/2016  West Bromwich Albion  0.41  1.43  0.43            1\n",
      "12  16/01/2016               Norwich  0.60  2.53  0.20            1\n",
      "13  16/01/2016        Crystal Palace  0.61  1.74  0.47            1\n",
      "\n",
      "[434 rows x 6 columns]\n",
      "Jan 17, 2016\n"
     ]
    },
    {
     "name": "stderr",
     "output_type": "stream",
     "text": [
      "/usr/local/lib/python3.7/site-packages/ipykernel_launcher.py:51: DeprecationWarning: find_elements_by_xpath is deprecated. Please use find_elements(by=By.XPATH, value=xpath) instead\n",
      "/usr/local/lib/python3.7/site-packages/ipykernel_launcher.py:67: DeprecationWarning: find_elements_by_xpath is deprecated. Please use find_elements(by=By.XPATH, value=xpath) instead\n",
      "/usr/local/lib/python3.7/site-packages/ipykernel_launcher.py:83: DeprecationWarning: find_elements_by_xpath is deprecated. Please use find_elements(by=By.XPATH, value=xpath) instead\n",
      "/usr/local/lib/python3.7/site-packages/ipykernel_launcher.py:84: DeprecationWarning: find_elements_by_xpath is deprecated. Please use find_elements(by=By.XPATH, value=xpath) instead\n",
      "/usr/local/lib/python3.7/site-packages/ipykernel_launcher.py:93: DeprecationWarning: find_elements_by_xpath is deprecated. Please use find_elements(by=By.XPATH, value=xpath) instead\n"
     ]
    },
    {
     "name": "stdout",
     "output_type": "stream",
     "text": [
      "          Date               Team    xG    xA  xPTS match_or_not\n",
      "0   08/08/2015          Leicester  2.57  1.46  2.13            1\n",
      "1   08/08/2015     Crystal Palace  2.11  1.13  2.13            1\n",
      "2   08/08/2015        Aston Villa  0.78  0.88  1.23            1\n",
      "3   08/08/2015  Manchester United  0.63  0.67  1.24            1\n",
      "4   08/08/2015            Everton  0.60  0.56  1.33            1\n",
      "..         ...                ...   ...   ...   ...          ...\n",
      "13  16/01/2016     Crystal Palace  0.61  1.74  0.47            1\n",
      "0   17/01/2016  Manchester United  0.72  0.95  1.14            1\n",
      "1   17/01/2016            Arsenal  0.59  0.55  1.33            1\n",
      "2   17/01/2016              Stoke  0.55  0.59  1.23            1\n",
      "3   17/01/2016          Liverpool  0.95  0.72  1.50            1\n",
      "\n",
      "[438 rows x 6 columns]\n",
      "Jan 18, 2016\n"
     ]
    },
    {
     "name": "stderr",
     "output_type": "stream",
     "text": [
      "/usr/local/lib/python3.7/site-packages/ipykernel_launcher.py:51: DeprecationWarning: find_elements_by_xpath is deprecated. Please use find_elements(by=By.XPATH, value=xpath) instead\n",
      "/usr/local/lib/python3.7/site-packages/ipykernel_launcher.py:67: DeprecationWarning: find_elements_by_xpath is deprecated. Please use find_elements(by=By.XPATH, value=xpath) instead\n"
     ]
    },
    {
     "name": "stdout",
     "output_type": "stream",
     "text": [
      "Jan 19, 2016\n"
     ]
    },
    {
     "name": "stderr",
     "output_type": "stream",
     "text": [
      "/usr/local/lib/python3.7/site-packages/ipykernel_launcher.py:83: DeprecationWarning: find_elements_by_xpath is deprecated. Please use find_elements(by=By.XPATH, value=xpath) instead\n",
      "/usr/local/lib/python3.7/site-packages/ipykernel_launcher.py:84: DeprecationWarning: find_elements_by_xpath is deprecated. Please use find_elements(by=By.XPATH, value=xpath) instead\n",
      "/usr/local/lib/python3.7/site-packages/ipykernel_launcher.py:93: DeprecationWarning: find_elements_by_xpath is deprecated. Please use find_elements(by=By.XPATH, value=xpath) instead\n"
     ]
    },
    {
     "name": "stdout",
     "output_type": "stream",
     "text": [
      "          Date               Team    xG    xA  xPTS match_or_not\n",
      "0   08/08/2015          Leicester  2.57  1.46  2.13            1\n",
      "1   08/08/2015     Crystal Palace  2.11  1.13  2.13            1\n",
      "2   08/08/2015        Aston Villa  0.78  0.88  1.23            1\n",
      "3   08/08/2015  Manchester United  0.63  0.67  1.24            1\n",
      "4   08/08/2015            Everton  0.60  0.56  1.33            1\n",
      "..         ...                ...   ...   ...   ...          ...\n",
      "1   17/01/2016            Arsenal  0.59  0.55  1.33            1\n",
      "2   17/01/2016              Stoke  0.55  0.59  1.23            1\n",
      "3   17/01/2016          Liverpool  0.95  0.72  1.50            1\n",
      "0   19/01/2016            Swansea  0.47  0.53  1.21            1\n",
      "1   19/01/2016            Watford  0.53  0.47  1.32            1\n",
      "\n",
      "[440 rows x 6 columns]\n",
      "Jan 20, 2016\n"
     ]
    },
    {
     "name": "stderr",
     "output_type": "stream",
     "text": [
      "/usr/local/lib/python3.7/site-packages/ipykernel_launcher.py:51: DeprecationWarning: find_elements_by_xpath is deprecated. Please use find_elements(by=By.XPATH, value=xpath) instead\n",
      "/usr/local/lib/python3.7/site-packages/ipykernel_launcher.py:67: DeprecationWarning: find_elements_by_xpath is deprecated. Please use find_elements(by=By.XPATH, value=xpath) instead\n"
     ]
    },
    {
     "name": "stdout",
     "output_type": "stream",
     "text": [
      "Jan 21, 2016\n",
      "Jan 22, 2016\n",
      "Jan 23, 2016\n"
     ]
    },
    {
     "name": "stderr",
     "output_type": "stream",
     "text": [
      "/usr/local/lib/python3.7/site-packages/ipykernel_launcher.py:83: DeprecationWarning: find_elements_by_xpath is deprecated. Please use find_elements(by=By.XPATH, value=xpath) instead\n",
      "/usr/local/lib/python3.7/site-packages/ipykernel_launcher.py:84: DeprecationWarning: find_elements_by_xpath is deprecated. Please use find_elements(by=By.XPATH, value=xpath) instead\n",
      "/usr/local/lib/python3.7/site-packages/ipykernel_launcher.py:93: DeprecationWarning: find_elements_by_xpath is deprecated. Please use find_elements(by=By.XPATH, value=xpath) instead\n"
     ]
    },
    {
     "name": "stdout",
     "output_type": "stream",
     "text": [
      "          Date               Team    xG    xA  xPTS match_or_not\n",
      "0   08/08/2015          Leicester  2.57  1.46  2.13            1\n",
      "1   08/08/2015     Crystal Palace  2.11  1.13  2.13            1\n",
      "2   08/08/2015        Aston Villa  0.78  0.88  1.23            1\n",
      "3   08/08/2015  Manchester United  0.63  0.67  1.24            1\n",
      "4   08/08/2015            Everton  0.60  0.56  1.33            1\n",
      "..         ...                ...   ...   ...   ...          ...\n",
      "11  23/01/2016            Norwich  1.03  1.45  0.99            1\n",
      "12  23/01/2016   Newcastle United  1.29  2.59  0.55            1\n",
      "13  23/01/2016  Manchester United  0.19  0.84  0.59            1\n",
      "14  23/01/2016     Crystal Palace  0.93  1.74  0.78            1\n",
      "15  23/01/2016              Stoke  0.34  2.26  0.17            1\n",
      "\n",
      "[456 rows x 6 columns]\n",
      "Jan 24, 2016\n"
     ]
    },
    {
     "name": "stderr",
     "output_type": "stream",
     "text": [
      "/usr/local/lib/python3.7/site-packages/ipykernel_launcher.py:51: DeprecationWarning: find_elements_by_xpath is deprecated. Please use find_elements(by=By.XPATH, value=xpath) instead\n",
      "/usr/local/lib/python3.7/site-packages/ipykernel_launcher.py:67: DeprecationWarning: find_elements_by_xpath is deprecated. Please use find_elements(by=By.XPATH, value=xpath) instead\n",
      "/usr/local/lib/python3.7/site-packages/ipykernel_launcher.py:83: DeprecationWarning: find_elements_by_xpath is deprecated. Please use find_elements(by=By.XPATH, value=xpath) instead\n",
      "/usr/local/lib/python3.7/site-packages/ipykernel_launcher.py:84: DeprecationWarning: find_elements_by_xpath is deprecated. Please use find_elements(by=By.XPATH, value=xpath) instead\n",
      "/usr/local/lib/python3.7/site-packages/ipykernel_launcher.py:93: DeprecationWarning: find_elements_by_xpath is deprecated. Please use find_elements(by=By.XPATH, value=xpath) instead\n"
     ]
    },
    {
     "name": "stdout",
     "output_type": "stream",
     "text": [
      "          Date               Team    xG    xA  xPTS match_or_not\n",
      "0   08/08/2015          Leicester  2.57  1.46  2.13            1\n",
      "1   08/08/2015     Crystal Palace  2.11  1.13  2.13            1\n",
      "2   08/08/2015        Aston Villa  0.78  0.88  1.23            1\n",
      "3   08/08/2015  Manchester United  0.63  0.67  1.24            1\n",
      "4   08/08/2015            Everton  0.60  0.56  1.33            1\n",
      "..         ...                ...   ...   ...   ...          ...\n",
      "15  23/01/2016              Stoke  0.34  2.26  0.17            1\n",
      "0   24/01/2016            Swansea  1.08  1.94  0.68            1\n",
      "1   24/01/2016            Chelsea  1.49  1.11  1.68            1\n",
      "2   24/01/2016            Everton  1.94  1.08  2.05            1\n",
      "3   24/01/2016            Arsenal  1.11  1.49  1.03            1\n",
      "\n",
      "[460 rows x 6 columns]\n",
      "Jan 25, 2016\n"
     ]
    },
    {
     "name": "stderr",
     "output_type": "stream",
     "text": [
      "/usr/local/lib/python3.7/site-packages/ipykernel_launcher.py:51: DeprecationWarning: find_elements_by_xpath is deprecated. Please use find_elements(by=By.XPATH, value=xpath) instead\n",
      "/usr/local/lib/python3.7/site-packages/ipykernel_launcher.py:67: DeprecationWarning: find_elements_by_xpath is deprecated. Please use find_elements(by=By.XPATH, value=xpath) instead\n"
     ]
    },
    {
     "name": "stdout",
     "output_type": "stream",
     "text": [
      "Jan 26, 2016\n",
      "Jan 27, 2016\n",
      "Jan 28, 2016\n",
      "Jan 29, 2016\n",
      "Jan 30, 2016\n",
      "Jan 31, 2016\n",
      "Feb 1, 2016\n",
      "Feb 2, 2016\n"
     ]
    },
    {
     "name": "stderr",
     "output_type": "stream",
     "text": [
      "/usr/local/lib/python3.7/site-packages/ipykernel_launcher.py:83: DeprecationWarning: find_elements_by_xpath is deprecated. Please use find_elements(by=By.XPATH, value=xpath) instead\n",
      "/usr/local/lib/python3.7/site-packages/ipykernel_launcher.py:84: DeprecationWarning: find_elements_by_xpath is deprecated. Please use find_elements(by=By.XPATH, value=xpath) instead\n",
      "/usr/local/lib/python3.7/site-packages/ipykernel_launcher.py:93: DeprecationWarning: find_elements_by_xpath is deprecated. Please use find_elements(by=By.XPATH, value=xpath) instead\n"
     ]
    },
    {
     "name": "stdout",
     "output_type": "stream",
     "text": [
      "          Date               Team    xG    xA  xPTS match_or_not\n",
      "0   08/08/2015          Leicester  2.57  1.46  2.13            1\n",
      "1   08/08/2015     Crystal Palace  2.11  1.13  2.13            1\n",
      "2   08/08/2015        Aston Villa  0.78  0.88  1.23            1\n",
      "3   08/08/2015  Manchester United  0.63  0.67  1.24            1\n",
      "4   08/08/2015            Everton  0.60  0.56  1.33            1\n",
      "..         ...                ...   ...   ...   ...          ...\n",
      "5   02/02/2016            Arsenal  3.38  0.93  2.74            1\n",
      "6   02/02/2016         Sunderland  0.89  0.64  1.52            1\n",
      "7   02/02/2016        Aston Villa  0.11  2.35  0.06            1\n",
      "8   02/02/2016          Liverpool  0.58  1.35  0.66            1\n",
      "9   02/02/2016            Norwich  0.93  2.75  0.27            1\n",
      "\n",
      "[470 rows x 6 columns]\n",
      "Feb 3, 2016\n"
     ]
    },
    {
     "name": "stderr",
     "output_type": "stream",
     "text": [
      "/usr/local/lib/python3.7/site-packages/ipykernel_launcher.py:51: DeprecationWarning: find_elements_by_xpath is deprecated. Please use find_elements(by=By.XPATH, value=xpath) instead\n",
      "/usr/local/lib/python3.7/site-packages/ipykernel_launcher.py:67: DeprecationWarning: find_elements_by_xpath is deprecated. Please use find_elements(by=By.XPATH, value=xpath) instead\n",
      "/usr/local/lib/python3.7/site-packages/ipykernel_launcher.py:83: DeprecationWarning: find_elements_by_xpath is deprecated. Please use find_elements(by=By.XPATH, value=xpath) instead\n",
      "/usr/local/lib/python3.7/site-packages/ipykernel_launcher.py:84: DeprecationWarning: find_elements_by_xpath is deprecated. Please use find_elements(by=By.XPATH, value=xpath) instead\n",
      "/usr/local/lib/python3.7/site-packages/ipykernel_launcher.py:93: DeprecationWarning: find_elements_by_xpath is deprecated. Please use find_elements(by=By.XPATH, value=xpath) instead\n"
     ]
    },
    {
     "name": "stdout",
     "output_type": "stream",
     "text": [
      "          Date               Team    xG    xA  xPTS match_or_not\n",
      "0   08/08/2015          Leicester  2.57  1.46  2.13            1\n",
      "1   08/08/2015     Crystal Palace  2.11  1.13  2.13            1\n",
      "2   08/08/2015        Aston Villa  0.78  0.88  1.23            1\n",
      "3   08/08/2015  Manchester United  0.63  0.67  1.24            1\n",
      "4   08/08/2015            Everton  0.60  0.56  1.33            1\n",
      "..         ...                ...   ...   ...   ...          ...\n",
      "5   03/02/2016            Chelsea  1.14  0.53  1.91            1\n",
      "6   03/02/2016            Watford  0.53  1.14  0.78            1\n",
      "7   03/02/2016     Crystal Palace  1.62  1.17  1.73            1\n",
      "8   03/02/2016              Stoke  0.35  2.45  0.14            1\n",
      "9   03/02/2016   Newcastle United  0.63  2.48  0.19            1\n",
      "\n",
      "[480 rows x 6 columns]\n",
      "Feb 4, 2016\n"
     ]
    },
    {
     "name": "stderr",
     "output_type": "stream",
     "text": [
      "/usr/local/lib/python3.7/site-packages/ipykernel_launcher.py:51: DeprecationWarning: find_elements_by_xpath is deprecated. Please use find_elements(by=By.XPATH, value=xpath) instead\n",
      "/usr/local/lib/python3.7/site-packages/ipykernel_launcher.py:67: DeprecationWarning: find_elements_by_xpath is deprecated. Please use find_elements(by=By.XPATH, value=xpath) instead\n"
     ]
    },
    {
     "name": "stdout",
     "output_type": "stream",
     "text": [
      "Feb 5, 2016\n",
      "Feb 6, 2016\n"
     ]
    },
    {
     "name": "stderr",
     "output_type": "stream",
     "text": [
      "/usr/local/lib/python3.7/site-packages/ipykernel_launcher.py:83: DeprecationWarning: find_elements_by_xpath is deprecated. Please use find_elements(by=By.XPATH, value=xpath) instead\n",
      "/usr/local/lib/python3.7/site-packages/ipykernel_launcher.py:84: DeprecationWarning: find_elements_by_xpath is deprecated. Please use find_elements(by=By.XPATH, value=xpath) instead\n",
      "/usr/local/lib/python3.7/site-packages/ipykernel_launcher.py:93: DeprecationWarning: find_elements_by_xpath is deprecated. Please use find_elements(by=By.XPATH, value=xpath) instead\n"
     ]
    },
    {
     "name": "stdout",
     "output_type": "stream",
     "text": [
      "          Date               Team    xG    xA  xPTS match_or_not\n",
      "0   08/08/2015          Leicester  2.57  1.46  2.13            1\n",
      "1   08/08/2015     Crystal Palace  2.11  1.13  2.13            1\n",
      "2   08/08/2015        Aston Villa  0.78  0.88  1.23            1\n",
      "3   08/08/2015  Manchester United  0.63  0.67  1.24            1\n",
      "4   08/08/2015            Everton  0.60  0.56  1.33            1\n",
      "..         ...                ...   ...   ...   ...          ...\n",
      "11  06/02/2016           West Ham  0.97  1.06  1.21            1\n",
      "12  06/02/2016            Watford  0.15  2.00  0.18            1\n",
      "13  06/02/2016    Manchester City  1.71  2.50  0.87            1\n",
      "14  06/02/2016            Norwich  1.14  0.92  1.55            1\n",
      "15  06/02/2016              Stoke  0.69  3.06  0.17            1\n",
      "\n",
      "[496 rows x 6 columns]\n",
      "Feb 7, 2016\n"
     ]
    },
    {
     "name": "stderr",
     "output_type": "stream",
     "text": [
      "/usr/local/lib/python3.7/site-packages/ipykernel_launcher.py:51: DeprecationWarning: find_elements_by_xpath is deprecated. Please use find_elements(by=By.XPATH, value=xpath) instead\n",
      "/usr/local/lib/python3.7/site-packages/ipykernel_launcher.py:67: DeprecationWarning: find_elements_by_xpath is deprecated. Please use find_elements(by=By.XPATH, value=xpath) instead\n",
      "/usr/local/lib/python3.7/site-packages/ipykernel_launcher.py:83: DeprecationWarning: find_elements_by_xpath is deprecated. Please use find_elements(by=By.XPATH, value=xpath) instead\n",
      "/usr/local/lib/python3.7/site-packages/ipykernel_launcher.py:84: DeprecationWarning: find_elements_by_xpath is deprecated. Please use find_elements(by=By.XPATH, value=xpath) instead\n",
      "/usr/local/lib/python3.7/site-packages/ipykernel_launcher.py:93: DeprecationWarning: find_elements_by_xpath is deprecated. Please use find_elements(by=By.XPATH, value=xpath) instead\n"
     ]
    },
    {
     "name": "stdout",
     "output_type": "stream",
     "text": [
      "          Date               Team    xG    xA  xPTS match_or_not\n",
      "0   08/08/2015          Leicester  2.57  1.46  2.13            1\n",
      "1   08/08/2015     Crystal Palace  2.11  1.13  2.13            1\n",
      "2   08/08/2015        Aston Villa  0.78  0.88  1.23            1\n",
      "3   08/08/2015  Manchester United  0.63  0.67  1.24            1\n",
      "4   08/08/2015            Everton  0.60  0.56  1.33            1\n",
      "..         ...                ...   ...   ...   ...          ...\n",
      "15  06/02/2016              Stoke  0.69  3.06  0.17            1\n",
      "0   07/02/2016            Arsenal  1.14  0.58  1.85            1\n",
      "1   07/02/2016            Chelsea  1.62  0.78  2.05            1\n",
      "2   07/02/2016  Manchester United  0.78  1.62  0.70            1\n",
      "3   07/02/2016        Bournemouth  0.58  1.14  0.83            1\n",
      "\n",
      "[500 rows x 6 columns]\n",
      "Feb 8, 2016\n"
     ]
    },
    {
     "name": "stderr",
     "output_type": "stream",
     "text": [
      "/usr/local/lib/python3.7/site-packages/ipykernel_launcher.py:51: DeprecationWarning: find_elements_by_xpath is deprecated. Please use find_elements(by=By.XPATH, value=xpath) instead\n",
      "/usr/local/lib/python3.7/site-packages/ipykernel_launcher.py:67: DeprecationWarning: find_elements_by_xpath is deprecated. Please use find_elements(by=By.XPATH, value=xpath) instead\n"
     ]
    },
    {
     "name": "stdout",
     "output_type": "stream",
     "text": [
      "Feb 9, 2016\n",
      "Feb 10, 2016\n",
      "Feb 11, 2016\n",
      "Feb 12, 2016\n",
      "Feb 13, 2016\n"
     ]
    },
    {
     "name": "stderr",
     "output_type": "stream",
     "text": [
      "/usr/local/lib/python3.7/site-packages/ipykernel_launcher.py:83: DeprecationWarning: find_elements_by_xpath is deprecated. Please use find_elements(by=By.XPATH, value=xpath) instead\n",
      "/usr/local/lib/python3.7/site-packages/ipykernel_launcher.py:84: DeprecationWarning: find_elements_by_xpath is deprecated. Please use find_elements(by=By.XPATH, value=xpath) instead\n",
      "/usr/local/lib/python3.7/site-packages/ipykernel_launcher.py:93: DeprecationWarning: find_elements_by_xpath is deprecated. Please use find_elements(by=By.XPATH, value=xpath) instead\n"
     ]
    },
    {
     "name": "stdout",
     "output_type": "stream",
     "text": [
      "          Date               Team    xG    xA  xPTS match_or_not\n",
      "0   08/08/2015          Leicester  2.57  1.46  2.13            1\n",
      "1   08/08/2015     Crystal Palace  2.11  1.13  2.13            1\n",
      "2   08/08/2015        Aston Villa  0.78  0.88  1.23            1\n",
      "3   08/08/2015  Manchester United  0.63  0.67  1.24            1\n",
      "4   08/08/2015            Everton  0.60  0.56  1.33            1\n",
      "..         ...                ...   ...   ...   ...          ...\n",
      "9   13/02/2016  Manchester United  0.91  1.48  0.93            1\n",
      "10  13/02/2016            Everton  1.83  1.20  1.82            1\n",
      "11  13/02/2016            Swansea  0.70  1.19  0.92            1\n",
      "12  13/02/2016        Bournemouth  1.19  0.93  1.59            1\n",
      "13  13/02/2016   Newcastle United  0.43  2.09  0.26            1\n",
      "\n",
      "[514 rows x 6 columns]\n",
      "Feb 14, 2016\n"
     ]
    },
    {
     "name": "stderr",
     "output_type": "stream",
     "text": [
      "/usr/local/lib/python3.7/site-packages/ipykernel_launcher.py:51: DeprecationWarning: find_elements_by_xpath is deprecated. Please use find_elements(by=By.XPATH, value=xpath) instead\n",
      "/usr/local/lib/python3.7/site-packages/ipykernel_launcher.py:67: DeprecationWarning: find_elements_by_xpath is deprecated. Please use find_elements(by=By.XPATH, value=xpath) instead\n",
      "/usr/local/lib/python3.7/site-packages/ipykernel_launcher.py:83: DeprecationWarning: find_elements_by_xpath is deprecated. Please use find_elements(by=By.XPATH, value=xpath) instead\n",
      "/usr/local/lib/python3.7/site-packages/ipykernel_launcher.py:84: DeprecationWarning: find_elements_by_xpath is deprecated. Please use find_elements(by=By.XPATH, value=xpath) instead\n",
      "/usr/local/lib/python3.7/site-packages/ipykernel_launcher.py:93: DeprecationWarning: find_elements_by_xpath is deprecated. Please use find_elements(by=By.XPATH, value=xpath) instead\n"
     ]
    },
    {
     "name": "stdout",
     "output_type": "stream",
     "text": [
      "          Date               Team    xG    xA  xPTS match_or_not\n",
      "0   08/08/2015          Leicester  2.57  1.46  2.13            1\n",
      "1   08/08/2015     Crystal Palace  2.11  1.13  2.13            1\n",
      "2   08/08/2015        Aston Villa  0.78  0.88  1.23            1\n",
      "3   08/08/2015  Manchester United  0.63  0.67  1.24            1\n",
      "4   08/08/2015            Everton  0.60  0.56  1.33            1\n",
      "..         ...                ...   ...   ...   ...          ...\n",
      "1   14/02/2016          Tottenham  1.24  1.98  0.79            1\n",
      "2   14/02/2016            Arsenal  2.36  1.31  2.08            1\n",
      "3   14/02/2016          Leicester  1.31  2.36  0.70            1\n",
      "4   14/02/2016    Manchester City  1.98  1.24  1.93            1\n",
      "5   14/02/2016        Aston Villa  0.17  2.01  0.14            1\n",
      "\n",
      "[520 rows x 6 columns]\n",
      "Feb 15, 2016\n"
     ]
    },
    {
     "name": "stderr",
     "output_type": "stream",
     "text": [
      "/usr/local/lib/python3.7/site-packages/ipykernel_launcher.py:51: DeprecationWarning: find_elements_by_xpath is deprecated. Please use find_elements(by=By.XPATH, value=xpath) instead\n",
      "/usr/local/lib/python3.7/site-packages/ipykernel_launcher.py:67: DeprecationWarning: find_elements_by_xpath is deprecated. Please use find_elements(by=By.XPATH, value=xpath) instead\n"
     ]
    },
    {
     "name": "stdout",
     "output_type": "stream",
     "text": [
      "Feb 16, 2016\n",
      "Feb 17, 2016\n",
      "Feb 18, 2016\n",
      "Feb 19, 2016\n",
      "Feb 20, 2016\n",
      "Feb 21, 2016\n",
      "Feb 22, 2016\n",
      "Feb 23, 2016\n",
      "Feb 24, 2016\n",
      "Feb 25, 2016\n",
      "Feb 26, 2016\n",
      "Feb 27, 2016\n"
     ]
    },
    {
     "name": "stderr",
     "output_type": "stream",
     "text": [
      "/usr/local/lib/python3.7/site-packages/ipykernel_launcher.py:83: DeprecationWarning: find_elements_by_xpath is deprecated. Please use find_elements(by=By.XPATH, value=xpath) instead\n",
      "/usr/local/lib/python3.7/site-packages/ipykernel_launcher.py:84: DeprecationWarning: find_elements_by_xpath is deprecated. Please use find_elements(by=By.XPATH, value=xpath) instead\n",
      "/usr/local/lib/python3.7/site-packages/ipykernel_launcher.py:93: DeprecationWarning: find_elements_by_xpath is deprecated. Please use find_elements(by=By.XPATH, value=xpath) instead\n"
     ]
    },
    {
     "name": "stdout",
     "output_type": "stream",
     "text": [
      "          Date               Team    xG    xA  xPTS match_or_not\n",
      "0   08/08/2015          Leicester  2.57  1.46  2.13            1\n",
      "1   08/08/2015     Crystal Palace  2.11  1.13  2.13            1\n",
      "2   08/08/2015        Aston Villa  0.78  0.88  1.23            1\n",
      "3   08/08/2015  Manchester United  0.63  0.67  1.24            1\n",
      "4   08/08/2015            Everton  0.60  0.56  1.33            1\n",
      "..         ...                ...   ...   ...   ...          ...\n",
      "7   27/02/2016     Crystal Palace  1.22  2.07  0.69            1\n",
      "8   27/02/2016        Aston Villa  0.41  2.04  0.17            1\n",
      "9   27/02/2016        Southampton  1.01  0.63  1.73            1\n",
      "10  27/02/2016         Sunderland  1.08  0.52  1.85            1\n",
      "11  27/02/2016            Norwich  0.81  1.76  0.55            1\n",
      "\n",
      "[532 rows x 6 columns]\n",
      "Feb 28, 2016\n"
     ]
    },
    {
     "name": "stderr",
     "output_type": "stream",
     "text": [
      "/usr/local/lib/python3.7/site-packages/ipykernel_launcher.py:51: DeprecationWarning: find_elements_by_xpath is deprecated. Please use find_elements(by=By.XPATH, value=xpath) instead\n",
      "/usr/local/lib/python3.7/site-packages/ipykernel_launcher.py:67: DeprecationWarning: find_elements_by_xpath is deprecated. Please use find_elements(by=By.XPATH, value=xpath) instead\n",
      "/usr/local/lib/python3.7/site-packages/ipykernel_launcher.py:83: DeprecationWarning: find_elements_by_xpath is deprecated. Please use find_elements(by=By.XPATH, value=xpath) instead\n",
      "/usr/local/lib/python3.7/site-packages/ipykernel_launcher.py:84: DeprecationWarning: find_elements_by_xpath is deprecated. Please use find_elements(by=By.XPATH, value=xpath) instead\n",
      "/usr/local/lib/python3.7/site-packages/ipykernel_launcher.py:93: DeprecationWarning: find_elements_by_xpath is deprecated. Please use find_elements(by=By.XPATH, value=xpath) instead\n"
     ]
    },
    {
     "name": "stdout",
     "output_type": "stream",
     "text": [
      "          Date               Team    xG    xA  xPTS match_or_not\n",
      "0   08/08/2015          Leicester  2.57  1.46  2.13            1\n",
      "1   08/08/2015     Crystal Palace  2.11  1.13  2.13            1\n",
      "2   08/08/2015        Aston Villa  0.78  0.88  1.23            1\n",
      "3   08/08/2015  Manchester United  0.63  0.67  1.24            1\n",
      "4   08/08/2015            Everton  0.60  0.56  1.33            1\n",
      "..         ...                ...   ...   ...   ...          ...\n",
      "11  27/02/2016            Norwich  0.81  1.76  0.55            1\n",
      "0   28/02/2016  Manchester United  1.10  1.54  0.99            1\n",
      "1   28/02/2016          Tottenham  3.57  1.25  2.65            1\n",
      "2   28/02/2016            Arsenal  1.54  1.10  1.73            1\n",
      "3   28/02/2016            Swansea  1.25  3.57  0.25            1\n",
      "\n",
      "[536 rows x 6 columns]\n",
      "Mar 1, 2016\n"
     ]
    },
    {
     "name": "stderr",
     "output_type": "stream",
     "text": [
      "/usr/local/lib/python3.7/site-packages/ipykernel_launcher.py:51: DeprecationWarning: find_elements_by_xpath is deprecated. Please use find_elements(by=By.XPATH, value=xpath) instead\n",
      "/usr/local/lib/python3.7/site-packages/ipykernel_launcher.py:67: DeprecationWarning: find_elements_by_xpath is deprecated. Please use find_elements(by=By.XPATH, value=xpath) instead\n",
      "/usr/local/lib/python3.7/site-packages/ipykernel_launcher.py:83: DeprecationWarning: find_elements_by_xpath is deprecated. Please use find_elements(by=By.XPATH, value=xpath) instead\n",
      "/usr/local/lib/python3.7/site-packages/ipykernel_launcher.py:84: DeprecationWarning: find_elements_by_xpath is deprecated. Please use find_elements(by=By.XPATH, value=xpath) instead\n",
      "/usr/local/lib/python3.7/site-packages/ipykernel_launcher.py:93: DeprecationWarning: find_elements_by_xpath is deprecated. Please use find_elements(by=By.XPATH, value=xpath) instead\n"
     ]
    },
    {
     "name": "stdout",
     "output_type": "stream",
     "text": [
      "          Date               Team    xG    xA  xPTS match_or_not\n",
      "0   08/08/2015          Leicester  2.57  1.46  2.13            1\n",
      "1   08/08/2015     Crystal Palace  2.11  1.13  2.13            1\n",
      "2   08/08/2015        Aston Villa  0.78  0.88  1.23            1\n",
      "3   08/08/2015  Manchester United  0.63  0.67  1.24            1\n",
      "4   08/08/2015            Everton  0.60  0.56  1.33            1\n",
      "..         ...                ...   ...   ...   ...          ...\n",
      "5   01/03/2016         Sunderland  0.93  0.89  1.38            1\n",
      "6   01/03/2016     Crystal Palace  0.89  0.93  1.29            1\n",
      "7   01/03/2016            Norwich  1.24  0.98  1.60            1\n",
      "8   01/03/2016        Aston Villa  0.60  2.64  0.23            1\n",
      "9   01/03/2016        Southampton  0.95  1.41  0.94            1\n",
      "\n",
      "[546 rows x 6 columns]\n",
      "Mar 2, 2016\n"
     ]
    },
    {
     "name": "stderr",
     "output_type": "stream",
     "text": [
      "/usr/local/lib/python3.7/site-packages/ipykernel_launcher.py:51: DeprecationWarning: find_elements_by_xpath is deprecated. Please use find_elements(by=By.XPATH, value=xpath) instead\n",
      "/usr/local/lib/python3.7/site-packages/ipykernel_launcher.py:67: DeprecationWarning: find_elements_by_xpath is deprecated. Please use find_elements(by=By.XPATH, value=xpath) instead\n",
      "/usr/local/lib/python3.7/site-packages/ipykernel_launcher.py:83: DeprecationWarning: find_elements_by_xpath is deprecated. Please use find_elements(by=By.XPATH, value=xpath) instead\n",
      "/usr/local/lib/python3.7/site-packages/ipykernel_launcher.py:84: DeprecationWarning: find_elements_by_xpath is deprecated. Please use find_elements(by=By.XPATH, value=xpath) instead\n",
      "/usr/local/lib/python3.7/site-packages/ipykernel_launcher.py:93: DeprecationWarning: find_elements_by_xpath is deprecated. Please use find_elements(by=By.XPATH, value=xpath) instead\n"
     ]
    },
    {
     "name": "stdout",
     "output_type": "stream",
     "text": [
      "          Date               Team    xG    xA  xPTS match_or_not\n",
      "0   08/08/2015          Leicester  2.57  1.46  2.13            1\n",
      "1   08/08/2015     Crystal Palace  2.11  1.13  2.13            1\n",
      "2   08/08/2015        Aston Villa  0.78  0.88  1.23            1\n",
      "3   08/08/2015  Manchester United  0.63  0.67  1.24            1\n",
      "4   08/08/2015            Everton  0.60  0.56  1.33            1\n",
      "..         ...                ...   ...   ...   ...          ...\n",
      "1   02/03/2016           West Ham  0.78  1.23  0.89            1\n",
      "2   02/03/2016              Stoke  0.30  0.27  1.21            1\n",
      "3   02/03/2016            Arsenal  1.49  1.70  1.17            1\n",
      "4   02/03/2016          Tottenham  1.23  0.78  1.81            1\n",
      "5   02/03/2016   Newcastle United  0.27  0.30  1.17            1\n",
      "\n",
      "[552 rows x 6 columns]\n",
      "Mar 3, 2016\n"
     ]
    },
    {
     "name": "stderr",
     "output_type": "stream",
     "text": [
      "/usr/local/lib/python3.7/site-packages/ipykernel_launcher.py:51: DeprecationWarning: find_elements_by_xpath is deprecated. Please use find_elements(by=By.XPATH, value=xpath) instead\n",
      "/usr/local/lib/python3.7/site-packages/ipykernel_launcher.py:67: DeprecationWarning: find_elements_by_xpath is deprecated. Please use find_elements(by=By.XPATH, value=xpath) instead\n",
      "/usr/local/lib/python3.7/site-packages/ipykernel_launcher.py:83: DeprecationWarning: find_elements_by_xpath is deprecated. Please use find_elements(by=By.XPATH, value=xpath) instead\n",
      "/usr/local/lib/python3.7/site-packages/ipykernel_launcher.py:84: DeprecationWarning: find_elements_by_xpath is deprecated. Please use find_elements(by=By.XPATH, value=xpath) instead\n",
      "/usr/local/lib/python3.7/site-packages/ipykernel_launcher.py:93: DeprecationWarning: find_elements_by_xpath is deprecated. Please use find_elements(by=By.XPATH, value=xpath) instead\n"
     ]
    },
    {
     "name": "stdout",
     "output_type": "stream",
     "text": [
      "          Date               Team    xG    xA  xPTS match_or_not\n",
      "0   08/08/2015          Leicester  2.57  1.46  2.13            1\n",
      "1   08/08/2015     Crystal Palace  2.11  1.13  2.13            1\n",
      "2   08/08/2015        Aston Villa  0.78  0.88  1.23            1\n",
      "3   08/08/2015  Manchester United  0.63  0.67  1.24            1\n",
      "4   08/08/2015            Everton  0.60  0.56  1.33            1\n",
      "..         ...                ...   ...   ...   ...          ...\n",
      "5   02/03/2016   Newcastle United  0.27  0.30  1.17            1\n",
      "0   03/03/2016          Liverpool  1.17  0.18  2.33            1\n",
      "1   03/03/2016  Manchester United  0.79  2.16  0.46            1\n",
      "2   03/03/2016            Watford  2.16  0.79  2.37            1\n",
      "3   03/03/2016    Manchester City  0.18  1.17  0.40            1\n",
      "\n",
      "[556 rows x 6 columns]\n",
      "Mar 4, 2016\n"
     ]
    },
    {
     "name": "stderr",
     "output_type": "stream",
     "text": [
      "/usr/local/lib/python3.7/site-packages/ipykernel_launcher.py:51: DeprecationWarning: find_elements_by_xpath is deprecated. Please use find_elements(by=By.XPATH, value=xpath) instead\n",
      "/usr/local/lib/python3.7/site-packages/ipykernel_launcher.py:67: DeprecationWarning: find_elements_by_xpath is deprecated. Please use find_elements(by=By.XPATH, value=xpath) instead\n"
     ]
    },
    {
     "name": "stdout",
     "output_type": "stream",
     "text": [
      "Mar 5, 2016\n"
     ]
    },
    {
     "name": "stderr",
     "output_type": "stream",
     "text": [
      "/usr/local/lib/python3.7/site-packages/ipykernel_launcher.py:83: DeprecationWarning: find_elements_by_xpath is deprecated. Please use find_elements(by=By.XPATH, value=xpath) instead\n",
      "/usr/local/lib/python3.7/site-packages/ipykernel_launcher.py:84: DeprecationWarning: find_elements_by_xpath is deprecated. Please use find_elements(by=By.XPATH, value=xpath) instead\n",
      "/usr/local/lib/python3.7/site-packages/ipykernel_launcher.py:93: DeprecationWarning: find_elements_by_xpath is deprecated. Please use find_elements(by=By.XPATH, value=xpath) instead\n"
     ]
    },
    {
     "name": "stdout",
     "output_type": "stream",
     "text": [
      "          Date               Team    xG    xA  xPTS match_or_not\n",
      "0   08/08/2015          Leicester  2.57  1.46  2.13            1\n",
      "1   08/08/2015     Crystal Palace  2.11  1.13  2.13            1\n",
      "2   08/08/2015        Aston Villa  0.78  0.88  1.23            1\n",
      "3   08/08/2015  Manchester United  0.63  0.67  1.24            1\n",
      "4   08/08/2015            Everton  0.60  0.56  1.33            1\n",
      "..         ...                ...   ...   ...   ...          ...\n",
      "11  05/03/2016            Everton  2.09  2.72  0.97            1\n",
      "12  05/03/2016            Norwich  0.58  0.55  1.32            1\n",
      "13  05/03/2016            Watford  0.83  1.47  0.84            1\n",
      "14  05/03/2016   Newcastle United  0.83  1.27  1.02            1\n",
      "15  05/03/2016        Aston Villa  0.12  2.83  0.05            1\n",
      "\n",
      "[572 rows x 6 columns]\n",
      "Mar 6, 2016\n"
     ]
    },
    {
     "name": "stderr",
     "output_type": "stream",
     "text": [
      "/usr/local/lib/python3.7/site-packages/ipykernel_launcher.py:51: DeprecationWarning: find_elements_by_xpath is deprecated. Please use find_elements(by=By.XPATH, value=xpath) instead\n",
      "/usr/local/lib/python3.7/site-packages/ipykernel_launcher.py:67: DeprecationWarning: find_elements_by_xpath is deprecated. Please use find_elements(by=By.XPATH, value=xpath) instead\n",
      "/usr/local/lib/python3.7/site-packages/ipykernel_launcher.py:83: DeprecationWarning: find_elements_by_xpath is deprecated. Please use find_elements(by=By.XPATH, value=xpath) instead\n",
      "/usr/local/lib/python3.7/site-packages/ipykernel_launcher.py:84: DeprecationWarning: find_elements_by_xpath is deprecated. Please use find_elements(by=By.XPATH, value=xpath) instead\n",
      "/usr/local/lib/python3.7/site-packages/ipykernel_launcher.py:93: DeprecationWarning: find_elements_by_xpath is deprecated. Please use find_elements(by=By.XPATH, value=xpath) instead\n"
     ]
    },
    {
     "name": "stdout",
     "output_type": "stream",
     "text": [
      "          Date                  Team    xG    xA  xPTS match_or_not\n",
      "0   08/08/2015             Leicester  2.57  1.46  2.13            1\n",
      "1   08/08/2015        Crystal Palace  2.11  1.13  2.13            1\n",
      "2   08/08/2015           Aston Villa  0.78  0.88  1.23            1\n",
      "3   08/08/2015     Manchester United  0.63  0.67  1.24            1\n",
      "4   08/08/2015               Everton  0.60  0.56  1.33            1\n",
      "..         ...                   ...   ...   ...   ...          ...\n",
      "15  05/03/2016           Aston Villa  0.12  2.83  0.05            1\n",
      "0   06/03/2016             Liverpool  2.27  1.44  2.01            1\n",
      "1   06/03/2016  West Bromwich Albion  0.57  0.42  1.41            1\n",
      "2   06/03/2016        Crystal Palace  1.44  2.27  0.76            1\n",
      "3   06/03/2016     Manchester United  0.42  0.57  1.12            1\n",
      "\n",
      "[576 rows x 6 columns]\n",
      "Mar 7, 2016\n"
     ]
    },
    {
     "name": "stderr",
     "output_type": "stream",
     "text": [
      "/usr/local/lib/python3.7/site-packages/ipykernel_launcher.py:51: DeprecationWarning: find_elements_by_xpath is deprecated. Please use find_elements(by=By.XPATH, value=xpath) instead\n",
      "/usr/local/lib/python3.7/site-packages/ipykernel_launcher.py:67: DeprecationWarning: find_elements_by_xpath is deprecated. Please use find_elements(by=By.XPATH, value=xpath) instead\n"
     ]
    },
    {
     "name": "stdout",
     "output_type": "stream",
     "text": [
      "Mar 8, 2016\n",
      "Mar 9, 2016\n",
      "Mar 10, 2016\n",
      "Mar 11, 2016\n",
      "Mar 12, 2016\n"
     ]
    },
    {
     "name": "stderr",
     "output_type": "stream",
     "text": [
      "/usr/local/lib/python3.7/site-packages/ipykernel_launcher.py:83: DeprecationWarning: find_elements_by_xpath is deprecated. Please use find_elements(by=By.XPATH, value=xpath) instead\n",
      "/usr/local/lib/python3.7/site-packages/ipykernel_launcher.py:84: DeprecationWarning: find_elements_by_xpath is deprecated. Please use find_elements(by=By.XPATH, value=xpath) instead\n",
      "/usr/local/lib/python3.7/site-packages/ipykernel_launcher.py:93: DeprecationWarning: find_elements_by_xpath is deprecated. Please use find_elements(by=By.XPATH, value=xpath) instead\n"
     ]
    },
    {
     "name": "stdout",
     "output_type": "stream",
     "text": [
      "          Date               Team    xG    xA  xPTS match_or_not\n",
      "0   08/08/2015          Leicester  2.57  1.46  2.13            1\n",
      "1   08/08/2015     Crystal Palace  2.11  1.13  2.13            1\n",
      "2   08/08/2015        Aston Villa  0.78  0.88  1.23            1\n",
      "3   08/08/2015  Manchester United  0.63  0.67  1.24            1\n",
      "4   08/08/2015            Everton  0.60  0.56  1.33            1\n",
      "..         ...                ...   ...   ...   ...          ...\n",
      "1   12/03/2016        Southampton  0.87  1.07  1.14            1\n",
      "2   12/03/2016            Norwich  0.14  0.56  0.76            1\n",
      "3   12/03/2016    Manchester City  0.56  0.14  1.71            1\n",
      "4   12/03/2016            Swansea  1.10  0.71  1.73            1\n",
      "5   12/03/2016              Stoke  1.07  0.87  1.54            1\n",
      "\n",
      "[582 rows x 6 columns]\n",
      "Mar 13, 2016\n"
     ]
    },
    {
     "name": "stderr",
     "output_type": "stream",
     "text": [
      "/usr/local/lib/python3.7/site-packages/ipykernel_launcher.py:51: DeprecationWarning: find_elements_by_xpath is deprecated. Please use find_elements(by=By.XPATH, value=xpath) instead\n",
      "/usr/local/lib/python3.7/site-packages/ipykernel_launcher.py:67: DeprecationWarning: find_elements_by_xpath is deprecated. Please use find_elements(by=By.XPATH, value=xpath) instead\n",
      "/usr/local/lib/python3.7/site-packages/ipykernel_launcher.py:83: DeprecationWarning: find_elements_by_xpath is deprecated. Please use find_elements(by=By.XPATH, value=xpath) instead\n",
      "/usr/local/lib/python3.7/site-packages/ipykernel_launcher.py:84: DeprecationWarning: find_elements_by_xpath is deprecated. Please use find_elements(by=By.XPATH, value=xpath) instead\n",
      "/usr/local/lib/python3.7/site-packages/ipykernel_launcher.py:93: DeprecationWarning: find_elements_by_xpath is deprecated. Please use find_elements(by=By.XPATH, value=xpath) instead\n"
     ]
    },
    {
     "name": "stdout",
     "output_type": "stream",
     "text": [
      "          Date               Team    xG    xA  xPTS match_or_not\n",
      "0   08/08/2015          Leicester  2.57  1.46  2.13            1\n",
      "1   08/08/2015     Crystal Palace  2.11  1.13  2.13            1\n",
      "2   08/08/2015        Aston Villa  0.78  0.88  1.23            1\n",
      "3   08/08/2015  Manchester United  0.63  0.67  1.24            1\n",
      "4   08/08/2015            Everton  0.60  0.56  1.33            1\n",
      "..         ...                ...   ...   ...   ...          ...\n",
      "3   12/03/2016    Manchester City  0.56  0.14  1.71            1\n",
      "4   12/03/2016            Swansea  1.10  0.71  1.73            1\n",
      "5   12/03/2016              Stoke  1.07  0.87  1.54            1\n",
      "0   13/03/2016          Tottenham  2.00  1.84  1.44            1\n",
      "1   13/03/2016        Aston Villa  1.84  2.00  1.31            1\n",
      "\n",
      "[584 rows x 6 columns]\n",
      "Mar 14, 2016\n"
     ]
    },
    {
     "name": "stderr",
     "output_type": "stream",
     "text": [
      "/usr/local/lib/python3.7/site-packages/ipykernel_launcher.py:51: DeprecationWarning: find_elements_by_xpath is deprecated. Please use find_elements(by=By.XPATH, value=xpath) instead\n",
      "/usr/local/lib/python3.7/site-packages/ipykernel_launcher.py:67: DeprecationWarning: find_elements_by_xpath is deprecated. Please use find_elements(by=By.XPATH, value=xpath) instead\n",
      "/usr/local/lib/python3.7/site-packages/ipykernel_launcher.py:83: DeprecationWarning: find_elements_by_xpath is deprecated. Please use find_elements(by=By.XPATH, value=xpath) instead\n",
      "/usr/local/lib/python3.7/site-packages/ipykernel_launcher.py:84: DeprecationWarning: find_elements_by_xpath is deprecated. Please use find_elements(by=By.XPATH, value=xpath) instead\n",
      "/usr/local/lib/python3.7/site-packages/ipykernel_launcher.py:93: DeprecationWarning: find_elements_by_xpath is deprecated. Please use find_elements(by=By.XPATH, value=xpath) instead\n"
     ]
    },
    {
     "name": "stdout",
     "output_type": "stream",
     "text": [
      "          Date               Team    xG    xA  xPTS match_or_not\n",
      "0   08/08/2015          Leicester  2.57  1.46  2.13            1\n",
      "1   08/08/2015     Crystal Palace  2.11  1.13  2.13            1\n",
      "2   08/08/2015        Aston Villa  0.78  0.88  1.23            1\n",
      "3   08/08/2015  Manchester United  0.63  0.67  1.24            1\n",
      "4   08/08/2015            Everton  0.60  0.56  1.33            1\n",
      "..         ...                ...   ...   ...   ...          ...\n",
      "5   12/03/2016              Stoke  1.07  0.87  1.54            1\n",
      "0   13/03/2016          Tottenham  2.00  1.84  1.44            1\n",
      "1   13/03/2016        Aston Villa  1.84  2.00  1.31            1\n",
      "0   14/03/2016          Leicester  0.85  0.52  1.61            1\n",
      "1   14/03/2016   Newcastle United  0.52  0.85  1.01            1\n",
      "\n",
      "[586 rows x 6 columns]\n",
      "Mar 15, 2016\n"
     ]
    },
    {
     "name": "stderr",
     "output_type": "stream",
     "text": [
      "/usr/local/lib/python3.7/site-packages/ipykernel_launcher.py:51: DeprecationWarning: find_elements_by_xpath is deprecated. Please use find_elements(by=By.XPATH, value=xpath) instead\n",
      "/usr/local/lib/python3.7/site-packages/ipykernel_launcher.py:67: DeprecationWarning: find_elements_by_xpath is deprecated. Please use find_elements(by=By.XPATH, value=xpath) instead\n"
     ]
    },
    {
     "name": "stdout",
     "output_type": "stream",
     "text": [
      "Mar 16, 2016\n",
      "Mar 17, 2016\n",
      "Mar 18, 2016\n",
      "Mar 19, 2016\n"
     ]
    },
    {
     "name": "stderr",
     "output_type": "stream",
     "text": [
      "/usr/local/lib/python3.7/site-packages/ipykernel_launcher.py:83: DeprecationWarning: find_elements_by_xpath is deprecated. Please use find_elements(by=By.XPATH, value=xpath) instead\n",
      "/usr/local/lib/python3.7/site-packages/ipykernel_launcher.py:84: DeprecationWarning: find_elements_by_xpath is deprecated. Please use find_elements(by=By.XPATH, value=xpath) instead\n",
      "/usr/local/lib/python3.7/site-packages/ipykernel_launcher.py:93: DeprecationWarning: find_elements_by_xpath is deprecated. Please use find_elements(by=By.XPATH, value=xpath) instead\n"
     ]
    },
    {
     "name": "stdout",
     "output_type": "stream",
     "text": [
      "          Date                  Team    xG    xA  xPTS match_or_not\n",
      "0   08/08/2015             Leicester  2.57  1.46  2.13            1\n",
      "1   08/08/2015        Crystal Palace  2.11  1.13  2.13            1\n",
      "2   08/08/2015           Aston Villa  0.78  0.88  1.23            1\n",
      "3   08/08/2015     Manchester United  0.63  0.67  1.24            1\n",
      "4   08/08/2015               Everton  0.60  0.56  1.33            1\n",
      "..         ...                   ...   ...   ...   ...          ...\n",
      "7   19/03/2016               Watford  0.88  1.58  0.77            1\n",
      "8   19/03/2016           Aston Villa  0.73  0.49  1.53            1\n",
      "9   19/03/2016  West Bromwich Albion  0.33  0.80  0.78            1\n",
      "10  19/03/2016        Crystal Palace  0.78  1.20  1.00            1\n",
      "11  19/03/2016               Everton  0.59  1.92  0.36            1\n",
      "\n",
      "[598 rows x 6 columns]\n",
      "Mar 20, 2016\n"
     ]
    },
    {
     "name": "stderr",
     "output_type": "stream",
     "text": [
      "/usr/local/lib/python3.7/site-packages/ipykernel_launcher.py:51: DeprecationWarning: find_elements_by_xpath is deprecated. Please use find_elements(by=By.XPATH, value=xpath) instead\n",
      "/usr/local/lib/python3.7/site-packages/ipykernel_launcher.py:67: DeprecationWarning: find_elements_by_xpath is deprecated. Please use find_elements(by=By.XPATH, value=xpath) instead\n",
      "/usr/local/lib/python3.7/site-packages/ipykernel_launcher.py:83: DeprecationWarning: find_elements_by_xpath is deprecated. Please use find_elements(by=By.XPATH, value=xpath) instead\n",
      "/usr/local/lib/python3.7/site-packages/ipykernel_launcher.py:84: DeprecationWarning: find_elements_by_xpath is deprecated. Please use find_elements(by=By.XPATH, value=xpath) instead\n",
      "/usr/local/lib/python3.7/site-packages/ipykernel_launcher.py:93: DeprecationWarning: find_elements_by_xpath is deprecated. Please use find_elements(by=By.XPATH, value=xpath) instead\n"
     ]
    },
    {
     "name": "stdout",
     "output_type": "stream",
     "text": [
      "          Date               Team    xG    xA  xPTS match_or_not\n",
      "0   08/08/2015          Leicester  2.57  1.46  2.13            1\n",
      "1   08/08/2015     Crystal Palace  2.11  1.13  2.13            1\n",
      "2   08/08/2015        Aston Villa  0.78  0.88  1.23            1\n",
      "3   08/08/2015  Manchester United  0.63  0.67  1.24            1\n",
      "4   08/08/2015            Everton  0.60  0.56  1.33            1\n",
      "..         ...                ...   ...   ...   ...          ...\n",
      "3   20/03/2016         Sunderland  0.79  0.94  1.19            1\n",
      "4   20/03/2016   Newcastle United  0.94  0.79  1.47            1\n",
      "5   20/03/2016          Liverpool  1.29  1.57  1.12            1\n",
      "6   20/03/2016    Manchester City  1.86  0.90  2.06            1\n",
      "7   20/03/2016        Bournemouth  0.12  2.03  0.13            1\n",
      "\n",
      "[606 rows x 6 columns]\n",
      "Mar 21, 2016\n"
     ]
    },
    {
     "name": "stderr",
     "output_type": "stream",
     "text": [
      "/usr/local/lib/python3.7/site-packages/ipykernel_launcher.py:51: DeprecationWarning: find_elements_by_xpath is deprecated. Please use find_elements(by=By.XPATH, value=xpath) instead\n",
      "/usr/local/lib/python3.7/site-packages/ipykernel_launcher.py:67: DeprecationWarning: find_elements_by_xpath is deprecated. Please use find_elements(by=By.XPATH, value=xpath) instead\n"
     ]
    },
    {
     "name": "stdout",
     "output_type": "stream",
     "text": [
      "Mar 22, 2016\n",
      "Mar 23, 2016\n",
      "Mar 24, 2016\n",
      "Mar 25, 2016\n",
      "Mar 26, 2016\n",
      "Mar 27, 2016\n",
      "Mar 28, 2016\n",
      "Mar 29, 2016\n",
      "Mar 30, 2016\n",
      "Mar 31, 2016\n",
      "Apr 1, 2016\n",
      "Apr 2, 2016\n"
     ]
    },
    {
     "name": "stderr",
     "output_type": "stream",
     "text": [
      "/usr/local/lib/python3.7/site-packages/ipykernel_launcher.py:83: DeprecationWarning: find_elements_by_xpath is deprecated. Please use find_elements(by=By.XPATH, value=xpath) instead\n",
      "/usr/local/lib/python3.7/site-packages/ipykernel_launcher.py:84: DeprecationWarning: find_elements_by_xpath is deprecated. Please use find_elements(by=By.XPATH, value=xpath) instead\n",
      "/usr/local/lib/python3.7/site-packages/ipykernel_launcher.py:93: DeprecationWarning: find_elements_by_xpath is deprecated. Please use find_elements(by=By.XPATH, value=xpath) instead\n"
     ]
    },
    {
     "name": "stdout",
     "output_type": "stream",
     "text": [
      "          Date               Team    xG    xA  xPTS match_or_not\n",
      "0   08/08/2015          Leicester  2.57  1.46  2.13            1\n",
      "1   08/08/2015     Crystal Palace  2.11  1.13  2.13            1\n",
      "2   08/08/2015        Aston Villa  0.78  0.88  1.23            1\n",
      "3   08/08/2015  Manchester United  0.63  0.67  1.24            1\n",
      "4   08/08/2015            Everton  0.60  0.56  1.33            1\n",
      "..         ...                ...   ...   ...   ...          ...\n",
      "11  02/04/2016         Sunderland  1.55  0.06  2.58            1\n",
      "12  02/04/2016   Newcastle United  1.47  1.65  1.20            1\n",
      "13  02/04/2016        Aston Villa  0.73  2.49  0.25            1\n",
      "14  02/04/2016        Bournemouth  1.32  0.87  1.78            1\n",
      "15  02/04/2016            Watford  0.29  3.01  0.06            1\n",
      "\n",
      "[622 rows x 6 columns]\n",
      "Apr 3, 2016\n"
     ]
    },
    {
     "name": "stderr",
     "output_type": "stream",
     "text": [
      "/usr/local/lib/python3.7/site-packages/ipykernel_launcher.py:51: DeprecationWarning: find_elements_by_xpath is deprecated. Please use find_elements(by=By.XPATH, value=xpath) instead\n",
      "/usr/local/lib/python3.7/site-packages/ipykernel_launcher.py:67: DeprecationWarning: find_elements_by_xpath is deprecated. Please use find_elements(by=By.XPATH, value=xpath) instead\n",
      "/usr/local/lib/python3.7/site-packages/ipykernel_launcher.py:83: DeprecationWarning: find_elements_by_xpath is deprecated. Please use find_elements(by=By.XPATH, value=xpath) instead\n",
      "/usr/local/lib/python3.7/site-packages/ipykernel_launcher.py:84: DeprecationWarning: find_elements_by_xpath is deprecated. Please use find_elements(by=By.XPATH, value=xpath) instead\n",
      "/usr/local/lib/python3.7/site-packages/ipykernel_launcher.py:93: DeprecationWarning: find_elements_by_xpath is deprecated. Please use find_elements(by=By.XPATH, value=xpath) instead\n"
     ]
    },
    {
     "name": "stdout",
     "output_type": "stream",
     "text": [
      "          Date               Team    xG    xA  xPTS match_or_not\n",
      "0   08/08/2015          Leicester  2.57  1.46  2.13            1\n",
      "1   08/08/2015     Crystal Palace  2.11  1.13  2.13            1\n",
      "2   08/08/2015        Aston Villa  0.78  0.88  1.23            1\n",
      "3   08/08/2015  Manchester United  0.63  0.67  1.24            1\n",
      "4   08/08/2015            Everton  0.60  0.56  1.33            1\n",
      "..         ...                ...   ...   ...   ...          ...\n",
      "15  02/04/2016            Watford  0.29  3.01  0.06            1\n",
      "0   03/04/2016          Leicester  1.39  0.67  1.99            1\n",
      "1   03/04/2016  Manchester United  1.00  0.76  1.60            1\n",
      "2   03/04/2016            Everton  0.76  1.00  1.05            1\n",
      "3   03/04/2016        Southampton  0.67  1.39  0.73            1\n",
      "\n",
      "[626 rows x 6 columns]\n",
      "Apr 4, 2016\n"
     ]
    },
    {
     "name": "stderr",
     "output_type": "stream",
     "text": [
      "/usr/local/lib/python3.7/site-packages/ipykernel_launcher.py:51: DeprecationWarning: find_elements_by_xpath is deprecated. Please use find_elements(by=By.XPATH, value=xpath) instead\n",
      "/usr/local/lib/python3.7/site-packages/ipykernel_launcher.py:67: DeprecationWarning: find_elements_by_xpath is deprecated. Please use find_elements(by=By.XPATH, value=xpath) instead\n"
     ]
    },
    {
     "name": "stdout",
     "output_type": "stream",
     "text": [
      "Apr 5, 2016\n",
      "Apr 6, 2016\n",
      "Apr 7, 2016\n",
      "Apr 8, 2016\n",
      "Apr 9, 2016\n"
     ]
    },
    {
     "name": "stderr",
     "output_type": "stream",
     "text": [
      "/usr/local/lib/python3.7/site-packages/ipykernel_launcher.py:83: DeprecationWarning: find_elements_by_xpath is deprecated. Please use find_elements(by=By.XPATH, value=xpath) instead\n",
      "/usr/local/lib/python3.7/site-packages/ipykernel_launcher.py:84: DeprecationWarning: find_elements_by_xpath is deprecated. Please use find_elements(by=By.XPATH, value=xpath) instead\n",
      "/usr/local/lib/python3.7/site-packages/ipykernel_launcher.py:93: DeprecationWarning: find_elements_by_xpath is deprecated. Please use find_elements(by=By.XPATH, value=xpath) instead\n"
     ]
    },
    {
     "name": "stdout",
     "output_type": "stream",
     "text": [
      "          Date                  Team    xG    xA  xPTS match_or_not\n",
      "0   08/08/2015             Leicester  2.57  1.46  2.13            1\n",
      "1   08/08/2015        Crystal Palace  2.11  1.13  2.13            1\n",
      "2   08/08/2015           Aston Villa  0.78  0.88  1.23            1\n",
      "3   08/08/2015     Manchester United  0.63  0.67  1.24            1\n",
      "4   08/08/2015               Everton  0.60  0.56  1.33            1\n",
      "..         ...                   ...   ...   ...   ...          ...\n",
      "9   09/04/2016           Aston Villa  0.22  1.00  0.56            1\n",
      "10  09/04/2016  West Bromwich Albion  1.09  2.07  0.58            1\n",
      "11  09/04/2016               Norwich  0.68  1.45  0.69            1\n",
      "12  09/04/2016               Chelsea  1.30  1.91  0.89            1\n",
      "13  09/04/2016      Newcastle United  0.17  1.78  0.22            1\n",
      "\n",
      "[640 rows x 6 columns]\n",
      "Apr 10, 2016\n"
     ]
    },
    {
     "name": "stderr",
     "output_type": "stream",
     "text": [
      "/usr/local/lib/python3.7/site-packages/ipykernel_launcher.py:51: DeprecationWarning: find_elements_by_xpath is deprecated. Please use find_elements(by=By.XPATH, value=xpath) instead\n",
      "/usr/local/lib/python3.7/site-packages/ipykernel_launcher.py:67: DeprecationWarning: find_elements_by_xpath is deprecated. Please use find_elements(by=By.XPATH, value=xpath) instead\n",
      "/usr/local/lib/python3.7/site-packages/ipykernel_launcher.py:83: DeprecationWarning: find_elements_by_xpath is deprecated. Please use find_elements(by=By.XPATH, value=xpath) instead\n",
      "/usr/local/lib/python3.7/site-packages/ipykernel_launcher.py:84: DeprecationWarning: find_elements_by_xpath is deprecated. Please use find_elements(by=By.XPATH, value=xpath) instead\n",
      "/usr/local/lib/python3.7/site-packages/ipykernel_launcher.py:93: DeprecationWarning: find_elements_by_xpath is deprecated. Please use find_elements(by=By.XPATH, value=xpath) instead\n"
     ]
    },
    {
     "name": "stdout",
     "output_type": "stream",
     "text": [
      "          Date               Team    xG    xA  xPTS match_or_not\n",
      "0   08/08/2015          Leicester  2.57  1.46  2.13            1\n",
      "1   08/08/2015     Crystal Palace  2.11  1.13  2.13            1\n",
      "2   08/08/2015        Aston Villa  0.78  0.88  1.23            1\n",
      "3   08/08/2015  Manchester United  0.63  0.67  1.24            1\n",
      "4   08/08/2015            Everton  0.60  0.56  1.33            1\n",
      "..         ...                ...   ...   ...   ...          ...\n",
      "1   10/04/2016          Tottenham  1.80  0.34  2.51            1\n",
      "2   10/04/2016          Leicester  2.60  0.87  2.55            1\n",
      "3   10/04/2016         Sunderland  0.87  2.60  0.31            1\n",
      "4   10/04/2016              Stoke  0.86  2.21  0.43            1\n",
      "5   10/04/2016  Manchester United  0.34  1.80  0.31            1\n",
      "\n",
      "[646 rows x 6 columns]\n",
      "Apr 11, 2016\n"
     ]
    },
    {
     "name": "stderr",
     "output_type": "stream",
     "text": [
      "/usr/local/lib/python3.7/site-packages/ipykernel_launcher.py:51: DeprecationWarning: find_elements_by_xpath is deprecated. Please use find_elements(by=By.XPATH, value=xpath) instead\n",
      "/usr/local/lib/python3.7/site-packages/ipykernel_launcher.py:67: DeprecationWarning: find_elements_by_xpath is deprecated. Please use find_elements(by=By.XPATH, value=xpath) instead\n"
     ]
    },
    {
     "name": "stdout",
     "output_type": "stream",
     "text": [
      "Apr 12, 2016\n",
      "Apr 13, 2016\n"
     ]
    },
    {
     "name": "stderr",
     "output_type": "stream",
     "text": [
      "/usr/local/lib/python3.7/site-packages/ipykernel_launcher.py:83: DeprecationWarning: find_elements_by_xpath is deprecated. Please use find_elements(by=By.XPATH, value=xpath) instead\n",
      "/usr/local/lib/python3.7/site-packages/ipykernel_launcher.py:84: DeprecationWarning: find_elements_by_xpath is deprecated. Please use find_elements(by=By.XPATH, value=xpath) instead\n",
      "/usr/local/lib/python3.7/site-packages/ipykernel_launcher.py:93: DeprecationWarning: find_elements_by_xpath is deprecated. Please use find_elements(by=By.XPATH, value=xpath) instead\n"
     ]
    },
    {
     "name": "stdout",
     "output_type": "stream",
     "text": [
      "          Date               Team    xG    xA  xPTS match_or_not\n",
      "0   08/08/2015          Leicester  2.57  1.46  2.13            1\n",
      "1   08/08/2015     Crystal Palace  2.11  1.13  2.13            1\n",
      "2   08/08/2015        Aston Villa  0.78  0.88  1.23            1\n",
      "3   08/08/2015  Manchester United  0.63  0.67  1.24            1\n",
      "4   08/08/2015            Everton  0.60  0.56  1.33            1\n",
      "..         ...                ...   ...   ...   ...          ...\n",
      "3   10/04/2016         Sunderland  0.87  2.60  0.31            1\n",
      "4   10/04/2016              Stoke  0.86  2.21  0.43            1\n",
      "5   10/04/2016  Manchester United  0.34  1.80  0.31            1\n",
      "0   13/04/2016            Everton  0.76  1.59  0.74            1\n",
      "1   13/04/2016     Crystal Palace  1.59  0.76  2.01            1\n",
      "\n",
      "[648 rows x 6 columns]\n",
      "Apr 14, 2016\n"
     ]
    },
    {
     "name": "stderr",
     "output_type": "stream",
     "text": [
      "/usr/local/lib/python3.7/site-packages/ipykernel_launcher.py:51: DeprecationWarning: find_elements_by_xpath is deprecated. Please use find_elements(by=By.XPATH, value=xpath) instead\n",
      "/usr/local/lib/python3.7/site-packages/ipykernel_launcher.py:67: DeprecationWarning: find_elements_by_xpath is deprecated. Please use find_elements(by=By.XPATH, value=xpath) instead\n"
     ]
    },
    {
     "name": "stdout",
     "output_type": "stream",
     "text": [
      "Apr 15, 2016\n",
      "Apr 16, 2016\n"
     ]
    },
    {
     "name": "stderr",
     "output_type": "stream",
     "text": [
      "/usr/local/lib/python3.7/site-packages/ipykernel_launcher.py:83: DeprecationWarning: find_elements_by_xpath is deprecated. Please use find_elements(by=By.XPATH, value=xpath) instead\n",
      "/usr/local/lib/python3.7/site-packages/ipykernel_launcher.py:84: DeprecationWarning: find_elements_by_xpath is deprecated. Please use find_elements(by=By.XPATH, value=xpath) instead\n",
      "/usr/local/lib/python3.7/site-packages/ipykernel_launcher.py:93: DeprecationWarning: find_elements_by_xpath is deprecated. Please use find_elements(by=By.XPATH, value=xpath) instead\n"
     ]
    },
    {
     "name": "stdout",
     "output_type": "stream",
     "text": [
      "          Date                  Team    xG    xA  xPTS match_or_not\n",
      "0   08/08/2015             Leicester  2.57  1.46  2.13            1\n",
      "1   08/08/2015        Crystal Palace  2.11  1.13  2.13            1\n",
      "2   08/08/2015           Aston Villa  0.78  0.88  1.23            1\n",
      "3   08/08/2015     Manchester United  0.63  0.67  1.24            1\n",
      "4   08/08/2015               Everton  0.60  0.56  1.33            1\n",
      "..         ...                   ...   ...   ...   ...          ...\n",
      "7   16/04/2016           Aston Villa  0.26  1.09  0.56            1\n",
      "8   16/04/2016  West Bromwich Albion  2.29  0.36  2.78            1\n",
      "9   16/04/2016               Norwich  1.09  2.00  0.67            1\n",
      "10  16/04/2016               Chelsea  0.49  2.63  0.15            1\n",
      "11  16/04/2016               Swansea  0.79  1.50  0.75            1\n",
      "\n",
      "[660 rows x 6 columns]\n",
      "Apr 17, 2016\n"
     ]
    },
    {
     "name": "stderr",
     "output_type": "stream",
     "text": [
      "/usr/local/lib/python3.7/site-packages/ipykernel_launcher.py:51: DeprecationWarning: find_elements_by_xpath is deprecated. Please use find_elements(by=By.XPATH, value=xpath) instead\n",
      "/usr/local/lib/python3.7/site-packages/ipykernel_launcher.py:67: DeprecationWarning: find_elements_by_xpath is deprecated. Please use find_elements(by=By.XPATH, value=xpath) instead\n",
      "/usr/local/lib/python3.7/site-packages/ipykernel_launcher.py:83: DeprecationWarning: find_elements_by_xpath is deprecated. Please use find_elements(by=By.XPATH, value=xpath) instead\n",
      "/usr/local/lib/python3.7/site-packages/ipykernel_launcher.py:84: DeprecationWarning: find_elements_by_xpath is deprecated. Please use find_elements(by=By.XPATH, value=xpath) instead\n",
      "/usr/local/lib/python3.7/site-packages/ipykernel_launcher.py:93: DeprecationWarning: find_elements_by_xpath is deprecated. Please use find_elements(by=By.XPATH, value=xpath) instead\n"
     ]
    },
    {
     "name": "stdout",
     "output_type": "stream",
     "text": [
      "          Date               Team    xG    xA  xPTS match_or_not\n",
      "0   08/08/2015          Leicester  2.57  1.46  2.13            1\n",
      "1   08/08/2015     Crystal Palace  2.11  1.13  2.13            1\n",
      "2   08/08/2015        Aston Villa  0.78  0.88  1.23            1\n",
      "3   08/08/2015  Manchester United  0.63  0.67  1.24            1\n",
      "4   08/08/2015            Everton  0.60  0.56  1.33            1\n",
      "..         ...                ...   ...   ...   ...          ...\n",
      "1   17/04/2016          Leicester  1.95  1.57  1.71            1\n",
      "2   17/04/2016           West Ham  1.57  1.95  1.01            1\n",
      "3   17/04/2016     Crystal Palace  0.28  1.73  0.33            1\n",
      "4   17/04/2016            Arsenal  1.73  0.28  2.48            1\n",
      "5   17/04/2016        Bournemouth  0.86  1.81  0.64            1\n",
      "\n",
      "[666 rows x 6 columns]\n",
      "Apr 18, 2016\n"
     ]
    },
    {
     "name": "stderr",
     "output_type": "stream",
     "text": [
      "/usr/local/lib/python3.7/site-packages/ipykernel_launcher.py:51: DeprecationWarning: find_elements_by_xpath is deprecated. Please use find_elements(by=By.XPATH, value=xpath) instead\n",
      "/usr/local/lib/python3.7/site-packages/ipykernel_launcher.py:67: DeprecationWarning: find_elements_by_xpath is deprecated. Please use find_elements(by=By.XPATH, value=xpath) instead\n",
      "/usr/local/lib/python3.7/site-packages/ipykernel_launcher.py:83: DeprecationWarning: find_elements_by_xpath is deprecated. Please use find_elements(by=By.XPATH, value=xpath) instead\n",
      "/usr/local/lib/python3.7/site-packages/ipykernel_launcher.py:84: DeprecationWarning: find_elements_by_xpath is deprecated. Please use find_elements(by=By.XPATH, value=xpath) instead\n",
      "/usr/local/lib/python3.7/site-packages/ipykernel_launcher.py:93: DeprecationWarning: find_elements_by_xpath is deprecated. Please use find_elements(by=By.XPATH, value=xpath) instead\n"
     ]
    },
    {
     "name": "stdout",
     "output_type": "stream",
     "text": [
      "          Date               Team    xG    xA  xPTS match_or_not\n",
      "0   08/08/2015          Leicester  2.57  1.46  2.13            1\n",
      "1   08/08/2015     Crystal Palace  2.11  1.13  2.13            1\n",
      "2   08/08/2015        Aston Villa  0.78  0.88  1.23            1\n",
      "3   08/08/2015  Manchester United  0.63  0.67  1.24            1\n",
      "4   08/08/2015            Everton  0.60  0.56  1.33            1\n",
      "..         ...                ...   ...   ...   ...          ...\n",
      "3   17/04/2016     Crystal Palace  0.28  1.73  0.33            1\n",
      "4   17/04/2016            Arsenal  1.73  0.28  2.48            1\n",
      "5   17/04/2016        Bournemouth  0.86  1.81  0.64            1\n",
      "0   18/04/2016          Tottenham  2.90  0.46  2.78            1\n",
      "1   18/04/2016              Stoke  0.46  2.90  0.14            1\n",
      "\n",
      "[668 rows x 6 columns]\n",
      "Apr 19, 2016\n"
     ]
    },
    {
     "name": "stderr",
     "output_type": "stream",
     "text": [
      "/usr/local/lib/python3.7/site-packages/ipykernel_launcher.py:51: DeprecationWarning: find_elements_by_xpath is deprecated. Please use find_elements(by=By.XPATH, value=xpath) instead\n",
      "/usr/local/lib/python3.7/site-packages/ipykernel_launcher.py:67: DeprecationWarning: find_elements_by_xpath is deprecated. Please use find_elements(by=By.XPATH, value=xpath) instead\n",
      "/usr/local/lib/python3.7/site-packages/ipykernel_launcher.py:83: DeprecationWarning: find_elements_by_xpath is deprecated. Please use find_elements(by=By.XPATH, value=xpath) instead\n",
      "/usr/local/lib/python3.7/site-packages/ipykernel_launcher.py:84: DeprecationWarning: find_elements_by_xpath is deprecated. Please use find_elements(by=By.XPATH, value=xpath) instead\n",
      "/usr/local/lib/python3.7/site-packages/ipykernel_launcher.py:93: DeprecationWarning: find_elements_by_xpath is deprecated. Please use find_elements(by=By.XPATH, value=xpath) instead\n"
     ]
    },
    {
     "name": "stdout",
     "output_type": "stream",
     "text": [
      "          Date               Team    xG    xA  xPTS match_or_not\n",
      "0   08/08/2015          Leicester  2.57  1.46  2.13            1\n",
      "1   08/08/2015     Crystal Palace  2.11  1.13  2.13            1\n",
      "2   08/08/2015        Aston Villa  0.78  0.88  1.23            1\n",
      "3   08/08/2015  Manchester United  0.63  0.67  1.24            1\n",
      "4   08/08/2015            Everton  0.60  0.56  1.33            1\n",
      "..         ...                ...   ...   ...   ...          ...\n",
      "5   17/04/2016        Bournemouth  0.86  1.81  0.64            1\n",
      "0   18/04/2016          Tottenham  2.90  0.46  2.78            1\n",
      "1   18/04/2016              Stoke  0.46  2.90  0.14            1\n",
      "0   19/04/2016   Newcastle United  0.46  0.52  1.22            1\n",
      "1   19/04/2016    Manchester City  0.52  0.46  1.32            1\n",
      "\n",
      "[670 rows x 6 columns]\n",
      "Apr 20, 2016\n"
     ]
    },
    {
     "name": "stderr",
     "output_type": "stream",
     "text": [
      "/usr/local/lib/python3.7/site-packages/ipykernel_launcher.py:51: DeprecationWarning: find_elements_by_xpath is deprecated. Please use find_elements(by=By.XPATH, value=xpath) instead\n",
      "/usr/local/lib/python3.7/site-packages/ipykernel_launcher.py:67: DeprecationWarning: find_elements_by_xpath is deprecated. Please use find_elements(by=By.XPATH, value=xpath) instead\n",
      "/usr/local/lib/python3.7/site-packages/ipykernel_launcher.py:83: DeprecationWarning: find_elements_by_xpath is deprecated. Please use find_elements(by=By.XPATH, value=xpath) instead\n",
      "/usr/local/lib/python3.7/site-packages/ipykernel_launcher.py:84: DeprecationWarning: find_elements_by_xpath is deprecated. Please use find_elements(by=By.XPATH, value=xpath) instead\n",
      "/usr/local/lib/python3.7/site-packages/ipykernel_launcher.py:93: DeprecationWarning: find_elements_by_xpath is deprecated. Please use find_elements(by=By.XPATH, value=xpath) instead\n"
     ]
    },
    {
     "name": "stdout",
     "output_type": "stream",
     "text": [
      "          Date               Team    xG    xA  xPTS match_or_not\n",
      "0   08/08/2015          Leicester  2.57  1.46  2.13            1\n",
      "1   08/08/2015     Crystal Palace  2.11  1.13  2.13            1\n",
      "2   08/08/2015        Aston Villa  0.78  0.88  1.23            1\n",
      "3   08/08/2015  Manchester United  0.63  0.67  1.24            1\n",
      "4   08/08/2015            Everton  0.60  0.56  1.33            1\n",
      "..         ...                ...   ...   ...   ...          ...\n",
      "1   20/04/2016           West Ham  3.96  1.22  2.84            1\n",
      "2   20/04/2016  Manchester United  1.47  0.14  2.61            1\n",
      "3   20/04/2016            Watford  1.22  3.96  0.11            1\n",
      "4   20/04/2016     Crystal Palace  0.14  1.47  0.22            1\n",
      "5   20/04/2016            Everton  0.09  3.24  0.04            1\n",
      "\n",
      "[676 rows x 6 columns]\n",
      "Apr 21, 2016\n"
     ]
    },
    {
     "name": "stderr",
     "output_type": "stream",
     "text": [
      "/usr/local/lib/python3.7/site-packages/ipykernel_launcher.py:51: DeprecationWarning: find_elements_by_xpath is deprecated. Please use find_elements(by=By.XPATH, value=xpath) instead\n",
      "/usr/local/lib/python3.7/site-packages/ipykernel_launcher.py:67: DeprecationWarning: find_elements_by_xpath is deprecated. Please use find_elements(by=By.XPATH, value=xpath) instead\n",
      "/usr/local/lib/python3.7/site-packages/ipykernel_launcher.py:83: DeprecationWarning: find_elements_by_xpath is deprecated. Please use find_elements(by=By.XPATH, value=xpath) instead\n",
      "/usr/local/lib/python3.7/site-packages/ipykernel_launcher.py:84: DeprecationWarning: find_elements_by_xpath is deprecated. Please use find_elements(by=By.XPATH, value=xpath) instead\n",
      "/usr/local/lib/python3.7/site-packages/ipykernel_launcher.py:93: DeprecationWarning: find_elements_by_xpath is deprecated. Please use find_elements(by=By.XPATH, value=xpath) instead\n"
     ]
    },
    {
     "name": "stdout",
     "output_type": "stream",
     "text": [
      "          Date                  Team    xG    xA  xPTS match_or_not\n",
      "0   08/08/2015             Leicester  2.57  1.46  2.13            1\n",
      "1   08/08/2015        Crystal Palace  2.11  1.13  2.13            1\n",
      "2   08/08/2015           Aston Villa  0.78  0.88  1.23            1\n",
      "3   08/08/2015     Manchester United  0.63  0.67  1.24            1\n",
      "4   08/08/2015               Everton  0.60  0.56  1.33            1\n",
      "..         ...                   ...   ...   ...   ...          ...\n",
      "3   20/04/2016               Watford  1.22  3.96  0.11            1\n",
      "4   20/04/2016        Crystal Palace  0.14  1.47  0.22            1\n",
      "5   20/04/2016               Everton  0.09  3.24  0.04            1\n",
      "0   21/04/2016               Arsenal  1.37  0.84  1.76            1\n",
      "1   21/04/2016  West Bromwich Albion  0.84  1.37  0.94            1\n",
      "\n",
      "[678 rows x 6 columns]\n",
      "Apr 22, 2016\n"
     ]
    },
    {
     "name": "stderr",
     "output_type": "stream",
     "text": [
      "/usr/local/lib/python3.7/site-packages/ipykernel_launcher.py:51: DeprecationWarning: find_elements_by_xpath is deprecated. Please use find_elements(by=By.XPATH, value=xpath) instead\n",
      "/usr/local/lib/python3.7/site-packages/ipykernel_launcher.py:67: DeprecationWarning: find_elements_by_xpath is deprecated. Please use find_elements(by=By.XPATH, value=xpath) instead\n"
     ]
    },
    {
     "name": "stdout",
     "output_type": "stream",
     "text": [
      "Apr 23, 2016\n"
     ]
    },
    {
     "name": "stderr",
     "output_type": "stream",
     "text": [
      "/usr/local/lib/python3.7/site-packages/ipykernel_launcher.py:83: DeprecationWarning: find_elements_by_xpath is deprecated. Please use find_elements(by=By.XPATH, value=xpath) instead\n",
      "/usr/local/lib/python3.7/site-packages/ipykernel_launcher.py:84: DeprecationWarning: find_elements_by_xpath is deprecated. Please use find_elements(by=By.XPATH, value=xpath) instead\n",
      "/usr/local/lib/python3.7/site-packages/ipykernel_launcher.py:93: DeprecationWarning: find_elements_by_xpath is deprecated. Please use find_elements(by=By.XPATH, value=xpath) instead\n"
     ]
    },
    {
     "name": "stdout",
     "output_type": "stream",
     "text": [
      "          Date               Team    xG    xA  xPTS match_or_not\n",
      "0   08/08/2015          Leicester  2.57  1.46  2.13            1\n",
      "1   08/08/2015     Crystal Palace  2.11  1.13  2.13            1\n",
      "2   08/08/2015        Aston Villa  0.78  0.88  1.23            1\n",
      "3   08/08/2015  Manchester United  0.63  0.67  1.24            1\n",
      "4   08/08/2015            Everton  0.60  0.56  1.33            1\n",
      "..         ...                ...   ...   ...   ...          ...\n",
      "3   23/04/2016   Newcastle United  0.25  0.71  0.79            1\n",
      "4   23/04/2016          Liverpool  0.71  0.25  1.77            1\n",
      "5   23/04/2016        Aston Villa  1.47  3.66  0.32            1\n",
      "6   23/04/2016        Bournemouth  0.58  2.07  0.38            1\n",
      "7   23/04/2016              Stoke  1.09  2.22  0.56            1\n",
      "\n",
      "[686 rows x 6 columns]\n",
      "Apr 24, 2016\n"
     ]
    },
    {
     "name": "stderr",
     "output_type": "stream",
     "text": [
      "/usr/local/lib/python3.7/site-packages/ipykernel_launcher.py:51: DeprecationWarning: find_elements_by_xpath is deprecated. Please use find_elements(by=By.XPATH, value=xpath) instead\n",
      "/usr/local/lib/python3.7/site-packages/ipykernel_launcher.py:67: DeprecationWarning: find_elements_by_xpath is deprecated. Please use find_elements(by=By.XPATH, value=xpath) instead\n",
      "/usr/local/lib/python3.7/site-packages/ipykernel_launcher.py:83: DeprecationWarning: find_elements_by_xpath is deprecated. Please use find_elements(by=By.XPATH, value=xpath) instead\n",
      "/usr/local/lib/python3.7/site-packages/ipykernel_launcher.py:84: DeprecationWarning: find_elements_by_xpath is deprecated. Please use find_elements(by=By.XPATH, value=xpath) instead\n",
      "/usr/local/lib/python3.7/site-packages/ipykernel_launcher.py:93: DeprecationWarning: find_elements_by_xpath is deprecated. Please use find_elements(by=By.XPATH, value=xpath) instead\n"
     ]
    },
    {
     "name": "stdout",
     "output_type": "stream",
     "text": [
      "          Date               Team    xG    xA  xPTS match_or_not\n",
      "0   08/08/2015          Leicester  2.57  1.46  2.13            1\n",
      "1   08/08/2015     Crystal Palace  2.11  1.13  2.13            1\n",
      "2   08/08/2015        Aston Villa  0.78  0.88  1.23            1\n",
      "3   08/08/2015  Manchester United  0.63  0.67  1.24            1\n",
      "4   08/08/2015            Everton  0.60  0.56  1.33            1\n",
      "..         ...                ...   ...   ...   ...          ...\n",
      "7   23/04/2016              Stoke  1.09  2.22  0.56            1\n",
      "0   24/04/2016          Leicester  3.32  0.58  2.91            1\n",
      "1   24/04/2016         Sunderland  0.62  0.97  1.03            1\n",
      "2   24/04/2016            Arsenal  0.97  0.62  1.63            1\n",
      "3   24/04/2016            Swansea  0.58  3.32  0.05            1\n",
      "\n",
      "[690 rows x 6 columns]\n",
      "Apr 25, 2016\n"
     ]
    },
    {
     "name": "stderr",
     "output_type": "stream",
     "text": [
      "/usr/local/lib/python3.7/site-packages/ipykernel_launcher.py:51: DeprecationWarning: find_elements_by_xpath is deprecated. Please use find_elements(by=By.XPATH, value=xpath) instead\n",
      "/usr/local/lib/python3.7/site-packages/ipykernel_launcher.py:67: DeprecationWarning: find_elements_by_xpath is deprecated. Please use find_elements(by=By.XPATH, value=xpath) instead\n",
      "/usr/local/lib/python3.7/site-packages/ipykernel_launcher.py:83: DeprecationWarning: find_elements_by_xpath is deprecated. Please use find_elements(by=By.XPATH, value=xpath) instead\n",
      "/usr/local/lib/python3.7/site-packages/ipykernel_launcher.py:84: DeprecationWarning: find_elements_by_xpath is deprecated. Please use find_elements(by=By.XPATH, value=xpath) instead\n",
      "/usr/local/lib/python3.7/site-packages/ipykernel_launcher.py:93: DeprecationWarning: find_elements_by_xpath is deprecated. Please use find_elements(by=By.XPATH, value=xpath) instead\n"
     ]
    },
    {
     "name": "stdout",
     "output_type": "stream",
     "text": [
      "          Date                  Team    xG    xA  xPTS match_or_not\n",
      "0   08/08/2015             Leicester  2.57  1.46  2.13            1\n",
      "1   08/08/2015        Crystal Palace  2.11  1.13  2.13            1\n",
      "2   08/08/2015           Aston Villa  0.78  0.88  1.23            1\n",
      "3   08/08/2015     Manchester United  0.63  0.67  1.24            1\n",
      "4   08/08/2015               Everton  0.60  0.56  1.33            1\n",
      "..         ...                   ...   ...   ...   ...          ...\n",
      "1   24/04/2016            Sunderland  0.62  0.97  1.03            1\n",
      "2   24/04/2016               Arsenal  0.97  0.62  1.63            1\n",
      "3   24/04/2016               Swansea  0.58  3.32  0.05            1\n",
      "0   25/04/2016  West Bromwich Albion  0.89  1.26  1.06            1\n",
      "1   25/04/2016             Tottenham  1.26  0.89  1.64            1\n",
      "\n",
      "[692 rows x 6 columns]\n",
      "Apr 26, 2016\n"
     ]
    },
    {
     "name": "stderr",
     "output_type": "stream",
     "text": [
      "/usr/local/lib/python3.7/site-packages/ipykernel_launcher.py:51: DeprecationWarning: find_elements_by_xpath is deprecated. Please use find_elements(by=By.XPATH, value=xpath) instead\n",
      "/usr/local/lib/python3.7/site-packages/ipykernel_launcher.py:67: DeprecationWarning: find_elements_by_xpath is deprecated. Please use find_elements(by=By.XPATH, value=xpath) instead\n"
     ]
    },
    {
     "name": "stdout",
     "output_type": "stream",
     "text": [
      "Apr 27, 2016\n",
      "Apr 28, 2016\n",
      "Apr 29, 2016\n",
      "Apr 30, 2016\n"
     ]
    },
    {
     "name": "stderr",
     "output_type": "stream",
     "text": [
      "/usr/local/lib/python3.7/site-packages/ipykernel_launcher.py:83: DeprecationWarning: find_elements_by_xpath is deprecated. Please use find_elements(by=By.XPATH, value=xpath) instead\n",
      "/usr/local/lib/python3.7/site-packages/ipykernel_launcher.py:84: DeprecationWarning: find_elements_by_xpath is deprecated. Please use find_elements(by=By.XPATH, value=xpath) instead\n",
      "/usr/local/lib/python3.7/site-packages/ipykernel_launcher.py:93: DeprecationWarning: find_elements_by_xpath is deprecated. Please use find_elements(by=By.XPATH, value=xpath) instead\n"
     ]
    },
    {
     "name": "stdout",
     "output_type": "stream",
     "text": [
      "          Date                  Team    xG    xA  xPTS match_or_not\n",
      "0   08/08/2015             Leicester  2.57  1.46  2.13            1\n",
      "1   08/08/2015        Crystal Palace  2.11  1.13  2.13            1\n",
      "2   08/08/2015           Aston Villa  0.78  0.88  1.23            1\n",
      "3   08/08/2015     Manchester United  0.63  0.67  1.24            1\n",
      "4   08/08/2015               Everton  0.60  0.56  1.33            1\n",
      "..         ...                   ...   ...   ...   ...          ...\n",
      "7   30/04/2016           Aston Villa  0.49  1.36  0.65            1\n",
      "8   30/04/2016           Bournemouth  1.43  0.95  1.75            1\n",
      "9   30/04/2016        Crystal Palace  1.05  0.53  1.94            1\n",
      "10  30/04/2016               Norwich  0.58  0.78  1.12            1\n",
      "11  30/04/2016  West Bromwich Albion  1.53  1.27  1.55            1\n",
      "\n",
      "[704 rows x 6 columns]\n",
      "May 1, 2016\n"
     ]
    },
    {
     "name": "stderr",
     "output_type": "stream",
     "text": [
      "/usr/local/lib/python3.7/site-packages/ipykernel_launcher.py:51: DeprecationWarning: find_elements_by_xpath is deprecated. Please use find_elements(by=By.XPATH, value=xpath) instead\n",
      "/usr/local/lib/python3.7/site-packages/ipykernel_launcher.py:67: DeprecationWarning: find_elements_by_xpath is deprecated. Please use find_elements(by=By.XPATH, value=xpath) instead\n",
      "/usr/local/lib/python3.7/site-packages/ipykernel_launcher.py:83: DeprecationWarning: find_elements_by_xpath is deprecated. Please use find_elements(by=By.XPATH, value=xpath) instead\n",
      "/usr/local/lib/python3.7/site-packages/ipykernel_launcher.py:84: DeprecationWarning: find_elements_by_xpath is deprecated. Please use find_elements(by=By.XPATH, value=xpath) instead\n",
      "/usr/local/lib/python3.7/site-packages/ipykernel_launcher.py:93: DeprecationWarning: find_elements_by_xpath is deprecated. Please use find_elements(by=By.XPATH, value=xpath) instead\n"
     ]
    },
    {
     "name": "stdout",
     "output_type": "stream",
     "text": [
      "          Date               Team    xG    xA  xPTS match_or_not\n",
      "0   08/08/2015          Leicester  2.57  1.46  2.13            1\n",
      "1   08/08/2015     Crystal Palace  2.11  1.13  2.13            1\n",
      "2   08/08/2015        Aston Villa  0.78  0.88  1.23            1\n",
      "3   08/08/2015  Manchester United  0.63  0.67  1.24            1\n",
      "4   08/08/2015            Everton  0.60  0.56  1.33            1\n",
      "..         ...                ...   ...   ...   ...          ...\n",
      "1   01/05/2016            Swansea  2.32  0.78  2.47            1\n",
      "2   01/05/2016          Leicester  1.17  1.18  1.37            1\n",
      "3   01/05/2016  Manchester United  1.18  1.17  1.34            1\n",
      "4   01/05/2016    Manchester City  1.13  2.84  0.28            1\n",
      "5   01/05/2016          Liverpool  0.78  2.32  0.36            1\n",
      "\n",
      "[710 rows x 6 columns]\n",
      "May 2, 2016\n"
     ]
    },
    {
     "name": "stderr",
     "output_type": "stream",
     "text": [
      "/usr/local/lib/python3.7/site-packages/ipykernel_launcher.py:51: DeprecationWarning: find_elements_by_xpath is deprecated. Please use find_elements(by=By.XPATH, value=xpath) instead\n",
      "/usr/local/lib/python3.7/site-packages/ipykernel_launcher.py:67: DeprecationWarning: find_elements_by_xpath is deprecated. Please use find_elements(by=By.XPATH, value=xpath) instead\n",
      "/usr/local/lib/python3.7/site-packages/ipykernel_launcher.py:83: DeprecationWarning: find_elements_by_xpath is deprecated. Please use find_elements(by=By.XPATH, value=xpath) instead\n",
      "/usr/local/lib/python3.7/site-packages/ipykernel_launcher.py:84: DeprecationWarning: find_elements_by_xpath is deprecated. Please use find_elements(by=By.XPATH, value=xpath) instead\n",
      "/usr/local/lib/python3.7/site-packages/ipykernel_launcher.py:93: DeprecationWarning: find_elements_by_xpath is deprecated. Please use find_elements(by=By.XPATH, value=xpath) instead\n"
     ]
    },
    {
     "name": "stdout",
     "output_type": "stream",
     "text": [
      "          Date               Team    xG    xA  xPTS match_or_not\n",
      "0   08/08/2015          Leicester  2.57  1.46  2.13            1\n",
      "1   08/08/2015     Crystal Palace  2.11  1.13  2.13            1\n",
      "2   08/08/2015        Aston Villa  0.78  0.88  1.23            1\n",
      "3   08/08/2015  Manchester United  0.63  0.67  1.24            1\n",
      "4   08/08/2015            Everton  0.60  0.56  1.33            1\n",
      "..         ...                ...   ...   ...   ...          ...\n",
      "3   01/05/2016  Manchester United  1.18  1.17  1.34            1\n",
      "4   01/05/2016    Manchester City  1.13  2.84  0.28            1\n",
      "5   01/05/2016          Liverpool  0.78  2.32  0.36            1\n",
      "0   02/05/2016            Chelsea  0.82  1.90  0.52            1\n",
      "1   02/05/2016          Tottenham  1.90  0.82  2.26            1\n",
      "\n",
      "[712 rows x 6 columns]\n",
      "May 3, 2016\n"
     ]
    },
    {
     "name": "stderr",
     "output_type": "stream",
     "text": [
      "/usr/local/lib/python3.7/site-packages/ipykernel_launcher.py:51: DeprecationWarning: find_elements_by_xpath is deprecated. Please use find_elements(by=By.XPATH, value=xpath) instead\n",
      "/usr/local/lib/python3.7/site-packages/ipykernel_launcher.py:67: DeprecationWarning: find_elements_by_xpath is deprecated. Please use find_elements(by=By.XPATH, value=xpath) instead\n"
     ]
    },
    {
     "name": "stdout",
     "output_type": "stream",
     "text": [
      "May 4, 2016\n",
      "May 5, 2016\n",
      "May 6, 2016\n",
      "May 7, 2016\n"
     ]
    },
    {
     "name": "stderr",
     "output_type": "stream",
     "text": [
      "/usr/local/lib/python3.7/site-packages/ipykernel_launcher.py:83: DeprecationWarning: find_elements_by_xpath is deprecated. Please use find_elements(by=By.XPATH, value=xpath) instead\n",
      "/usr/local/lib/python3.7/site-packages/ipykernel_launcher.py:84: DeprecationWarning: find_elements_by_xpath is deprecated. Please use find_elements(by=By.XPATH, value=xpath) instead\n",
      "/usr/local/lib/python3.7/site-packages/ipykernel_launcher.py:93: DeprecationWarning: find_elements_by_xpath is deprecated. Please use find_elements(by=By.XPATH, value=xpath) instead\n"
     ]
    },
    {
     "name": "stdout",
     "output_type": "stream",
     "text": [
      "          Date               Team    xG    xA  xPTS match_or_not\n",
      "0   08/08/2015          Leicester  2.57  1.46  2.13            1\n",
      "1   08/08/2015     Crystal Palace  2.11  1.13  2.13            1\n",
      "2   08/08/2015        Aston Villa  0.78  0.88  1.23            1\n",
      "3   08/08/2015  Manchester United  0.63  0.67  1.24            1\n",
      "4   08/08/2015            Everton  0.60  0.56  1.33            1\n",
      "..         ...                ...   ...   ...   ...          ...\n",
      "9   07/05/2016            Chelsea  1.78  0.77  2.16            1\n",
      "10  07/05/2016              Stoke  1.28  1.31  1.32            1\n",
      "11  07/05/2016            Norwich  1.37  1.48  1.27            1\n",
      "12  07/05/2016            Everton  1.30  4.51  0.12            1\n",
      "13  07/05/2016           West Ham  2.39  2.47  1.32            1\n",
      "\n",
      "[726 rows x 6 columns]\n",
      "May 8, 2016\n"
     ]
    },
    {
     "name": "stderr",
     "output_type": "stream",
     "text": [
      "/usr/local/lib/python3.7/site-packages/ipykernel_launcher.py:51: DeprecationWarning: find_elements_by_xpath is deprecated. Please use find_elements(by=By.XPATH, value=xpath) instead\n",
      "/usr/local/lib/python3.7/site-packages/ipykernel_launcher.py:67: DeprecationWarning: find_elements_by_xpath is deprecated. Please use find_elements(by=By.XPATH, value=xpath) instead\n",
      "/usr/local/lib/python3.7/site-packages/ipykernel_launcher.py:83: DeprecationWarning: find_elements_by_xpath is deprecated. Please use find_elements(by=By.XPATH, value=xpath) instead\n",
      "/usr/local/lib/python3.7/site-packages/ipykernel_launcher.py:84: DeprecationWarning: find_elements_by_xpath is deprecated. Please use find_elements(by=By.XPATH, value=xpath) instead\n",
      "/usr/local/lib/python3.7/site-packages/ipykernel_launcher.py:93: DeprecationWarning: find_elements_by_xpath is deprecated. Please use find_elements(by=By.XPATH, value=xpath) instead\n"
     ]
    },
    {
     "name": "stdout",
     "output_type": "stream",
     "text": [
      "          Date               Team    xG    xA  xPTS match_or_not\n",
      "0   08/08/2015          Leicester  2.57  1.46  2.13            1\n",
      "1   08/08/2015     Crystal Palace  2.11  1.13  2.13            1\n",
      "2   08/08/2015        Aston Villa  0.78  0.88  1.23            1\n",
      "3   08/08/2015  Manchester United  0.63  0.67  1.24            1\n",
      "4   08/08/2015            Everton  0.60  0.56  1.33            1\n",
      "..         ...                ...   ...   ...   ...          ...\n",
      "1   08/05/2016        Southampton  1.31  2.56  0.53            1\n",
      "2   08/05/2016            Arsenal  1.08  0.75  1.68            1\n",
      "3   08/05/2016    Manchester City  0.75  1.08  1.00            1\n",
      "4   08/05/2016          Tottenham  2.56  1.31  2.28            1\n",
      "5   08/05/2016            Watford  0.93  2.39  0.46            1\n",
      "\n",
      "[732 rows x 6 columns]\n",
      "May 9, 2016\n"
     ]
    },
    {
     "name": "stderr",
     "output_type": "stream",
     "text": [
      "/usr/local/lib/python3.7/site-packages/ipykernel_launcher.py:51: DeprecationWarning: find_elements_by_xpath is deprecated. Please use find_elements(by=By.XPATH, value=xpath) instead\n",
      "/usr/local/lib/python3.7/site-packages/ipykernel_launcher.py:67: DeprecationWarning: find_elements_by_xpath is deprecated. Please use find_elements(by=By.XPATH, value=xpath) instead\n"
     ]
    },
    {
     "name": "stdout",
     "output_type": "stream",
     "text": [
      "May 10, 2016\n"
     ]
    },
    {
     "name": "stderr",
     "output_type": "stream",
     "text": [
      "/usr/local/lib/python3.7/site-packages/ipykernel_launcher.py:83: DeprecationWarning: find_elements_by_xpath is deprecated. Please use find_elements(by=By.XPATH, value=xpath) instead\n",
      "/usr/local/lib/python3.7/site-packages/ipykernel_launcher.py:84: DeprecationWarning: find_elements_by_xpath is deprecated. Please use find_elements(by=By.XPATH, value=xpath) instead\n",
      "/usr/local/lib/python3.7/site-packages/ipykernel_launcher.py:93: DeprecationWarning: find_elements_by_xpath is deprecated. Please use find_elements(by=By.XPATH, value=xpath) instead\n"
     ]
    },
    {
     "name": "stdout",
     "output_type": "stream",
     "text": [
      "          Date               Team    xG    xA  xPTS match_or_not\n",
      "0   08/08/2015          Leicester  2.57  1.46  2.13            1\n",
      "1   08/08/2015     Crystal Palace  2.11  1.13  2.13            1\n",
      "2   08/08/2015        Aston Villa  0.78  0.88  1.23            1\n",
      "3   08/08/2015  Manchester United  0.63  0.67  1.24            1\n",
      "4   08/08/2015            Everton  0.60  0.56  1.33            1\n",
      "..         ...                ...   ...   ...   ...          ...\n",
      "3   08/05/2016    Manchester City  0.75  1.08  1.00            1\n",
      "4   08/05/2016          Tottenham  2.56  1.31  2.28            1\n",
      "5   08/05/2016            Watford  0.93  2.39  0.46            1\n",
      "0   10/05/2016           West Ham  2.13  0.64  2.45            1\n",
      "1   10/05/2016  Manchester United  0.64  2.13  0.37            1\n",
      "\n",
      "[734 rows x 6 columns]\n",
      "May 11, 2016\n"
     ]
    },
    {
     "name": "stderr",
     "output_type": "stream",
     "text": [
      "/usr/local/lib/python3.7/site-packages/ipykernel_launcher.py:51: DeprecationWarning: find_elements_by_xpath is deprecated. Please use find_elements(by=By.XPATH, value=xpath) instead\n",
      "/usr/local/lib/python3.7/site-packages/ipykernel_launcher.py:67: DeprecationWarning: find_elements_by_xpath is deprecated. Please use find_elements(by=By.XPATH, value=xpath) instead\n",
      "/usr/local/lib/python3.7/site-packages/ipykernel_launcher.py:83: DeprecationWarning: find_elements_by_xpath is deprecated. Please use find_elements(by=By.XPATH, value=xpath) instead\n",
      "/usr/local/lib/python3.7/site-packages/ipykernel_launcher.py:84: DeprecationWarning: find_elements_by_xpath is deprecated. Please use find_elements(by=By.XPATH, value=xpath) instead\n",
      "/usr/local/lib/python3.7/site-packages/ipykernel_launcher.py:93: DeprecationWarning: find_elements_by_xpath is deprecated. Please use find_elements(by=By.XPATH, value=xpath) instead\n"
     ]
    },
    {
     "name": "stdout",
     "output_type": "stream",
     "text": [
      "          Date               Team    xG    xA  xPTS match_or_not\n",
      "0   08/08/2015          Leicester  2.57  1.46  2.13            1\n",
      "1   08/08/2015     Crystal Palace  2.11  1.13  2.13            1\n",
      "2   08/08/2015        Aston Villa  0.78  0.88  1.23            1\n",
      "3   08/08/2015  Manchester United  0.63  0.67  1.24            1\n",
      "4   08/08/2015            Everton  0.60  0.56  1.33            1\n",
      "..         ...                ...   ...   ...   ...          ...\n",
      "1   11/05/2016            Norwich  2.42  1.77  1.85            1\n",
      "2   11/05/2016            Chelsea  0.81  1.84  0.65            1\n",
      "3   11/05/2016          Liverpool  1.84  0.81  2.13            1\n",
      "4   11/05/2016            Watford  1.77  2.42  0.91            1\n",
      "5   11/05/2016            Everton  1.17  2.45  0.48            1\n",
      "\n",
      "[740 rows x 6 columns]\n",
      "May 12, 2016\n"
     ]
    },
    {
     "name": "stderr",
     "output_type": "stream",
     "text": [
      "/usr/local/lib/python3.7/site-packages/ipykernel_launcher.py:51: DeprecationWarning: find_elements_by_xpath is deprecated. Please use find_elements(by=By.XPATH, value=xpath) instead\n",
      "/usr/local/lib/python3.7/site-packages/ipykernel_launcher.py:67: DeprecationWarning: find_elements_by_xpath is deprecated. Please use find_elements(by=By.XPATH, value=xpath) instead\n"
     ]
    },
    {
     "name": "stdout",
     "output_type": "stream",
     "text": [
      "May 13, 2016\n",
      "May 14, 2016\n",
      "May 15, 2016\n"
     ]
    },
    {
     "name": "stderr",
     "output_type": "stream",
     "text": [
      "/usr/local/lib/python3.7/site-packages/ipykernel_launcher.py:83: DeprecationWarning: find_elements_by_xpath is deprecated. Please use find_elements(by=By.XPATH, value=xpath) instead\n",
      "/usr/local/lib/python3.7/site-packages/ipykernel_launcher.py:84: DeprecationWarning: find_elements_by_xpath is deprecated. Please use find_elements(by=By.XPATH, value=xpath) instead\n",
      "/usr/local/lib/python3.7/site-packages/ipykernel_launcher.py:93: DeprecationWarning: find_elements_by_xpath is deprecated. Please use find_elements(by=By.XPATH, value=xpath) instead\n"
     ]
    },
    {
     "name": "stdout",
     "output_type": "stream",
     "text": [
      "          Date               Team    xG    xA  xPTS match_or_not\n",
      "0   08/08/2015          Leicester  2.57  1.46  2.13            1\n",
      "1   08/08/2015     Crystal Palace  2.11  1.13  2.13            1\n",
      "2   08/08/2015        Aston Villa  0.78  0.88  1.23            1\n",
      "3   08/08/2015  Manchester United  0.63  0.67  1.24            1\n",
      "4   08/08/2015            Everton  0.60  0.56  1.33            1\n",
      "..         ...                ...   ...   ...   ...          ...\n",
      "13  15/05/2016           West Ham  2.94  0.29  2.88            1\n",
      "14  15/05/2016     Crystal Palace  1.25  2.32  0.65            1\n",
      "15  15/05/2016            Norwich  0.43  2.41  0.17            1\n",
      "16  15/05/2016          Tottenham  0.87  2.43  0.40            1\n",
      "17  15/05/2016        Aston Villa  0.22  3.40  0.04            1\n",
      "\n",
      "[758 rows x 6 columns]\n",
      "May 16, 2016\n"
     ]
    },
    {
     "name": "stderr",
     "output_type": "stream",
     "text": [
      "/usr/local/lib/python3.7/site-packages/ipykernel_launcher.py:51: DeprecationWarning: find_elements_by_xpath is deprecated. Please use find_elements(by=By.XPATH, value=xpath) instead\n",
      "/usr/local/lib/python3.7/site-packages/ipykernel_launcher.py:67: DeprecationWarning: find_elements_by_xpath is deprecated. Please use find_elements(by=By.XPATH, value=xpath) instead\n"
     ]
    },
    {
     "name": "stdout",
     "output_type": "stream",
     "text": [
      "May 17, 2016\n"
     ]
    },
    {
     "name": "stderr",
     "output_type": "stream",
     "text": [
      "/usr/local/lib/python3.7/site-packages/ipykernel_launcher.py:83: DeprecationWarning: find_elements_by_xpath is deprecated. Please use find_elements(by=By.XPATH, value=xpath) instead\n",
      "/usr/local/lib/python3.7/site-packages/ipykernel_launcher.py:84: DeprecationWarning: find_elements_by_xpath is deprecated. Please use find_elements(by=By.XPATH, value=xpath) instead\n",
      "/usr/local/lib/python3.7/site-packages/ipykernel_launcher.py:93: DeprecationWarning: find_elements_by_xpath is deprecated. Please use find_elements(by=By.XPATH, value=xpath) instead\n"
     ]
    },
    {
     "name": "stdout",
     "output_type": "stream",
     "text": [
      "          Date               Team    xG    xA  xPTS match_or_not\n",
      "0   08/08/2015          Leicester  2.57  1.46  2.13            1\n",
      "1   08/08/2015     Crystal Palace  2.11  1.13  2.13            1\n",
      "2   08/08/2015        Aston Villa  0.78  0.88  1.23            1\n",
      "3   08/08/2015  Manchester United  0.63  0.67  1.24            1\n",
      "4   08/08/2015            Everton  0.60  0.56  1.33            1\n",
      "..         ...                ...   ...   ...   ...          ...\n",
      "15  15/05/2016            Norwich  0.43  2.41  0.17            1\n",
      "16  15/05/2016          Tottenham  0.87  2.43  0.40            1\n",
      "17  15/05/2016        Aston Villa  0.22  3.40  0.04            1\n",
      "0   17/05/2016  Manchester United  1.72  0.50  2.37            1\n",
      "1   17/05/2016        Bournemouth  0.50  1.72  0.43            1\n",
      "\n",
      "[760 rows x 6 columns]\n"
     ]
    }
   ],
   "source": [
    "import pandas as pd\n",
    "\n",
    "month_list = ['Aug', 'Sep', 'Oct', 'Nov', 'Dec', 'Jan', 'Feb', 'Mar', 'Apr', 'May', 'Jun', 'Jul']\n",
    "month_list_temp = ['Jan', 'Feb', 'Mar', 'Apr', 'May', 'Jun', 'Jul', 'Aug', 'Sep', 'Oct', 'Nov', 'Dec']\n",
    "\n",
    "# 날짜 초기값 설정\n",
    "day = 7\n",
    "year = 15\n",
    "index_month = 0\n",
    "\n",
    "# # 시간대 설# time_set[0].click()\n",
    "# (영국시간) - 버그 있음\n",
    "# time_set = driver.find_elements_by_xpath(\"\"\"/html/body/div[1]/div[3]/div[2]/div/div/div[1]/div/label[3]\"\"\")\n",
    "\n",
    "# 빈 DataFrame 선언\n",
    "df = pd.DataFrame(columns=['Date', 'Team', 'xG', 'xA', 'xPTS', 'match_or_not'])\n",
    "\n",
    "while(1):\n",
    "    \n",
    "    # 날짜 수정\n",
    "    month = month_list[index_month]\n",
    "    day = day + 1\n",
    "    if month == 'Feb':\n",
    "        if day == 29:\n",
    "            day = 0\n",
    "            index_month = index_month + 1\n",
    "            continue\n",
    "    \n",
    "    elif month in ['Sep', 'Nov', 'Feb', 'Apr', 'Jun']:\n",
    "        if day == 31:\n",
    "            day = 0\n",
    "            index_month = index_month + 1\n",
    "            continue\n",
    "            \n",
    "    else:\n",
    "        if day == 32:\n",
    "            day = 0\n",
    "            index_month = index_month + 1\n",
    "            \n",
    "            if month == 'Dec':\n",
    "                year = year + 1\n",
    "            \n",
    "            continue\n",
    "    \n",
    "    \n",
    "    date = \"{} {}, 20{}\".format(month, day, year)\n",
    "    print(date)\n",
    "    \n",
    "    # 날짜 크롤링 및 입력\n",
    "    time.sleep(1)\n",
    "    date_start = driver.find_elements_by_xpath(\"\"\"//*[@class=\"datepicker hasDatepicker\"]\"\"\")\n",
    "    \n",
    "    date_start[0].clear()\n",
    "    date_start[0].send_keys(date)\n",
    "    date_start[0].send_keys(Keys.ENTER)\n",
    "    date_start[0].send_keys(Keys.ENTER)\n",
    "    time.sleep(1)\n",
    "\n",
    "    date_start[1].clear()\n",
    "    date_start[1].send_keys(date)\n",
    "    date_start[1].send_keys(Keys.ENTER)\n",
    "    date_start[1].send_keys(Keys.ENTER)\n",
    "    time.sleep(1)\n",
    "\n",
    "    # 치뤄진 경기 없으면 continue\n",
    "    xpath_match_or_not = '//*[@id=\"league-chemp\"]/table/tbody/tr[1]/td[3]'\n",
    "    match_or_not_temp = driver.find_elements_by_xpath(xpath_match_or_not)\n",
    "    time.sleep(1)\n",
    "    match_or_not_temp = match_or_not_temp[0].text\n",
    "    if match_or_not_temp == '0':\n",
    "        continue\n",
    "    \n",
    "    \n",
    "    # 팀 명, 경기 여부 크롤링\n",
    "    team_list = []\n",
    "    match_or_not_list = []\n",
    "    for i in range(1, 21):\n",
    "        xpath_str = '//*[@id=\"league-chemp\"]/table/tbody/tr[{}]/td[2]/a'.format(i)\n",
    "        time.sleep(1)\n",
    "        xpath_match = '//*[@id=\"league-chemp\"]/table/tbody/tr[{}]/td[3]'.format(i)\n",
    "        time.sleep(1)\n",
    "        \n",
    "        team = driver.find_elements_by_xpath(xpath_str)\n",
    "        match = driver.find_elements_by_xpath(xpath_match)\n",
    "        team = team[0].text\n",
    "        match = match[0].text\n",
    "\n",
    "        team_list.append(team)\n",
    "        match_or_not_list.append(match)\n",
    "    \n",
    "    \n",
    "    # xG 리스트 크롤링\n",
    "    xG = driver.find_elements_by_xpath('//div[@id=\"league-chemp\"]//table/tbody//td[@class=\"align-right nowrap\"]')\n",
    "    time.sleep(1)\n",
    "    \n",
    "    # xG, xA, xPTS 전처리\n",
    "    xG_list, xA_list, xPTS_list = [], [], []\n",
    "    \n",
    "    for i in range(len(xG)):\n",
    "        \n",
    "        xG_temp = xG[i].text\n",
    "        \n",
    "        if '-' in xG_temp:\n",
    "            index = xG_temp.find('-')\n",
    "            xG_temp = xG_temp[0:index]\n",
    "        if '+' in xG_temp:\n",
    "            index = xG_temp.find('+')\n",
    "            xG_temp = xG_temp[0:index]\n",
    "\n",
    "        if i % 3 == 0:\n",
    "            xG_list.append(xG_temp)\n",
    "        elif i % 3 == 1:\n",
    "            xA_list.append(xG_temp)\n",
    "        else:\n",
    "            xPTS_list.append(xG_temp)\n",
    "    \n",
    "    # 날짜 전처리\n",
    "    date_temp = date.replace(\",\", \"\")\n",
    "    date_temp = date_temp.split()\n",
    "\n",
    "    for month in month_list_temp:\n",
    "        if date_temp[0] == month:\n",
    "            index = month_list_temp.index(month)+1\n",
    "            index = str(index).zfill(2)\n",
    "\n",
    "    date_day = date_temp[1].zfill(2)\n",
    "    date_pretreat = \"{}/{}/{}\".format(date_day, index, date_temp[2])\n",
    "\n",
    "    # 최종 리스트 선언\n",
    "    df_temp = [[0 for col in range(6)] for row in range(20)]\n",
    "\n",
    "    for i in range(20):\n",
    "        df_temp[i][0] = date_pretreat\n",
    "        df_temp[i][1] = team_list[i]\n",
    "        df_temp[i][2] = xG_list[i]\n",
    "        df_temp[i][3] = xA_list[i]\n",
    "        df_temp[i][4] = xPTS_list[i]\n",
    "        df_temp[i][5] = match_or_not_list[i]\n",
    "    \n",
    "    # 치뤄지지 않은 경기(요소) 삭제\n",
    "    df_temp_final = df_temp.copy()\n",
    "    for i in reversed(range(len(df_temp_final))):\n",
    "        if df_temp_final[i][5] == '0':\n",
    "            del df_temp_final[i]\n",
    "\n",
    "    df_temp = pd.DataFrame(df_temp_final, columns=['Date', 'Team', 'xG', 'xA', 'xPTS', 'match_or_not'])\n",
    "    df = pd.concat([df, df_temp])\n",
    "    print(df)\n",
    "    \n",
    "    if date == \"May 17, 2016\":\n",
    "        break;\n"
   ]
  },
  {
   "cell_type": "code",
   "execution_count": 51,
   "id": "dc061d1c",
   "metadata": {},
   "outputs": [
    {
     "data": {
      "text/html": [
       "<div>\n",
       "<style scoped>\n",
       "    .dataframe tbody tr th:only-of-type {\n",
       "        vertical-align: middle;\n",
       "    }\n",
       "\n",
       "    .dataframe tbody tr th {\n",
       "        vertical-align: top;\n",
       "    }\n",
       "\n",
       "    .dataframe thead th {\n",
       "        text-align: right;\n",
       "    }\n",
       "</style>\n",
       "<table border=\"1\" class=\"dataframe\">\n",
       "  <thead>\n",
       "    <tr style=\"text-align: right;\">\n",
       "      <th></th>\n",
       "      <th>Date</th>\n",
       "      <th>Team</th>\n",
       "      <th>xG</th>\n",
       "      <th>xA</th>\n",
       "      <th>xPTS</th>\n",
       "      <th>match_or_not</th>\n",
       "    </tr>\n",
       "  </thead>\n",
       "  <tbody>\n",
       "    <tr>\n",
       "      <th>0</th>\n",
       "      <td>08/08/2015</td>\n",
       "      <td>Leicester</td>\n",
       "      <td>2.57</td>\n",
       "      <td>1.46</td>\n",
       "      <td>2.13</td>\n",
       "      <td>1</td>\n",
       "    </tr>\n",
       "    <tr>\n",
       "      <th>1</th>\n",
       "      <td>08/08/2015</td>\n",
       "      <td>Crystal Palace</td>\n",
       "      <td>2.11</td>\n",
       "      <td>1.13</td>\n",
       "      <td>2.13</td>\n",
       "      <td>1</td>\n",
       "    </tr>\n",
       "    <tr>\n",
       "      <th>2</th>\n",
       "      <td>08/08/2015</td>\n",
       "      <td>Aston Villa</td>\n",
       "      <td>0.78</td>\n",
       "      <td>0.88</td>\n",
       "      <td>1.23</td>\n",
       "      <td>1</td>\n",
       "    </tr>\n",
       "    <tr>\n",
       "      <th>3</th>\n",
       "      <td>08/08/2015</td>\n",
       "      <td>Manchester United</td>\n",
       "      <td>0.63</td>\n",
       "      <td>0.67</td>\n",
       "      <td>1.24</td>\n",
       "      <td>1</td>\n",
       "    </tr>\n",
       "    <tr>\n",
       "      <th>4</th>\n",
       "      <td>08/08/2015</td>\n",
       "      <td>Everton</td>\n",
       "      <td>0.60</td>\n",
       "      <td>0.56</td>\n",
       "      <td>1.33</td>\n",
       "      <td>1</td>\n",
       "    </tr>\n",
       "    <tr>\n",
       "      <th>...</th>\n",
       "      <td>...</td>\n",
       "      <td>...</td>\n",
       "      <td>...</td>\n",
       "      <td>...</td>\n",
       "      <td>...</td>\n",
       "      <td>...</td>\n",
       "    </tr>\n",
       "    <tr>\n",
       "      <th>755</th>\n",
       "      <td>15/05/2016</td>\n",
       "      <td>Norwich</td>\n",
       "      <td>0.43</td>\n",
       "      <td>2.41</td>\n",
       "      <td>0.17</td>\n",
       "      <td>1</td>\n",
       "    </tr>\n",
       "    <tr>\n",
       "      <th>756</th>\n",
       "      <td>15/05/2016</td>\n",
       "      <td>Tottenham</td>\n",
       "      <td>0.87</td>\n",
       "      <td>2.43</td>\n",
       "      <td>0.40</td>\n",
       "      <td>1</td>\n",
       "    </tr>\n",
       "    <tr>\n",
       "      <th>757</th>\n",
       "      <td>15/05/2016</td>\n",
       "      <td>Aston Villa</td>\n",
       "      <td>0.22</td>\n",
       "      <td>3.40</td>\n",
       "      <td>0.04</td>\n",
       "      <td>1</td>\n",
       "    </tr>\n",
       "    <tr>\n",
       "      <th>758</th>\n",
       "      <td>17/05/2016</td>\n",
       "      <td>Manchester United</td>\n",
       "      <td>1.72</td>\n",
       "      <td>0.50</td>\n",
       "      <td>2.37</td>\n",
       "      <td>1</td>\n",
       "    </tr>\n",
       "    <tr>\n",
       "      <th>759</th>\n",
       "      <td>17/05/2016</td>\n",
       "      <td>Bournemouth</td>\n",
       "      <td>0.50</td>\n",
       "      <td>1.72</td>\n",
       "      <td>0.43</td>\n",
       "      <td>1</td>\n",
       "    </tr>\n",
       "  </tbody>\n",
       "</table>\n",
       "<p>760 rows × 6 columns</p>\n",
       "</div>"
      ],
      "text/plain": [
       "           Date               Team    xG    xA  xPTS match_or_not\n",
       "0    08/08/2015          Leicester  2.57  1.46  2.13            1\n",
       "1    08/08/2015     Crystal Palace  2.11  1.13  2.13            1\n",
       "2    08/08/2015        Aston Villa  0.78  0.88  1.23            1\n",
       "3    08/08/2015  Manchester United  0.63  0.67  1.24            1\n",
       "4    08/08/2015            Everton  0.60  0.56  1.33            1\n",
       "..          ...                ...   ...   ...   ...          ...\n",
       "755  15/05/2016            Norwich  0.43  2.41  0.17            1\n",
       "756  15/05/2016          Tottenham  0.87  2.43  0.40            1\n",
       "757  15/05/2016        Aston Villa  0.22  3.40  0.04            1\n",
       "758  17/05/2016  Manchester United  1.72  0.50  2.37            1\n",
       "759  17/05/2016        Bournemouth  0.50  1.72  0.43            1\n",
       "\n",
       "[760 rows x 6 columns]"
      ]
     },
     "execution_count": 51,
     "metadata": {},
     "output_type": "execute_result"
    }
   ],
   "source": [
    "df = df.reset_index(drop=True)\n",
    "df"
   ]
  },
  {
   "cell_type": "code",
   "execution_count": 52,
   "id": "a5630b66",
   "metadata": {},
   "outputs": [],
   "source": [
    "df.to_csv(\"xG_2015-16.csv\", index=False)"
   ]
  }
 ],
 "metadata": {
  "kernelspec": {
   "display_name": "Python 3 (ipykernel)",
   "language": "python",
   "name": "python3"
  },
  "language_info": {
   "codemirror_mode": {
    "name": "ipython",
    "version": 3
   },
   "file_extension": ".py",
   "mimetype": "text/x-python",
   "name": "python",
   "nbconvert_exporter": "python",
   "pygments_lexer": "ipython3",
   "version": "3.7.13"
  }
 },
 "nbformat": 4,
 "nbformat_minor": 5
}
