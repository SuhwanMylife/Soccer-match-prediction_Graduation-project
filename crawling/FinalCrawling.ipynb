{
 "cells": [
  {
   "cell_type": "code",
   "execution_count": 6,
   "id": "1da5575c",
   "metadata": {},
   "outputs": [],
   "source": [
    "from selenium import webdriver\n",
    "from selenium.webdriver.common.keys import Keys\n",
    "from selenium.webdriver.common.by import By\n",
    "from selenium.webdriver.support.ui import WebDriverWait\n",
    "import time"
   ]
  },
  {
   "cell_type": "code",
   "execution_count": 7,
   "id": "7ab3cf2d",
   "metadata": {},
   "outputs": [
    {
     "name": "stderr",
     "output_type": "stream",
     "text": [
      "/usr/local/lib/python3.7/site-packages/ipykernel_launcher.py:6: DeprecationWarning: executable_path has been deprecated, please pass in a Service object\n",
      "  \n"
     ]
    }
   ],
   "source": [
    "# 크롤링 설정 및 시작\n",
    "options = webdriver.ChromeOptions()\n",
    "options.add_argument('--headless')\n",
    "options.add_argument('--no-sandbox')\n",
    "options.add_argument('--disable-dev-shm-usage')\n",
    "driver = webdriver.Chrome('/chromedriver',options=options)"
   ]
  },
  {
   "cell_type": "code",
   "execution_count": 8,
   "id": "197a954d",
   "metadata": {},
   "outputs": [],
   "source": [
    "# URL 접속\n",
    "driver.get(\"https://understat.com/league/EPL\")"
   ]
  },
  {
   "cell_type": "code",
   "execution_count": 9,
   "id": "d5fbf8e6",
   "metadata": {},
   "outputs": [
    {
     "name": "stderr",
     "output_type": "stream",
     "text": [
      "/usr/local/lib/python3.7/site-packages/ipykernel_launcher.py:2: DeprecationWarning: find_elements_by_xpath is deprecated. Please use find_elements(by=By.XPATH, value=xpath) instead\n",
      "  \n",
      "/usr/local/lib/python3.7/site-packages/ipykernel_launcher.py:4: DeprecationWarning: find_elements_by_xpath is deprecated. Please use find_elements(by=By.XPATH, value=xpath) instead\n",
      "  after removing the cwd from sys.path.\n"
     ]
    }
   ],
   "source": [
    "# 시즌 선택\n",
    "season_select = driver.find_elements_by_xpath(\"\"\"//*[@id=\"header\"]/div/div[2]/div\"\"\")\n",
    "season_select[0].click()\n",
    "season_select_num = driver.find_elements_by_xpath(\"\"\"//*[@id=\"header\"]/div/div[2]/ul/li[8]\"\"\")\n",
    "season_select_num[0].click()"
   ]
  },
  {
   "cell_type": "code",
   "execution_count": 10,
   "id": "51b8a3ee",
   "metadata": {},
   "outputs": [
    {
     "name": "stdout",
     "output_type": "stream",
     "text": [
      "Aug 16, 2014\n"
     ]
    },
    {
     "name": "stderr",
     "output_type": "stream",
     "text": [
      "/usr/local/lib/python3.7/site-packages/ipykernel_launcher.py:51: DeprecationWarning: find_elements_by_xpath is deprecated. Please use find_elements(by=By.XPATH, value=xpath) instead\n",
      "/usr/local/lib/python3.7/site-packages/ipykernel_launcher.py:67: DeprecationWarning: find_elements_by_xpath is deprecated. Please use find_elements(by=By.XPATH, value=xpath) instead\n",
      "/usr/local/lib/python3.7/site-packages/ipykernel_launcher.py:83: DeprecationWarning: find_elements_by_xpath is deprecated. Please use find_elements(by=By.XPATH, value=xpath) instead\n",
      "/usr/local/lib/python3.7/site-packages/ipykernel_launcher.py:84: DeprecationWarning: find_elements_by_xpath is deprecated. Please use find_elements(by=By.XPATH, value=xpath) instead\n",
      "/usr/local/lib/python3.7/site-packages/ipykernel_launcher.py:93: DeprecationWarning: find_elements_by_xpath is deprecated. Please use find_elements(by=By.XPATH, value=xpath) instead\n"
     ]
    },
    {
     "name": "stdout",
     "output_type": "stream",
     "text": [
      "          Date                  Team    xG    xA  xPTS match_or_not\n",
      "0   16/08/2014               Arsenal  1.55  0.16  2.79            1\n",
      "1   16/08/2014               Swansea  0.28  1.17  0.48            1\n",
      "2   16/08/2014           Aston Villa  0.91  0.42  1.83            1\n",
      "3   16/08/2014             Tottenham  1.02  1.85  0.71            1\n",
      "4   16/08/2014                  Hull  1.12  1.90  0.74            1\n",
      "5   16/08/2014               Everton  0.61  1.28  0.76            1\n",
      "6   16/08/2014             Leicester  1.28  0.61  1.95            1\n",
      "7   16/08/2014  West Bromwich Albion  1.68  0.99  2.04            1\n",
      "8   16/08/2014            Sunderland  0.99  1.68  0.70            1\n",
      "9   16/08/2014        Crystal Palace  0.16  1.55  0.11            1\n",
      "10  16/08/2014     Manchester United  1.17  0.28  2.24            1\n",
      "11  16/08/2014              West Ham  1.85  1.02  2.02            1\n",
      "12  16/08/2014                 Stoke  0.42  0.91  0.80            1\n",
      "13  16/08/2014   Queens Park Rangers  1.90  1.12  2.01            1\n",
      "Aug 17, 2014\n"
     ]
    },
    {
     "name": "stderr",
     "output_type": "stream",
     "text": [
      "/usr/local/lib/python3.7/site-packages/ipykernel_launcher.py:51: DeprecationWarning: find_elements_by_xpath is deprecated. Please use find_elements(by=By.XPATH, value=xpath) instead\n",
      "/usr/local/lib/python3.7/site-packages/ipykernel_launcher.py:67: DeprecationWarning: find_elements_by_xpath is deprecated. Please use find_elements(by=By.XPATH, value=xpath) instead\n",
      "/usr/local/lib/python3.7/site-packages/ipykernel_launcher.py:83: DeprecationWarning: find_elements_by_xpath is deprecated. Please use find_elements(by=By.XPATH, value=xpath) instead\n",
      "/usr/local/lib/python3.7/site-packages/ipykernel_launcher.py:84: DeprecationWarning: find_elements_by_xpath is deprecated. Please use find_elements(by=By.XPATH, value=xpath) instead\n",
      "/usr/local/lib/python3.7/site-packages/ipykernel_launcher.py:93: DeprecationWarning: find_elements_by_xpath is deprecated. Please use find_elements(by=By.XPATH, value=xpath) instead\n"
     ]
    },
    {
     "name": "stdout",
     "output_type": "stream",
     "text": [
      "          Date                  Team    xG    xA  xPTS match_or_not\n",
      "0   16/08/2014               Arsenal  1.55  0.16  2.79            1\n",
      "1   16/08/2014               Swansea  0.28  1.17  0.48            1\n",
      "2   16/08/2014           Aston Villa  0.91  0.42  1.83            1\n",
      "3   16/08/2014             Tottenham  1.02  1.85  0.71            1\n",
      "4   16/08/2014                  Hull  1.12  1.90  0.74            1\n",
      "5   16/08/2014               Everton  0.61  1.28  0.76            1\n",
      "6   16/08/2014             Leicester  1.28  0.61  1.95            1\n",
      "7   16/08/2014  West Bromwich Albion  1.68  0.99  2.04            1\n",
      "8   16/08/2014            Sunderland  0.99  1.68  0.70            1\n",
      "9   16/08/2014        Crystal Palace  0.16  1.55  0.11            1\n",
      "10  16/08/2014     Manchester United  1.17  0.28  2.24            1\n",
      "11  16/08/2014              West Ham  1.85  1.02  2.02            1\n",
      "12  16/08/2014                 Stoke  0.42  0.91  0.80            1\n",
      "13  16/08/2014   Queens Park Rangers  1.90  1.12  2.01            1\n",
      "0   17/08/2014       Manchester City  1.48  0.97  1.78            1\n",
      "1   17/08/2014             Liverpool  1.33  1.55  1.18            1\n",
      "2   17/08/2014           Southampton  1.55  1.33  1.53            1\n",
      "3   17/08/2014      Newcastle United  0.97  1.48  0.94            1\n",
      "Aug 18, 2014\n"
     ]
    },
    {
     "name": "stderr",
     "output_type": "stream",
     "text": [
      "/usr/local/lib/python3.7/site-packages/ipykernel_launcher.py:51: DeprecationWarning: find_elements_by_xpath is deprecated. Please use find_elements(by=By.XPATH, value=xpath) instead\n",
      "/usr/local/lib/python3.7/site-packages/ipykernel_launcher.py:67: DeprecationWarning: find_elements_by_xpath is deprecated. Please use find_elements(by=By.XPATH, value=xpath) instead\n",
      "/usr/local/lib/python3.7/site-packages/ipykernel_launcher.py:83: DeprecationWarning: find_elements_by_xpath is deprecated. Please use find_elements(by=By.XPATH, value=xpath) instead\n",
      "/usr/local/lib/python3.7/site-packages/ipykernel_launcher.py:84: DeprecationWarning: find_elements_by_xpath is deprecated. Please use find_elements(by=By.XPATH, value=xpath) instead\n",
      "/usr/local/lib/python3.7/site-packages/ipykernel_launcher.py:93: DeprecationWarning: find_elements_by_xpath is deprecated. Please use find_elements(by=By.XPATH, value=xpath) instead\n"
     ]
    },
    {
     "name": "stdout",
     "output_type": "stream",
     "text": [
      "          Date                  Team    xG    xA  xPTS match_or_not\n",
      "0   16/08/2014               Arsenal  1.55  0.16  2.79            1\n",
      "1   16/08/2014               Swansea  0.28  1.17  0.48            1\n",
      "2   16/08/2014           Aston Villa  0.91  0.42  1.83            1\n",
      "3   16/08/2014             Tottenham  1.02  1.85  0.71            1\n",
      "4   16/08/2014                  Hull  1.12  1.90  0.74            1\n",
      "5   16/08/2014               Everton  0.61  1.28  0.76            1\n",
      "6   16/08/2014             Leicester  1.28  0.61  1.95            1\n",
      "7   16/08/2014  West Bromwich Albion  1.68  0.99  2.04            1\n",
      "8   16/08/2014            Sunderland  0.99  1.68  0.70            1\n",
      "9   16/08/2014        Crystal Palace  0.16  1.55  0.11            1\n",
      "10  16/08/2014     Manchester United  1.17  0.28  2.24            1\n",
      "11  16/08/2014              West Ham  1.85  1.02  2.02            1\n",
      "12  16/08/2014                 Stoke  0.42  0.91  0.80            1\n",
      "13  16/08/2014   Queens Park Rangers  1.90  1.12  2.01            1\n",
      "0   17/08/2014       Manchester City  1.48  0.97  1.78            1\n",
      "1   17/08/2014             Liverpool  1.33  1.55  1.18            1\n",
      "2   17/08/2014           Southampton  1.55  1.33  1.53            1\n",
      "3   17/08/2014      Newcastle United  0.97  1.48  0.94            1\n",
      "0   18/08/2014               Chelsea  2.13  0.37  2.67            1\n",
      "1   18/08/2014               Burnley  0.37  2.13  0.21            1\n",
      "Aug 19, 2014\n"
     ]
    },
    {
     "name": "stderr",
     "output_type": "stream",
     "text": [
      "/usr/local/lib/python3.7/site-packages/ipykernel_launcher.py:51: DeprecationWarning: find_elements_by_xpath is deprecated. Please use find_elements(by=By.XPATH, value=xpath) instead\n",
      "/usr/local/lib/python3.7/site-packages/ipykernel_launcher.py:67: DeprecationWarning: find_elements_by_xpath is deprecated. Please use find_elements(by=By.XPATH, value=xpath) instead\n"
     ]
    },
    {
     "name": "stdout",
     "output_type": "stream",
     "text": [
      "Aug 20, 2014\n",
      "Aug 21, 2014\n",
      "Aug 22, 2014\n",
      "Aug 23, 2014\n"
     ]
    },
    {
     "name": "stderr",
     "output_type": "stream",
     "text": [
      "/usr/local/lib/python3.7/site-packages/ipykernel_launcher.py:83: DeprecationWarning: find_elements_by_xpath is deprecated. Please use find_elements(by=By.XPATH, value=xpath) instead\n",
      "/usr/local/lib/python3.7/site-packages/ipykernel_launcher.py:84: DeprecationWarning: find_elements_by_xpath is deprecated. Please use find_elements(by=By.XPATH, value=xpath) instead\n",
      "/usr/local/lib/python3.7/site-packages/ipykernel_launcher.py:93: DeprecationWarning: find_elements_by_xpath is deprecated. Please use find_elements(by=By.XPATH, value=xpath) instead\n"
     ]
    },
    {
     "name": "stdout",
     "output_type": "stream",
     "text": [
      "          Date                  Team    xG    xA  xPTS match_or_not\n",
      "0   16/08/2014               Arsenal  1.55  0.16  2.79            1\n",
      "1   16/08/2014               Swansea  0.28  1.17  0.48            1\n",
      "2   16/08/2014           Aston Villa  0.91  0.42  1.83            1\n",
      "3   16/08/2014             Tottenham  1.02  1.85  0.71            1\n",
      "4   16/08/2014                  Hull  1.12  1.90  0.74            1\n",
      "5   16/08/2014               Everton  0.61  1.28  0.76            1\n",
      "6   16/08/2014             Leicester  1.28  0.61  1.95            1\n",
      "7   16/08/2014  West Bromwich Albion  1.68  0.99  2.04            1\n",
      "8   16/08/2014            Sunderland  0.99  1.68  0.70            1\n",
      "9   16/08/2014        Crystal Palace  0.16  1.55  0.11            1\n",
      "10  16/08/2014     Manchester United  1.17  0.28  2.24            1\n",
      "11  16/08/2014              West Ham  1.85  1.02  2.02            1\n",
      "12  16/08/2014                 Stoke  0.42  0.91  0.80            1\n",
      "13  16/08/2014   Queens Park Rangers  1.90  1.12  2.01            1\n",
      "0   17/08/2014       Manchester City  1.48  0.97  1.78            1\n",
      "1   17/08/2014             Liverpool  1.33  1.55  1.18            1\n",
      "2   17/08/2014           Southampton  1.55  1.33  1.53            1\n",
      "3   17/08/2014      Newcastle United  0.97  1.48  0.94            1\n",
      "0   18/08/2014               Chelsea  2.13  0.37  2.67            1\n",
      "1   18/08/2014               Burnley  0.37  2.13  0.21            1\n",
      "0   23/08/2014              West Ham  1.34  0.62  1.97            1\n",
      "1   23/08/2014               Chelsea  2.03  0.55  2.47            1\n",
      "2   23/08/2014               Swansea  0.91  0.84  1.42            1\n",
      "3   23/08/2014               Everton  1.33  1.43  1.28            1\n",
      "4   23/08/2014               Arsenal  1.43  1.33  1.43            1\n",
      "5   23/08/2014           Aston Villa  0.51  0.70  1.11            1\n",
      "6   23/08/2014           Southampton  0.67  0.67  1.28            1\n",
      "7   23/08/2014  West Bromwich Albion  0.67  0.67  1.34            1\n",
      "8   23/08/2014      Newcastle United  0.70  0.51  1.48            1\n",
      "9   23/08/2014               Burnley  0.84  0.91  1.24            1\n",
      "10  23/08/2014        Crystal Palace  0.62  1.34  0.74            1\n",
      "11  23/08/2014             Leicester  0.55  2.03  0.35            1\n",
      "Aug 24, 2014\n"
     ]
    },
    {
     "name": "stderr",
     "output_type": "stream",
     "text": [
      "/usr/local/lib/python3.7/site-packages/ipykernel_launcher.py:51: DeprecationWarning: find_elements_by_xpath is deprecated. Please use find_elements(by=By.XPATH, value=xpath) instead\n",
      "/usr/local/lib/python3.7/site-packages/ipykernel_launcher.py:67: DeprecationWarning: find_elements_by_xpath is deprecated. Please use find_elements(by=By.XPATH, value=xpath) instead\n",
      "/usr/local/lib/python3.7/site-packages/ipykernel_launcher.py:83: DeprecationWarning: find_elements_by_xpath is deprecated. Please use find_elements(by=By.XPATH, value=xpath) instead\n",
      "/usr/local/lib/python3.7/site-packages/ipykernel_launcher.py:84: DeprecationWarning: find_elements_by_xpath is deprecated. Please use find_elements(by=By.XPATH, value=xpath) instead\n",
      "/usr/local/lib/python3.7/site-packages/ipykernel_launcher.py:93: DeprecationWarning: find_elements_by_xpath is deprecated. Please use find_elements(by=By.XPATH, value=xpath) instead\n"
     ]
    },
    {
     "name": "stdout",
     "output_type": "stream",
     "text": [
      "          Date                  Team    xG    xA  xPTS match_or_not\n",
      "0   16/08/2014               Arsenal  1.55  0.16  2.79            1\n",
      "1   16/08/2014               Swansea  0.28  1.17  0.48            1\n",
      "2   16/08/2014           Aston Villa  0.91  0.42  1.83            1\n",
      "3   16/08/2014             Tottenham  1.02  1.85  0.71            1\n",
      "4   16/08/2014                  Hull  1.12  1.90  0.74            1\n",
      "5   16/08/2014               Everton  0.61  1.28  0.76            1\n",
      "6   16/08/2014             Leicester  1.28  0.61  1.95            1\n",
      "7   16/08/2014  West Bromwich Albion  1.68  0.99  2.04            1\n",
      "8   16/08/2014            Sunderland  0.99  1.68  0.70            1\n",
      "9   16/08/2014        Crystal Palace  0.16  1.55  0.11            1\n",
      "10  16/08/2014     Manchester United  1.17  0.28  2.24            1\n",
      "11  16/08/2014              West Ham  1.85  1.02  2.02            1\n",
      "12  16/08/2014                 Stoke  0.42  0.91  0.80            1\n",
      "13  16/08/2014   Queens Park Rangers  1.90  1.12  2.01            1\n",
      "0   17/08/2014       Manchester City  1.48  0.97  1.78            1\n",
      "1   17/08/2014             Liverpool  1.33  1.55  1.18            1\n",
      "2   17/08/2014           Southampton  1.55  1.33  1.53            1\n",
      "3   17/08/2014      Newcastle United  0.97  1.48  0.94            1\n",
      "0   18/08/2014               Chelsea  2.13  0.37  2.67            1\n",
      "1   18/08/2014               Burnley  0.37  2.13  0.21            1\n",
      "0   23/08/2014              West Ham  1.34  0.62  1.97            1\n",
      "1   23/08/2014               Chelsea  2.03  0.55  2.47            1\n",
      "2   23/08/2014               Swansea  0.91  0.84  1.42            1\n",
      "3   23/08/2014               Everton  1.33  1.43  1.28            1\n",
      "4   23/08/2014               Arsenal  1.43  1.33  1.43            1\n",
      "5   23/08/2014           Aston Villa  0.51  0.70  1.11            1\n",
      "6   23/08/2014           Southampton  0.67  0.67  1.28            1\n",
      "7   23/08/2014  West Bromwich Albion  0.67  0.67  1.34            1\n",
      "8   23/08/2014      Newcastle United  0.70  0.51  1.48            1\n",
      "9   23/08/2014               Burnley  0.84  0.91  1.24            1\n",
      "10  23/08/2014        Crystal Palace  0.62  1.34  0.74            1\n",
      "11  23/08/2014             Leicester  0.55  2.03  0.35            1\n",
      "0   24/08/2014             Tottenham  2.39  1.08  2.28            1\n",
      "1   24/08/2014            Sunderland  0.67  0.94  0.97            1\n",
      "2   24/08/2014                 Stoke  1.61  0.87  1.99            1\n",
      "3   24/08/2014     Manchester United  0.94  0.67  1.67            1\n",
      "4   24/08/2014                  Hull  0.87  1.61  0.73            1\n",
      "5   24/08/2014   Queens Park Rangers  1.08  2.39  0.54            1\n",
      "Aug 25, 2014\n"
     ]
    },
    {
     "name": "stderr",
     "output_type": "stream",
     "text": [
      "/usr/local/lib/python3.7/site-packages/ipykernel_launcher.py:51: DeprecationWarning: find_elements_by_xpath is deprecated. Please use find_elements(by=By.XPATH, value=xpath) instead\n",
      "/usr/local/lib/python3.7/site-packages/ipykernel_launcher.py:67: DeprecationWarning: find_elements_by_xpath is deprecated. Please use find_elements(by=By.XPATH, value=xpath) instead\n",
      "/usr/local/lib/python3.7/site-packages/ipykernel_launcher.py:83: DeprecationWarning: find_elements_by_xpath is deprecated. Please use find_elements(by=By.XPATH, value=xpath) instead\n",
      "/usr/local/lib/python3.7/site-packages/ipykernel_launcher.py:84: DeprecationWarning: find_elements_by_xpath is deprecated. Please use find_elements(by=By.XPATH, value=xpath) instead\n",
      "/usr/local/lib/python3.7/site-packages/ipykernel_launcher.py:93: DeprecationWarning: find_elements_by_xpath is deprecated. Please use find_elements(by=By.XPATH, value=xpath) instead\n"
     ]
    },
    {
     "name": "stdout",
     "output_type": "stream",
     "text": [
      "          Date                  Team    xG    xA  xPTS match_or_not\n",
      "0   16/08/2014               Arsenal  1.55  0.16  2.79            1\n",
      "1   16/08/2014               Swansea  0.28  1.17  0.48            1\n",
      "2   16/08/2014           Aston Villa  0.91  0.42  1.83            1\n",
      "3   16/08/2014             Tottenham  1.02  1.85  0.71            1\n",
      "4   16/08/2014                  Hull  1.12  1.90  0.74            1\n",
      "5   16/08/2014               Everton  0.61  1.28  0.76            1\n",
      "6   16/08/2014             Leicester  1.28  0.61  1.95            1\n",
      "7   16/08/2014  West Bromwich Albion  1.68  0.99  2.04            1\n",
      "8   16/08/2014            Sunderland  0.99  1.68  0.70            1\n",
      "9   16/08/2014        Crystal Palace  0.16  1.55  0.11            1\n",
      "10  16/08/2014     Manchester United  1.17  0.28  2.24            1\n",
      "11  16/08/2014              West Ham  1.85  1.02  2.02            1\n",
      "12  16/08/2014                 Stoke  0.42  0.91  0.80            1\n",
      "13  16/08/2014   Queens Park Rangers  1.90  1.12  2.01            1\n",
      "0   17/08/2014       Manchester City  1.48  0.97  1.78            1\n",
      "1   17/08/2014             Liverpool  1.33  1.55  1.18            1\n",
      "2   17/08/2014           Southampton  1.55  1.33  1.53            1\n",
      "3   17/08/2014      Newcastle United  0.97  1.48  0.94            1\n",
      "0   18/08/2014               Chelsea  2.13  0.37  2.67            1\n",
      "1   18/08/2014               Burnley  0.37  2.13  0.21            1\n",
      "0   23/08/2014              West Ham  1.34  0.62  1.97            1\n",
      "1   23/08/2014               Chelsea  2.03  0.55  2.47            1\n",
      "2   23/08/2014               Swansea  0.91  0.84  1.42            1\n",
      "3   23/08/2014               Everton  1.33  1.43  1.28            1\n",
      "4   23/08/2014               Arsenal  1.43  1.33  1.43            1\n",
      "5   23/08/2014           Aston Villa  0.51  0.70  1.11            1\n",
      "6   23/08/2014           Southampton  0.67  0.67  1.28            1\n",
      "7   23/08/2014  West Bromwich Albion  0.67  0.67  1.34            1\n",
      "8   23/08/2014      Newcastle United  0.70  0.51  1.48            1\n",
      "9   23/08/2014               Burnley  0.84  0.91  1.24            1\n",
      "10  23/08/2014        Crystal Palace  0.62  1.34  0.74            1\n",
      "11  23/08/2014             Leicester  0.55  2.03  0.35            1\n",
      "0   24/08/2014             Tottenham  2.39  1.08  2.28            1\n",
      "1   24/08/2014            Sunderland  0.67  0.94  0.97            1\n",
      "2   24/08/2014                 Stoke  1.61  0.87  1.99            1\n",
      "3   24/08/2014     Manchester United  0.94  0.67  1.67            1\n",
      "4   24/08/2014                  Hull  0.87  1.61  0.73            1\n",
      "5   24/08/2014   Queens Park Rangers  1.08  2.39  0.54            1\n",
      "0   25/08/2014       Manchester City  1.31  0.90  1.74            1\n",
      "1   25/08/2014             Liverpool  0.90  1.31  0.96            1\n",
      "Aug 26, 2014\n"
     ]
    },
    {
     "name": "stderr",
     "output_type": "stream",
     "text": [
      "/usr/local/lib/python3.7/site-packages/ipykernel_launcher.py:51: DeprecationWarning: find_elements_by_xpath is deprecated. Please use find_elements(by=By.XPATH, value=xpath) instead\n",
      "/usr/local/lib/python3.7/site-packages/ipykernel_launcher.py:67: DeprecationWarning: find_elements_by_xpath is deprecated. Please use find_elements(by=By.XPATH, value=xpath) instead\n"
     ]
    },
    {
     "name": "stdout",
     "output_type": "stream",
     "text": [
      "Aug 27, 2014\n",
      "Aug 28, 2014\n",
      "Aug 29, 2014\n",
      "Aug 30, 2014\n"
     ]
    },
    {
     "name": "stderr",
     "output_type": "stream",
     "text": [
      "/usr/local/lib/python3.7/site-packages/ipykernel_launcher.py:83: DeprecationWarning: find_elements_by_xpath is deprecated. Please use find_elements(by=By.XPATH, value=xpath) instead\n",
      "/usr/local/lib/python3.7/site-packages/ipykernel_launcher.py:84: DeprecationWarning: find_elements_by_xpath is deprecated. Please use find_elements(by=By.XPATH, value=xpath) instead\n",
      "/usr/local/lib/python3.7/site-packages/ipykernel_launcher.py:93: DeprecationWarning: find_elements_by_xpath is deprecated. Please use find_elements(by=By.XPATH, value=xpath) instead\n"
     ]
    },
    {
     "name": "stdout",
     "output_type": "stream",
     "text": [
      "          Date                  Team    xG    xA  xPTS match_or_not\n",
      "0   16/08/2014               Arsenal  1.55  0.16  2.79            1\n",
      "1   16/08/2014               Swansea  0.28  1.17  0.48            1\n",
      "2   16/08/2014           Aston Villa  0.91  0.42  1.83            1\n",
      "3   16/08/2014             Tottenham  1.02  1.85  0.71            1\n",
      "4   16/08/2014                  Hull  1.12  1.90  0.74            1\n",
      "5   16/08/2014               Everton  0.61  1.28  0.76            1\n",
      "6   16/08/2014             Leicester  1.28  0.61  1.95            1\n",
      "7   16/08/2014  West Bromwich Albion  1.68  0.99  2.04            1\n",
      "8   16/08/2014            Sunderland  0.99  1.68  0.70            1\n",
      "9   16/08/2014        Crystal Palace  0.16  1.55  0.11            1\n",
      "10  16/08/2014     Manchester United  1.17  0.28  2.24            1\n",
      "11  16/08/2014              West Ham  1.85  1.02  2.02            1\n",
      "12  16/08/2014                 Stoke  0.42  0.91  0.80            1\n",
      "13  16/08/2014   Queens Park Rangers  1.90  1.12  2.01            1\n",
      "0   17/08/2014       Manchester City  1.48  0.97  1.78            1\n",
      "1   17/08/2014             Liverpool  1.33  1.55  1.18            1\n",
      "2   17/08/2014           Southampton  1.55  1.33  1.53            1\n",
      "3   17/08/2014      Newcastle United  0.97  1.48  0.94            1\n",
      "0   18/08/2014               Chelsea  2.13  0.37  2.67            1\n",
      "1   18/08/2014               Burnley  0.37  2.13  0.21            1\n",
      "0   23/08/2014              West Ham  1.34  0.62  1.97            1\n",
      "1   23/08/2014               Chelsea  2.03  0.55  2.47            1\n",
      "2   23/08/2014               Swansea  0.91  0.84  1.42            1\n",
      "3   23/08/2014               Everton  1.33  1.43  1.28            1\n",
      "4   23/08/2014               Arsenal  1.43  1.33  1.43            1\n",
      "5   23/08/2014           Aston Villa  0.51  0.70  1.11            1\n",
      "6   23/08/2014           Southampton  0.67  0.67  1.28            1\n",
      "7   23/08/2014  West Bromwich Albion  0.67  0.67  1.34            1\n",
      "8   23/08/2014      Newcastle United  0.70  0.51  1.48            1\n",
      "9   23/08/2014               Burnley  0.84  0.91  1.24            1\n",
      "10  23/08/2014        Crystal Palace  0.62  1.34  0.74            1\n",
      "11  23/08/2014             Leicester  0.55  2.03  0.35            1\n",
      "0   24/08/2014             Tottenham  2.39  1.08  2.28            1\n",
      "1   24/08/2014            Sunderland  0.67  0.94  0.97            1\n",
      "2   24/08/2014                 Stoke  1.61  0.87  1.99            1\n",
      "3   24/08/2014     Manchester United  0.94  0.67  1.67            1\n",
      "4   24/08/2014                  Hull  0.87  1.61  0.73            1\n",
      "5   24/08/2014   Queens Park Rangers  1.08  2.39  0.54            1\n",
      "0   25/08/2014       Manchester City  1.31  0.90  1.74            1\n",
      "1   25/08/2014             Liverpool  0.90  1.31  0.96            1\n",
      "0   30/08/2014               Chelsea  2.03  1.45  1.79            1\n",
      "1   30/08/2014               Swansea  2.03  0.70  2.37            1\n",
      "2   30/08/2014           Southampton  1.58  0.64  2.15            1\n",
      "3   30/08/2014                 Stoke  0.30  0.89  0.75            1\n",
      "4   30/08/2014   Queens Park Rangers  1.27  0.96  1.59            1\n",
      "5   30/08/2014        Crystal Palace  1.66  1.70  1.33            1\n",
      "6   30/08/2014      Newcastle United  1.70  1.66  1.36            1\n",
      "7   30/08/2014     Manchester United  0.47  0.51  1.21            1\n",
      "8   30/08/2014               Burnley  0.51  0.47  1.31            1\n",
      "9   30/08/2014            Sunderland  0.96  1.27  1.11            1\n",
      "10  30/08/2014       Manchester City  0.89  0.30  1.86            1\n",
      "11  30/08/2014              West Ham  0.64  1.58  0.58            1\n",
      "12  30/08/2014               Everton  1.45  2.03  0.98            1\n",
      "13  30/08/2014  West Bromwich Albion  0.70  2.03  0.45            1\n",
      "Aug 31, 2014\n"
     ]
    },
    {
     "name": "stderr",
     "output_type": "stream",
     "text": [
      "/usr/local/lib/python3.7/site-packages/ipykernel_launcher.py:51: DeprecationWarning: find_elements_by_xpath is deprecated. Please use find_elements(by=By.XPATH, value=xpath) instead\n",
      "/usr/local/lib/python3.7/site-packages/ipykernel_launcher.py:67: DeprecationWarning: find_elements_by_xpath is deprecated. Please use find_elements(by=By.XPATH, value=xpath) instead\n",
      "/usr/local/lib/python3.7/site-packages/ipykernel_launcher.py:83: DeprecationWarning: find_elements_by_xpath is deprecated. Please use find_elements(by=By.XPATH, value=xpath) instead\n",
      "/usr/local/lib/python3.7/site-packages/ipykernel_launcher.py:84: DeprecationWarning: find_elements_by_xpath is deprecated. Please use find_elements(by=By.XPATH, value=xpath) instead\n",
      "/usr/local/lib/python3.7/site-packages/ipykernel_launcher.py:93: DeprecationWarning: find_elements_by_xpath is deprecated. Please use find_elements(by=By.XPATH, value=xpath) instead\n"
     ]
    },
    {
     "name": "stdout",
     "output_type": "stream",
     "text": [
      "          Date                  Team    xG    xA  xPTS match_or_not\n",
      "0   16/08/2014               Arsenal  1.55  0.16  2.79            1\n",
      "1   16/08/2014               Swansea  0.28  1.17  0.48            1\n",
      "2   16/08/2014           Aston Villa  0.91  0.42  1.83            1\n",
      "3   16/08/2014             Tottenham  1.02  1.85  0.71            1\n",
      "4   16/08/2014                  Hull  1.12  1.90  0.74            1\n",
      "5   16/08/2014               Everton  0.61  1.28  0.76            1\n",
      "6   16/08/2014             Leicester  1.28  0.61  1.95            1\n",
      "7   16/08/2014  West Bromwich Albion  1.68  0.99  2.04            1\n",
      "8   16/08/2014            Sunderland  0.99  1.68  0.70            1\n",
      "9   16/08/2014        Crystal Palace  0.16  1.55  0.11            1\n",
      "10  16/08/2014     Manchester United  1.17  0.28  2.24            1\n",
      "11  16/08/2014              West Ham  1.85  1.02  2.02            1\n",
      "12  16/08/2014                 Stoke  0.42  0.91  0.80            1\n",
      "13  16/08/2014   Queens Park Rangers  1.90  1.12  2.01            1\n",
      "0   17/08/2014       Manchester City  1.48  0.97  1.78            1\n",
      "1   17/08/2014             Liverpool  1.33  1.55  1.18            1\n",
      "2   17/08/2014           Southampton  1.55  1.33  1.53            1\n",
      "3   17/08/2014      Newcastle United  0.97  1.48  0.94            1\n",
      "0   18/08/2014               Chelsea  2.13  0.37  2.67            1\n",
      "1   18/08/2014               Burnley  0.37  2.13  0.21            1\n",
      "0   23/08/2014              West Ham  1.34  0.62  1.97            1\n",
      "1   23/08/2014               Chelsea  2.03  0.55  2.47            1\n",
      "2   23/08/2014               Swansea  0.91  0.84  1.42            1\n",
      "3   23/08/2014               Everton  1.33  1.43  1.28            1\n",
      "4   23/08/2014               Arsenal  1.43  1.33  1.43            1\n",
      "5   23/08/2014           Aston Villa  0.51  0.70  1.11            1\n",
      "6   23/08/2014           Southampton  0.67  0.67  1.28            1\n",
      "7   23/08/2014  West Bromwich Albion  0.67  0.67  1.34            1\n",
      "8   23/08/2014      Newcastle United  0.70  0.51  1.48            1\n",
      "9   23/08/2014               Burnley  0.84  0.91  1.24            1\n",
      "10  23/08/2014        Crystal Palace  0.62  1.34  0.74            1\n",
      "11  23/08/2014             Leicester  0.55  2.03  0.35            1\n",
      "0   24/08/2014             Tottenham  2.39  1.08  2.28            1\n",
      "1   24/08/2014            Sunderland  0.67  0.94  0.97            1\n",
      "2   24/08/2014                 Stoke  1.61  0.87  1.99            1\n",
      "3   24/08/2014     Manchester United  0.94  0.67  1.67            1\n",
      "4   24/08/2014                  Hull  0.87  1.61  0.73            1\n",
      "5   24/08/2014   Queens Park Rangers  1.08  2.39  0.54            1\n",
      "0   25/08/2014       Manchester City  1.31  0.90  1.74            1\n",
      "1   25/08/2014             Liverpool  0.90  1.31  0.96            1\n",
      "0   30/08/2014               Chelsea  2.03  1.45  1.79            1\n",
      "1   30/08/2014               Swansea  2.03  0.70  2.37            1\n",
      "2   30/08/2014           Southampton  1.58  0.64  2.15            1\n",
      "3   30/08/2014                 Stoke  0.30  0.89  0.75            1\n",
      "4   30/08/2014   Queens Park Rangers  1.27  0.96  1.59            1\n",
      "5   30/08/2014        Crystal Palace  1.66  1.70  1.33            1\n",
      "6   30/08/2014      Newcastle United  1.70  1.66  1.36            1\n",
      "7   30/08/2014     Manchester United  0.47  0.51  1.21            1\n",
      "8   30/08/2014               Burnley  0.51  0.47  1.31            1\n",
      "9   30/08/2014            Sunderland  0.96  1.27  1.11            1\n",
      "10  30/08/2014       Manchester City  0.89  0.30  1.86            1\n",
      "11  30/08/2014              West Ham  0.64  1.58  0.58            1\n",
      "12  30/08/2014               Everton  1.45  2.03  0.98            1\n",
      "13  30/08/2014  West Bromwich Albion  0.70  2.03  0.45            1\n",
      "0   31/08/2014             Liverpool  2.74  0.49  2.76            1\n",
      "1   31/08/2014           Aston Villa  0.64  0.29  1.61            1\n",
      "2   31/08/2014             Leicester  0.81  2.30  0.41            1\n",
      "3   31/08/2014               Arsenal  2.30  0.81  2.41            1\n",
      "4   31/08/2014                  Hull  0.29  0.64  0.91            1\n",
      "5   31/08/2014             Tottenham  0.49  2.74  0.16            1\n",
      "Sep 1, 2014\n"
     ]
    },
    {
     "name": "stderr",
     "output_type": "stream",
     "text": [
      "/usr/local/lib/python3.7/site-packages/ipykernel_launcher.py:51: DeprecationWarning: find_elements_by_xpath is deprecated. Please use find_elements(by=By.XPATH, value=xpath) instead\n",
      "/usr/local/lib/python3.7/site-packages/ipykernel_launcher.py:67: DeprecationWarning: find_elements_by_xpath is deprecated. Please use find_elements(by=By.XPATH, value=xpath) instead\n"
     ]
    },
    {
     "name": "stdout",
     "output_type": "stream",
     "text": [
      "Sep 2, 2014\n",
      "Sep 3, 2014\n",
      "Sep 4, 2014\n",
      "Sep 5, 2014\n",
      "Sep 6, 2014\n",
      "Sep 7, 2014\n",
      "Sep 8, 2014\n",
      "Sep 9, 2014\n",
      "Sep 10, 2014\n",
      "Sep 11, 2014\n",
      "Sep 12, 2014\n",
      "Sep 13, 2014\n"
     ]
    },
    {
     "name": "stderr",
     "output_type": "stream",
     "text": [
      "/usr/local/lib/python3.7/site-packages/ipykernel_launcher.py:83: DeprecationWarning: find_elements_by_xpath is deprecated. Please use find_elements(by=By.XPATH, value=xpath) instead\n",
      "/usr/local/lib/python3.7/site-packages/ipykernel_launcher.py:84: DeprecationWarning: find_elements_by_xpath is deprecated. Please use find_elements(by=By.XPATH, value=xpath) instead\n",
      "/usr/local/lib/python3.7/site-packages/ipykernel_launcher.py:93: DeprecationWarning: find_elements_by_xpath is deprecated. Please use find_elements(by=By.XPATH, value=xpath) instead\n"
     ]
    },
    {
     "name": "stdout",
     "output_type": "stream",
     "text": [
      "          Date                  Team    xG    xA  xPTS match_or_not\n",
      "0   16/08/2014               Arsenal  1.55  0.16  2.79            1\n",
      "1   16/08/2014               Swansea  0.28  1.17  0.48            1\n",
      "2   16/08/2014           Aston Villa  0.91  0.42  1.83            1\n",
      "3   16/08/2014             Tottenham  1.02  1.85  0.71            1\n",
      "4   16/08/2014                  Hull  1.12  1.90  0.74            1\n",
      "..         ...                   ...   ...   ...   ...          ...\n",
      "11  13/09/2014                 Stoke  1.65  0.60  2.19            1\n",
      "12  13/09/2014             Liverpool  0.73  0.70  1.30            1\n",
      "13  13/09/2014               Swansea  1.02  3.57  0.20            1\n",
      "14  13/09/2014  West Bromwich Albion  0.60  0.81  1.07            1\n",
      "15  13/09/2014      Newcastle United  1.15  2.12  0.64            1\n",
      "\n",
      "[76 rows x 6 columns]\n",
      "Sep 14, 2014\n"
     ]
    },
    {
     "name": "stderr",
     "output_type": "stream",
     "text": [
      "/usr/local/lib/python3.7/site-packages/ipykernel_launcher.py:51: DeprecationWarning: find_elements_by_xpath is deprecated. Please use find_elements(by=By.XPATH, value=xpath) instead\n",
      "/usr/local/lib/python3.7/site-packages/ipykernel_launcher.py:67: DeprecationWarning: find_elements_by_xpath is deprecated. Please use find_elements(by=By.XPATH, value=xpath) instead\n",
      "/usr/local/lib/python3.7/site-packages/ipykernel_launcher.py:83: DeprecationWarning: find_elements_by_xpath is deprecated. Please use find_elements(by=By.XPATH, value=xpath) instead\n",
      "/usr/local/lib/python3.7/site-packages/ipykernel_launcher.py:84: DeprecationWarning: find_elements_by_xpath is deprecated. Please use find_elements(by=By.XPATH, value=xpath) instead\n",
      "/usr/local/lib/python3.7/site-packages/ipykernel_launcher.py:93: DeprecationWarning: find_elements_by_xpath is deprecated. Please use find_elements(by=By.XPATH, value=xpath) instead\n"
     ]
    },
    {
     "name": "stdout",
     "output_type": "stream",
     "text": [
      "          Date                  Team    xG    xA  xPTS match_or_not\n",
      "0   16/08/2014               Arsenal  1.55  0.16  2.79            1\n",
      "1   16/08/2014               Swansea  0.28  1.17  0.48            1\n",
      "2   16/08/2014           Aston Villa  0.91  0.42  1.83            1\n",
      "3   16/08/2014             Tottenham  1.02  1.85  0.71            1\n",
      "4   16/08/2014                  Hull  1.12  1.90  0.74            1\n",
      "..         ...                   ...   ...   ...   ...          ...\n",
      "13  13/09/2014               Swansea  1.02  3.57  0.20            1\n",
      "14  13/09/2014  West Bromwich Albion  0.60  0.81  1.07            1\n",
      "15  13/09/2014      Newcastle United  1.15  2.12  0.64            1\n",
      "0   14/09/2014     Manchester United  2.21  0.56  2.54            1\n",
      "1   14/09/2014   Queens Park Rangers  0.56  2.21  0.31            1\n",
      "\n",
      "[78 rows x 6 columns]\n",
      "Sep 15, 2014\n"
     ]
    },
    {
     "name": "stderr",
     "output_type": "stream",
     "text": [
      "/usr/local/lib/python3.7/site-packages/ipykernel_launcher.py:51: DeprecationWarning: find_elements_by_xpath is deprecated. Please use find_elements(by=By.XPATH, value=xpath) instead\n",
      "/usr/local/lib/python3.7/site-packages/ipykernel_launcher.py:67: DeprecationWarning: find_elements_by_xpath is deprecated. Please use find_elements(by=By.XPATH, value=xpath) instead\n",
      "/usr/local/lib/python3.7/site-packages/ipykernel_launcher.py:83: DeprecationWarning: find_elements_by_xpath is deprecated. Please use find_elements(by=By.XPATH, value=xpath) instead\n",
      "/usr/local/lib/python3.7/site-packages/ipykernel_launcher.py:84: DeprecationWarning: find_elements_by_xpath is deprecated. Please use find_elements(by=By.XPATH, value=xpath) instead\n",
      "/usr/local/lib/python3.7/site-packages/ipykernel_launcher.py:93: DeprecationWarning: find_elements_by_xpath is deprecated. Please use find_elements(by=By.XPATH, value=xpath) instead\n"
     ]
    },
    {
     "name": "stdout",
     "output_type": "stream",
     "text": [
      "          Date                 Team    xG    xA  xPTS match_or_not\n",
      "0   16/08/2014              Arsenal  1.55  0.16  2.79            1\n",
      "1   16/08/2014              Swansea  0.28  1.17  0.48            1\n",
      "2   16/08/2014          Aston Villa  0.91  0.42  1.83            1\n",
      "3   16/08/2014            Tottenham  1.02  1.85  0.71            1\n",
      "4   16/08/2014                 Hull  1.12  1.90  0.74            1\n",
      "..         ...                  ...   ...   ...   ...          ...\n",
      "15  13/09/2014     Newcastle United  1.15  2.12  0.64            1\n",
      "0   14/09/2014    Manchester United  2.21  0.56  2.54            1\n",
      "1   14/09/2014  Queens Park Rangers  0.56  2.21  0.31            1\n",
      "0   15/09/2014             West Ham  0.66  0.44  1.52            1\n",
      "1   15/09/2014                 Hull  0.44  0.66  1.05            1\n",
      "\n",
      "[80 rows x 6 columns]\n",
      "Sep 16, 2014\n"
     ]
    },
    {
     "name": "stderr",
     "output_type": "stream",
     "text": [
      "/usr/local/lib/python3.7/site-packages/ipykernel_launcher.py:51: DeprecationWarning: find_elements_by_xpath is deprecated. Please use find_elements(by=By.XPATH, value=xpath) instead\n",
      "/usr/local/lib/python3.7/site-packages/ipykernel_launcher.py:67: DeprecationWarning: find_elements_by_xpath is deprecated. Please use find_elements(by=By.XPATH, value=xpath) instead\n"
     ]
    },
    {
     "name": "stdout",
     "output_type": "stream",
     "text": [
      "Sep 17, 2014\n",
      "Sep 18, 2014\n",
      "Sep 19, 2014\n",
      "Sep 20, 2014\n"
     ]
    },
    {
     "name": "stderr",
     "output_type": "stream",
     "text": [
      "/usr/local/lib/python3.7/site-packages/ipykernel_launcher.py:83: DeprecationWarning: find_elements_by_xpath is deprecated. Please use find_elements(by=By.XPATH, value=xpath) instead\n",
      "/usr/local/lib/python3.7/site-packages/ipykernel_launcher.py:84: DeprecationWarning: find_elements_by_xpath is deprecated. Please use find_elements(by=By.XPATH, value=xpath) instead\n",
      "/usr/local/lib/python3.7/site-packages/ipykernel_launcher.py:93: DeprecationWarning: find_elements_by_xpath is deprecated. Please use find_elements(by=By.XPATH, value=xpath) instead\n"
     ]
    },
    {
     "name": "stdout",
     "output_type": "stream",
     "text": [
      "          Date         Team    xG    xA  xPTS match_or_not\n",
      "0   16/08/2014      Arsenal  1.55  0.16  2.79            1\n",
      "1   16/08/2014      Swansea  0.28  1.17  0.48            1\n",
      "2   16/08/2014  Aston Villa  0.91  0.42  1.83            1\n",
      "3   16/08/2014    Tottenham  1.02  1.85  0.71            1\n",
      "4   16/08/2014         Hull  1.12  1.90  0.74            1\n",
      "..         ...          ...   ...   ...   ...          ...\n",
      "7   20/09/2014   Sunderland  0.64  0.71  1.24            1\n",
      "8   20/09/2014      Burnley  0.71  0.64  1.36            1\n",
      "9   20/09/2014      Swansea  0.52  0.75  1.10            1\n",
      "10  20/09/2014    Liverpool  0.38  1.26  0.50            1\n",
      "11  20/09/2014  Aston Villa  0.65  1.36  0.69            1\n",
      "\n",
      "[92 rows x 6 columns]\n",
      "Sep 21, 2014\n"
     ]
    },
    {
     "name": "stderr",
     "output_type": "stream",
     "text": [
      "/usr/local/lib/python3.7/site-packages/ipykernel_launcher.py:51: DeprecationWarning: find_elements_by_xpath is deprecated. Please use find_elements(by=By.XPATH, value=xpath) instead\n",
      "/usr/local/lib/python3.7/site-packages/ipykernel_launcher.py:67: DeprecationWarning: find_elements_by_xpath is deprecated. Please use find_elements(by=By.XPATH, value=xpath) instead\n",
      "/usr/local/lib/python3.7/site-packages/ipykernel_launcher.py:83: DeprecationWarning: find_elements_by_xpath is deprecated. Please use find_elements(by=By.XPATH, value=xpath) instead\n",
      "/usr/local/lib/python3.7/site-packages/ipykernel_launcher.py:84: DeprecationWarning: find_elements_by_xpath is deprecated. Please use find_elements(by=By.XPATH, value=xpath) instead\n",
      "/usr/local/lib/python3.7/site-packages/ipykernel_launcher.py:93: DeprecationWarning: find_elements_by_xpath is deprecated. Please use find_elements(by=By.XPATH, value=xpath) instead\n"
     ]
    },
    {
     "name": "stdout",
     "output_type": "stream",
     "text": [
      "          Date               Team    xG    xA  xPTS match_or_not\n",
      "0   16/08/2014            Arsenal  1.55  0.16  2.79            1\n",
      "1   16/08/2014            Swansea  0.28  1.17  0.48            1\n",
      "2   16/08/2014        Aston Villa  0.91  0.42  1.83            1\n",
      "3   16/08/2014          Tottenham  1.02  1.85  0.71            1\n",
      "4   16/08/2014               Hull  1.12  1.90  0.74            1\n",
      "..         ...                ...   ...   ...   ...          ...\n",
      "3   21/09/2014            Chelsea  1.02  1.06  1.35            1\n",
      "4   21/09/2014    Manchester City  1.06  1.02  1.30            1\n",
      "5   21/09/2014            Everton  2.56  1.63  2.07            1\n",
      "6   21/09/2014          Tottenham  0.44  1.08  0.72            1\n",
      "7   21/09/2014  Manchester United  1.71  2.54  0.81            1\n",
      "\n",
      "[100 rows x 6 columns]\n",
      "Sep 22, 2014\n"
     ]
    },
    {
     "name": "stderr",
     "output_type": "stream",
     "text": [
      "/usr/local/lib/python3.7/site-packages/ipykernel_launcher.py:51: DeprecationWarning: find_elements_by_xpath is deprecated. Please use find_elements(by=By.XPATH, value=xpath) instead\n",
      "/usr/local/lib/python3.7/site-packages/ipykernel_launcher.py:67: DeprecationWarning: find_elements_by_xpath is deprecated. Please use find_elements(by=By.XPATH, value=xpath) instead\n"
     ]
    },
    {
     "name": "stdout",
     "output_type": "stream",
     "text": [
      "Sep 23, 2014\n",
      "Sep 24, 2014\n",
      "Sep 25, 2014\n",
      "Sep 26, 2014\n",
      "Sep 27, 2014\n"
     ]
    },
    {
     "name": "stderr",
     "output_type": "stream",
     "text": [
      "/usr/local/lib/python3.7/site-packages/ipykernel_launcher.py:83: DeprecationWarning: find_elements_by_xpath is deprecated. Please use find_elements(by=By.XPATH, value=xpath) instead\n",
      "/usr/local/lib/python3.7/site-packages/ipykernel_launcher.py:84: DeprecationWarning: find_elements_by_xpath is deprecated. Please use find_elements(by=By.XPATH, value=xpath) instead\n",
      "/usr/local/lib/python3.7/site-packages/ipykernel_launcher.py:93: DeprecationWarning: find_elements_by_xpath is deprecated. Please use find_elements(by=By.XPATH, value=xpath) instead\n"
     ]
    },
    {
     "name": "stdout",
     "output_type": "stream",
     "text": [
      "          Date                 Team    xG    xA  xPTS match_or_not\n",
      "0   16/08/2014              Arsenal  1.55  0.16  2.79            1\n",
      "1   16/08/2014              Swansea  0.28  1.17  0.48            1\n",
      "2   16/08/2014          Aston Villa  0.91  0.42  1.83            1\n",
      "3   16/08/2014            Tottenham  1.02  1.85  0.71            1\n",
      "4   16/08/2014                 Hull  1.12  1.90  0.74            1\n",
      "..         ...                  ...   ...   ...   ...          ...\n",
      "11  27/09/2014             West Ham  1.27  0.52  2.02            1\n",
      "12  27/09/2014  Queens Park Rangers  0.46  2.34  0.23            1\n",
      "13  27/09/2014                 Hull  1.12  1.79  0.85            1\n",
      "14  27/09/2014            Leicester  0.45  2.11  0.18            1\n",
      "15  27/09/2014          Aston Villa  0.23  3.14  0.02            1\n",
      "\n",
      "[116 rows x 6 columns]\n",
      "Sep 28, 2014\n"
     ]
    },
    {
     "name": "stderr",
     "output_type": "stream",
     "text": [
      "/usr/local/lib/python3.7/site-packages/ipykernel_launcher.py:51: DeprecationWarning: find_elements_by_xpath is deprecated. Please use find_elements(by=By.XPATH, value=xpath) instead\n",
      "/usr/local/lib/python3.7/site-packages/ipykernel_launcher.py:67: DeprecationWarning: find_elements_by_xpath is deprecated. Please use find_elements(by=By.XPATH, value=xpath) instead\n",
      "/usr/local/lib/python3.7/site-packages/ipykernel_launcher.py:83: DeprecationWarning: find_elements_by_xpath is deprecated. Please use find_elements(by=By.XPATH, value=xpath) instead\n",
      "/usr/local/lib/python3.7/site-packages/ipykernel_launcher.py:84: DeprecationWarning: find_elements_by_xpath is deprecated. Please use find_elements(by=By.XPATH, value=xpath) instead\n",
      "/usr/local/lib/python3.7/site-packages/ipykernel_launcher.py:93: DeprecationWarning: find_elements_by_xpath is deprecated. Please use find_elements(by=By.XPATH, value=xpath) instead\n"
     ]
    },
    {
     "name": "stdout",
     "output_type": "stream",
     "text": [
      "          Date                  Team    xG    xA  xPTS match_or_not\n",
      "0   16/08/2014               Arsenal  1.55  0.16  2.79            1\n",
      "1   16/08/2014               Swansea  0.28  1.17  0.48            1\n",
      "2   16/08/2014           Aston Villa  0.91  0.42  1.83            1\n",
      "3   16/08/2014             Tottenham  1.02  1.85  0.71            1\n",
      "4   16/08/2014                  Hull  1.12  1.90  0.74            1\n",
      "..         ...                   ...   ...   ...   ...          ...\n",
      "13  27/09/2014                  Hull  1.12  1.79  0.85            1\n",
      "14  27/09/2014             Leicester  0.45  2.11  0.18            1\n",
      "15  27/09/2014           Aston Villa  0.23  3.14  0.02            1\n",
      "0   28/09/2014  West Bromwich Albion  1.81  0.47  2.47            1\n",
      "1   28/09/2014               Burnley  0.47  1.81  0.35            1\n",
      "\n",
      "[118 rows x 6 columns]\n",
      "Sep 29, 2014\n"
     ]
    },
    {
     "name": "stderr",
     "output_type": "stream",
     "text": [
      "/usr/local/lib/python3.7/site-packages/ipykernel_launcher.py:51: DeprecationWarning: find_elements_by_xpath is deprecated. Please use find_elements(by=By.XPATH, value=xpath) instead\n",
      "/usr/local/lib/python3.7/site-packages/ipykernel_launcher.py:67: DeprecationWarning: find_elements_by_xpath is deprecated. Please use find_elements(by=By.XPATH, value=xpath) instead\n",
      "/usr/local/lib/python3.7/site-packages/ipykernel_launcher.py:83: DeprecationWarning: find_elements_by_xpath is deprecated. Please use find_elements(by=By.XPATH, value=xpath) instead\n",
      "/usr/local/lib/python3.7/site-packages/ipykernel_launcher.py:84: DeprecationWarning: find_elements_by_xpath is deprecated. Please use find_elements(by=By.XPATH, value=xpath) instead\n",
      "/usr/local/lib/python3.7/site-packages/ipykernel_launcher.py:93: DeprecationWarning: find_elements_by_xpath is deprecated. Please use find_elements(by=By.XPATH, value=xpath) instead\n"
     ]
    },
    {
     "name": "stdout",
     "output_type": "stream",
     "text": [
      "          Date                  Team    xG    xA  xPTS match_or_not\n",
      "0   16/08/2014               Arsenal  1.55  0.16  2.79            1\n",
      "1   16/08/2014               Swansea  0.28  1.17  0.48            1\n",
      "2   16/08/2014           Aston Villa  0.91  0.42  1.83            1\n",
      "3   16/08/2014             Tottenham  1.02  1.85  0.71            1\n",
      "4   16/08/2014                  Hull  1.12  1.90  0.74            1\n",
      "..         ...                   ...   ...   ...   ...          ...\n",
      "15  27/09/2014           Aston Villa  0.23  3.14  0.02            1\n",
      "0   28/09/2014  West Bromwich Albion  1.81  0.47  2.47            1\n",
      "1   28/09/2014               Burnley  0.47  1.81  0.35            1\n",
      "0   29/09/2014                 Stoke  1.56  1.14  1.72            1\n",
      "1   29/09/2014      Newcastle United  1.14  1.56  0.98            1\n",
      "\n",
      "[120 rows x 6 columns]\n",
      "Sep 30, 2014\n"
     ]
    },
    {
     "name": "stderr",
     "output_type": "stream",
     "text": [
      "/usr/local/lib/python3.7/site-packages/ipykernel_launcher.py:51: DeprecationWarning: find_elements_by_xpath is deprecated. Please use find_elements(by=By.XPATH, value=xpath) instead\n",
      "/usr/local/lib/python3.7/site-packages/ipykernel_launcher.py:67: DeprecationWarning: find_elements_by_xpath is deprecated. Please use find_elements(by=By.XPATH, value=xpath) instead\n"
     ]
    },
    {
     "name": "stdout",
     "output_type": "stream",
     "text": [
      "Oct 1, 2014\n",
      "Oct 2, 2014\n",
      "Oct 3, 2014\n",
      "Oct 4, 2014\n"
     ]
    },
    {
     "name": "stderr",
     "output_type": "stream",
     "text": [
      "/usr/local/lib/python3.7/site-packages/ipykernel_launcher.py:83: DeprecationWarning: find_elements_by_xpath is deprecated. Please use find_elements(by=By.XPATH, value=xpath) instead\n",
      "/usr/local/lib/python3.7/site-packages/ipykernel_launcher.py:84: DeprecationWarning: find_elements_by_xpath is deprecated. Please use find_elements(by=By.XPATH, value=xpath) instead\n",
      "/usr/local/lib/python3.7/site-packages/ipykernel_launcher.py:93: DeprecationWarning: find_elements_by_xpath is deprecated. Please use find_elements(by=By.XPATH, value=xpath) instead\n"
     ]
    },
    {
     "name": "stdout",
     "output_type": "stream",
     "text": [
      "          Date                  Team    xG    xA  xPTS match_or_not\n",
      "0   16/08/2014               Arsenal  1.55  0.16  2.79            1\n",
      "1   16/08/2014               Swansea  0.28  1.17  0.48            1\n",
      "2   16/08/2014           Aston Villa  0.91  0.42  1.83            1\n",
      "3   16/08/2014             Tottenham  1.02  1.85  0.71            1\n",
      "4   16/08/2014                  Hull  1.12  1.90  0.74            1\n",
      "..         ...                   ...   ...   ...   ...          ...\n",
      "7   04/10/2014               Burnley  0.96  1.58  0.83            1\n",
      "8   04/10/2014  West Bromwich Albion  1.44  1.56  1.32            1\n",
      "9   04/10/2014                 Stoke  0.48  1.41  0.52            1\n",
      "10  04/10/2014           Aston Villa  0.69  2.31  0.39            1\n",
      "11  04/10/2014        Crystal Palace  0.62  1.07  0.92            1\n",
      "\n",
      "[132 rows x 6 columns]\n",
      "Oct 5, 2014\n"
     ]
    },
    {
     "name": "stderr",
     "output_type": "stream",
     "text": [
      "/usr/local/lib/python3.7/site-packages/ipykernel_launcher.py:51: DeprecationWarning: find_elements_by_xpath is deprecated. Please use find_elements(by=By.XPATH, value=xpath) instead\n",
      "/usr/local/lib/python3.7/site-packages/ipykernel_launcher.py:67: DeprecationWarning: find_elements_by_xpath is deprecated. Please use find_elements(by=By.XPATH, value=xpath) instead\n",
      "/usr/local/lib/python3.7/site-packages/ipykernel_launcher.py:83: DeprecationWarning: find_elements_by_xpath is deprecated. Please use find_elements(by=By.XPATH, value=xpath) instead\n",
      "/usr/local/lib/python3.7/site-packages/ipykernel_launcher.py:84: DeprecationWarning: find_elements_by_xpath is deprecated. Please use find_elements(by=By.XPATH, value=xpath) instead\n",
      "/usr/local/lib/python3.7/site-packages/ipykernel_launcher.py:93: DeprecationWarning: find_elements_by_xpath is deprecated. Please use find_elements(by=By.XPATH, value=xpath) instead\n"
     ]
    },
    {
     "name": "stdout",
     "output_type": "stream",
     "text": [
      "          Date                 Team    xG    xA  xPTS match_or_not\n",
      "0   16/08/2014              Arsenal  1.55  0.16  2.79            1\n",
      "1   16/08/2014              Swansea  0.28  1.17  0.48            1\n",
      "2   16/08/2014          Aston Villa  0.91  0.42  1.83            1\n",
      "3   16/08/2014            Tottenham  1.02  1.85  0.71            1\n",
      "4   16/08/2014                 Hull  1.12  1.90  0.74            1\n",
      "..         ...                  ...   ...   ...   ...          ...\n",
      "3   05/10/2014            Tottenham  0.90  1.15  1.10            1\n",
      "4   05/10/2014              Everton  2.14  1.62  1.76            1\n",
      "5   05/10/2014          Southampton  1.15  0.90  1.58            1\n",
      "6   05/10/2014              Arsenal  0.33  1.40  0.36            1\n",
      "7   05/10/2014  Queens Park Rangers  0.70  1.64  0.51            1\n",
      "\n",
      "[140 rows x 6 columns]\n",
      "Oct 6, 2014\n"
     ]
    },
    {
     "name": "stderr",
     "output_type": "stream",
     "text": [
      "/usr/local/lib/python3.7/site-packages/ipykernel_launcher.py:51: DeprecationWarning: find_elements_by_xpath is deprecated. Please use find_elements(by=By.XPATH, value=xpath) instead\n",
      "/usr/local/lib/python3.7/site-packages/ipykernel_launcher.py:67: DeprecationWarning: find_elements_by_xpath is deprecated. Please use find_elements(by=By.XPATH, value=xpath) instead\n"
     ]
    },
    {
     "name": "stdout",
     "output_type": "stream",
     "text": [
      "Oct 7, 2014\n",
      "Oct 8, 2014\n",
      "Oct 9, 2014\n",
      "Oct 10, 2014\n",
      "Oct 11, 2014\n",
      "Oct 12, 2014\n",
      "Oct 13, 2014\n",
      "Oct 14, 2014\n",
      "Oct 15, 2014\n",
      "Oct 16, 2014\n",
      "Oct 17, 2014\n",
      "Oct 18, 2014\n"
     ]
    },
    {
     "name": "stderr",
     "output_type": "stream",
     "text": [
      "/usr/local/lib/python3.7/site-packages/ipykernel_launcher.py:83: DeprecationWarning: find_elements_by_xpath is deprecated. Please use find_elements(by=By.XPATH, value=xpath) instead\n",
      "/usr/local/lib/python3.7/site-packages/ipykernel_launcher.py:84: DeprecationWarning: find_elements_by_xpath is deprecated. Please use find_elements(by=By.XPATH, value=xpath) instead\n",
      "/usr/local/lib/python3.7/site-packages/ipykernel_launcher.py:93: DeprecationWarning: find_elements_by_xpath is deprecated. Please use find_elements(by=By.XPATH, value=xpath) instead\n"
     ]
    },
    {
     "name": "stdout",
     "output_type": "stream",
     "text": [
      "          Date         Team    xG    xA  xPTS match_or_not\n",
      "0   16/08/2014      Arsenal  1.55  0.16  2.79            1\n",
      "1   16/08/2014      Swansea  0.28  1.17  0.48            1\n",
      "2   16/08/2014  Aston Villa  0.91  0.42  1.83            1\n",
      "3   16/08/2014    Tottenham  1.02  1.85  0.71            1\n",
      "4   16/08/2014         Hull  1.12  1.90  0.74            1\n",
      "..         ...          ...   ...   ...   ...          ...\n",
      "9   18/10/2014    Leicester  0.65  2.19  0.35            1\n",
      "10  18/10/2014      Burnley  1.74  2.84  0.71            1\n",
      "11  18/10/2014    Tottenham  2.32  3.75  0.57            1\n",
      "12  18/10/2014  Aston Villa  0.37  1.67  0.34            1\n",
      "13  18/10/2014   Sunderland  0.92  3.71  0.13            1\n",
      "\n",
      "[154 rows x 6 columns]\n",
      "Oct 19, 2014\n"
     ]
    },
    {
     "name": "stderr",
     "output_type": "stream",
     "text": [
      "/usr/local/lib/python3.7/site-packages/ipykernel_launcher.py:51: DeprecationWarning: find_elements_by_xpath is deprecated. Please use find_elements(by=By.XPATH, value=xpath) instead\n",
      "/usr/local/lib/python3.7/site-packages/ipykernel_launcher.py:67: DeprecationWarning: find_elements_by_xpath is deprecated. Please use find_elements(by=By.XPATH, value=xpath) instead\n",
      "/usr/local/lib/python3.7/site-packages/ipykernel_launcher.py:83: DeprecationWarning: find_elements_by_xpath is deprecated. Please use find_elements(by=By.XPATH, value=xpath) instead\n",
      "/usr/local/lib/python3.7/site-packages/ipykernel_launcher.py:84: DeprecationWarning: find_elements_by_xpath is deprecated. Please use find_elements(by=By.XPATH, value=xpath) instead\n",
      "/usr/local/lib/python3.7/site-packages/ipykernel_launcher.py:93: DeprecationWarning: find_elements_by_xpath is deprecated. Please use find_elements(by=By.XPATH, value=xpath) instead\n"
     ]
    },
    {
     "name": "stdout",
     "output_type": "stream",
     "text": [
      "          Date                 Team    xG    xA  xPTS match_or_not\n",
      "0   16/08/2014              Arsenal  1.55  0.16  2.79            1\n",
      "1   16/08/2014              Swansea  0.28  1.17  0.48            1\n",
      "2   16/08/2014          Aston Villa  0.91  0.42  1.83            1\n",
      "3   16/08/2014            Tottenham  1.02  1.85  0.71            1\n",
      "4   16/08/2014                 Hull  1.12  1.90  0.74            1\n",
      "..         ...                  ...   ...   ...   ...          ...\n",
      "13  18/10/2014           Sunderland  0.92  3.71  0.13            1\n",
      "0   19/10/2014            Liverpool  1.52  2.61  0.65            1\n",
      "1   19/10/2014                Stoke  1.76  2.27  0.93            1\n",
      "2   19/10/2014  Queens Park Rangers  2.61  1.52  2.15            1\n",
      "3   19/10/2014              Swansea  2.27  1.76  1.81            1\n",
      "\n",
      "[158 rows x 6 columns]\n",
      "Oct 20, 2014\n"
     ]
    },
    {
     "name": "stderr",
     "output_type": "stream",
     "text": [
      "/usr/local/lib/python3.7/site-packages/ipykernel_launcher.py:51: DeprecationWarning: find_elements_by_xpath is deprecated. Please use find_elements(by=By.XPATH, value=xpath) instead\n",
      "/usr/local/lib/python3.7/site-packages/ipykernel_launcher.py:67: DeprecationWarning: find_elements_by_xpath is deprecated. Please use find_elements(by=By.XPATH, value=xpath) instead\n",
      "/usr/local/lib/python3.7/site-packages/ipykernel_launcher.py:83: DeprecationWarning: find_elements_by_xpath is deprecated. Please use find_elements(by=By.XPATH, value=xpath) instead\n",
      "/usr/local/lib/python3.7/site-packages/ipykernel_launcher.py:84: DeprecationWarning: find_elements_by_xpath is deprecated. Please use find_elements(by=By.XPATH, value=xpath) instead\n",
      "/usr/local/lib/python3.7/site-packages/ipykernel_launcher.py:93: DeprecationWarning: find_elements_by_xpath is deprecated. Please use find_elements(by=By.XPATH, value=xpath) instead\n"
     ]
    },
    {
     "name": "stdout",
     "output_type": "stream",
     "text": [
      "          Date                  Team    xG    xA  xPTS match_or_not\n",
      "0   16/08/2014               Arsenal  1.55  0.16  2.79            1\n",
      "1   16/08/2014               Swansea  0.28  1.17  0.48            1\n",
      "2   16/08/2014           Aston Villa  0.91  0.42  1.83            1\n",
      "3   16/08/2014             Tottenham  1.02  1.85  0.71            1\n",
      "4   16/08/2014                  Hull  1.12  1.90  0.74            1\n",
      "..         ...                   ...   ...   ...   ...          ...\n",
      "1   19/10/2014                 Stoke  1.76  2.27  0.93            1\n",
      "2   19/10/2014   Queens Park Rangers  2.61  1.52  2.15            1\n",
      "3   19/10/2014               Swansea  2.27  1.76  1.81            1\n",
      "0   20/10/2014  West Bromwich Albion  0.62  0.93  1.07            1\n",
      "1   20/10/2014     Manchester United  0.93  0.62  1.57            1\n",
      "\n",
      "[160 rows x 6 columns]\n",
      "Oct 21, 2014\n"
     ]
    },
    {
     "name": "stderr",
     "output_type": "stream",
     "text": [
      "/usr/local/lib/python3.7/site-packages/ipykernel_launcher.py:51: DeprecationWarning: find_elements_by_xpath is deprecated. Please use find_elements(by=By.XPATH, value=xpath) instead\n",
      "/usr/local/lib/python3.7/site-packages/ipykernel_launcher.py:67: DeprecationWarning: find_elements_by_xpath is deprecated. Please use find_elements(by=By.XPATH, value=xpath) instead\n"
     ]
    },
    {
     "name": "stdout",
     "output_type": "stream",
     "text": [
      "Oct 22, 2014\n",
      "Oct 23, 2014\n",
      "Oct 24, 2014\n",
      "Oct 25, 2014\n"
     ]
    },
    {
     "name": "stderr",
     "output_type": "stream",
     "text": [
      "/usr/local/lib/python3.7/site-packages/ipykernel_launcher.py:83: DeprecationWarning: find_elements_by_xpath is deprecated. Please use find_elements(by=By.XPATH, value=xpath) instead\n",
      "/usr/local/lib/python3.7/site-packages/ipykernel_launcher.py:84: DeprecationWarning: find_elements_by_xpath is deprecated. Please use find_elements(by=By.XPATH, value=xpath) instead\n",
      "/usr/local/lib/python3.7/site-packages/ipykernel_launcher.py:93: DeprecationWarning: find_elements_by_xpath is deprecated. Please use find_elements(by=By.XPATH, value=xpath) instead\n"
     ]
    },
    {
     "name": "stdout",
     "output_type": "stream",
     "text": [
      "          Date             Team    xG    xA  xPTS match_or_not\n",
      "0   16/08/2014          Arsenal  1.55  0.16  2.79            1\n",
      "1   16/08/2014          Swansea  0.28  1.17  0.48            1\n",
      "2   16/08/2014      Aston Villa  0.91  0.42  1.83            1\n",
      "3   16/08/2014        Tottenham  1.02  1.85  0.71            1\n",
      "4   16/08/2014             Hull  1.12  1.90  0.74            1\n",
      "..         ...              ...   ...   ...   ...          ...\n",
      "7   25/10/2014             Hull  0.22  0.68  0.77            1\n",
      "8   25/10/2014  Manchester City  1.86  2.63  0.85            1\n",
      "9   25/10/2014            Stoke  0.87  1.38  0.95            1\n",
      "10  25/10/2014        Leicester  0.77  1.06  1.03            1\n",
      "11  25/10/2014       Sunderland  0.44  1.47  0.49            1\n",
      "\n",
      "[172 rows x 6 columns]\n",
      "Oct 26, 2014\n"
     ]
    },
    {
     "name": "stderr",
     "output_type": "stream",
     "text": [
      "/usr/local/lib/python3.7/site-packages/ipykernel_launcher.py:51: DeprecationWarning: find_elements_by_xpath is deprecated. Please use find_elements(by=By.XPATH, value=xpath) instead\n",
      "/usr/local/lib/python3.7/site-packages/ipykernel_launcher.py:67: DeprecationWarning: find_elements_by_xpath is deprecated. Please use find_elements(by=By.XPATH, value=xpath) instead\n",
      "/usr/local/lib/python3.7/site-packages/ipykernel_launcher.py:83: DeprecationWarning: find_elements_by_xpath is deprecated. Please use find_elements(by=By.XPATH, value=xpath) instead\n",
      "/usr/local/lib/python3.7/site-packages/ipykernel_launcher.py:84: DeprecationWarning: find_elements_by_xpath is deprecated. Please use find_elements(by=By.XPATH, value=xpath) instead\n",
      "/usr/local/lib/python3.7/site-packages/ipykernel_launcher.py:93: DeprecationWarning: find_elements_by_xpath is deprecated. Please use find_elements(by=By.XPATH, value=xpath) instead\n"
     ]
    },
    {
     "name": "stdout",
     "output_type": "stream",
     "text": [
      "          Date               Team    xG    xA  xPTS match_or_not\n",
      "0   16/08/2014            Arsenal  1.55  0.16  2.79            1\n",
      "1   16/08/2014            Swansea  0.28  1.17  0.48            1\n",
      "2   16/08/2014        Aston Villa  0.91  0.42  1.83            1\n",
      "3   16/08/2014          Tottenham  1.02  1.85  0.71            1\n",
      "4   16/08/2014               Hull  1.12  1.90  0.74            1\n",
      "..         ...                ...   ...   ...   ...          ...\n",
      "1   26/10/2014   Newcastle United  0.74  2.04  0.48            1\n",
      "2   26/10/2014            Chelsea  0.99  1.84  0.74            1\n",
      "3   26/10/2014  Manchester United  1.84  0.99  2.02            1\n",
      "4   26/10/2014          Tottenham  2.04  0.74  2.33            1\n",
      "5   26/10/2014            Burnley  1.56  1.32  1.59            1\n",
      "\n",
      "[178 rows x 6 columns]\n",
      "Oct 27, 2014\n"
     ]
    },
    {
     "name": "stderr",
     "output_type": "stream",
     "text": [
      "/usr/local/lib/python3.7/site-packages/ipykernel_launcher.py:51: DeprecationWarning: find_elements_by_xpath is deprecated. Please use find_elements(by=By.XPATH, value=xpath) instead\n",
      "/usr/local/lib/python3.7/site-packages/ipykernel_launcher.py:67: DeprecationWarning: find_elements_by_xpath is deprecated. Please use find_elements(by=By.XPATH, value=xpath) instead\n",
      "/usr/local/lib/python3.7/site-packages/ipykernel_launcher.py:83: DeprecationWarning: find_elements_by_xpath is deprecated. Please use find_elements(by=By.XPATH, value=xpath) instead\n",
      "/usr/local/lib/python3.7/site-packages/ipykernel_launcher.py:84: DeprecationWarning: find_elements_by_xpath is deprecated. Please use find_elements(by=By.XPATH, value=xpath) instead\n",
      "/usr/local/lib/python3.7/site-packages/ipykernel_launcher.py:93: DeprecationWarning: find_elements_by_xpath is deprecated. Please use find_elements(by=By.XPATH, value=xpath) instead\n"
     ]
    },
    {
     "name": "stdout",
     "output_type": "stream",
     "text": [
      "          Date                 Team    xG    xA  xPTS match_or_not\n",
      "0   16/08/2014              Arsenal  1.55  0.16  2.79            1\n",
      "1   16/08/2014              Swansea  0.28  1.17  0.48            1\n",
      "2   16/08/2014          Aston Villa  0.91  0.42  1.83            1\n",
      "3   16/08/2014            Tottenham  1.02  1.85  0.71            1\n",
      "4   16/08/2014                 Hull  1.12  1.90  0.74            1\n",
      "..         ...                  ...   ...   ...   ...          ...\n",
      "3   26/10/2014    Manchester United  1.84  0.99  2.02            1\n",
      "4   26/10/2014            Tottenham  2.04  0.74  2.33            1\n",
      "5   26/10/2014              Burnley  1.56  1.32  1.59            1\n",
      "0   27/10/2014  Queens Park Rangers  0.82  1.19  1.00            1\n",
      "1   27/10/2014          Aston Villa  1.19  0.82  1.68            1\n",
      "\n",
      "[180 rows x 6 columns]\n",
      "Oct 28, 2014\n"
     ]
    },
    {
     "name": "stderr",
     "output_type": "stream",
     "text": [
      "/usr/local/lib/python3.7/site-packages/ipykernel_launcher.py:51: DeprecationWarning: find_elements_by_xpath is deprecated. Please use find_elements(by=By.XPATH, value=xpath) instead\n",
      "/usr/local/lib/python3.7/site-packages/ipykernel_launcher.py:67: DeprecationWarning: find_elements_by_xpath is deprecated. Please use find_elements(by=By.XPATH, value=xpath) instead\n"
     ]
    },
    {
     "name": "stdout",
     "output_type": "stream",
     "text": [
      "Oct 29, 2014\n",
      "Oct 30, 2014\n",
      "Oct 31, 2014\n",
      "Nov 1, 2014\n"
     ]
    },
    {
     "name": "stderr",
     "output_type": "stream",
     "text": [
      "/usr/local/lib/python3.7/site-packages/ipykernel_launcher.py:83: DeprecationWarning: find_elements_by_xpath is deprecated. Please use find_elements(by=By.XPATH, value=xpath) instead\n",
      "/usr/local/lib/python3.7/site-packages/ipykernel_launcher.py:84: DeprecationWarning: find_elements_by_xpath is deprecated. Please use find_elements(by=By.XPATH, value=xpath) instead\n",
      "/usr/local/lib/python3.7/site-packages/ipykernel_launcher.py:93: DeprecationWarning: find_elements_by_xpath is deprecated. Please use find_elements(by=By.XPATH, value=xpath) instead\n"
     ]
    },
    {
     "name": "stdout",
     "output_type": "stream",
     "text": [
      "          Date                 Team    xG    xA  xPTS match_or_not\n",
      "0   16/08/2014              Arsenal  1.55  0.16  2.79            1\n",
      "1   16/08/2014              Swansea  0.28  1.17  0.48            1\n",
      "2   16/08/2014          Aston Villa  0.91  0.42  1.83            1\n",
      "3   16/08/2014            Tottenham  1.02  1.85  0.71            1\n",
      "4   16/08/2014                 Hull  1.12  1.90  0.74            1\n",
      "..         ...                  ...   ...   ...   ...          ...\n",
      "9   01/11/2014  Queens Park Rangers  0.51  2.24  0.24            1\n",
      "10  01/11/2014            Leicester  1.41  0.56  2.11            1\n",
      "11  01/11/2014            Liverpool  0.26  1.57  0.33            1\n",
      "12  01/11/2014                 Hull  0.26  1.90  0.18            1\n",
      "13  01/11/2014              Burnley  0.68  4.33  0.03            1\n",
      "\n",
      "[194 rows x 6 columns]\n",
      "Nov 2, 2014\n"
     ]
    },
    {
     "name": "stderr",
     "output_type": "stream",
     "text": [
      "/usr/local/lib/python3.7/site-packages/ipykernel_launcher.py:51: DeprecationWarning: find_elements_by_xpath is deprecated. Please use find_elements(by=By.XPATH, value=xpath) instead\n",
      "/usr/local/lib/python3.7/site-packages/ipykernel_launcher.py:67: DeprecationWarning: find_elements_by_xpath is deprecated. Please use find_elements(by=By.XPATH, value=xpath) instead\n",
      "/usr/local/lib/python3.7/site-packages/ipykernel_launcher.py:83: DeprecationWarning: find_elements_by_xpath is deprecated. Please use find_elements(by=By.XPATH, value=xpath) instead\n",
      "/usr/local/lib/python3.7/site-packages/ipykernel_launcher.py:84: DeprecationWarning: find_elements_by_xpath is deprecated. Please use find_elements(by=By.XPATH, value=xpath) instead\n",
      "/usr/local/lib/python3.7/site-packages/ipykernel_launcher.py:93: DeprecationWarning: find_elements_by_xpath is deprecated. Please use find_elements(by=By.XPATH, value=xpath) instead\n"
     ]
    },
    {
     "name": "stdout",
     "output_type": "stream",
     "text": [
      "          Date               Team    xG    xA  xPTS match_or_not\n",
      "0   16/08/2014            Arsenal  1.55  0.16  2.79            1\n",
      "1   16/08/2014            Swansea  0.28  1.17  0.48            1\n",
      "2   16/08/2014        Aston Villa  0.91  0.42  1.83            1\n",
      "3   16/08/2014          Tottenham  1.02  1.85  0.71            1\n",
      "4   16/08/2014               Hull  1.12  1.90  0.74            1\n",
      "..         ...                ...   ...   ...   ...          ...\n",
      "13  01/11/2014            Burnley  0.68  4.33  0.03            1\n",
      "0   02/11/2014          Tottenham  2.54  0.87  2.49            1\n",
      "1   02/11/2014    Manchester City  2.57  0.73  2.56            1\n",
      "2   02/11/2014        Aston Villa  0.87  2.54  0.36            1\n",
      "3   02/11/2014  Manchester United  0.73  2.57  0.30            1\n",
      "\n",
      "[198 rows x 6 columns]\n",
      "Nov 3, 2014\n"
     ]
    },
    {
     "name": "stderr",
     "output_type": "stream",
     "text": [
      "/usr/local/lib/python3.7/site-packages/ipykernel_launcher.py:51: DeprecationWarning: find_elements_by_xpath is deprecated. Please use find_elements(by=By.XPATH, value=xpath) instead\n",
      "/usr/local/lib/python3.7/site-packages/ipykernel_launcher.py:67: DeprecationWarning: find_elements_by_xpath is deprecated. Please use find_elements(by=By.XPATH, value=xpath) instead\n",
      "/usr/local/lib/python3.7/site-packages/ipykernel_launcher.py:83: DeprecationWarning: find_elements_by_xpath is deprecated. Please use find_elements(by=By.XPATH, value=xpath) instead\n",
      "/usr/local/lib/python3.7/site-packages/ipykernel_launcher.py:84: DeprecationWarning: find_elements_by_xpath is deprecated. Please use find_elements(by=By.XPATH, value=xpath) instead\n",
      "/usr/local/lib/python3.7/site-packages/ipykernel_launcher.py:93: DeprecationWarning: find_elements_by_xpath is deprecated. Please use find_elements(by=By.XPATH, value=xpath) instead\n"
     ]
    },
    {
     "name": "stdout",
     "output_type": "stream",
     "text": [
      "          Date               Team    xG    xA  xPTS match_or_not\n",
      "0   16/08/2014            Arsenal  1.55  0.16  2.79            1\n",
      "1   16/08/2014            Swansea  0.28  1.17  0.48            1\n",
      "2   16/08/2014        Aston Villa  0.91  0.42  1.83            1\n",
      "3   16/08/2014          Tottenham  1.02  1.85  0.71            1\n",
      "4   16/08/2014               Hull  1.12  1.90  0.74            1\n",
      "..         ...                ...   ...   ...   ...          ...\n",
      "1   02/11/2014    Manchester City  2.57  0.73  2.56            1\n",
      "2   02/11/2014        Aston Villa  0.87  2.54  0.36            1\n",
      "3   02/11/2014  Manchester United  0.73  2.57  0.30            1\n",
      "0   03/11/2014         Sunderland  0.73  0.77  1.24            1\n",
      "1   03/11/2014     Crystal Palace  0.77  0.73  1.38            1\n",
      "\n",
      "[200 rows x 6 columns]\n",
      "Nov 4, 2014\n"
     ]
    },
    {
     "name": "stderr",
     "output_type": "stream",
     "text": [
      "/usr/local/lib/python3.7/site-packages/ipykernel_launcher.py:51: DeprecationWarning: find_elements_by_xpath is deprecated. Please use find_elements(by=By.XPATH, value=xpath) instead\n",
      "/usr/local/lib/python3.7/site-packages/ipykernel_launcher.py:67: DeprecationWarning: find_elements_by_xpath is deprecated. Please use find_elements(by=By.XPATH, value=xpath) instead\n"
     ]
    },
    {
     "name": "stdout",
     "output_type": "stream",
     "text": [
      "Nov 5, 2014\n",
      "Nov 6, 2014\n",
      "Nov 7, 2014\n",
      "Nov 8, 2014\n"
     ]
    },
    {
     "name": "stderr",
     "output_type": "stream",
     "text": [
      "/usr/local/lib/python3.7/site-packages/ipykernel_launcher.py:83: DeprecationWarning: find_elements_by_xpath is deprecated. Please use find_elements(by=By.XPATH, value=xpath) instead\n",
      "/usr/local/lib/python3.7/site-packages/ipykernel_launcher.py:84: DeprecationWarning: find_elements_by_xpath is deprecated. Please use find_elements(by=By.XPATH, value=xpath) instead\n",
      "/usr/local/lib/python3.7/site-packages/ipykernel_launcher.py:93: DeprecationWarning: find_elements_by_xpath is deprecated. Please use find_elements(by=By.XPATH, value=xpath) instead\n"
     ]
    },
    {
     "name": "stdout",
     "output_type": "stream",
     "text": [
      "          Date            Team    xG    xA  xPTS match_or_not\n",
      "0   16/08/2014         Arsenal  1.55  0.16  2.79            1\n",
      "1   16/08/2014         Swansea  0.28  1.17  0.48            1\n",
      "2   16/08/2014     Aston Villa  0.91  0.42  1.83            1\n",
      "3   16/08/2014       Tottenham  1.02  1.85  0.71            1\n",
      "4   16/08/2014            Hull  1.12  1.90  0.74            1\n",
      "..         ...             ...   ...   ...   ...          ...\n",
      "7   08/11/2014        West Ham  1.48  0.56  2.10            1\n",
      "8   08/11/2014       Liverpool  0.53  1.97  0.33            1\n",
      "9   08/11/2014  Crystal Palace  0.40  0.96  0.80            1\n",
      "10  08/11/2014            Hull  0.53  1.10  0.83            1\n",
      "11  08/11/2014       Leicester  0.54  1.01  0.89            1\n",
      "\n",
      "[212 rows x 6 columns]\n",
      "Nov 9, 2014\n"
     ]
    },
    {
     "name": "stderr",
     "output_type": "stream",
     "text": [
      "/usr/local/lib/python3.7/site-packages/ipykernel_launcher.py:51: DeprecationWarning: find_elements_by_xpath is deprecated. Please use find_elements(by=By.XPATH, value=xpath) instead\n",
      "/usr/local/lib/python3.7/site-packages/ipykernel_launcher.py:67: DeprecationWarning: find_elements_by_xpath is deprecated. Please use find_elements(by=By.XPATH, value=xpath) instead\n",
      "/usr/local/lib/python3.7/site-packages/ipykernel_launcher.py:83: DeprecationWarning: find_elements_by_xpath is deprecated. Please use find_elements(by=By.XPATH, value=xpath) instead\n",
      "/usr/local/lib/python3.7/site-packages/ipykernel_launcher.py:84: DeprecationWarning: find_elements_by_xpath is deprecated. Please use find_elements(by=By.XPATH, value=xpath) instead\n",
      "/usr/local/lib/python3.7/site-packages/ipykernel_launcher.py:93: DeprecationWarning: find_elements_by_xpath is deprecated. Please use find_elements(by=By.XPATH, value=xpath) instead\n"
     ]
    },
    {
     "name": "stdout",
     "output_type": "stream",
     "text": [
      "          Date                  Team    xG    xA  xPTS match_or_not\n",
      "0   16/08/2014               Arsenal  1.55  0.16  2.79            1\n",
      "1   16/08/2014               Swansea  0.28  1.17  0.48            1\n",
      "2   16/08/2014           Aston Villa  0.91  0.42  1.83            1\n",
      "3   16/08/2014             Tottenham  1.02  1.85  0.71            1\n",
      "4   16/08/2014                  Hull  1.12  1.90  0.74            1\n",
      "..         ...                   ...   ...   ...   ...          ...\n",
      "3   09/11/2014               Everton  1.32  0.51  2.17            1\n",
      "4   09/11/2014            Sunderland  0.51  1.32  0.56            1\n",
      "5   09/11/2014             Tottenham  1.28  1.25  1.38            1\n",
      "6   09/11/2014               Arsenal  1.78  0.52  2.39            1\n",
      "7   09/11/2014  West Bromwich Albion  0.77  0.69  1.38            1\n",
      "\n",
      "[220 rows x 6 columns]\n",
      "Nov 10, 2014\n"
     ]
    },
    {
     "name": "stderr",
     "output_type": "stream",
     "text": [
      "/usr/local/lib/python3.7/site-packages/ipykernel_launcher.py:51: DeprecationWarning: find_elements_by_xpath is deprecated. Please use find_elements(by=By.XPATH, value=xpath) instead\n",
      "/usr/local/lib/python3.7/site-packages/ipykernel_launcher.py:67: DeprecationWarning: find_elements_by_xpath is deprecated. Please use find_elements(by=By.XPATH, value=xpath) instead\n"
     ]
    },
    {
     "name": "stdout",
     "output_type": "stream",
     "text": [
      "Nov 11, 2014\n",
      "Nov 12, 2014\n",
      "Nov 13, 2014\n",
      "Nov 14, 2014\n",
      "Nov 15, 2014\n",
      "Nov 16, 2014\n",
      "Nov 17, 2014\n",
      "Nov 18, 2014\n",
      "Nov 19, 2014\n",
      "Nov 20, 2014\n",
      "Nov 21, 2014\n",
      "Nov 22, 2014\n"
     ]
    },
    {
     "name": "stderr",
     "output_type": "stream",
     "text": [
      "/usr/local/lib/python3.7/site-packages/ipykernel_launcher.py:83: DeprecationWarning: find_elements_by_xpath is deprecated. Please use find_elements(by=By.XPATH, value=xpath) instead\n",
      "/usr/local/lib/python3.7/site-packages/ipykernel_launcher.py:84: DeprecationWarning: find_elements_by_xpath is deprecated. Please use find_elements(by=By.XPATH, value=xpath) instead\n",
      "/usr/local/lib/python3.7/site-packages/ipykernel_launcher.py:93: DeprecationWarning: find_elements_by_xpath is deprecated. Please use find_elements(by=By.XPATH, value=xpath) instead\n"
     ]
    },
    {
     "name": "stdout",
     "output_type": "stream",
     "text": [
      "          Date                  Team    xG    xA  xPTS match_or_not\n",
      "0   16/08/2014               Arsenal  1.55  0.16  2.79            1\n",
      "1   16/08/2014               Swansea  0.28  1.17  0.48            1\n",
      "2   16/08/2014           Aston Villa  0.91  0.42  1.83            1\n",
      "3   16/08/2014             Tottenham  1.02  1.85  0.71            1\n",
      "4   16/08/2014                  Hull  1.12  1.90  0.74            1\n",
      "..         ...                   ...   ...   ...   ...          ...\n",
      "9   22/11/2014               Arsenal  2.00  1.28  1.89            1\n",
      "10  22/11/2014               Swansea  0.96  2.26  0.54            1\n",
      "11  22/11/2014                 Stoke  1.94  1.28  1.86            1\n",
      "12  22/11/2014   Queens Park Rangers  0.40  1.48  0.47            1\n",
      "13  22/11/2014  West Bromwich Albion  0.09  4.37  0.00            1\n",
      "\n",
      "[234 rows x 6 columns]\n",
      "Nov 23, 2014\n"
     ]
    },
    {
     "name": "stderr",
     "output_type": "stream",
     "text": [
      "/usr/local/lib/python3.7/site-packages/ipykernel_launcher.py:51: DeprecationWarning: find_elements_by_xpath is deprecated. Please use find_elements(by=By.XPATH, value=xpath) instead\n",
      "/usr/local/lib/python3.7/site-packages/ipykernel_launcher.py:67: DeprecationWarning: find_elements_by_xpath is deprecated. Please use find_elements(by=By.XPATH, value=xpath) instead\n",
      "/usr/local/lib/python3.7/site-packages/ipykernel_launcher.py:83: DeprecationWarning: find_elements_by_xpath is deprecated. Please use find_elements(by=By.XPATH, value=xpath) instead\n",
      "/usr/local/lib/python3.7/site-packages/ipykernel_launcher.py:84: DeprecationWarning: find_elements_by_xpath is deprecated. Please use find_elements(by=By.XPATH, value=xpath) instead\n",
      "/usr/local/lib/python3.7/site-packages/ipykernel_launcher.py:93: DeprecationWarning: find_elements_by_xpath is deprecated. Please use find_elements(by=By.XPATH, value=xpath) instead\n"
     ]
    },
    {
     "name": "stdout",
     "output_type": "stream",
     "text": [
      "          Date                  Team    xG    xA  xPTS match_or_not\n",
      "0   16/08/2014               Arsenal  1.55  0.16  2.79            1\n",
      "1   16/08/2014               Swansea  0.28  1.17  0.48            1\n",
      "2   16/08/2014           Aston Villa  0.91  0.42  1.83            1\n",
      "3   16/08/2014             Tottenham  1.02  1.85  0.71            1\n",
      "4   16/08/2014                  Hull  1.12  1.90  0.74            1\n",
      "..         ...                   ...   ...   ...   ...          ...\n",
      "13  22/11/2014  West Bromwich Albion  0.09  4.37  0.00            1\n",
      "0   23/11/2014        Crystal Palace  1.47  0.95  1.80            1\n",
      "1   23/11/2014             Tottenham  2.16  0.94  2.25            1\n",
      "2   23/11/2014                  Hull  0.94  2.16  0.55            1\n",
      "3   23/11/2014             Liverpool  0.95  1.47  0.92            1\n",
      "\n",
      "[238 rows x 6 columns]\n",
      "Nov 24, 2014\n"
     ]
    },
    {
     "name": "stderr",
     "output_type": "stream",
     "text": [
      "/usr/local/lib/python3.7/site-packages/ipykernel_launcher.py:51: DeprecationWarning: find_elements_by_xpath is deprecated. Please use find_elements(by=By.XPATH, value=xpath) instead\n",
      "/usr/local/lib/python3.7/site-packages/ipykernel_launcher.py:67: DeprecationWarning: find_elements_by_xpath is deprecated. Please use find_elements(by=By.XPATH, value=xpath) instead\n",
      "/usr/local/lib/python3.7/site-packages/ipykernel_launcher.py:83: DeprecationWarning: find_elements_by_xpath is deprecated. Please use find_elements(by=By.XPATH, value=xpath) instead\n",
      "/usr/local/lib/python3.7/site-packages/ipykernel_launcher.py:84: DeprecationWarning: find_elements_by_xpath is deprecated. Please use find_elements(by=By.XPATH, value=xpath) instead\n",
      "/usr/local/lib/python3.7/site-packages/ipykernel_launcher.py:93: DeprecationWarning: find_elements_by_xpath is deprecated. Please use find_elements(by=By.XPATH, value=xpath) instead\n"
     ]
    },
    {
     "name": "stdout",
     "output_type": "stream",
     "text": [
      "          Date         Team    xG    xA  xPTS match_or_not\n",
      "0   16/08/2014      Arsenal  1.55  0.16  2.79            1\n",
      "1   16/08/2014      Swansea  0.28  1.17  0.48            1\n",
      "2   16/08/2014  Aston Villa  0.91  0.42  1.83            1\n",
      "3   16/08/2014    Tottenham  1.02  1.85  0.71            1\n",
      "4   16/08/2014         Hull  1.12  1.90  0.74            1\n",
      "..         ...          ...   ...   ...   ...          ...\n",
      "1   23/11/2014    Tottenham  2.16  0.94  2.25            1\n",
      "2   23/11/2014         Hull  0.94  2.16  0.55            1\n",
      "3   23/11/2014    Liverpool  0.95  1.47  0.92            1\n",
      "0   24/11/2014  Aston Villa  1.13  0.86  1.63            1\n",
      "1   24/11/2014  Southampton  0.86  1.13  1.06            1\n",
      "\n",
      "[240 rows x 6 columns]\n",
      "Nov 25, 2014\n"
     ]
    },
    {
     "name": "stderr",
     "output_type": "stream",
     "text": [
      "/usr/local/lib/python3.7/site-packages/ipykernel_launcher.py:51: DeprecationWarning: find_elements_by_xpath is deprecated. Please use find_elements(by=By.XPATH, value=xpath) instead\n",
      "/usr/local/lib/python3.7/site-packages/ipykernel_launcher.py:67: DeprecationWarning: find_elements_by_xpath is deprecated. Please use find_elements(by=By.XPATH, value=xpath) instead\n"
     ]
    },
    {
     "name": "stdout",
     "output_type": "stream",
     "text": [
      "Nov 26, 2014\n",
      "Nov 27, 2014\n",
      "Nov 28, 2014\n",
      "Nov 29, 2014\n"
     ]
    },
    {
     "name": "stderr",
     "output_type": "stream",
     "text": [
      "/usr/local/lib/python3.7/site-packages/ipykernel_launcher.py:83: DeprecationWarning: find_elements_by_xpath is deprecated. Please use find_elements(by=By.XPATH, value=xpath) instead\n",
      "/usr/local/lib/python3.7/site-packages/ipykernel_launcher.py:84: DeprecationWarning: find_elements_by_xpath is deprecated. Please use find_elements(by=By.XPATH, value=xpath) instead\n",
      "/usr/local/lib/python3.7/site-packages/ipykernel_launcher.py:93: DeprecationWarning: find_elements_by_xpath is deprecated. Please use find_elements(by=By.XPATH, value=xpath) instead\n"
     ]
    },
    {
     "name": "stdout",
     "output_type": "stream",
     "text": [
      "          Date                  Team    xG    xA  xPTS match_or_not\n",
      "0   16/08/2014               Arsenal  1.55  0.16  2.79            1\n",
      "1   16/08/2014               Swansea  0.28  1.17  0.48            1\n",
      "2   16/08/2014           Aston Villa  0.91  0.42  1.83            1\n",
      "3   16/08/2014             Tottenham  1.02  1.85  0.71            1\n",
      "4   16/08/2014                  Hull  1.12  1.90  0.74            1\n",
      "..         ...                   ...   ...   ...   ...          ...\n",
      "11  29/11/2014             Leicester  2.10  2.98  0.82            1\n",
      "12  29/11/2014  West Bromwich Albion  0.32  1.06  0.66            1\n",
      "13  29/11/2014                 Stoke  0.88  1.71  0.66            1\n",
      "14  29/11/2014      Newcastle United  0.25  1.10  0.51            1\n",
      "15  29/11/2014                  Hull  0.23  1.77  0.15            1\n",
      "\n",
      "[256 rows x 6 columns]\n",
      "Nov 30, 2014\n"
     ]
    },
    {
     "name": "stderr",
     "output_type": "stream",
     "text": [
      "/usr/local/lib/python3.7/site-packages/ipykernel_launcher.py:51: DeprecationWarning: find_elements_by_xpath is deprecated. Please use find_elements(by=By.XPATH, value=xpath) instead\n",
      "/usr/local/lib/python3.7/site-packages/ipykernel_launcher.py:67: DeprecationWarning: find_elements_by_xpath is deprecated. Please use find_elements(by=By.XPATH, value=xpath) instead\n",
      "/usr/local/lib/python3.7/site-packages/ipykernel_launcher.py:83: DeprecationWarning: find_elements_by_xpath is deprecated. Please use find_elements(by=By.XPATH, value=xpath) instead\n",
      "/usr/local/lib/python3.7/site-packages/ipykernel_launcher.py:84: DeprecationWarning: find_elements_by_xpath is deprecated. Please use find_elements(by=By.XPATH, value=xpath) instead\n",
      "/usr/local/lib/python3.7/site-packages/ipykernel_launcher.py:93: DeprecationWarning: find_elements_by_xpath is deprecated. Please use find_elements(by=By.XPATH, value=xpath) instead\n"
     ]
    },
    {
     "name": "stdout",
     "output_type": "stream",
     "text": [
      "          Date             Team    xG    xA  xPTS match_or_not\n",
      "0   16/08/2014          Arsenal  1.55  0.16  2.79            1\n",
      "1   16/08/2014          Swansea  0.28  1.17  0.48            1\n",
      "2   16/08/2014      Aston Villa  0.91  0.42  1.83            1\n",
      "3   16/08/2014        Tottenham  1.02  1.85  0.71            1\n",
      "4   16/08/2014             Hull  1.12  1.90  0.74            1\n",
      "..         ...              ...   ...   ...   ...          ...\n",
      "15  29/11/2014             Hull  0.23  1.77  0.15            1\n",
      "0   30/11/2014  Manchester City  2.13  0.80  2.38            1\n",
      "1   30/11/2014        Tottenham  1.13  0.93  1.52            1\n",
      "2   30/11/2014          Everton  0.93  1.13  1.16            1\n",
      "3   30/11/2014      Southampton  0.80  2.13  0.44            1\n",
      "\n",
      "[260 rows x 6 columns]\n",
      "Dec 1, 2014\n"
     ]
    },
    {
     "name": "stderr",
     "output_type": "stream",
     "text": [
      "/usr/local/lib/python3.7/site-packages/ipykernel_launcher.py:51: DeprecationWarning: find_elements_by_xpath is deprecated. Please use find_elements(by=By.XPATH, value=xpath) instead\n",
      "/usr/local/lib/python3.7/site-packages/ipykernel_launcher.py:67: DeprecationWarning: find_elements_by_xpath is deprecated. Please use find_elements(by=By.XPATH, value=xpath) instead\n"
     ]
    },
    {
     "name": "stdout",
     "output_type": "stream",
     "text": [
      "Dec 2, 2014\n"
     ]
    },
    {
     "name": "stderr",
     "output_type": "stream",
     "text": [
      "/usr/local/lib/python3.7/site-packages/ipykernel_launcher.py:83: DeprecationWarning: find_elements_by_xpath is deprecated. Please use find_elements(by=By.XPATH, value=xpath) instead\n",
      "/usr/local/lib/python3.7/site-packages/ipykernel_launcher.py:84: DeprecationWarning: find_elements_by_xpath is deprecated. Please use find_elements(by=By.XPATH, value=xpath) instead\n",
      "/usr/local/lib/python3.7/site-packages/ipykernel_launcher.py:93: DeprecationWarning: find_elements_by_xpath is deprecated. Please use find_elements(by=By.XPATH, value=xpath) instead\n"
     ]
    },
    {
     "name": "stdout",
     "output_type": "stream",
     "text": [
      "          Date                  Team    xG    xA  xPTS match_or_not\n",
      "0   16/08/2014               Arsenal  1.55  0.16  2.79            1\n",
      "1   16/08/2014               Swansea  0.28  1.17  0.48            1\n",
      "2   16/08/2014           Aston Villa  0.91  0.42  1.83            1\n",
      "3   16/08/2014             Tottenham  1.02  1.85  0.71            1\n",
      "4   16/08/2014                  Hull  1.12  1.90  0.74            1\n",
      "..         ...                   ...   ...   ...   ...          ...\n",
      "7   02/12/2014  West Bromwich Albion  1.41  1.24  1.45            1\n",
      "8   02/12/2014                 Stoke  1.29  1.91  0.87            1\n",
      "9   02/12/2014        Crystal Palace  0.80  0.19  1.92            1\n",
      "10  02/12/2014             Leicester  1.24  1.30  1.25            1\n",
      "11  02/12/2014   Queens Park Rangers  0.79  1.54  0.78            1\n",
      "\n",
      "[272 rows x 6 columns]\n",
      "Dec 3, 2014\n"
     ]
    },
    {
     "name": "stderr",
     "output_type": "stream",
     "text": [
      "/usr/local/lib/python3.7/site-packages/ipykernel_launcher.py:51: DeprecationWarning: find_elements_by_xpath is deprecated. Please use find_elements(by=By.XPATH, value=xpath) instead\n",
      "/usr/local/lib/python3.7/site-packages/ipykernel_launcher.py:67: DeprecationWarning: find_elements_by_xpath is deprecated. Please use find_elements(by=By.XPATH, value=xpath) instead\n",
      "/usr/local/lib/python3.7/site-packages/ipykernel_launcher.py:83: DeprecationWarning: find_elements_by_xpath is deprecated. Please use find_elements(by=By.XPATH, value=xpath) instead\n",
      "/usr/local/lib/python3.7/site-packages/ipykernel_launcher.py:84: DeprecationWarning: find_elements_by_xpath is deprecated. Please use find_elements(by=By.XPATH, value=xpath) instead\n",
      "/usr/local/lib/python3.7/site-packages/ipykernel_launcher.py:93: DeprecationWarning: find_elements_by_xpath is deprecated. Please use find_elements(by=By.XPATH, value=xpath) instead\n"
     ]
    },
    {
     "name": "stdout",
     "output_type": "stream",
     "text": [
      "          Date         Team    xG    xA  xPTS match_or_not\n",
      "0   16/08/2014      Arsenal  1.55  0.16  2.79            1\n",
      "1   16/08/2014      Swansea  0.28  1.17  0.48            1\n",
      "2   16/08/2014  Aston Villa  0.91  0.42  1.83            1\n",
      "3   16/08/2014    Tottenham  1.02  1.85  0.71            1\n",
      "4   16/08/2014         Hull  1.12  1.90  0.74            1\n",
      "..         ...          ...   ...   ...   ...          ...\n",
      "3   03/12/2014      Everton  1.28  0.30  2.27            1\n",
      "4   03/12/2014         Hull  0.30  1.28  0.47            1\n",
      "5   03/12/2014  Southampton  0.57  2.37  0.27            1\n",
      "6   03/12/2014   Sunderland  0.41  1.04  0.76            1\n",
      "7   03/12/2014    Tottenham  0.29  1.72  0.33            1\n",
      "\n",
      "[280 rows x 6 columns]\n",
      "Dec 4, 2014\n"
     ]
    },
    {
     "name": "stderr",
     "output_type": "stream",
     "text": [
      "/usr/local/lib/python3.7/site-packages/ipykernel_launcher.py:51: DeprecationWarning: find_elements_by_xpath is deprecated. Please use find_elements(by=By.XPATH, value=xpath) instead\n",
      "/usr/local/lib/python3.7/site-packages/ipykernel_launcher.py:67: DeprecationWarning: find_elements_by_xpath is deprecated. Please use find_elements(by=By.XPATH, value=xpath) instead\n"
     ]
    },
    {
     "name": "stdout",
     "output_type": "stream",
     "text": [
      "Dec 5, 2014\n",
      "Dec 6, 2014\n"
     ]
    },
    {
     "name": "stderr",
     "output_type": "stream",
     "text": [
      "/usr/local/lib/python3.7/site-packages/ipykernel_launcher.py:83: DeprecationWarning: find_elements_by_xpath is deprecated. Please use find_elements(by=By.XPATH, value=xpath) instead\n",
      "/usr/local/lib/python3.7/site-packages/ipykernel_launcher.py:84: DeprecationWarning: find_elements_by_xpath is deprecated. Please use find_elements(by=By.XPATH, value=xpath) instead\n",
      "/usr/local/lib/python3.7/site-packages/ipykernel_launcher.py:93: DeprecationWarning: find_elements_by_xpath is deprecated. Please use find_elements(by=By.XPATH, value=xpath) instead\n"
     ]
    },
    {
     "name": "stdout",
     "output_type": "stream",
     "text": [
      "          Date         Team    xG    xA  xPTS match_or_not\n",
      "0   16/08/2014      Arsenal  1.55  0.16  2.79            1\n",
      "1   16/08/2014      Swansea  0.28  1.17  0.48            1\n",
      "2   16/08/2014  Aston Villa  0.91  0.42  1.83            1\n",
      "3   16/08/2014    Tottenham  1.02  1.85  0.71            1\n",
      "4   16/08/2014         Hull  1.12  1.90  0.74            1\n",
      "..         ...          ...   ...   ...   ...          ...\n",
      "9   06/12/2014         Hull  0.59  1.06  0.79            1\n",
      "10  06/12/2014      Arsenal  2.02  2.50  1.01            1\n",
      "11  06/12/2014      Chelsea  2.16  1.49  1.83            1\n",
      "12  06/12/2014      Everton  0.39  2.25  0.19            1\n",
      "13  06/12/2014      Burnley  1.26  1.64  1.08            1\n",
      "\n",
      "[294 rows x 6 columns]\n",
      "Dec 7, 2014\n"
     ]
    },
    {
     "name": "stderr",
     "output_type": "stream",
     "text": [
      "/usr/local/lib/python3.7/site-packages/ipykernel_launcher.py:51: DeprecationWarning: find_elements_by_xpath is deprecated. Please use find_elements(by=By.XPATH, value=xpath) instead\n",
      "/usr/local/lib/python3.7/site-packages/ipykernel_launcher.py:67: DeprecationWarning: find_elements_by_xpath is deprecated. Please use find_elements(by=By.XPATH, value=xpath) instead\n",
      "/usr/local/lib/python3.7/site-packages/ipykernel_launcher.py:83: DeprecationWarning: find_elements_by_xpath is deprecated. Please use find_elements(by=By.XPATH, value=xpath) instead\n",
      "/usr/local/lib/python3.7/site-packages/ipykernel_launcher.py:84: DeprecationWarning: find_elements_by_xpath is deprecated. Please use find_elements(by=By.XPATH, value=xpath) instead\n",
      "/usr/local/lib/python3.7/site-packages/ipykernel_launcher.py:93: DeprecationWarning: find_elements_by_xpath is deprecated. Please use find_elements(by=By.XPATH, value=xpath) instead\n"
     ]
    },
    {
     "name": "stdout",
     "output_type": "stream",
     "text": [
      "          Date         Team    xG    xA  xPTS match_or_not\n",
      "0   16/08/2014      Arsenal  1.55  0.16  2.79            1\n",
      "1   16/08/2014      Swansea  0.28  1.17  0.48            1\n",
      "2   16/08/2014  Aston Villa  0.91  0.42  1.83            1\n",
      "3   16/08/2014    Tottenham  1.02  1.85  0.71            1\n",
      "4   16/08/2014         Hull  1.12  1.90  0.74            1\n",
      "..         ...          ...   ...   ...   ...          ...\n",
      "13  06/12/2014      Burnley  1.26  1.64  1.08            1\n",
      "0   07/12/2014     West Ham  2.12  1.00  2.16            1\n",
      "1   07/12/2014  Aston Villa  1.98  1.01  2.06            1\n",
      "2   07/12/2014    Leicester  1.01  1.98  0.70            1\n",
      "3   07/12/2014      Swansea  1.00  2.12  0.63            1\n",
      "\n",
      "[298 rows x 6 columns]\n",
      "Dec 8, 2014\n"
     ]
    },
    {
     "name": "stderr",
     "output_type": "stream",
     "text": [
      "/usr/local/lib/python3.7/site-packages/ipykernel_launcher.py:51: DeprecationWarning: find_elements_by_xpath is deprecated. Please use find_elements(by=By.XPATH, value=xpath) instead\n",
      "/usr/local/lib/python3.7/site-packages/ipykernel_launcher.py:67: DeprecationWarning: find_elements_by_xpath is deprecated. Please use find_elements(by=By.XPATH, value=xpath) instead\n",
      "/usr/local/lib/python3.7/site-packages/ipykernel_launcher.py:83: DeprecationWarning: find_elements_by_xpath is deprecated. Please use find_elements(by=By.XPATH, value=xpath) instead\n",
      "/usr/local/lib/python3.7/site-packages/ipykernel_launcher.py:84: DeprecationWarning: find_elements_by_xpath is deprecated. Please use find_elements(by=By.XPATH, value=xpath) instead\n",
      "/usr/local/lib/python3.7/site-packages/ipykernel_launcher.py:93: DeprecationWarning: find_elements_by_xpath is deprecated. Please use find_elements(by=By.XPATH, value=xpath) instead\n"
     ]
    },
    {
     "name": "stdout",
     "output_type": "stream",
     "text": [
      "          Date               Team    xG    xA  xPTS match_or_not\n",
      "0   16/08/2014            Arsenal  1.55  0.16  2.79            1\n",
      "1   16/08/2014            Swansea  0.28  1.17  0.48            1\n",
      "2   16/08/2014        Aston Villa  0.91  0.42  1.83            1\n",
      "3   16/08/2014          Tottenham  1.02  1.85  0.71            1\n",
      "4   16/08/2014               Hull  1.12  1.90  0.74            1\n",
      "..         ...                ...   ...   ...   ...          ...\n",
      "1   07/12/2014        Aston Villa  1.98  1.01  2.06            1\n",
      "2   07/12/2014          Leicester  1.01  1.98  0.70            1\n",
      "3   07/12/2014            Swansea  1.00  2.12  0.63            1\n",
      "0   08/12/2014  Manchester United  0.80  1.83  0.60            1\n",
      "1   08/12/2014        Southampton  1.83  0.80  2.16            1\n",
      "\n",
      "[300 rows x 6 columns]\n",
      "Dec 9, 2014\n"
     ]
    },
    {
     "name": "stderr",
     "output_type": "stream",
     "text": [
      "/usr/local/lib/python3.7/site-packages/ipykernel_launcher.py:51: DeprecationWarning: find_elements_by_xpath is deprecated. Please use find_elements(by=By.XPATH, value=xpath) instead\n",
      "/usr/local/lib/python3.7/site-packages/ipykernel_launcher.py:67: DeprecationWarning: find_elements_by_xpath is deprecated. Please use find_elements(by=By.XPATH, value=xpath) instead\n"
     ]
    },
    {
     "name": "stdout",
     "output_type": "stream",
     "text": [
      "Dec 10, 2014\n",
      "Dec 11, 2014\n",
      "Dec 12, 2014\n",
      "Dec 13, 2014\n"
     ]
    },
    {
     "name": "stderr",
     "output_type": "stream",
     "text": [
      "/usr/local/lib/python3.7/site-packages/ipykernel_launcher.py:83: DeprecationWarning: find_elements_by_xpath is deprecated. Please use find_elements(by=By.XPATH, value=xpath) instead\n",
      "/usr/local/lib/python3.7/site-packages/ipykernel_launcher.py:84: DeprecationWarning: find_elements_by_xpath is deprecated. Please use find_elements(by=By.XPATH, value=xpath) instead\n",
      "/usr/local/lib/python3.7/site-packages/ipykernel_launcher.py:93: DeprecationWarning: find_elements_by_xpath is deprecated. Please use find_elements(by=By.XPATH, value=xpath) instead\n"
     ]
    },
    {
     "name": "stdout",
     "output_type": "stream",
     "text": [
      "          Date              Team    xG    xA  xPTS match_or_not\n",
      "0   16/08/2014           Arsenal  1.55  0.16  2.79            1\n",
      "1   16/08/2014           Swansea  0.28  1.17  0.48            1\n",
      "2   16/08/2014       Aston Villa  0.91  0.42  1.83            1\n",
      "3   16/08/2014         Tottenham  1.02  1.85  0.71            1\n",
      "4   16/08/2014              Hull  1.12  1.90  0.74            1\n",
      "..         ...               ...   ...   ...   ...          ...\n",
      "9   13/12/2014       Aston Villa  0.27  1.44  0.32            1\n",
      "10  13/12/2014       Southampton  1.71  0.40  2.50            1\n",
      "11  13/12/2014         Leicester  0.36  1.13  0.59            1\n",
      "12  13/12/2014              Hull  0.44  1.22  0.63            1\n",
      "13  13/12/2014  Newcastle United  0.94  2.39  0.35            1\n",
      "\n",
      "[314 rows x 6 columns]\n",
      "Dec 14, 2014\n"
     ]
    },
    {
     "name": "stderr",
     "output_type": "stream",
     "text": [
      "/usr/local/lib/python3.7/site-packages/ipykernel_launcher.py:51: DeprecationWarning: find_elements_by_xpath is deprecated. Please use find_elements(by=By.XPATH, value=xpath) instead\n",
      "/usr/local/lib/python3.7/site-packages/ipykernel_launcher.py:67: DeprecationWarning: find_elements_by_xpath is deprecated. Please use find_elements(by=By.XPATH, value=xpath) instead\n",
      "/usr/local/lib/python3.7/site-packages/ipykernel_launcher.py:83: DeprecationWarning: find_elements_by_xpath is deprecated. Please use find_elements(by=By.XPATH, value=xpath) instead\n",
      "/usr/local/lib/python3.7/site-packages/ipykernel_launcher.py:84: DeprecationWarning: find_elements_by_xpath is deprecated. Please use find_elements(by=By.XPATH, value=xpath) instead\n",
      "/usr/local/lib/python3.7/site-packages/ipykernel_launcher.py:93: DeprecationWarning: find_elements_by_xpath is deprecated. Please use find_elements(by=By.XPATH, value=xpath) instead\n"
     ]
    },
    {
     "name": "stdout",
     "output_type": "stream",
     "text": [
      "          Date               Team    xG    xA  xPTS match_or_not\n",
      "0   16/08/2014            Arsenal  1.55  0.16  2.79            1\n",
      "1   16/08/2014            Swansea  0.28  1.17  0.48            1\n",
      "2   16/08/2014        Aston Villa  0.91  0.42  1.83            1\n",
      "3   16/08/2014          Tottenham  1.02  1.85  0.71            1\n",
      "4   16/08/2014               Hull  1.12  1.90  0.74            1\n",
      "..         ...                ...   ...   ...   ...          ...\n",
      "13  13/12/2014   Newcastle United  0.94  2.39  0.35            1\n",
      "0   14/12/2014  Manchester United  1.80  1.87  1.35            1\n",
      "1   14/12/2014          Tottenham  0.73  1.68  0.62            1\n",
      "2   14/12/2014            Swansea  1.68  0.73  2.14            1\n",
      "3   14/12/2014          Liverpool  1.87  1.80  1.39            1\n",
      "\n",
      "[318 rows x 6 columns]\n",
      "Dec 15, 2014\n"
     ]
    },
    {
     "name": "stderr",
     "output_type": "stream",
     "text": [
      "/usr/local/lib/python3.7/site-packages/ipykernel_launcher.py:51: DeprecationWarning: find_elements_by_xpath is deprecated. Please use find_elements(by=By.XPATH, value=xpath) instead\n",
      "/usr/local/lib/python3.7/site-packages/ipykernel_launcher.py:67: DeprecationWarning: find_elements_by_xpath is deprecated. Please use find_elements(by=By.XPATH, value=xpath) instead\n",
      "/usr/local/lib/python3.7/site-packages/ipykernel_launcher.py:83: DeprecationWarning: find_elements_by_xpath is deprecated. Please use find_elements(by=By.XPATH, value=xpath) instead\n",
      "/usr/local/lib/python3.7/site-packages/ipykernel_launcher.py:84: DeprecationWarning: find_elements_by_xpath is deprecated. Please use find_elements(by=By.XPATH, value=xpath) instead\n",
      "/usr/local/lib/python3.7/site-packages/ipykernel_launcher.py:93: DeprecationWarning: find_elements_by_xpath is deprecated. Please use find_elements(by=By.XPATH, value=xpath) instead\n"
     ]
    },
    {
     "name": "stdout",
     "output_type": "stream",
     "text": [
      "          Date                 Team    xG    xA  xPTS match_or_not\n",
      "0   16/08/2014              Arsenal  1.55  0.16  2.79            1\n",
      "1   16/08/2014              Swansea  0.28  1.17  0.48            1\n",
      "2   16/08/2014          Aston Villa  0.91  0.42  1.83            1\n",
      "3   16/08/2014            Tottenham  1.02  1.85  0.71            1\n",
      "4   16/08/2014                 Hull  1.12  1.90  0.74            1\n",
      "..         ...                  ...   ...   ...   ...          ...\n",
      "1   14/12/2014            Tottenham  0.73  1.68  0.62            1\n",
      "2   14/12/2014              Swansea  1.68  0.73  2.14            1\n",
      "3   14/12/2014            Liverpool  1.87  1.80  1.39            1\n",
      "0   15/12/2014              Everton  0.75  0.97  1.11            1\n",
      "1   15/12/2014  Queens Park Rangers  0.97  0.75  1.55            1\n",
      "\n",
      "[320 rows x 6 columns]\n",
      "Dec 16, 2014\n"
     ]
    },
    {
     "name": "stderr",
     "output_type": "stream",
     "text": [
      "/usr/local/lib/python3.7/site-packages/ipykernel_launcher.py:51: DeprecationWarning: find_elements_by_xpath is deprecated. Please use find_elements(by=By.XPATH, value=xpath) instead\n",
      "/usr/local/lib/python3.7/site-packages/ipykernel_launcher.py:67: DeprecationWarning: find_elements_by_xpath is deprecated. Please use find_elements(by=By.XPATH, value=xpath) instead\n"
     ]
    },
    {
     "name": "stdout",
     "output_type": "stream",
     "text": [
      "Dec 17, 2014\n",
      "Dec 18, 2014\n",
      "Dec 19, 2014\n",
      "Dec 20, 2014\n"
     ]
    },
    {
     "name": "stderr",
     "output_type": "stream",
     "text": [
      "/usr/local/lib/python3.7/site-packages/ipykernel_launcher.py:83: DeprecationWarning: find_elements_by_xpath is deprecated. Please use find_elements(by=By.XPATH, value=xpath) instead\n",
      "/usr/local/lib/python3.7/site-packages/ipykernel_launcher.py:84: DeprecationWarning: find_elements_by_xpath is deprecated. Please use find_elements(by=By.XPATH, value=xpath) instead\n",
      "/usr/local/lib/python3.7/site-packages/ipykernel_launcher.py:93: DeprecationWarning: find_elements_by_xpath is deprecated. Please use find_elements(by=By.XPATH, value=xpath) instead\n"
     ]
    },
    {
     "name": "stdout",
     "output_type": "stream",
     "text": [
      "          Date            Team    xG    xA  xPTS match_or_not\n",
      "0   16/08/2014         Arsenal  1.55  0.16  2.79            1\n",
      "1   16/08/2014         Swansea  0.28  1.17  0.48            1\n",
      "2   16/08/2014     Aston Villa  0.91  0.42  1.83            1\n",
      "3   16/08/2014       Tottenham  1.02  1.85  0.71            1\n",
      "4   16/08/2014            Hull  1.12  1.90  0.74            1\n",
      "..         ...             ...   ...   ...   ...          ...\n",
      "9   20/12/2014         Burnley  0.66  1.77  0.52            1\n",
      "10  20/12/2014            Hull  0.83  1.45  0.83            1\n",
      "11  20/12/2014       Leicester  0.66  1.45  0.66            1\n",
      "12  20/12/2014         Everton  0.60  2.21  0.30            1\n",
      "13  20/12/2014  Crystal Palace  0.76  1.41  0.82            1\n",
      "\n",
      "[334 rows x 6 columns]\n",
      "Dec 21, 2014\n"
     ]
    },
    {
     "name": "stderr",
     "output_type": "stream",
     "text": [
      "/usr/local/lib/python3.7/site-packages/ipykernel_launcher.py:51: DeprecationWarning: find_elements_by_xpath is deprecated. Please use find_elements(by=By.XPATH, value=xpath) instead\n",
      "/usr/local/lib/python3.7/site-packages/ipykernel_launcher.py:67: DeprecationWarning: find_elements_by_xpath is deprecated. Please use find_elements(by=By.XPATH, value=xpath) instead\n",
      "/usr/local/lib/python3.7/site-packages/ipykernel_launcher.py:83: DeprecationWarning: find_elements_by_xpath is deprecated. Please use find_elements(by=By.XPATH, value=xpath) instead\n",
      "/usr/local/lib/python3.7/site-packages/ipykernel_launcher.py:84: DeprecationWarning: find_elements_by_xpath is deprecated. Please use find_elements(by=By.XPATH, value=xpath) instead\n",
      "/usr/local/lib/python3.7/site-packages/ipykernel_launcher.py:93: DeprecationWarning: find_elements_by_xpath is deprecated. Please use find_elements(by=By.XPATH, value=xpath) instead\n"
     ]
    },
    {
     "name": "stdout",
     "output_type": "stream",
     "text": [
      "          Date              Team    xG    xA  xPTS match_or_not\n",
      "0   16/08/2014           Arsenal  1.55  0.16  2.79            1\n",
      "1   16/08/2014           Swansea  0.28  1.17  0.48            1\n",
      "2   16/08/2014       Aston Villa  0.91  0.42  1.83            1\n",
      "3   16/08/2014         Tottenham  1.02  1.85  0.71            1\n",
      "4   16/08/2014              Hull  1.12  1.90  0.74            1\n",
      "..         ...               ...   ...   ...   ...          ...\n",
      "13  20/12/2014    Crystal Palace  0.76  1.41  0.82            1\n",
      "0   21/12/2014        Sunderland  2.18  0.90  2.32            1\n",
      "1   21/12/2014           Arsenal  0.75  1.32  0.93            1\n",
      "2   21/12/2014         Liverpool  1.32  0.75  1.77            1\n",
      "3   21/12/2014  Newcastle United  0.90  2.18  0.50            1\n",
      "\n",
      "[338 rows x 6 columns]\n",
      "Dec 22, 2014\n"
     ]
    },
    {
     "name": "stderr",
     "output_type": "stream",
     "text": [
      "/usr/local/lib/python3.7/site-packages/ipykernel_launcher.py:51: DeprecationWarning: find_elements_by_xpath is deprecated. Please use find_elements(by=By.XPATH, value=xpath) instead\n",
      "/usr/local/lib/python3.7/site-packages/ipykernel_launcher.py:67: DeprecationWarning: find_elements_by_xpath is deprecated. Please use find_elements(by=By.XPATH, value=xpath) instead\n",
      "/usr/local/lib/python3.7/site-packages/ipykernel_launcher.py:83: DeprecationWarning: find_elements_by_xpath is deprecated. Please use find_elements(by=By.XPATH, value=xpath) instead\n",
      "/usr/local/lib/python3.7/site-packages/ipykernel_launcher.py:84: DeprecationWarning: find_elements_by_xpath is deprecated. Please use find_elements(by=By.XPATH, value=xpath) instead\n",
      "/usr/local/lib/python3.7/site-packages/ipykernel_launcher.py:93: DeprecationWarning: find_elements_by_xpath is deprecated. Please use find_elements(by=By.XPATH, value=xpath) instead\n"
     ]
    },
    {
     "name": "stdout",
     "output_type": "stream",
     "text": [
      "          Date              Team    xG    xA  xPTS match_or_not\n",
      "0   16/08/2014           Arsenal  1.55  0.16  2.79            1\n",
      "1   16/08/2014           Swansea  0.28  1.17  0.48            1\n",
      "2   16/08/2014       Aston Villa  0.91  0.42  1.83            1\n",
      "3   16/08/2014         Tottenham  1.02  1.85  0.71            1\n",
      "4   16/08/2014              Hull  1.12  1.90  0.74            1\n",
      "..         ...               ...   ...   ...   ...          ...\n",
      "1   21/12/2014           Arsenal  0.75  1.32  0.93            1\n",
      "2   21/12/2014         Liverpool  1.32  0.75  1.77            1\n",
      "3   21/12/2014  Newcastle United  0.90  2.18  0.50            1\n",
      "0   22/12/2014           Chelsea  1.45  0.41  2.22            1\n",
      "1   22/12/2014             Stoke  0.41  1.45  0.53            1\n",
      "\n",
      "[340 rows x 6 columns]\n",
      "Dec 23, 2014\n"
     ]
    },
    {
     "name": "stderr",
     "output_type": "stream",
     "text": [
      "/usr/local/lib/python3.7/site-packages/ipykernel_launcher.py:51: DeprecationWarning: find_elements_by_xpath is deprecated. Please use find_elements(by=By.XPATH, value=xpath) instead\n",
      "/usr/local/lib/python3.7/site-packages/ipykernel_launcher.py:67: DeprecationWarning: find_elements_by_xpath is deprecated. Please use find_elements(by=By.XPATH, value=xpath) instead\n"
     ]
    },
    {
     "name": "stdout",
     "output_type": "stream",
     "text": [
      "Dec 24, 2014\n",
      "Dec 25, 2014\n",
      "Dec 26, 2014\n"
     ]
    },
    {
     "name": "stderr",
     "output_type": "stream",
     "text": [
      "/usr/local/lib/python3.7/site-packages/ipykernel_launcher.py:83: DeprecationWarning: find_elements_by_xpath is deprecated. Please use find_elements(by=By.XPATH, value=xpath) instead\n",
      "/usr/local/lib/python3.7/site-packages/ipykernel_launcher.py:84: DeprecationWarning: find_elements_by_xpath is deprecated. Please use find_elements(by=By.XPATH, value=xpath) instead\n",
      "/usr/local/lib/python3.7/site-packages/ipykernel_launcher.py:93: DeprecationWarning: find_elements_by_xpath is deprecated. Please use find_elements(by=By.XPATH, value=xpath) instead\n"
     ]
    },
    {
     "name": "stdout",
     "output_type": "stream",
     "text": [
      "          Date                  Team    xG    xA  xPTS match_or_not\n",
      "0   16/08/2014               Arsenal  1.55  0.16  2.79            1\n",
      "1   16/08/2014               Swansea  0.28  1.17  0.48            1\n",
      "2   16/08/2014           Aston Villa  0.91  0.42  1.83            1\n",
      "3   16/08/2014             Tottenham  1.02  1.85  0.71            1\n",
      "4   16/08/2014                  Hull  1.12  1.90  0.74            1\n",
      "..         ...                   ...   ...   ...   ...          ...\n",
      "15  26/12/2014  West Bromwich Albion  2.64  2.10  1.75            1\n",
      "16  26/12/2014            Sunderland  1.36  0.86  1.80            1\n",
      "17  26/12/2014        Crystal Palace  0.38  1.30  0.55            1\n",
      "18  26/12/2014      Newcastle United  1.03  1.86  0.66            1\n",
      "19  26/12/2014              West Ham  0.46  3.57  0.03            1\n",
      "\n",
      "[360 rows x 6 columns]\n",
      "Dec 27, 2014\n"
     ]
    },
    {
     "name": "stderr",
     "output_type": "stream",
     "text": [
      "/usr/local/lib/python3.7/site-packages/ipykernel_launcher.py:51: DeprecationWarning: find_elements_by_xpath is deprecated. Please use find_elements(by=By.XPATH, value=xpath) instead\n",
      "/usr/local/lib/python3.7/site-packages/ipykernel_launcher.py:67: DeprecationWarning: find_elements_by_xpath is deprecated. Please use find_elements(by=By.XPATH, value=xpath) instead\n"
     ]
    },
    {
     "name": "stdout",
     "output_type": "stream",
     "text": [
      "Dec 28, 2014\n"
     ]
    },
    {
     "name": "stderr",
     "output_type": "stream",
     "text": [
      "/usr/local/lib/python3.7/site-packages/ipykernel_launcher.py:83: DeprecationWarning: find_elements_by_xpath is deprecated. Please use find_elements(by=By.XPATH, value=xpath) instead\n",
      "/usr/local/lib/python3.7/site-packages/ipykernel_launcher.py:84: DeprecationWarning: find_elements_by_xpath is deprecated. Please use find_elements(by=By.XPATH, value=xpath) instead\n",
      "/usr/local/lib/python3.7/site-packages/ipykernel_launcher.py:93: DeprecationWarning: find_elements_by_xpath is deprecated. Please use find_elements(by=By.XPATH, value=xpath) instead\n"
     ]
    },
    {
     "name": "stdout",
     "output_type": "stream",
     "text": [
      "          Date                  Team    xG    xA  xPTS match_or_not\n",
      "0   16/08/2014               Arsenal  1.55  0.16  2.79            1\n",
      "1   16/08/2014               Swansea  0.28  1.17  0.48            1\n",
      "2   16/08/2014           Aston Villa  0.91  0.42  1.83            1\n",
      "3   16/08/2014             Tottenham  1.02  1.85  0.71            1\n",
      "4   16/08/2014                  Hull  1.12  1.90  0.74            1\n",
      "..         ...                   ...   ...   ...   ...          ...\n",
      "13  28/12/2014   Queens Park Rangers  0.41  0.33  1.32            1\n",
      "14  28/12/2014               Everton  1.07  1.71  0.87            1\n",
      "15  28/12/2014              West Ham  1.11  3.36  0.23            1\n",
      "16  28/12/2014                  Hull  1.72  0.18  2.60            1\n",
      "17  28/12/2014  West Bromwich Albion  1.36  1.25  1.45            1\n",
      "\n",
      "[378 rows x 6 columns]\n",
      "Dec 29, 2014\n"
     ]
    },
    {
     "name": "stderr",
     "output_type": "stream",
     "text": [
      "/usr/local/lib/python3.7/site-packages/ipykernel_launcher.py:51: DeprecationWarning: find_elements_by_xpath is deprecated. Please use find_elements(by=By.XPATH, value=xpath) instead\n",
      "/usr/local/lib/python3.7/site-packages/ipykernel_launcher.py:67: DeprecationWarning: find_elements_by_xpath is deprecated. Please use find_elements(by=By.XPATH, value=xpath) instead\n",
      "/usr/local/lib/python3.7/site-packages/ipykernel_launcher.py:83: DeprecationWarning: find_elements_by_xpath is deprecated. Please use find_elements(by=By.XPATH, value=xpath) instead\n",
      "/usr/local/lib/python3.7/site-packages/ipykernel_launcher.py:84: DeprecationWarning: find_elements_by_xpath is deprecated. Please use find_elements(by=By.XPATH, value=xpath) instead\n",
      "/usr/local/lib/python3.7/site-packages/ipykernel_launcher.py:93: DeprecationWarning: find_elements_by_xpath is deprecated. Please use find_elements(by=By.XPATH, value=xpath) instead\n"
     ]
    },
    {
     "name": "stdout",
     "output_type": "stream",
     "text": [
      "          Date                  Team    xG    xA  xPTS match_or_not\n",
      "0   16/08/2014               Arsenal  1.55  0.16  2.79            1\n",
      "1   16/08/2014               Swansea  0.28  1.17  0.48            1\n",
      "2   16/08/2014           Aston Villa  0.91  0.42  1.83            1\n",
      "3   16/08/2014             Tottenham  1.02  1.85  0.71            1\n",
      "4   16/08/2014                  Hull  1.12  1.90  0.74            1\n",
      "..         ...                   ...   ...   ...   ...          ...\n",
      "15  28/12/2014              West Ham  1.11  3.36  0.23            1\n",
      "16  28/12/2014                  Hull  1.72  0.18  2.60            1\n",
      "17  28/12/2014  West Bromwich Albion  1.36  1.25  1.45            1\n",
      "0   29/12/2014             Liverpool  3.28  1.00  2.72            1\n",
      "1   29/12/2014               Swansea  1.00  3.28  0.19            1\n",
      "\n",
      "[380 rows x 6 columns]\n",
      "Dec 30, 2014\n"
     ]
    },
    {
     "name": "stderr",
     "output_type": "stream",
     "text": [
      "/usr/local/lib/python3.7/site-packages/ipykernel_launcher.py:51: DeprecationWarning: find_elements_by_xpath is deprecated. Please use find_elements(by=By.XPATH, value=xpath) instead\n",
      "/usr/local/lib/python3.7/site-packages/ipykernel_launcher.py:67: DeprecationWarning: find_elements_by_xpath is deprecated. Please use find_elements(by=By.XPATH, value=xpath) instead\n"
     ]
    },
    {
     "name": "stdout",
     "output_type": "stream",
     "text": [
      "Dec 31, 2014\n",
      "Jan 1, 2015\n"
     ]
    },
    {
     "name": "stderr",
     "output_type": "stream",
     "text": [
      "/usr/local/lib/python3.7/site-packages/ipykernel_launcher.py:83: DeprecationWarning: find_elements_by_xpath is deprecated. Please use find_elements(by=By.XPATH, value=xpath) instead\n",
      "/usr/local/lib/python3.7/site-packages/ipykernel_launcher.py:84: DeprecationWarning: find_elements_by_xpath is deprecated. Please use find_elements(by=By.XPATH, value=xpath) instead\n",
      "/usr/local/lib/python3.7/site-packages/ipykernel_launcher.py:93: DeprecationWarning: find_elements_by_xpath is deprecated. Please use find_elements(by=By.XPATH, value=xpath) instead\n"
     ]
    },
    {
     "name": "stdout",
     "output_type": "stream",
     "text": [
      "          Date            Team    xG    xA  xPTS match_or_not\n",
      "0   16/08/2014         Arsenal  1.55  0.16  2.79            1\n",
      "1   16/08/2014         Swansea  0.28  1.17  0.48            1\n",
      "2   16/08/2014     Aston Villa  0.91  0.42  1.83            1\n",
      "3   16/08/2014       Tottenham  1.02  1.85  0.71            1\n",
      "4   16/08/2014            Hull  1.12  1.90  0.74            1\n",
      "..         ...             ...   ...   ...   ...          ...\n",
      "15  01/01/2015  Crystal Palace  0.58  1.39  0.65            1\n",
      "16  01/01/2015      Sunderland  0.98  3.63  0.14            1\n",
      "17  01/01/2015         Chelsea  3.03  1.82  2.24            1\n",
      "18  01/01/2015         Everton  0.96  1.96  0.67            1\n",
      "19  01/01/2015         Arsenal  0.85  2.41  0.37            1\n",
      "\n",
      "[400 rows x 6 columns]\n",
      "Jan 2, 2015\n"
     ]
    },
    {
     "name": "stderr",
     "output_type": "stream",
     "text": [
      "/usr/local/lib/python3.7/site-packages/ipykernel_launcher.py:51: DeprecationWarning: find_elements_by_xpath is deprecated. Please use find_elements(by=By.XPATH, value=xpath) instead\n",
      "/usr/local/lib/python3.7/site-packages/ipykernel_launcher.py:67: DeprecationWarning: find_elements_by_xpath is deprecated. Please use find_elements(by=By.XPATH, value=xpath) instead\n"
     ]
    },
    {
     "name": "stdout",
     "output_type": "stream",
     "text": [
      "Jan 3, 2015\n",
      "Jan 4, 2015\n",
      "Jan 5, 2015\n",
      "Jan 6, 2015\n",
      "Jan 7, 2015\n",
      "Jan 8, 2015\n",
      "Jan 9, 2015\n",
      "Jan 10, 2015\n"
     ]
    },
    {
     "name": "stderr",
     "output_type": "stream",
     "text": [
      "/usr/local/lib/python3.7/site-packages/ipykernel_launcher.py:83: DeprecationWarning: find_elements_by_xpath is deprecated. Please use find_elements(by=By.XPATH, value=xpath) instead\n",
      "/usr/local/lib/python3.7/site-packages/ipykernel_launcher.py:84: DeprecationWarning: find_elements_by_xpath is deprecated. Please use find_elements(by=By.XPATH, value=xpath) instead\n",
      "/usr/local/lib/python3.7/site-packages/ipykernel_launcher.py:93: DeprecationWarning: find_elements_by_xpath is deprecated. Please use find_elements(by=By.XPATH, value=xpath) instead\n"
     ]
    },
    {
     "name": "stdout",
     "output_type": "stream",
     "text": [
      "          Date                 Team    xG    xA  xPTS match_or_not\n",
      "0   16/08/2014              Arsenal  1.55  0.16  2.79            1\n",
      "1   16/08/2014              Swansea  0.28  1.17  0.48            1\n",
      "2   16/08/2014          Aston Villa  0.91  0.42  1.83            1\n",
      "3   16/08/2014            Tottenham  1.02  1.85  0.71            1\n",
      "4   16/08/2014                 Hull  1.12  1.90  0.74            1\n",
      "..         ...                  ...   ...   ...   ...          ...\n",
      "11  10/01/2015  Queens Park Rangers  1.70  2.19  1.07            1\n",
      "12  10/01/2015          Aston Villa  0.61  2.37  0.26            1\n",
      "13  10/01/2015           Sunderland  0.25  2.16  0.18            1\n",
      "14  10/01/2015                 Hull  0.40  0.78  0.88            1\n",
      "15  10/01/2015     Newcastle United  0.39  1.08  0.69            1\n",
      "\n",
      "[416 rows x 6 columns]\n",
      "Jan 11, 2015\n"
     ]
    },
    {
     "name": "stderr",
     "output_type": "stream",
     "text": [
      "/usr/local/lib/python3.7/site-packages/ipykernel_launcher.py:51: DeprecationWarning: find_elements_by_xpath is deprecated. Please use find_elements(by=By.XPATH, value=xpath) instead\n",
      "/usr/local/lib/python3.7/site-packages/ipykernel_launcher.py:67: DeprecationWarning: find_elements_by_xpath is deprecated. Please use find_elements(by=By.XPATH, value=xpath) instead\n",
      "/usr/local/lib/python3.7/site-packages/ipykernel_launcher.py:83: DeprecationWarning: find_elements_by_xpath is deprecated. Please use find_elements(by=By.XPATH, value=xpath) instead\n",
      "/usr/local/lib/python3.7/site-packages/ipykernel_launcher.py:84: DeprecationWarning: find_elements_by_xpath is deprecated. Please use find_elements(by=By.XPATH, value=xpath) instead\n",
      "/usr/local/lib/python3.7/site-packages/ipykernel_launcher.py:93: DeprecationWarning: find_elements_by_xpath is deprecated. Please use find_elements(by=By.XPATH, value=xpath) instead\n"
     ]
    },
    {
     "name": "stdout",
     "output_type": "stream",
     "text": [
      "          Date               Team    xG    xA  xPTS match_or_not\n",
      "0   16/08/2014            Arsenal  1.55  0.16  2.79            1\n",
      "1   16/08/2014            Swansea  0.28  1.17  0.48            1\n",
      "2   16/08/2014        Aston Villa  0.91  0.42  1.83            1\n",
      "3   16/08/2014          Tottenham  1.02  1.85  0.71            1\n",
      "4   16/08/2014               Hull  1.12  1.90  0.74            1\n",
      "..         ...                ...   ...   ...   ...          ...\n",
      "15  10/01/2015   Newcastle United  0.39  1.08  0.69            1\n",
      "0   11/01/2015            Arsenal  2.27  0.40  2.65            1\n",
      "1   11/01/2015        Southampton  1.16  1.19  1.30            1\n",
      "2   11/01/2015  Manchester United  1.19  1.16  1.39            1\n",
      "3   11/01/2015              Stoke  0.40  2.27  0.22            1\n",
      "\n",
      "[420 rows x 6 columns]\n",
      "Jan 12, 2015\n"
     ]
    },
    {
     "name": "stderr",
     "output_type": "stream",
     "text": [
      "/usr/local/lib/python3.7/site-packages/ipykernel_launcher.py:51: DeprecationWarning: find_elements_by_xpath is deprecated. Please use find_elements(by=By.XPATH, value=xpath) instead\n",
      "/usr/local/lib/python3.7/site-packages/ipykernel_launcher.py:67: DeprecationWarning: find_elements_by_xpath is deprecated. Please use find_elements(by=By.XPATH, value=xpath) instead\n"
     ]
    },
    {
     "name": "stdout",
     "output_type": "stream",
     "text": [
      "Jan 13, 2015\n",
      "Jan 14, 2015\n",
      "Jan 15, 2015\n",
      "Jan 16, 2015\n",
      "Jan 17, 2015\n"
     ]
    },
    {
     "name": "stderr",
     "output_type": "stream",
     "text": [
      "/usr/local/lib/python3.7/site-packages/ipykernel_launcher.py:83: DeprecationWarning: find_elements_by_xpath is deprecated. Please use find_elements(by=By.XPATH, value=xpath) instead\n",
      "/usr/local/lib/python3.7/site-packages/ipykernel_launcher.py:84: DeprecationWarning: find_elements_by_xpath is deprecated. Please use find_elements(by=By.XPATH, value=xpath) instead\n",
      "/usr/local/lib/python3.7/site-packages/ipykernel_launcher.py:93: DeprecationWarning: find_elements_by_xpath is deprecated. Please use find_elements(by=By.XPATH, value=xpath) instead\n"
     ]
    },
    {
     "name": "stdout",
     "output_type": "stream",
     "text": [
      "          Date                 Team    xG    xA  xPTS match_or_not\n",
      "0   16/08/2014              Arsenal  1.55  0.16  2.79            1\n",
      "1   16/08/2014              Swansea  0.28  1.17  0.48            1\n",
      "2   16/08/2014          Aston Villa  0.91  0.42  1.83            1\n",
      "3   16/08/2014            Tottenham  1.02  1.85  0.71            1\n",
      "4   16/08/2014                 Hull  1.12  1.90  0.74            1\n",
      "..         ...                  ...   ...   ...   ...          ...\n",
      "9   17/01/2015     Newcastle United  0.86  0.43  1.72            1\n",
      "10  17/01/2015            Leicester  0.38  0.72  0.95            1\n",
      "11  17/01/2015          Aston Villa  0.85  1.54  0.78            1\n",
      "12  17/01/2015  Queens Park Rangers  0.93  1.56  0.86            1\n",
      "13  17/01/2015              Swansea  0.21  3.20  0.03            1\n",
      "\n",
      "[434 rows x 6 columns]\n",
      "Jan 18, 2015\n"
     ]
    },
    {
     "name": "stderr",
     "output_type": "stream",
     "text": [
      "/usr/local/lib/python3.7/site-packages/ipykernel_launcher.py:51: DeprecationWarning: find_elements_by_xpath is deprecated. Please use find_elements(by=By.XPATH, value=xpath) instead\n",
      "/usr/local/lib/python3.7/site-packages/ipykernel_launcher.py:67: DeprecationWarning: find_elements_by_xpath is deprecated. Please use find_elements(by=By.XPATH, value=xpath) instead\n",
      "/usr/local/lib/python3.7/site-packages/ipykernel_launcher.py:83: DeprecationWarning: find_elements_by_xpath is deprecated. Please use find_elements(by=By.XPATH, value=xpath) instead\n",
      "/usr/local/lib/python3.7/site-packages/ipykernel_launcher.py:84: DeprecationWarning: find_elements_by_xpath is deprecated. Please use find_elements(by=By.XPATH, value=xpath) instead\n",
      "/usr/local/lib/python3.7/site-packages/ipykernel_launcher.py:93: DeprecationWarning: find_elements_by_xpath is deprecated. Please use find_elements(by=By.XPATH, value=xpath) instead\n"
     ]
    },
    {
     "name": "stdout",
     "output_type": "stream",
     "text": [
      "          Date             Team    xG    xA  xPTS match_or_not\n",
      "0   16/08/2014          Arsenal  1.55  0.16  2.79            1\n",
      "1   16/08/2014          Swansea  0.28  1.17  0.48            1\n",
      "2   16/08/2014      Aston Villa  0.91  0.42  1.83            1\n",
      "3   16/08/2014        Tottenham  1.02  1.85  0.71            1\n",
      "4   16/08/2014             Hull  1.12  1.90  0.74            1\n",
      "..         ...              ...   ...   ...   ...          ...\n",
      "13  17/01/2015          Swansea  0.21  3.20  0.03            1\n",
      "0   18/01/2015         West Ham  2.69  0.42  2.78            1\n",
      "1   18/01/2015          Arsenal  1.49  0.56  2.24            1\n",
      "2   18/01/2015  Manchester City  0.56  1.49  0.53            1\n",
      "3   18/01/2015             Hull  0.42  2.69  0.14            1\n",
      "\n",
      "[438 rows x 6 columns]\n",
      "Jan 19, 2015\n"
     ]
    },
    {
     "name": "stderr",
     "output_type": "stream",
     "text": [
      "/usr/local/lib/python3.7/site-packages/ipykernel_launcher.py:51: DeprecationWarning: find_elements_by_xpath is deprecated. Please use find_elements(by=By.XPATH, value=xpath) instead\n",
      "/usr/local/lib/python3.7/site-packages/ipykernel_launcher.py:67: DeprecationWarning: find_elements_by_xpath is deprecated. Please use find_elements(by=By.XPATH, value=xpath) instead\n",
      "/usr/local/lib/python3.7/site-packages/ipykernel_launcher.py:83: DeprecationWarning: find_elements_by_xpath is deprecated. Please use find_elements(by=By.XPATH, value=xpath) instead\n",
      "/usr/local/lib/python3.7/site-packages/ipykernel_launcher.py:84: DeprecationWarning: find_elements_by_xpath is deprecated. Please use find_elements(by=By.XPATH, value=xpath) instead\n",
      "/usr/local/lib/python3.7/site-packages/ipykernel_launcher.py:93: DeprecationWarning: find_elements_by_xpath is deprecated. Please use find_elements(by=By.XPATH, value=xpath) instead\n"
     ]
    },
    {
     "name": "stdout",
     "output_type": "stream",
     "text": [
      "          Date                  Team    xG    xA  xPTS match_or_not\n",
      "0   16/08/2014               Arsenal  1.55  0.16  2.79            1\n",
      "1   16/08/2014               Swansea  0.28  1.17  0.48            1\n",
      "2   16/08/2014           Aston Villa  0.91  0.42  1.83            1\n",
      "3   16/08/2014             Tottenham  1.02  1.85  0.71            1\n",
      "4   16/08/2014                  Hull  1.12  1.90  0.74            1\n",
      "..         ...                   ...   ...   ...   ...          ...\n",
      "1   18/01/2015               Arsenal  1.49  0.56  2.24            1\n",
      "2   18/01/2015       Manchester City  0.56  1.49  0.53            1\n",
      "3   18/01/2015                  Hull  0.42  2.69  0.14            1\n",
      "0   19/01/2015               Everton  1.49  0.20  2.57            1\n",
      "1   19/01/2015  West Bromwich Albion  0.20  1.49  0.25            1\n",
      "\n",
      "[440 rows x 6 columns]\n",
      "Jan 20, 2015\n"
     ]
    },
    {
     "name": "stderr",
     "output_type": "stream",
     "text": [
      "/usr/local/lib/python3.7/site-packages/ipykernel_launcher.py:51: DeprecationWarning: find_elements_by_xpath is deprecated. Please use find_elements(by=By.XPATH, value=xpath) instead\n",
      "/usr/local/lib/python3.7/site-packages/ipykernel_launcher.py:67: DeprecationWarning: find_elements_by_xpath is deprecated. Please use find_elements(by=By.XPATH, value=xpath) instead\n"
     ]
    },
    {
     "name": "stdout",
     "output_type": "stream",
     "text": [
      "Jan 21, 2015\n",
      "Jan 22, 2015\n",
      "Jan 23, 2015\n",
      "Jan 24, 2015\n",
      "Jan 25, 2015\n",
      "Jan 26, 2015\n",
      "Jan 27, 2015\n",
      "Jan 28, 2015\n",
      "Jan 29, 2015\n",
      "Jan 30, 2015\n",
      "Jan 31, 2015\n"
     ]
    },
    {
     "name": "stderr",
     "output_type": "stream",
     "text": [
      "/usr/local/lib/python3.7/site-packages/ipykernel_launcher.py:83: DeprecationWarning: find_elements_by_xpath is deprecated. Please use find_elements(by=By.XPATH, value=xpath) instead\n",
      "/usr/local/lib/python3.7/site-packages/ipykernel_launcher.py:84: DeprecationWarning: find_elements_by_xpath is deprecated. Please use find_elements(by=By.XPATH, value=xpath) instead\n",
      "/usr/local/lib/python3.7/site-packages/ipykernel_launcher.py:93: DeprecationWarning: find_elements_by_xpath is deprecated. Please use find_elements(by=By.XPATH, value=xpath) instead\n"
     ]
    },
    {
     "name": "stdout",
     "output_type": "stream",
     "text": [
      "          Date                  Team    xG    xA  xPTS match_or_not\n",
      "0   16/08/2014               Arsenal  1.55  0.16  2.79            1\n",
      "1   16/08/2014               Swansea  0.28  1.17  0.48            1\n",
      "2   16/08/2014           Aston Villa  0.91  0.42  1.83            1\n",
      "3   16/08/2014             Tottenham  1.02  1.85  0.71            1\n",
      "4   16/08/2014                  Hull  1.12  1.90  0.74            1\n",
      "..         ...                   ...   ...   ...   ...          ...\n",
      "11  31/01/2015   Queens Park Rangers  1.12  0.78  1.68            1\n",
      "12  31/01/2015              West Ham  0.38  2.28  0.23            1\n",
      "13  31/01/2015               Burnley  1.35  1.90  0.86            1\n",
      "14  31/01/2015  West Bromwich Albion  0.81  1.34  0.83            1\n",
      "15  31/01/2015                  Hull  0.99  0.51  1.80            1\n",
      "\n",
      "[456 rows x 6 columns]\n",
      "Feb 1, 2015\n"
     ]
    },
    {
     "name": "stderr",
     "output_type": "stream",
     "text": [
      "/usr/local/lib/python3.7/site-packages/ipykernel_launcher.py:51: DeprecationWarning: find_elements_by_xpath is deprecated. Please use find_elements(by=By.XPATH, value=xpath) instead\n",
      "/usr/local/lib/python3.7/site-packages/ipykernel_launcher.py:67: DeprecationWarning: find_elements_by_xpath is deprecated. Please use find_elements(by=By.XPATH, value=xpath) instead\n",
      "/usr/local/lib/python3.7/site-packages/ipykernel_launcher.py:83: DeprecationWarning: find_elements_by_xpath is deprecated. Please use find_elements(by=By.XPATH, value=xpath) instead\n",
      "/usr/local/lib/python3.7/site-packages/ipykernel_launcher.py:84: DeprecationWarning: find_elements_by_xpath is deprecated. Please use find_elements(by=By.XPATH, value=xpath) instead\n",
      "/usr/local/lib/python3.7/site-packages/ipykernel_launcher.py:93: DeprecationWarning: find_elements_by_xpath is deprecated. Please use find_elements(by=By.XPATH, value=xpath) instead\n"
     ]
    },
    {
     "name": "stdout",
     "output_type": "stream",
     "text": [
      "          Date         Team    xG    xA  xPTS match_or_not\n",
      "0   16/08/2014      Arsenal  1.55  0.16  2.79            1\n",
      "1   16/08/2014      Swansea  0.28  1.17  0.48            1\n",
      "2   16/08/2014  Aston Villa  0.91  0.42  1.83            1\n",
      "3   16/08/2014    Tottenham  1.02  1.85  0.71            1\n",
      "4   16/08/2014         Hull  1.12  1.90  0.74            1\n",
      "..         ...          ...   ...   ...   ...          ...\n",
      "15  31/01/2015         Hull  0.99  0.51  1.80            1\n",
      "0   01/02/2015      Arsenal  2.36  0.71  2.55            1\n",
      "1   01/02/2015      Swansea  0.26  1.63  0.32            1\n",
      "2   01/02/2015  Southampton  1.63  0.26  2.49            1\n",
      "3   01/02/2015  Aston Villa  0.71  2.36  0.31            1\n",
      "\n",
      "[460 rows x 6 columns]\n",
      "Feb 2, 2015\n"
     ]
    },
    {
     "name": "stderr",
     "output_type": "stream",
     "text": [
      "/usr/local/lib/python3.7/site-packages/ipykernel_launcher.py:51: DeprecationWarning: find_elements_by_xpath is deprecated. Please use find_elements(by=By.XPATH, value=xpath) instead\n",
      "/usr/local/lib/python3.7/site-packages/ipykernel_launcher.py:67: DeprecationWarning: find_elements_by_xpath is deprecated. Please use find_elements(by=By.XPATH, value=xpath) instead\n"
     ]
    },
    {
     "name": "stdout",
     "output_type": "stream",
     "text": [
      "Feb 3, 2015\n",
      "Feb 4, 2015\n",
      "Feb 5, 2015\n",
      "Feb 6, 2015\n",
      "Feb 7, 2015\n"
     ]
    },
    {
     "name": "stderr",
     "output_type": "stream",
     "text": [
      "/usr/local/lib/python3.7/site-packages/ipykernel_launcher.py:83: DeprecationWarning: find_elements_by_xpath is deprecated. Please use find_elements(by=By.XPATH, value=xpath) instead\n",
      "/usr/local/lib/python3.7/site-packages/ipykernel_launcher.py:84: DeprecationWarning: find_elements_by_xpath is deprecated. Please use find_elements(by=By.XPATH, value=xpath) instead\n",
      "/usr/local/lib/python3.7/site-packages/ipykernel_launcher.py:93: DeprecationWarning: find_elements_by_xpath is deprecated. Please use find_elements(by=By.XPATH, value=xpath) instead\n"
     ]
    },
    {
     "name": "stdout",
     "output_type": "stream",
     "text": [
      "          Date                 Team    xG    xA  xPTS match_or_not\n",
      "0   16/08/2014              Arsenal  1.55  0.16  2.79            1\n",
      "1   16/08/2014              Swansea  0.28  1.17  0.48            1\n",
      "2   16/08/2014          Aston Villa  0.91  0.42  1.83            1\n",
      "3   16/08/2014            Tottenham  1.02  1.85  0.71            1\n",
      "4   16/08/2014                 Hull  1.12  1.90  0.74            1\n",
      "..         ...                  ...   ...   ...   ...          ...\n",
      "9   07/02/2015            Liverpool  1.04  0.23  2.08            1\n",
      "10  07/02/2015          Aston Villa  0.71  1.12  0.95            1\n",
      "11  07/02/2015              Arsenal  0.83  1.28  0.98            1\n",
      "12  07/02/2015            Leicester  0.78  1.01  1.14            1\n",
      "13  07/02/2015  Queens Park Rangers  1.03  0.96  1.39            1\n",
      "\n",
      "[474 rows x 6 columns]\n",
      "Feb 8, 2015\n"
     ]
    },
    {
     "name": "stderr",
     "output_type": "stream",
     "text": [
      "/usr/local/lib/python3.7/site-packages/ipykernel_launcher.py:51: DeprecationWarning: find_elements_by_xpath is deprecated. Please use find_elements(by=By.XPATH, value=xpath) instead\n",
      "/usr/local/lib/python3.7/site-packages/ipykernel_launcher.py:67: DeprecationWarning: find_elements_by_xpath is deprecated. Please use find_elements(by=By.XPATH, value=xpath) instead\n",
      "/usr/local/lib/python3.7/site-packages/ipykernel_launcher.py:83: DeprecationWarning: find_elements_by_xpath is deprecated. Please use find_elements(by=By.XPATH, value=xpath) instead\n",
      "/usr/local/lib/python3.7/site-packages/ipykernel_launcher.py:84: DeprecationWarning: find_elements_by_xpath is deprecated. Please use find_elements(by=By.XPATH, value=xpath) instead\n",
      "/usr/local/lib/python3.7/site-packages/ipykernel_launcher.py:93: DeprecationWarning: find_elements_by_xpath is deprecated. Please use find_elements(by=By.XPATH, value=xpath) instead\n"
     ]
    },
    {
     "name": "stdout",
     "output_type": "stream",
     "text": [
      "          Date               Team    xG    xA  xPTS match_or_not\n",
      "0   16/08/2014            Arsenal  1.55  0.16  2.79            1\n",
      "1   16/08/2014            Swansea  0.28  1.17  0.48            1\n",
      "2   16/08/2014        Aston Villa  0.91  0.42  1.83            1\n",
      "3   16/08/2014          Tottenham  1.02  1.85  0.71            1\n",
      "4   16/08/2014               Hull  1.12  1.90  0.74            1\n",
      "..         ...                ...   ...   ...   ...          ...\n",
      "1   08/02/2015            Burnley  1.10  2.55  0.47            1\n",
      "2   08/02/2015           West Ham  0.87  1.21  1.05            1\n",
      "3   08/02/2015              Stoke  0.22  0.79  0.69            1\n",
      "4   08/02/2015   Newcastle United  0.79  0.22  1.91            1\n",
      "5   08/02/2015  Manchester United  1.21  0.87  1.64            1\n",
      "\n",
      "[480 rows x 6 columns]\n",
      "Feb 9, 2015\n"
     ]
    },
    {
     "name": "stderr",
     "output_type": "stream",
     "text": [
      "/usr/local/lib/python3.7/site-packages/ipykernel_launcher.py:51: DeprecationWarning: find_elements_by_xpath is deprecated. Please use find_elements(by=By.XPATH, value=xpath) instead\n",
      "/usr/local/lib/python3.7/site-packages/ipykernel_launcher.py:67: DeprecationWarning: find_elements_by_xpath is deprecated. Please use find_elements(by=By.XPATH, value=xpath) instead\n"
     ]
    },
    {
     "name": "stdout",
     "output_type": "stream",
     "text": [
      "Feb 10, 2015\n"
     ]
    },
    {
     "name": "stderr",
     "output_type": "stream",
     "text": [
      "/usr/local/lib/python3.7/site-packages/ipykernel_launcher.py:83: DeprecationWarning: find_elements_by_xpath is deprecated. Please use find_elements(by=By.XPATH, value=xpath) instead\n",
      "/usr/local/lib/python3.7/site-packages/ipykernel_launcher.py:84: DeprecationWarning: find_elements_by_xpath is deprecated. Please use find_elements(by=By.XPATH, value=xpath) instead\n",
      "/usr/local/lib/python3.7/site-packages/ipykernel_launcher.py:93: DeprecationWarning: find_elements_by_xpath is deprecated. Please use find_elements(by=By.XPATH, value=xpath) instead\n"
     ]
    },
    {
     "name": "stdout",
     "output_type": "stream",
     "text": [
      "          Date         Team    xG    xA  xPTS match_or_not\n",
      "0   16/08/2014      Arsenal  1.55  0.16  2.79            1\n",
      "1   16/08/2014      Swansea  0.28  1.17  0.48            1\n",
      "2   16/08/2014  Aston Villa  0.91  0.42  1.83            1\n",
      "3   16/08/2014    Tottenham  1.02  1.85  0.71            1\n",
      "4   16/08/2014         Hull  1.12  1.90  0.74            1\n",
      "..         ...          ...   ...   ...   ...          ...\n",
      "3   10/02/2015      Arsenal  1.77  0.80  2.11            1\n",
      "4   10/02/2015    Tottenham  1.71  2.76  0.61            1\n",
      "5   10/02/2015    Leicester  0.80  1.77  0.65            1\n",
      "6   10/02/2015  Aston Villa  0.42  0.99  0.76            1\n",
      "7   10/02/2015   Sunderland  1.81  1.27  1.83            1\n",
      "\n",
      "[488 rows x 6 columns]\n",
      "Feb 11, 2015\n"
     ]
    },
    {
     "name": "stderr",
     "output_type": "stream",
     "text": [
      "/usr/local/lib/python3.7/site-packages/ipykernel_launcher.py:51: DeprecationWarning: find_elements_by_xpath is deprecated. Please use find_elements(by=By.XPATH, value=xpath) instead\n",
      "/usr/local/lib/python3.7/site-packages/ipykernel_launcher.py:67: DeprecationWarning: find_elements_by_xpath is deprecated. Please use find_elements(by=By.XPATH, value=xpath) instead\n",
      "/usr/local/lib/python3.7/site-packages/ipykernel_launcher.py:83: DeprecationWarning: find_elements_by_xpath is deprecated. Please use find_elements(by=By.XPATH, value=xpath) instead\n",
      "/usr/local/lib/python3.7/site-packages/ipykernel_launcher.py:84: DeprecationWarning: find_elements_by_xpath is deprecated. Please use find_elements(by=By.XPATH, value=xpath) instead\n",
      "/usr/local/lib/python3.7/site-packages/ipykernel_launcher.py:93: DeprecationWarning: find_elements_by_xpath is deprecated. Please use find_elements(by=By.XPATH, value=xpath) instead\n"
     ]
    },
    {
     "name": "stdout",
     "output_type": "stream",
     "text": [
      "          Date         Team    xG    xA  xPTS match_or_not\n",
      "0   16/08/2014      Arsenal  1.55  0.16  2.79            1\n",
      "1   16/08/2014      Swansea  0.28  1.17  0.48            1\n",
      "2   16/08/2014  Aston Villa  0.91  0.42  1.83            1\n",
      "3   16/08/2014    Tottenham  1.02  1.85  0.71            1\n",
      "4   16/08/2014         Hull  1.12  1.90  0.74            1\n",
      "..         ...          ...   ...   ...   ...          ...\n",
      "7   11/02/2015     West Ham  0.13  1.68  0.23            1\n",
      "8   11/02/2015      Everton  0.71  0.90  1.18            1\n",
      "9   11/02/2015      Burnley  1.85  1.62  1.54            1\n",
      "10  11/02/2015      Swansea  0.44  0.69  1.04            1\n",
      "11  11/02/2015        Stoke  0.75  2.14  0.41            1\n",
      "\n",
      "[500 rows x 6 columns]\n",
      "Feb 12, 2015\n"
     ]
    },
    {
     "name": "stderr",
     "output_type": "stream",
     "text": [
      "/usr/local/lib/python3.7/site-packages/ipykernel_launcher.py:51: DeprecationWarning: find_elements_by_xpath is deprecated. Please use find_elements(by=By.XPATH, value=xpath) instead\n",
      "/usr/local/lib/python3.7/site-packages/ipykernel_launcher.py:67: DeprecationWarning: find_elements_by_xpath is deprecated. Please use find_elements(by=By.XPATH, value=xpath) instead\n"
     ]
    },
    {
     "name": "stdout",
     "output_type": "stream",
     "text": [
      "Feb 13, 2015\n",
      "Feb 14, 2015\n",
      "Feb 15, 2015\n",
      "Feb 16, 2015\n",
      "Feb 17, 2015\n",
      "Feb 18, 2015\n",
      "Feb 19, 2015\n",
      "Feb 20, 2015\n",
      "Feb 21, 2015\n"
     ]
    },
    {
     "name": "stderr",
     "output_type": "stream",
     "text": [
      "/usr/local/lib/python3.7/site-packages/ipykernel_launcher.py:83: DeprecationWarning: find_elements_by_xpath is deprecated. Please use find_elements(by=By.XPATH, value=xpath) instead\n",
      "/usr/local/lib/python3.7/site-packages/ipykernel_launcher.py:84: DeprecationWarning: find_elements_by_xpath is deprecated. Please use find_elements(by=By.XPATH, value=xpath) instead\n",
      "/usr/local/lib/python3.7/site-packages/ipykernel_launcher.py:93: DeprecationWarning: find_elements_by_xpath is deprecated. Please use find_elements(by=By.XPATH, value=xpath) instead\n"
     ]
    },
    {
     "name": "stdout",
     "output_type": "stream",
     "text": [
      "          Date                 Team    xG    xA  xPTS match_or_not\n",
      "0   16/08/2014              Arsenal  1.55  0.16  2.79            1\n",
      "1   16/08/2014              Swansea  0.28  1.17  0.48            1\n",
      "2   16/08/2014          Aston Villa  0.91  0.42  1.83            1\n",
      "3   16/08/2014            Tottenham  1.02  1.85  0.71            1\n",
      "4   16/08/2014                 Hull  1.12  1.90  0.74            1\n",
      "..         ...                  ...   ...   ...   ...          ...\n",
      "9   21/02/2015          Aston Villa  0.23  1.12  0.37            1\n",
      "10  21/02/2015       Crystal Palace  2.26  2.08  1.46            1\n",
      "11  21/02/2015    Manchester United  1.47  1.04  1.71            1\n",
      "12  21/02/2015  Queens Park Rangers  0.19  1.09  0.48            1\n",
      "13  21/02/2015     Newcastle United  0.17  3.13  0.03            1\n",
      "\n",
      "[514 rows x 6 columns]\n",
      "Feb 22, 2015\n"
     ]
    },
    {
     "name": "stderr",
     "output_type": "stream",
     "text": [
      "/usr/local/lib/python3.7/site-packages/ipykernel_launcher.py:51: DeprecationWarning: find_elements_by_xpath is deprecated. Please use find_elements(by=By.XPATH, value=xpath) instead\n",
      "/usr/local/lib/python3.7/site-packages/ipykernel_launcher.py:67: DeprecationWarning: find_elements_by_xpath is deprecated. Please use find_elements(by=By.XPATH, value=xpath) instead\n",
      "/usr/local/lib/python3.7/site-packages/ipykernel_launcher.py:83: DeprecationWarning: find_elements_by_xpath is deprecated. Please use find_elements(by=By.XPATH, value=xpath) instead\n",
      "/usr/local/lib/python3.7/site-packages/ipykernel_launcher.py:84: DeprecationWarning: find_elements_by_xpath is deprecated. Please use find_elements(by=By.XPATH, value=xpath) instead\n",
      "/usr/local/lib/python3.7/site-packages/ipykernel_launcher.py:93: DeprecationWarning: find_elements_by_xpath is deprecated. Please use find_elements(by=By.XPATH, value=xpath) instead\n"
     ]
    },
    {
     "name": "stdout",
     "output_type": "stream",
     "text": [
      "          Date         Team    xG    xA  xPTS match_or_not\n",
      "0   16/08/2014      Arsenal  1.55  0.16  2.79            1\n",
      "1   16/08/2014      Swansea  0.28  1.17  0.48            1\n",
      "2   16/08/2014  Aston Villa  0.91  0.42  1.83            1\n",
      "3   16/08/2014    Tottenham  1.02  1.85  0.71            1\n",
      "4   16/08/2014         Hull  1.12  1.90  0.74            1\n",
      "..         ...          ...   ...   ...   ...          ...\n",
      "1   22/02/2015      Everton  2.05  2.00  1.41            1\n",
      "2   22/02/2015    Leicester  2.00  2.05  1.34            1\n",
      "3   22/02/2015     West Ham  2.21  2.18  1.39            1\n",
      "4   22/02/2015    Tottenham  2.18  2.21  1.35            1\n",
      "5   22/02/2015  Southampton  0.87  0.70  1.46            1\n",
      "\n",
      "[520 rows x 6 columns]\n",
      "Feb 23, 2015\n"
     ]
    },
    {
     "name": "stderr",
     "output_type": "stream",
     "text": [
      "/usr/local/lib/python3.7/site-packages/ipykernel_launcher.py:51: DeprecationWarning: find_elements_by_xpath is deprecated. Please use find_elements(by=By.XPATH, value=xpath) instead\n",
      "/usr/local/lib/python3.7/site-packages/ipykernel_launcher.py:67: DeprecationWarning: find_elements_by_xpath is deprecated. Please use find_elements(by=By.XPATH, value=xpath) instead\n"
     ]
    },
    {
     "name": "stdout",
     "output_type": "stream",
     "text": [
      "Feb 24, 2015\n",
      "Feb 25, 2015\n",
      "Feb 26, 2015\n",
      "Feb 27, 2015\n",
      "Feb 28, 2015\n"
     ]
    },
    {
     "name": "stderr",
     "output_type": "stream",
     "text": [
      "/usr/local/lib/python3.7/site-packages/ipykernel_launcher.py:83: DeprecationWarning: find_elements_by_xpath is deprecated. Please use find_elements(by=By.XPATH, value=xpath) instead\n",
      "/usr/local/lib/python3.7/site-packages/ipykernel_launcher.py:84: DeprecationWarning: find_elements_by_xpath is deprecated. Please use find_elements(by=By.XPATH, value=xpath) instead\n",
      "/usr/local/lib/python3.7/site-packages/ipykernel_launcher.py:93: DeprecationWarning: find_elements_by_xpath is deprecated. Please use find_elements(by=By.XPATH, value=xpath) instead\n"
     ]
    },
    {
     "name": "stdout",
     "output_type": "stream",
     "text": [
      "          Date         Team    xG    xA  xPTS match_or_not\n",
      "0   16/08/2014      Arsenal  1.55  0.16  2.79            1\n",
      "1   16/08/2014      Swansea  0.28  1.17  0.48            1\n",
      "2   16/08/2014  Aston Villa  0.91  0.42  1.83            1\n",
      "3   16/08/2014    Tottenham  1.02  1.85  0.71            1\n",
      "4   16/08/2014         Hull  1.12  1.90  0.74            1\n",
      "..         ...          ...   ...   ...   ...          ...\n",
      "7   28/02/2015  Southampton  0.58  1.09  0.83            1\n",
      "8   28/02/2015         Hull  0.34  0.90  0.78            1\n",
      "9   28/02/2015      Burnley  0.90  1.41  0.85            1\n",
      "10  28/02/2015     West Ham  1.29  0.85  1.70            1\n",
      "11  28/02/2015   Sunderland  0.27  3.04  0.06            1\n",
      "\n",
      "[532 rows x 6 columns]\n",
      "Mar 1, 2015\n"
     ]
    },
    {
     "name": "stderr",
     "output_type": "stream",
     "text": [
      "/usr/local/lib/python3.7/site-packages/ipykernel_launcher.py:51: DeprecationWarning: find_elements_by_xpath is deprecated. Please use find_elements(by=By.XPATH, value=xpath) instead\n",
      "/usr/local/lib/python3.7/site-packages/ipykernel_launcher.py:67: DeprecationWarning: find_elements_by_xpath is deprecated. Please use find_elements(by=By.XPATH, value=xpath) instead\n",
      "/usr/local/lib/python3.7/site-packages/ipykernel_launcher.py:83: DeprecationWarning: find_elements_by_xpath is deprecated. Please use find_elements(by=By.XPATH, value=xpath) instead\n",
      "/usr/local/lib/python3.7/site-packages/ipykernel_launcher.py:84: DeprecationWarning: find_elements_by_xpath is deprecated. Please use find_elements(by=By.XPATH, value=xpath) instead\n",
      "/usr/local/lib/python3.7/site-packages/ipykernel_launcher.py:93: DeprecationWarning: find_elements_by_xpath is deprecated. Please use find_elements(by=By.XPATH, value=xpath) instead\n"
     ]
    },
    {
     "name": "stdout",
     "output_type": "stream",
     "text": [
      "          Date             Team    xG    xA  xPTS match_or_not\n",
      "0   16/08/2014          Arsenal  1.55  0.16  2.79            1\n",
      "1   16/08/2014          Swansea  0.28  1.17  0.48            1\n",
      "2   16/08/2014      Aston Villa  0.91  0.42  1.83            1\n",
      "3   16/08/2014        Tottenham  1.02  1.85  0.71            1\n",
      "4   16/08/2014             Hull  1.12  1.90  0.74            1\n",
      "..         ...              ...   ...   ...   ...          ...\n",
      "11  28/02/2015       Sunderland  0.27  3.04  0.06            1\n",
      "0   01/03/2015          Arsenal  1.39  0.37  2.26            1\n",
      "1   01/03/2015        Liverpool  0.77  1.13  0.98            1\n",
      "2   01/03/2015  Manchester City  1.13  0.77  1.70            1\n",
      "3   01/03/2015          Everton  0.37  1.39  0.49            1\n",
      "\n",
      "[536 rows x 6 columns]\n",
      "Mar 2, 2015\n"
     ]
    },
    {
     "name": "stderr",
     "output_type": "stream",
     "text": [
      "/usr/local/lib/python3.7/site-packages/ipykernel_launcher.py:51: DeprecationWarning: find_elements_by_xpath is deprecated. Please use find_elements(by=By.XPATH, value=xpath) instead\n",
      "/usr/local/lib/python3.7/site-packages/ipykernel_launcher.py:67: DeprecationWarning: find_elements_by_xpath is deprecated. Please use find_elements(by=By.XPATH, value=xpath) instead\n"
     ]
    },
    {
     "name": "stdout",
     "output_type": "stream",
     "text": [
      "Mar 3, 2015\n"
     ]
    },
    {
     "name": "stderr",
     "output_type": "stream",
     "text": [
      "/usr/local/lib/python3.7/site-packages/ipykernel_launcher.py:83: DeprecationWarning: find_elements_by_xpath is deprecated. Please use find_elements(by=By.XPATH, value=xpath) instead\n",
      "/usr/local/lib/python3.7/site-packages/ipykernel_launcher.py:84: DeprecationWarning: find_elements_by_xpath is deprecated. Please use find_elements(by=By.XPATH, value=xpath) instead\n",
      "/usr/local/lib/python3.7/site-packages/ipykernel_launcher.py:93: DeprecationWarning: find_elements_by_xpath is deprecated. Please use find_elements(by=By.XPATH, value=xpath) instead\n"
     ]
    },
    {
     "name": "stdout",
     "output_type": "stream",
     "text": [
      "          Date                  Team    xG    xA  xPTS match_or_not\n",
      "0   16/08/2014               Arsenal  1.55  0.16  2.79            1\n",
      "1   16/08/2014               Swansea  0.28  1.17  0.48            1\n",
      "2   16/08/2014           Aston Villa  0.91  0.42  1.83            1\n",
      "3   16/08/2014             Tottenham  1.02  1.85  0.71            1\n",
      "4   16/08/2014                  Hull  1.12  1.90  0.74            1\n",
      "..         ...                   ...   ...   ...   ...          ...\n",
      "1   03/03/2015           Southampton  2.23  0.39  2.68            1\n",
      "2   03/03/2015            Sunderland  1.23  1.39  1.23            1\n",
      "3   03/03/2015                  Hull  1.39  1.23  1.42            1\n",
      "4   03/03/2015  West Bromwich Albion  0.91  1.92  0.56            1\n",
      "5   03/03/2015        Crystal Palace  0.39  2.23  0.20            1\n",
      "\n",
      "[542 rows x 6 columns]\n",
      "Mar 4, 2015\n"
     ]
    },
    {
     "name": "stderr",
     "output_type": "stream",
     "text": [
      "/usr/local/lib/python3.7/site-packages/ipykernel_launcher.py:51: DeprecationWarning: find_elements_by_xpath is deprecated. Please use find_elements(by=By.XPATH, value=xpath) instead\n",
      "/usr/local/lib/python3.7/site-packages/ipykernel_launcher.py:67: DeprecationWarning: find_elements_by_xpath is deprecated. Please use find_elements(by=By.XPATH, value=xpath) instead\n",
      "/usr/local/lib/python3.7/site-packages/ipykernel_launcher.py:83: DeprecationWarning: find_elements_by_xpath is deprecated. Please use find_elements(by=By.XPATH, value=xpath) instead\n",
      "/usr/local/lib/python3.7/site-packages/ipykernel_launcher.py:84: DeprecationWarning: find_elements_by_xpath is deprecated. Please use find_elements(by=By.XPATH, value=xpath) instead\n",
      "/usr/local/lib/python3.7/site-packages/ipykernel_launcher.py:93: DeprecationWarning: find_elements_by_xpath is deprecated. Please use find_elements(by=By.XPATH, value=xpath) instead\n"
     ]
    },
    {
     "name": "stdout",
     "output_type": "stream",
     "text": [
      "          Date              Team    xG    xA  xPTS match_or_not\n",
      "0   16/08/2014           Arsenal  1.55  0.16  2.79            1\n",
      "1   16/08/2014           Swansea  0.28  1.17  0.48            1\n",
      "2   16/08/2014       Aston Villa  0.91  0.42  1.83            1\n",
      "3   16/08/2014         Tottenham  1.02  1.85  0.71            1\n",
      "4   16/08/2014              Hull  1.12  1.90  0.74            1\n",
      "..         ...               ...   ...   ...   ...          ...\n",
      "9   04/03/2015          West Ham  1.46  2.38  0.76            1\n",
      "10  04/03/2015  Newcastle United  1.19  1.69  0.93            1\n",
      "11  04/03/2015           Everton  0.42  1.04  0.68            1\n",
      "12  04/03/2015         Leicester  0.22  2.92  0.05            1\n",
      "13  04/03/2015           Burnley  0.32  1.30  0.51            1\n",
      "\n",
      "[556 rows x 6 columns]\n",
      "Mar 5, 2015\n"
     ]
    },
    {
     "name": "stderr",
     "output_type": "stream",
     "text": [
      "/usr/local/lib/python3.7/site-packages/ipykernel_launcher.py:51: DeprecationWarning: find_elements_by_xpath is deprecated. Please use find_elements(by=By.XPATH, value=xpath) instead\n",
      "/usr/local/lib/python3.7/site-packages/ipykernel_launcher.py:67: DeprecationWarning: find_elements_by_xpath is deprecated. Please use find_elements(by=By.XPATH, value=xpath) instead\n"
     ]
    },
    {
     "name": "stdout",
     "output_type": "stream",
     "text": [
      "Mar 6, 2015\n",
      "Mar 7, 2015\n"
     ]
    },
    {
     "name": "stderr",
     "output_type": "stream",
     "text": [
      "/usr/local/lib/python3.7/site-packages/ipykernel_launcher.py:83: DeprecationWarning: find_elements_by_xpath is deprecated. Please use find_elements(by=By.XPATH, value=xpath) instead\n",
      "/usr/local/lib/python3.7/site-packages/ipykernel_launcher.py:84: DeprecationWarning: find_elements_by_xpath is deprecated. Please use find_elements(by=By.XPATH, value=xpath) instead\n",
      "/usr/local/lib/python3.7/site-packages/ipykernel_launcher.py:93: DeprecationWarning: find_elements_by_xpath is deprecated. Please use find_elements(by=By.XPATH, value=xpath) instead\n"
     ]
    },
    {
     "name": "stdout",
     "output_type": "stream",
     "text": [
      "          Date                 Team    xG    xA  xPTS match_or_not\n",
      "0   16/08/2014              Arsenal  1.55  0.16  2.79            1\n",
      "1   16/08/2014              Swansea  0.28  1.17  0.48            1\n",
      "2   16/08/2014          Aston Villa  0.91  0.42  1.83            1\n",
      "3   16/08/2014            Tottenham  1.02  1.85  0.71            1\n",
      "4   16/08/2014                 Hull  1.12  1.90  0.74            1\n",
      "..         ...                  ...   ...   ...   ...          ...\n",
      "11  04/03/2015              Everton  0.42  1.04  0.68            1\n",
      "12  04/03/2015            Leicester  0.22  2.92  0.05            1\n",
      "13  04/03/2015              Burnley  0.32  1.30  0.51            1\n",
      "0   07/03/2015            Tottenham  2.62  1.50  2.14            1\n",
      "1   07/03/2015  Queens Park Rangers  1.50  2.62  0.67            1\n",
      "\n",
      "[558 rows x 6 columns]\n",
      "Mar 8, 2015\n"
     ]
    },
    {
     "name": "stderr",
     "output_type": "stream",
     "text": [
      "/usr/local/lib/python3.7/site-packages/ipykernel_launcher.py:51: DeprecationWarning: find_elements_by_xpath is deprecated. Please use find_elements(by=By.XPATH, value=xpath) instead\n",
      "/usr/local/lib/python3.7/site-packages/ipykernel_launcher.py:67: DeprecationWarning: find_elements_by_xpath is deprecated. Please use find_elements(by=By.XPATH, value=xpath) instead\n"
     ]
    },
    {
     "name": "stdout",
     "output_type": "stream",
     "text": [
      "Mar 9, 2015\n",
      "Mar 10, 2015\n",
      "Mar 11, 2015\n",
      "Mar 12, 2015\n",
      "Mar 13, 2015\n",
      "Mar 14, 2015\n"
     ]
    },
    {
     "name": "stderr",
     "output_type": "stream",
     "text": [
      "/usr/local/lib/python3.7/site-packages/ipykernel_launcher.py:83: DeprecationWarning: find_elements_by_xpath is deprecated. Please use find_elements(by=By.XPATH, value=xpath) instead\n",
      "/usr/local/lib/python3.7/site-packages/ipykernel_launcher.py:84: DeprecationWarning: find_elements_by_xpath is deprecated. Please use find_elements(by=By.XPATH, value=xpath) instead\n",
      "/usr/local/lib/python3.7/site-packages/ipykernel_launcher.py:93: DeprecationWarning: find_elements_by_xpath is deprecated. Please use find_elements(by=By.XPATH, value=xpath) instead\n"
     ]
    },
    {
     "name": "stdout",
     "output_type": "stream",
     "text": [
      "          Date                 Team    xG    xA  xPTS match_or_not\n",
      "0   16/08/2014              Arsenal  1.55  0.16  2.79            1\n",
      "1   16/08/2014              Swansea  0.28  1.17  0.48            1\n",
      "2   16/08/2014          Aston Villa  0.91  0.42  1.83            1\n",
      "3   16/08/2014            Tottenham  1.02  1.85  0.71            1\n",
      "4   16/08/2014                 Hull  1.12  1.90  0.74            1\n",
      "..         ...                  ...   ...   ...   ...          ...\n",
      "7   14/03/2015                Stoke  0.20  0.96  0.60            1\n",
      "8   14/03/2015      Manchester City  1.26  0.24  2.24            1\n",
      "9   14/03/2015  Queens Park Rangers  0.27  2.20  0.13            1\n",
      "10  14/03/2015             West Ham  0.48  3.20  0.09            1\n",
      "11  14/03/2015           Sunderland  0.47  1.50  0.51            1\n",
      "\n",
      "[570 rows x 6 columns]\n",
      "Mar 15, 2015\n"
     ]
    },
    {
     "name": "stderr",
     "output_type": "stream",
     "text": [
      "/usr/local/lib/python3.7/site-packages/ipykernel_launcher.py:51: DeprecationWarning: find_elements_by_xpath is deprecated. Please use find_elements(by=By.XPATH, value=xpath) instead\n",
      "/usr/local/lib/python3.7/site-packages/ipykernel_launcher.py:67: DeprecationWarning: find_elements_by_xpath is deprecated. Please use find_elements(by=By.XPATH, value=xpath) instead\n",
      "/usr/local/lib/python3.7/site-packages/ipykernel_launcher.py:83: DeprecationWarning: find_elements_by_xpath is deprecated. Please use find_elements(by=By.XPATH, value=xpath) instead\n",
      "/usr/local/lib/python3.7/site-packages/ipykernel_launcher.py:84: DeprecationWarning: find_elements_by_xpath is deprecated. Please use find_elements(by=By.XPATH, value=xpath) instead\n",
      "/usr/local/lib/python3.7/site-packages/ipykernel_launcher.py:93: DeprecationWarning: find_elements_by_xpath is deprecated. Please use find_elements(by=By.XPATH, value=xpath) instead\n"
     ]
    },
    {
     "name": "stdout",
     "output_type": "stream",
     "text": [
      "          Date               Team    xG    xA  xPTS match_or_not\n",
      "0   16/08/2014            Arsenal  1.55  0.16  2.79            1\n",
      "1   16/08/2014            Swansea  0.28  1.17  0.48            1\n",
      "2   16/08/2014        Aston Villa  0.91  0.42  1.83            1\n",
      "3   16/08/2014          Tottenham  1.02  1.85  0.71            1\n",
      "4   16/08/2014               Hull  1.12  1.90  0.74            1\n",
      "..         ...                ...   ...   ...   ...          ...\n",
      "1   15/03/2015  Manchester United  1.03  0.21  2.14            1\n",
      "2   15/03/2015        Southampton  1.83  3.19  0.55            1\n",
      "3   15/03/2015            Chelsea  3.19  1.83  2.29            1\n",
      "4   15/03/2015          Tottenham  0.21  1.03  0.53            1\n",
      "5   15/03/2015   Newcastle United  0.81  2.26  0.39            1\n",
      "\n",
      "[576 rows x 6 columns]\n",
      "Mar 16, 2015\n"
     ]
    },
    {
     "name": "stderr",
     "output_type": "stream",
     "text": [
      "/usr/local/lib/python3.7/site-packages/ipykernel_launcher.py:51: DeprecationWarning: find_elements_by_xpath is deprecated. Please use find_elements(by=By.XPATH, value=xpath) instead\n",
      "/usr/local/lib/python3.7/site-packages/ipykernel_launcher.py:67: DeprecationWarning: find_elements_by_xpath is deprecated. Please use find_elements(by=By.XPATH, value=xpath) instead\n",
      "/usr/local/lib/python3.7/site-packages/ipykernel_launcher.py:83: DeprecationWarning: find_elements_by_xpath is deprecated. Please use find_elements(by=By.XPATH, value=xpath) instead\n",
      "/usr/local/lib/python3.7/site-packages/ipykernel_launcher.py:84: DeprecationWarning: find_elements_by_xpath is deprecated. Please use find_elements(by=By.XPATH, value=xpath) instead\n",
      "/usr/local/lib/python3.7/site-packages/ipykernel_launcher.py:93: DeprecationWarning: find_elements_by_xpath is deprecated. Please use find_elements(by=By.XPATH, value=xpath) instead\n"
     ]
    },
    {
     "name": "stdout",
     "output_type": "stream",
     "text": [
      "          Date              Team    xG    xA  xPTS match_or_not\n",
      "0   16/08/2014           Arsenal  1.55  0.16  2.79            1\n",
      "1   16/08/2014           Swansea  0.28  1.17  0.48            1\n",
      "2   16/08/2014       Aston Villa  0.91  0.42  1.83            1\n",
      "3   16/08/2014         Tottenham  1.02  1.85  0.71            1\n",
      "4   16/08/2014              Hull  1.12  1.90  0.74            1\n",
      "..         ...               ...   ...   ...   ...          ...\n",
      "3   15/03/2015           Chelsea  3.19  1.83  2.29            1\n",
      "4   15/03/2015         Tottenham  0.21  1.03  0.53            1\n",
      "5   15/03/2015  Newcastle United  0.81  2.26  0.39            1\n",
      "0   16/03/2015         Liverpool  1.70  0.44  2.39            1\n",
      "1   16/03/2015           Swansea  0.44  1.70  0.41            1\n",
      "\n",
      "[578 rows x 6 columns]\n",
      "Mar 17, 2015\n"
     ]
    },
    {
     "name": "stderr",
     "output_type": "stream",
     "text": [
      "/usr/local/lib/python3.7/site-packages/ipykernel_launcher.py:51: DeprecationWarning: find_elements_by_xpath is deprecated. Please use find_elements(by=By.XPATH, value=xpath) instead\n",
      "/usr/local/lib/python3.7/site-packages/ipykernel_launcher.py:67: DeprecationWarning: find_elements_by_xpath is deprecated. Please use find_elements(by=By.XPATH, value=xpath) instead\n"
     ]
    },
    {
     "name": "stdout",
     "output_type": "stream",
     "text": [
      "Mar 18, 2015\n",
      "Mar 19, 2015\n",
      "Mar 20, 2015\n",
      "Mar 21, 2015\n"
     ]
    },
    {
     "name": "stderr",
     "output_type": "stream",
     "text": [
      "/usr/local/lib/python3.7/site-packages/ipykernel_launcher.py:83: DeprecationWarning: find_elements_by_xpath is deprecated. Please use find_elements(by=By.XPATH, value=xpath) instead\n",
      "/usr/local/lib/python3.7/site-packages/ipykernel_launcher.py:84: DeprecationWarning: find_elements_by_xpath is deprecated. Please use find_elements(by=By.XPATH, value=xpath) instead\n",
      "/usr/local/lib/python3.7/site-packages/ipykernel_launcher.py:93: DeprecationWarning: find_elements_by_xpath is deprecated. Please use find_elements(by=By.XPATH, value=xpath) instead\n"
     ]
    },
    {
     "name": "stdout",
     "output_type": "stream",
     "text": [
      "          Date                  Team    xG    xA  xPTS match_or_not\n",
      "0   16/08/2014               Arsenal  1.55  0.16  2.79            1\n",
      "1   16/08/2014               Swansea  0.28  1.17  0.48            1\n",
      "2   16/08/2014           Aston Villa  0.91  0.42  1.83            1\n",
      "3   16/08/2014             Tottenham  1.02  1.85  0.71            1\n",
      "4   16/08/2014                  Hull  1.12  1.90  0.74            1\n",
      "..         ...                   ...   ...   ...   ...          ...\n",
      "9   21/03/2015      Newcastle United  1.01  0.75  1.56            1\n",
      "10  21/03/2015           Aston Villa  0.76  1.90  0.52            1\n",
      "11  21/03/2015            Sunderland  0.54  1.00  0.91            1\n",
      "12  21/03/2015               Burnley  1.05  1.92  0.76            1\n",
      "13  21/03/2015  West Bromwich Albion  0.78  4.91  0.01            1\n",
      "\n",
      "[592 rows x 6 columns]\n",
      "Mar 22, 2015\n"
     ]
    },
    {
     "name": "stderr",
     "output_type": "stream",
     "text": [
      "/usr/local/lib/python3.7/site-packages/ipykernel_launcher.py:51: DeprecationWarning: find_elements_by_xpath is deprecated. Please use find_elements(by=By.XPATH, value=xpath) instead\n",
      "/usr/local/lib/python3.7/site-packages/ipykernel_launcher.py:67: DeprecationWarning: find_elements_by_xpath is deprecated. Please use find_elements(by=By.XPATH, value=xpath) instead\n",
      "/usr/local/lib/python3.7/site-packages/ipykernel_launcher.py:83: DeprecationWarning: find_elements_by_xpath is deprecated. Please use find_elements(by=By.XPATH, value=xpath) instead\n",
      "/usr/local/lib/python3.7/site-packages/ipykernel_launcher.py:84: DeprecationWarning: find_elements_by_xpath is deprecated. Please use find_elements(by=By.XPATH, value=xpath) instead\n",
      "/usr/local/lib/python3.7/site-packages/ipykernel_launcher.py:93: DeprecationWarning: find_elements_by_xpath is deprecated. Please use find_elements(by=By.XPATH, value=xpath) instead\n"
     ]
    },
    {
     "name": "stdout",
     "output_type": "stream",
     "text": [
      "          Date                 Team    xG    xA  xPTS match_or_not\n",
      "0   16/08/2014              Arsenal  1.55  0.16  2.79            1\n",
      "1   16/08/2014              Swansea  0.28  1.17  0.48            1\n",
      "2   16/08/2014          Aston Villa  0.91  0.42  1.83            1\n",
      "3   16/08/2014            Tottenham  1.02  1.85  0.71            1\n",
      "4   16/08/2014                 Hull  1.12  1.90  0.74            1\n",
      "..         ...                  ...   ...   ...   ...          ...\n",
      "1   22/03/2015              Everton  0.84  1.39  0.89            1\n",
      "2   22/03/2015    Manchester United  1.23  0.56  2.05            1\n",
      "3   22/03/2015                 Hull  1.32  0.76  1.79            1\n",
      "4   22/03/2015            Liverpool  0.56  1.23  0.64            1\n",
      "5   22/03/2015  Queens Park Rangers  1.39  0.84  1.82            1\n",
      "\n",
      "[598 rows x 6 columns]\n",
      "Mar 23, 2015\n"
     ]
    },
    {
     "name": "stderr",
     "output_type": "stream",
     "text": [
      "/usr/local/lib/python3.7/site-packages/ipykernel_launcher.py:51: DeprecationWarning: find_elements_by_xpath is deprecated. Please use find_elements(by=By.XPATH, value=xpath) instead\n",
      "/usr/local/lib/python3.7/site-packages/ipykernel_launcher.py:67: DeprecationWarning: find_elements_by_xpath is deprecated. Please use find_elements(by=By.XPATH, value=xpath) instead\n"
     ]
    },
    {
     "name": "stdout",
     "output_type": "stream",
     "text": [
      "Mar 24, 2015\n",
      "Mar 25, 2015\n",
      "Mar 26, 2015\n",
      "Mar 27, 2015\n",
      "Mar 28, 2015\n",
      "Mar 29, 2015\n",
      "Mar 30, 2015\n",
      "Mar 31, 2015\n",
      "Apr 1, 2015\n",
      "Apr 2, 2015\n",
      "Apr 3, 2015\n",
      "Apr 4, 2015\n"
     ]
    },
    {
     "name": "stderr",
     "output_type": "stream",
     "text": [
      "/usr/local/lib/python3.7/site-packages/ipykernel_launcher.py:83: DeprecationWarning: find_elements_by_xpath is deprecated. Please use find_elements(by=By.XPATH, value=xpath) instead\n",
      "/usr/local/lib/python3.7/site-packages/ipykernel_launcher.py:84: DeprecationWarning: find_elements_by_xpath is deprecated. Please use find_elements(by=By.XPATH, value=xpath) instead\n",
      "/usr/local/lib/python3.7/site-packages/ipykernel_launcher.py:93: DeprecationWarning: find_elements_by_xpath is deprecated. Please use find_elements(by=By.XPATH, value=xpath) instead\n"
     ]
    },
    {
     "name": "stdout",
     "output_type": "stream",
     "text": [
      "          Date                  Team    xG    xA  xPTS match_or_not\n",
      "0   16/08/2014               Arsenal  1.55  0.16  2.79            1\n",
      "1   16/08/2014               Swansea  0.28  1.17  0.48            1\n",
      "2   16/08/2014           Aston Villa  0.91  0.42  1.83            1\n",
      "3   16/08/2014             Tottenham  1.02  1.85  0.71            1\n",
      "4   16/08/2014                  Hull  1.12  1.90  0.74            1\n",
      "..         ...                   ...   ...   ...   ...          ...\n",
      "9   04/04/2015           Southampton  0.53  1.02  0.80            1\n",
      "10  04/04/2015           Aston Villa  0.31  1.98  0.24            1\n",
      "11  04/04/2015                  Hull  0.92  1.50  0.87            1\n",
      "12  04/04/2015  West Bromwich Albion  2.13  1.21  2.02            1\n",
      "13  04/04/2015             Liverpool  1.21  1.46  1.18            1\n",
      "\n",
      "[612 rows x 6 columns]\n",
      "Apr 5, 2015\n"
     ]
    },
    {
     "name": "stderr",
     "output_type": "stream",
     "text": [
      "/usr/local/lib/python3.7/site-packages/ipykernel_launcher.py:51: DeprecationWarning: find_elements_by_xpath is deprecated. Please use find_elements(by=By.XPATH, value=xpath) instead\n",
      "/usr/local/lib/python3.7/site-packages/ipykernel_launcher.py:67: DeprecationWarning: find_elements_by_xpath is deprecated. Please use find_elements(by=By.XPATH, value=xpath) instead\n",
      "/usr/local/lib/python3.7/site-packages/ipykernel_launcher.py:83: DeprecationWarning: find_elements_by_xpath is deprecated. Please use find_elements(by=By.XPATH, value=xpath) instead\n",
      "/usr/local/lib/python3.7/site-packages/ipykernel_launcher.py:84: DeprecationWarning: find_elements_by_xpath is deprecated. Please use find_elements(by=By.XPATH, value=xpath) instead\n",
      "/usr/local/lib/python3.7/site-packages/ipykernel_launcher.py:93: DeprecationWarning: find_elements_by_xpath is deprecated. Please use find_elements(by=By.XPATH, value=xpath) instead\n"
     ]
    },
    {
     "name": "stdout",
     "output_type": "stream",
     "text": [
      "          Date              Team    xG    xA  xPTS match_or_not\n",
      "0   16/08/2014           Arsenal  1.55  0.16  2.79            1\n",
      "1   16/08/2014           Swansea  0.28  1.17  0.48            1\n",
      "2   16/08/2014       Aston Villa  0.91  0.42  1.83            1\n",
      "3   16/08/2014         Tottenham  1.02  1.85  0.71            1\n",
      "4   16/08/2014              Hull  1.12  1.90  0.74            1\n",
      "..         ...               ...   ...   ...   ...          ...\n",
      "13  04/04/2015         Liverpool  1.21  1.46  1.18            1\n",
      "0   05/04/2015        Sunderland  0.83  0.80  1.31            1\n",
      "1   05/04/2015         Tottenham  0.38  1.51  0.45            1\n",
      "2   05/04/2015           Burnley  1.51  0.38  2.32            1\n",
      "3   05/04/2015  Newcastle United  0.80  0.83  1.33            1\n",
      "\n",
      "[616 rows x 6 columns]\n",
      "Apr 6, 2015\n"
     ]
    },
    {
     "name": "stderr",
     "output_type": "stream",
     "text": [
      "/usr/local/lib/python3.7/site-packages/ipykernel_launcher.py:51: DeprecationWarning: find_elements_by_xpath is deprecated. Please use find_elements(by=By.XPATH, value=xpath) instead\n",
      "/usr/local/lib/python3.7/site-packages/ipykernel_launcher.py:67: DeprecationWarning: find_elements_by_xpath is deprecated. Please use find_elements(by=By.XPATH, value=xpath) instead\n",
      "/usr/local/lib/python3.7/site-packages/ipykernel_launcher.py:83: DeprecationWarning: find_elements_by_xpath is deprecated. Please use find_elements(by=By.XPATH, value=xpath) instead\n",
      "/usr/local/lib/python3.7/site-packages/ipykernel_launcher.py:84: DeprecationWarning: find_elements_by_xpath is deprecated. Please use find_elements(by=By.XPATH, value=xpath) instead\n",
      "/usr/local/lib/python3.7/site-packages/ipykernel_launcher.py:93: DeprecationWarning: find_elements_by_xpath is deprecated. Please use find_elements(by=By.XPATH, value=xpath) instead\n"
     ]
    },
    {
     "name": "stdout",
     "output_type": "stream",
     "text": [
      "          Date              Team    xG    xA  xPTS match_or_not\n",
      "0   16/08/2014           Arsenal  1.55  0.16  2.79            1\n",
      "1   16/08/2014           Swansea  0.28  1.17  0.48            1\n",
      "2   16/08/2014       Aston Villa  0.91  0.42  1.83            1\n",
      "3   16/08/2014         Tottenham  1.02  1.85  0.71            1\n",
      "4   16/08/2014              Hull  1.12  1.90  0.74            1\n",
      "..         ...               ...   ...   ...   ...          ...\n",
      "1   05/04/2015         Tottenham  0.38  1.51  0.45            1\n",
      "2   05/04/2015           Burnley  1.51  0.38  2.32            1\n",
      "3   05/04/2015  Newcastle United  0.80  0.83  1.33            1\n",
      "0   06/04/2015    Crystal Palace  1.33  1.11  1.64            1\n",
      "1   06/04/2015   Manchester City  1.11  1.33  1.04            1\n",
      "\n",
      "[618 rows x 6 columns]\n",
      "Apr 7, 2015\n"
     ]
    },
    {
     "name": "stderr",
     "output_type": "stream",
     "text": [
      "/usr/local/lib/python3.7/site-packages/ipykernel_launcher.py:51: DeprecationWarning: find_elements_by_xpath is deprecated. Please use find_elements(by=By.XPATH, value=xpath) instead\n",
      "/usr/local/lib/python3.7/site-packages/ipykernel_launcher.py:67: DeprecationWarning: find_elements_by_xpath is deprecated. Please use find_elements(by=By.XPATH, value=xpath) instead\n",
      "/usr/local/lib/python3.7/site-packages/ipykernel_launcher.py:83: DeprecationWarning: find_elements_by_xpath is deprecated. Please use find_elements(by=By.XPATH, value=xpath) instead\n",
      "/usr/local/lib/python3.7/site-packages/ipykernel_launcher.py:84: DeprecationWarning: find_elements_by_xpath is deprecated. Please use find_elements(by=By.XPATH, value=xpath) instead\n",
      "/usr/local/lib/python3.7/site-packages/ipykernel_launcher.py:93: DeprecationWarning: find_elements_by_xpath is deprecated. Please use find_elements(by=By.XPATH, value=xpath) instead\n"
     ]
    },
    {
     "name": "stdout",
     "output_type": "stream",
     "text": [
      "          Date                 Team    xG    xA  xPTS match_or_not\n",
      "0   16/08/2014              Arsenal  1.55  0.16  2.79            1\n",
      "1   16/08/2014              Swansea  0.28  1.17  0.48            1\n",
      "2   16/08/2014          Aston Villa  0.91  0.42  1.83            1\n",
      "3   16/08/2014            Tottenham  1.02  1.85  0.71            1\n",
      "4   16/08/2014                 Hull  1.12  1.90  0.74            1\n",
      "..         ...                  ...   ...   ...   ...          ...\n",
      "3   05/04/2015     Newcastle United  0.80  0.83  1.33            1\n",
      "0   06/04/2015       Crystal Palace  1.33  1.11  1.64            1\n",
      "1   06/04/2015      Manchester City  1.11  1.33  1.04            1\n",
      "0   07/04/2015          Aston Villa  1.87  1.43  1.67            1\n",
      "1   07/04/2015  Queens Park Rangers  1.43  1.87  1.07            1\n",
      "\n",
      "[620 rows x 6 columns]\n",
      "Apr 8, 2015\n"
     ]
    },
    {
     "name": "stderr",
     "output_type": "stream",
     "text": [
      "/usr/local/lib/python3.7/site-packages/ipykernel_launcher.py:51: DeprecationWarning: find_elements_by_xpath is deprecated. Please use find_elements(by=By.XPATH, value=xpath) instead\n",
      "/usr/local/lib/python3.7/site-packages/ipykernel_launcher.py:67: DeprecationWarning: find_elements_by_xpath is deprecated. Please use find_elements(by=By.XPATH, value=xpath) instead\n"
     ]
    },
    {
     "name": "stdout",
     "output_type": "stream",
     "text": [
      "Apr 9, 2015\n",
      "Apr 10, 2015\n",
      "Apr 11, 2015\n"
     ]
    },
    {
     "name": "stderr",
     "output_type": "stream",
     "text": [
      "/usr/local/lib/python3.7/site-packages/ipykernel_launcher.py:83: DeprecationWarning: find_elements_by_xpath is deprecated. Please use find_elements(by=By.XPATH, value=xpath) instead\n",
      "/usr/local/lib/python3.7/site-packages/ipykernel_launcher.py:84: DeprecationWarning: find_elements_by_xpath is deprecated. Please use find_elements(by=By.XPATH, value=xpath) instead\n",
      "/usr/local/lib/python3.7/site-packages/ipykernel_launcher.py:93: DeprecationWarning: find_elements_by_xpath is deprecated. Please use find_elements(by=By.XPATH, value=xpath) instead\n"
     ]
    },
    {
     "name": "stdout",
     "output_type": "stream",
     "text": [
      "          Date                  Team    xG    xA  xPTS match_or_not\n",
      "0   16/08/2014               Arsenal  1.55  0.16  2.79            1\n",
      "1   16/08/2014               Swansea  0.28  1.17  0.48            1\n",
      "2   16/08/2014           Aston Villa  0.91  0.42  1.83            1\n",
      "3   16/08/2014             Tottenham  1.02  1.85  0.71            1\n",
      "4   16/08/2014                  Hull  1.12  1.90  0.74            1\n",
      "..         ...                   ...   ...   ...   ...          ...\n",
      "9   11/04/2015  West Bromwich Albion  0.97  1.69  0.78            1\n",
      "10  11/04/2015             Tottenham  0.62  0.86  1.04            1\n",
      "11  11/04/2015               Burnley  0.66  1.21  0.83            1\n",
      "12  11/04/2015                  Hull  0.74  2.37  0.31            1\n",
      "13  11/04/2015            Sunderland  0.62  2.35  0.27            1\n",
      "\n",
      "[634 rows x 6 columns]\n",
      "Apr 12, 2015\n"
     ]
    },
    {
     "name": "stderr",
     "output_type": "stream",
     "text": [
      "/usr/local/lib/python3.7/site-packages/ipykernel_launcher.py:51: DeprecationWarning: find_elements_by_xpath is deprecated. Please use find_elements(by=By.XPATH, value=xpath) instead\n",
      "/usr/local/lib/python3.7/site-packages/ipykernel_launcher.py:67: DeprecationWarning: find_elements_by_xpath is deprecated. Please use find_elements(by=By.XPATH, value=xpath) instead\n",
      "/usr/local/lib/python3.7/site-packages/ipykernel_launcher.py:83: DeprecationWarning: find_elements_by_xpath is deprecated. Please use find_elements(by=By.XPATH, value=xpath) instead\n",
      "/usr/local/lib/python3.7/site-packages/ipykernel_launcher.py:84: DeprecationWarning: find_elements_by_xpath is deprecated. Please use find_elements(by=By.XPATH, value=xpath) instead\n",
      "/usr/local/lib/python3.7/site-packages/ipykernel_launcher.py:93: DeprecationWarning: find_elements_by_xpath is deprecated. Please use find_elements(by=By.XPATH, value=xpath) instead\n"
     ]
    },
    {
     "name": "stdout",
     "output_type": "stream",
     "text": [
      "          Date                 Team    xG    xA  xPTS match_or_not\n",
      "0   16/08/2014              Arsenal  1.55  0.16  2.79            1\n",
      "1   16/08/2014              Swansea  0.28  1.17  0.48            1\n",
      "2   16/08/2014          Aston Villa  0.91  0.42  1.83            1\n",
      "3   16/08/2014            Tottenham  1.02  1.85  0.71            1\n",
      "4   16/08/2014                 Hull  1.12  1.90  0.74            1\n",
      "..         ...                  ...   ...   ...   ...          ...\n",
      "13  11/04/2015           Sunderland  0.62  2.35  0.27            1\n",
      "0   12/04/2015    Manchester United  2.66  1.76  2.03            1\n",
      "1   12/04/2015              Chelsea  0.92  0.78  1.46            1\n",
      "2   12/04/2015  Queens Park Rangers  0.78  0.92  1.18            1\n",
      "3   12/04/2015      Manchester City  1.76  2.66  0.76            1\n",
      "\n",
      "[638 rows x 6 columns]\n",
      "Apr 13, 2015\n"
     ]
    },
    {
     "name": "stderr",
     "output_type": "stream",
     "text": [
      "/usr/local/lib/python3.7/site-packages/ipykernel_launcher.py:51: DeprecationWarning: find_elements_by_xpath is deprecated. Please use find_elements(by=By.XPATH, value=xpath) instead\n",
      "/usr/local/lib/python3.7/site-packages/ipykernel_launcher.py:67: DeprecationWarning: find_elements_by_xpath is deprecated. Please use find_elements(by=By.XPATH, value=xpath) instead\n",
      "/usr/local/lib/python3.7/site-packages/ipykernel_launcher.py:83: DeprecationWarning: find_elements_by_xpath is deprecated. Please use find_elements(by=By.XPATH, value=xpath) instead\n",
      "/usr/local/lib/python3.7/site-packages/ipykernel_launcher.py:84: DeprecationWarning: find_elements_by_xpath is deprecated. Please use find_elements(by=By.XPATH, value=xpath) instead\n",
      "/usr/local/lib/python3.7/site-packages/ipykernel_launcher.py:93: DeprecationWarning: find_elements_by_xpath is deprecated. Please use find_elements(by=By.XPATH, value=xpath) instead\n"
     ]
    },
    {
     "name": "stdout",
     "output_type": "stream",
     "text": [
      "          Date                 Team    xG    xA  xPTS match_or_not\n",
      "0   16/08/2014              Arsenal  1.55  0.16  2.79            1\n",
      "1   16/08/2014              Swansea  0.28  1.17  0.48            1\n",
      "2   16/08/2014          Aston Villa  0.91  0.42  1.83            1\n",
      "3   16/08/2014            Tottenham  1.02  1.85  0.71            1\n",
      "4   16/08/2014                 Hull  1.12  1.90  0.74            1\n",
      "..         ...                  ...   ...   ...   ...          ...\n",
      "1   12/04/2015              Chelsea  0.92  0.78  1.46            1\n",
      "2   12/04/2015  Queens Park Rangers  0.78  0.92  1.18            1\n",
      "3   12/04/2015      Manchester City  1.76  2.66  0.76            1\n",
      "0   13/04/2015            Liverpool  1.27  0.36  2.16            1\n",
      "1   13/04/2015     Newcastle United  0.36  1.27  0.56            1\n",
      "\n",
      "[640 rows x 6 columns]\n",
      "Apr 14, 2015\n"
     ]
    },
    {
     "name": "stderr",
     "output_type": "stream",
     "text": [
      "/usr/local/lib/python3.7/site-packages/ipykernel_launcher.py:51: DeprecationWarning: find_elements_by_xpath is deprecated. Please use find_elements(by=By.XPATH, value=xpath) instead\n",
      "/usr/local/lib/python3.7/site-packages/ipykernel_launcher.py:67: DeprecationWarning: find_elements_by_xpath is deprecated. Please use find_elements(by=By.XPATH, value=xpath) instead\n"
     ]
    },
    {
     "name": "stdout",
     "output_type": "stream",
     "text": [
      "Apr 15, 2015\n",
      "Apr 16, 2015\n",
      "Apr 17, 2015\n",
      "Apr 18, 2015\n"
     ]
    },
    {
     "name": "stderr",
     "output_type": "stream",
     "text": [
      "/usr/local/lib/python3.7/site-packages/ipykernel_launcher.py:83: DeprecationWarning: find_elements_by_xpath is deprecated. Please use find_elements(by=By.XPATH, value=xpath) instead\n",
      "/usr/local/lib/python3.7/site-packages/ipykernel_launcher.py:84: DeprecationWarning: find_elements_by_xpath is deprecated. Please use find_elements(by=By.XPATH, value=xpath) instead\n",
      "/usr/local/lib/python3.7/site-packages/ipykernel_launcher.py:93: DeprecationWarning: find_elements_by_xpath is deprecated. Please use find_elements(by=By.XPATH, value=xpath) instead\n"
     ]
    },
    {
     "name": "stdout",
     "output_type": "stream",
     "text": [
      "          Date               Team    xG    xA  xPTS match_or_not\n",
      "0   16/08/2014            Arsenal  1.55  0.16  2.79            1\n",
      "1   16/08/2014            Swansea  0.28  1.17  0.48            1\n",
      "2   16/08/2014        Aston Villa  0.91  0.42  1.83            1\n",
      "3   16/08/2014          Tottenham  1.02  1.85  0.71            1\n",
      "4   16/08/2014               Hull  1.12  1.90  0.74            1\n",
      "..         ...                ...   ...   ...   ...          ...\n",
      "5   18/04/2015        Southampton  1.36  2.26  0.68            1\n",
      "6   18/04/2015  Manchester United  0.74  1.15  0.91            1\n",
      "7   18/04/2015            Burnley  1.06  2.36  0.50            1\n",
      "8   18/04/2015     Crystal Palace  2.06  0.70  2.42            1\n",
      "9   18/04/2015            Swansea  0.87  2.57  0.32            1\n",
      "\n",
      "[650 rows x 6 columns]\n",
      "Apr 19, 2015\n"
     ]
    },
    {
     "name": "stderr",
     "output_type": "stream",
     "text": [
      "/usr/local/lib/python3.7/site-packages/ipykernel_launcher.py:51: DeprecationWarning: find_elements_by_xpath is deprecated. Please use find_elements(by=By.XPATH, value=xpath) instead\n",
      "/usr/local/lib/python3.7/site-packages/ipykernel_launcher.py:67: DeprecationWarning: find_elements_by_xpath is deprecated. Please use find_elements(by=By.XPATH, value=xpath) instead\n",
      "/usr/local/lib/python3.7/site-packages/ipykernel_launcher.py:83: DeprecationWarning: find_elements_by_xpath is deprecated. Please use find_elements(by=By.XPATH, value=xpath) instead\n",
      "/usr/local/lib/python3.7/site-packages/ipykernel_launcher.py:84: DeprecationWarning: find_elements_by_xpath is deprecated. Please use find_elements(by=By.XPATH, value=xpath) instead\n",
      "/usr/local/lib/python3.7/site-packages/ipykernel_launcher.py:93: DeprecationWarning: find_elements_by_xpath is deprecated. Please use find_elements(by=By.XPATH, value=xpath) instead\n"
     ]
    },
    {
     "name": "stdout",
     "output_type": "stream",
     "text": [
      "          Date              Team    xG    xA  xPTS match_or_not\n",
      "0   16/08/2014           Arsenal  1.55  0.16  2.79            1\n",
      "1   16/08/2014           Swansea  0.28  1.17  0.48            1\n",
      "2   16/08/2014       Aston Villa  0.91  0.42  1.83            1\n",
      "3   16/08/2014         Tottenham  1.02  1.85  0.71            1\n",
      "4   16/08/2014              Hull  1.12  1.90  0.74            1\n",
      "..         ...               ...   ...   ...   ...          ...\n",
      "9   18/04/2015           Swansea  0.87  2.57  0.32            1\n",
      "0   19/04/2015         Tottenham  2.00  0.94  2.20            1\n",
      "1   19/04/2015   Manchester City  2.05  0.74  2.30            1\n",
      "2   19/04/2015  Newcastle United  0.94  2.00  0.58            1\n",
      "3   19/04/2015          West Ham  0.74  2.05  0.50            1\n",
      "\n",
      "[654 rows x 6 columns]\n",
      "Apr 20, 2015\n"
     ]
    },
    {
     "name": "stderr",
     "output_type": "stream",
     "text": [
      "/usr/local/lib/python3.7/site-packages/ipykernel_launcher.py:51: DeprecationWarning: find_elements_by_xpath is deprecated. Please use find_elements(by=By.XPATH, value=xpath) instead\n",
      "/usr/local/lib/python3.7/site-packages/ipykernel_launcher.py:67: DeprecationWarning: find_elements_by_xpath is deprecated. Please use find_elements(by=By.XPATH, value=xpath) instead\n"
     ]
    },
    {
     "name": "stdout",
     "output_type": "stream",
     "text": [
      "Apr 21, 2015\n",
      "Apr 22, 2015\n",
      "Apr 23, 2015\n",
      "Apr 24, 2015\n",
      "Apr 25, 2015\n"
     ]
    },
    {
     "name": "stderr",
     "output_type": "stream",
     "text": [
      "/usr/local/lib/python3.7/site-packages/ipykernel_launcher.py:83: DeprecationWarning: find_elements_by_xpath is deprecated. Please use find_elements(by=By.XPATH, value=xpath) instead\n",
      "/usr/local/lib/python3.7/site-packages/ipykernel_launcher.py:84: DeprecationWarning: find_elements_by_xpath is deprecated. Please use find_elements(by=By.XPATH, value=xpath) instead\n",
      "/usr/local/lib/python3.7/site-packages/ipykernel_launcher.py:93: DeprecationWarning: find_elements_by_xpath is deprecated. Please use find_elements(by=By.XPATH, value=xpath) instead\n"
     ]
    },
    {
     "name": "stdout",
     "output_type": "stream",
     "text": [
      "          Date                 Team    xG    xA  xPTS match_or_not\n",
      "0   16/08/2014              Arsenal  1.55  0.16  2.79            1\n",
      "1   16/08/2014              Swansea  0.28  1.17  0.48            1\n",
      "2   16/08/2014          Aston Villa  0.91  0.42  1.83            1\n",
      "3   16/08/2014            Tottenham  1.02  1.85  0.71            1\n",
      "4   16/08/2014                 Hull  1.12  1.90  0.74            1\n",
      "..         ...                  ...   ...   ...   ...          ...\n",
      "11  25/04/2015  Queens Park Rangers  2.28  0.82  2.45            1\n",
      "12  25/04/2015          Aston Villa  0.90  1.19  1.08            1\n",
      "13  25/04/2015     Newcastle United  1.55  1.59  1.32            1\n",
      "14  25/04/2015              Burnley  1.99  1.22  2.05            1\n",
      "15  25/04/2015       Crystal Palace  0.91  2.38  0.36            1\n",
      "\n",
      "[670 rows x 6 columns]\n",
      "Apr 26, 2015\n"
     ]
    },
    {
     "name": "stderr",
     "output_type": "stream",
     "text": [
      "/usr/local/lib/python3.7/site-packages/ipykernel_launcher.py:51: DeprecationWarning: find_elements_by_xpath is deprecated. Please use find_elements(by=By.XPATH, value=xpath) instead\n",
      "/usr/local/lib/python3.7/site-packages/ipykernel_launcher.py:67: DeprecationWarning: find_elements_by_xpath is deprecated. Please use find_elements(by=By.XPATH, value=xpath) instead\n",
      "/usr/local/lib/python3.7/site-packages/ipykernel_launcher.py:83: DeprecationWarning: find_elements_by_xpath is deprecated. Please use find_elements(by=By.XPATH, value=xpath) instead\n",
      "/usr/local/lib/python3.7/site-packages/ipykernel_launcher.py:84: DeprecationWarning: find_elements_by_xpath is deprecated. Please use find_elements(by=By.XPATH, value=xpath) instead\n",
      "/usr/local/lib/python3.7/site-packages/ipykernel_launcher.py:93: DeprecationWarning: find_elements_by_xpath is deprecated. Please use find_elements(by=By.XPATH, value=xpath) instead\n"
     ]
    },
    {
     "name": "stdout",
     "output_type": "stream",
     "text": [
      "          Date               Team    xG    xA  xPTS match_or_not\n",
      "0   16/08/2014            Arsenal  1.55  0.16  2.79            1\n",
      "1   16/08/2014            Swansea  0.28  1.17  0.48            1\n",
      "2   16/08/2014        Aston Villa  0.91  0.42  1.83            1\n",
      "3   16/08/2014          Tottenham  1.02  1.85  0.71            1\n",
      "4   16/08/2014               Hull  1.12  1.90  0.74            1\n",
      "..         ...                ...   ...   ...   ...          ...\n",
      "15  25/04/2015     Crystal Palace  0.91  2.38  0.36            1\n",
      "0   26/04/2015            Everton  1.08  0.75  1.67            1\n",
      "1   26/04/2015            Chelsea  0.85  1.07  1.14            1\n",
      "2   26/04/2015            Arsenal  1.07  0.85  1.52            1\n",
      "3   26/04/2015  Manchester United  0.75  1.08  1.01            1\n",
      "\n",
      "[674 rows x 6 columns]\n",
      "Apr 27, 2015\n"
     ]
    },
    {
     "name": "stderr",
     "output_type": "stream",
     "text": [
      "/usr/local/lib/python3.7/site-packages/ipykernel_launcher.py:51: DeprecationWarning: find_elements_by_xpath is deprecated. Please use find_elements(by=By.XPATH, value=xpath) instead\n",
      "/usr/local/lib/python3.7/site-packages/ipykernel_launcher.py:67: DeprecationWarning: find_elements_by_xpath is deprecated. Please use find_elements(by=By.XPATH, value=xpath) instead\n"
     ]
    },
    {
     "name": "stdout",
     "output_type": "stream",
     "text": [
      "Apr 28, 2015\n"
     ]
    },
    {
     "name": "stderr",
     "output_type": "stream",
     "text": [
      "/usr/local/lib/python3.7/site-packages/ipykernel_launcher.py:83: DeprecationWarning: find_elements_by_xpath is deprecated. Please use find_elements(by=By.XPATH, value=xpath) instead\n",
      "/usr/local/lib/python3.7/site-packages/ipykernel_launcher.py:84: DeprecationWarning: find_elements_by_xpath is deprecated. Please use find_elements(by=By.XPATH, value=xpath) instead\n",
      "/usr/local/lib/python3.7/site-packages/ipykernel_launcher.py:93: DeprecationWarning: find_elements_by_xpath is deprecated. Please use find_elements(by=By.XPATH, value=xpath) instead\n"
     ]
    },
    {
     "name": "stdout",
     "output_type": "stream",
     "text": [
      "          Date               Team    xG    xA  xPTS match_or_not\n",
      "0   16/08/2014            Arsenal  1.55  0.16  2.79            1\n",
      "1   16/08/2014            Swansea  0.28  1.17  0.48            1\n",
      "2   16/08/2014        Aston Villa  0.91  0.42  1.83            1\n",
      "3   16/08/2014          Tottenham  1.02  1.85  0.71            1\n",
      "4   16/08/2014               Hull  1.12  1.90  0.74            1\n",
      "..         ...                ...   ...   ...   ...          ...\n",
      "1   26/04/2015            Chelsea  0.85  1.07  1.14            1\n",
      "2   26/04/2015            Arsenal  1.07  0.85  1.52            1\n",
      "3   26/04/2015  Manchester United  0.75  1.08  1.01            1\n",
      "0   28/04/2015               Hull  0.73  0.52  1.55            1\n",
      "1   28/04/2015          Liverpool  0.52  0.73  1.05            1\n",
      "\n",
      "[676 rows x 6 columns]\n",
      "Apr 29, 2015\n"
     ]
    },
    {
     "name": "stderr",
     "output_type": "stream",
     "text": [
      "/usr/local/lib/python3.7/site-packages/ipykernel_launcher.py:51: DeprecationWarning: find_elements_by_xpath is deprecated. Please use find_elements(by=By.XPATH, value=xpath) instead\n",
      "/usr/local/lib/python3.7/site-packages/ipykernel_launcher.py:67: DeprecationWarning: find_elements_by_xpath is deprecated. Please use find_elements(by=By.XPATH, value=xpath) instead\n",
      "/usr/local/lib/python3.7/site-packages/ipykernel_launcher.py:83: DeprecationWarning: find_elements_by_xpath is deprecated. Please use find_elements(by=By.XPATH, value=xpath) instead\n",
      "/usr/local/lib/python3.7/site-packages/ipykernel_launcher.py:84: DeprecationWarning: find_elements_by_xpath is deprecated. Please use find_elements(by=By.XPATH, value=xpath) instead\n",
      "/usr/local/lib/python3.7/site-packages/ipykernel_launcher.py:93: DeprecationWarning: find_elements_by_xpath is deprecated. Please use find_elements(by=By.XPATH, value=xpath) instead\n"
     ]
    },
    {
     "name": "stdout",
     "output_type": "stream",
     "text": [
      "          Date               Team    xG    xA  xPTS match_or_not\n",
      "0   16/08/2014            Arsenal  1.55  0.16  2.79            1\n",
      "1   16/08/2014            Swansea  0.28  1.17  0.48            1\n",
      "2   16/08/2014        Aston Villa  0.91  0.42  1.83            1\n",
      "3   16/08/2014          Tottenham  1.02  1.85  0.71            1\n",
      "4   16/08/2014               Hull  1.12  1.90  0.74            1\n",
      "..         ...                ...   ...   ...   ...          ...\n",
      "3   26/04/2015  Manchester United  0.75  1.08  1.01            1\n",
      "0   28/04/2015               Hull  0.73  0.52  1.55            1\n",
      "1   28/04/2015          Liverpool  0.52  0.73  1.05            1\n",
      "0   29/04/2015            Chelsea  1.52  0.60  2.30            1\n",
      "1   29/04/2015          Leicester  0.60  1.52  0.45            1\n",
      "\n",
      "[678 rows x 6 columns]\n",
      "Apr 30, 2015\n"
     ]
    },
    {
     "name": "stderr",
     "output_type": "stream",
     "text": [
      "/usr/local/lib/python3.7/site-packages/ipykernel_launcher.py:51: DeprecationWarning: find_elements_by_xpath is deprecated. Please use find_elements(by=By.XPATH, value=xpath) instead\n",
      "/usr/local/lib/python3.7/site-packages/ipykernel_launcher.py:67: DeprecationWarning: find_elements_by_xpath is deprecated. Please use find_elements(by=By.XPATH, value=xpath) instead\n"
     ]
    },
    {
     "name": "stdout",
     "output_type": "stream",
     "text": [
      "May 1, 2015\n",
      "May 2, 2015\n"
     ]
    },
    {
     "name": "stderr",
     "output_type": "stream",
     "text": [
      "/usr/local/lib/python3.7/site-packages/ipykernel_launcher.py:83: DeprecationWarning: find_elements_by_xpath is deprecated. Please use find_elements(by=By.XPATH, value=xpath) instead\n",
      "/usr/local/lib/python3.7/site-packages/ipykernel_launcher.py:84: DeprecationWarning: find_elements_by_xpath is deprecated. Please use find_elements(by=By.XPATH, value=xpath) instead\n",
      "/usr/local/lib/python3.7/site-packages/ipykernel_launcher.py:93: DeprecationWarning: find_elements_by_xpath is deprecated. Please use find_elements(by=By.XPATH, value=xpath) instead\n"
     ]
    },
    {
     "name": "stdout",
     "output_type": "stream",
     "text": [
      "          Date                 Team    xG    xA  xPTS match_or_not\n",
      "0   16/08/2014              Arsenal  1.55  0.16  2.79            1\n",
      "1   16/08/2014              Swansea  0.28  1.17  0.48            1\n",
      "2   16/08/2014          Aston Villa  0.91  0.42  1.83            1\n",
      "3   16/08/2014            Tottenham  1.02  1.85  0.71            1\n",
      "4   16/08/2014                 Hull  1.12  1.90  0.74            1\n",
      "..         ...                  ...   ...   ...   ...          ...\n",
      "9   02/05/2015  Queens Park Rangers  0.39  2.29  0.19            1\n",
      "10  02/05/2015    Manchester United  2.11  0.32  2.69            1\n",
      "11  02/05/2015              Burnley  0.76  3.24  0.17            1\n",
      "12  02/05/2015                Stoke  0.32  2.08  0.22            1\n",
      "13  02/05/2015     Newcastle United  0.49  4.03  0.04            1\n",
      "\n",
      "[692 rows x 6 columns]\n",
      "May 3, 2015\n"
     ]
    },
    {
     "name": "stderr",
     "output_type": "stream",
     "text": [
      "/usr/local/lib/python3.7/site-packages/ipykernel_launcher.py:51: DeprecationWarning: find_elements_by_xpath is deprecated. Please use find_elements(by=By.XPATH, value=xpath) instead\n",
      "/usr/local/lib/python3.7/site-packages/ipykernel_launcher.py:67: DeprecationWarning: find_elements_by_xpath is deprecated. Please use find_elements(by=By.XPATH, value=xpath) instead\n",
      "/usr/local/lib/python3.7/site-packages/ipykernel_launcher.py:83: DeprecationWarning: find_elements_by_xpath is deprecated. Please use find_elements(by=By.XPATH, value=xpath) instead\n",
      "/usr/local/lib/python3.7/site-packages/ipykernel_launcher.py:84: DeprecationWarning: find_elements_by_xpath is deprecated. Please use find_elements(by=By.XPATH, value=xpath) instead\n",
      "/usr/local/lib/python3.7/site-packages/ipykernel_launcher.py:93: DeprecationWarning: find_elements_by_xpath is deprecated. Please use find_elements(by=By.XPATH, value=xpath) instead\n"
     ]
    },
    {
     "name": "stdout",
     "output_type": "stream",
     "text": [
      "          Date              Team    xG    xA  xPTS match_or_not\n",
      "0   16/08/2014           Arsenal  1.55  0.16  2.79            1\n",
      "1   16/08/2014           Swansea  0.28  1.17  0.48            1\n",
      "2   16/08/2014       Aston Villa  0.91  0.42  1.83            1\n",
      "3   16/08/2014         Tottenham  1.02  1.85  0.71            1\n",
      "4   16/08/2014              Hull  1.12  1.90  0.74            1\n",
      "..         ...               ...   ...   ...   ...          ...\n",
      "13  02/05/2015  Newcastle United  0.49  4.03  0.04            1\n",
      "0   03/05/2015           Chelsea  1.56  0.42  2.45            1\n",
      "1   03/05/2015   Manchester City  1.81  2.07  1.18            1\n",
      "2   03/05/2015    Crystal Palace  0.42  1.56  0.35            1\n",
      "3   03/05/2015         Tottenham  2.07  1.81  1.58            1\n",
      "\n",
      "[696 rows x 6 columns]\n",
      "May 4, 2015\n"
     ]
    },
    {
     "name": "stderr",
     "output_type": "stream",
     "text": [
      "/usr/local/lib/python3.7/site-packages/ipykernel_launcher.py:51: DeprecationWarning: find_elements_by_xpath is deprecated. Please use find_elements(by=By.XPATH, value=xpath) instead\n",
      "/usr/local/lib/python3.7/site-packages/ipykernel_launcher.py:67: DeprecationWarning: find_elements_by_xpath is deprecated. Please use find_elements(by=By.XPATH, value=xpath) instead\n",
      "/usr/local/lib/python3.7/site-packages/ipykernel_launcher.py:83: DeprecationWarning: find_elements_by_xpath is deprecated. Please use find_elements(by=By.XPATH, value=xpath) instead\n",
      "/usr/local/lib/python3.7/site-packages/ipykernel_launcher.py:84: DeprecationWarning: find_elements_by_xpath is deprecated. Please use find_elements(by=By.XPATH, value=xpath) instead\n",
      "/usr/local/lib/python3.7/site-packages/ipykernel_launcher.py:93: DeprecationWarning: find_elements_by_xpath is deprecated. Please use find_elements(by=By.XPATH, value=xpath) instead\n"
     ]
    },
    {
     "name": "stdout",
     "output_type": "stream",
     "text": [
      "          Date             Team    xG    xA  xPTS match_or_not\n",
      "0   16/08/2014          Arsenal  1.55  0.16  2.79            1\n",
      "1   16/08/2014          Swansea  0.28  1.17  0.48            1\n",
      "2   16/08/2014      Aston Villa  0.91  0.42  1.83            1\n",
      "3   16/08/2014        Tottenham  1.02  1.85  0.71            1\n",
      "4   16/08/2014             Hull  1.12  1.90  0.74            1\n",
      "..         ...              ...   ...   ...   ...          ...\n",
      "1   03/05/2015  Manchester City  1.81  2.07  1.18            1\n",
      "2   03/05/2015   Crystal Palace  0.42  1.56  0.35            1\n",
      "3   03/05/2015        Tottenham  2.07  1.81  1.58            1\n",
      "0   04/05/2015          Arsenal  2.95  0.47  2.80            1\n",
      "1   04/05/2015             Hull  0.47  2.95  0.13            1\n",
      "\n",
      "[698 rows x 6 columns]\n",
      "May 5, 2015\n"
     ]
    },
    {
     "name": "stderr",
     "output_type": "stream",
     "text": [
      "/usr/local/lib/python3.7/site-packages/ipykernel_launcher.py:51: DeprecationWarning: find_elements_by_xpath is deprecated. Please use find_elements(by=By.XPATH, value=xpath) instead\n",
      "/usr/local/lib/python3.7/site-packages/ipykernel_launcher.py:67: DeprecationWarning: find_elements_by_xpath is deprecated. Please use find_elements(by=By.XPATH, value=xpath) instead\n"
     ]
    },
    {
     "name": "stdout",
     "output_type": "stream",
     "text": [
      "May 6, 2015\n",
      "May 7, 2015\n",
      "May 8, 2015\n",
      "May 9, 2015\n"
     ]
    },
    {
     "name": "stderr",
     "output_type": "stream",
     "text": [
      "/usr/local/lib/python3.7/site-packages/ipykernel_launcher.py:83: DeprecationWarning: find_elements_by_xpath is deprecated. Please use find_elements(by=By.XPATH, value=xpath) instead\n",
      "/usr/local/lib/python3.7/site-packages/ipykernel_launcher.py:84: DeprecationWarning: find_elements_by_xpath is deprecated. Please use find_elements(by=By.XPATH, value=xpath) instead\n",
      "/usr/local/lib/python3.7/site-packages/ipykernel_launcher.py:93: DeprecationWarning: find_elements_by_xpath is deprecated. Please use find_elements(by=By.XPATH, value=xpath) instead\n"
     ]
    },
    {
     "name": "stdout",
     "output_type": "stream",
     "text": [
      "          Date         Team    xG    xA  xPTS match_or_not\n",
      "0   16/08/2014      Arsenal  1.55  0.16  2.79            1\n",
      "1   16/08/2014      Swansea  0.28  1.17  0.48            1\n",
      "2   16/08/2014  Aston Villa  0.91  0.42  1.83            1\n",
      "3   16/08/2014    Tottenham  1.02  1.85  0.71            1\n",
      "4   16/08/2014         Hull  1.12  1.90  0.74            1\n",
      "..         ...          ...   ...   ...   ...          ...\n",
      "9   09/05/2015     West Ham  0.15  1.27  0.31            1\n",
      "10  09/05/2015         Hull  1.13  1.21  1.26            1\n",
      "11  09/05/2015      Everton  1.14  1.20  1.25            1\n",
      "12  09/05/2015  Southampton  0.35  1.64  0.31            1\n",
      "13  09/05/2015    Tottenham  0.30  2.14  0.20            1\n",
      "\n",
      "[712 rows x 6 columns]\n",
      "May 10, 2015\n"
     ]
    },
    {
     "name": "stderr",
     "output_type": "stream",
     "text": [
      "/usr/local/lib/python3.7/site-packages/ipykernel_launcher.py:51: DeprecationWarning: find_elements_by_xpath is deprecated. Please use find_elements(by=By.XPATH, value=xpath) instead\n",
      "/usr/local/lib/python3.7/site-packages/ipykernel_launcher.py:67: DeprecationWarning: find_elements_by_xpath is deprecated. Please use find_elements(by=By.XPATH, value=xpath) instead\n",
      "/usr/local/lib/python3.7/site-packages/ipykernel_launcher.py:83: DeprecationWarning: find_elements_by_xpath is deprecated. Please use find_elements(by=By.XPATH, value=xpath) instead\n",
      "/usr/local/lib/python3.7/site-packages/ipykernel_launcher.py:84: DeprecationWarning: find_elements_by_xpath is deprecated. Please use find_elements(by=By.XPATH, value=xpath) instead\n",
      "/usr/local/lib/python3.7/site-packages/ipykernel_launcher.py:93: DeprecationWarning: find_elements_by_xpath is deprecated. Please use find_elements(by=By.XPATH, value=xpath) instead\n"
     ]
    },
    {
     "name": "stdout",
     "output_type": "stream",
     "text": [
      "          Date                 Team    xG    xA  xPTS match_or_not\n",
      "0   16/08/2014              Arsenal  1.55  0.16  2.79            1\n",
      "1   16/08/2014              Swansea  0.28  1.17  0.48            1\n",
      "2   16/08/2014          Aston Villa  0.91  0.42  1.83            1\n",
      "3   16/08/2014            Tottenham  1.02  1.85  0.71            1\n",
      "4   16/08/2014                 Hull  1.12  1.90  0.74            1\n",
      "..         ...                  ...   ...   ...   ...          ...\n",
      "13  09/05/2015            Tottenham  0.30  2.14  0.20            1\n",
      "0   10/05/2015      Manchester City  5.35  0.87  2.98            1\n",
      "1   10/05/2015              Chelsea  0.54  1.33  0.66            1\n",
      "2   10/05/2015            Liverpool  1.33  0.54  2.06            1\n",
      "3   10/05/2015  Queens Park Rangers  0.87  5.35  0.01            1\n",
      "\n",
      "[716 rows x 6 columns]\n",
      "May 11, 2015\n"
     ]
    },
    {
     "name": "stderr",
     "output_type": "stream",
     "text": [
      "/usr/local/lib/python3.7/site-packages/ipykernel_launcher.py:51: DeprecationWarning: find_elements_by_xpath is deprecated. Please use find_elements(by=By.XPATH, value=xpath) instead\n",
      "/usr/local/lib/python3.7/site-packages/ipykernel_launcher.py:67: DeprecationWarning: find_elements_by_xpath is deprecated. Please use find_elements(by=By.XPATH, value=xpath) instead\n",
      "/usr/local/lib/python3.7/site-packages/ipykernel_launcher.py:83: DeprecationWarning: find_elements_by_xpath is deprecated. Please use find_elements(by=By.XPATH, value=xpath) instead\n",
      "/usr/local/lib/python3.7/site-packages/ipykernel_launcher.py:84: DeprecationWarning: find_elements_by_xpath is deprecated. Please use find_elements(by=By.XPATH, value=xpath) instead\n",
      "/usr/local/lib/python3.7/site-packages/ipykernel_launcher.py:93: DeprecationWarning: find_elements_by_xpath is deprecated. Please use find_elements(by=By.XPATH, value=xpath) instead\n"
     ]
    },
    {
     "name": "stdout",
     "output_type": "stream",
     "text": [
      "          Date                 Team    xG    xA  xPTS match_or_not\n",
      "0   16/08/2014              Arsenal  1.55  0.16  2.79            1\n",
      "1   16/08/2014              Swansea  0.28  1.17  0.48            1\n",
      "2   16/08/2014          Aston Villa  0.91  0.42  1.83            1\n",
      "3   16/08/2014            Tottenham  1.02  1.85  0.71            1\n",
      "4   16/08/2014                 Hull  1.12  1.90  0.74            1\n",
      "..         ...                  ...   ...   ...   ...          ...\n",
      "1   10/05/2015              Chelsea  0.54  1.33  0.66            1\n",
      "2   10/05/2015            Liverpool  1.33  0.54  2.06            1\n",
      "3   10/05/2015  Queens Park Rangers  0.87  5.35  0.01            1\n",
      "0   11/05/2015              Swansea  0.35  1.88  0.32            1\n",
      "1   11/05/2015              Arsenal  1.88  0.35  2.51            1\n",
      "\n",
      "[718 rows x 6 columns]\n",
      "May 12, 2015\n"
     ]
    },
    {
     "name": "stderr",
     "output_type": "stream",
     "text": [
      "/usr/local/lib/python3.7/site-packages/ipykernel_launcher.py:51: DeprecationWarning: find_elements_by_xpath is deprecated. Please use find_elements(by=By.XPATH, value=xpath) instead\n",
      "/usr/local/lib/python3.7/site-packages/ipykernel_launcher.py:67: DeprecationWarning: find_elements_by_xpath is deprecated. Please use find_elements(by=By.XPATH, value=xpath) instead\n"
     ]
    },
    {
     "name": "stdout",
     "output_type": "stream",
     "text": [
      "May 13, 2015\n",
      "May 14, 2015\n",
      "May 15, 2015\n",
      "May 16, 2015\n"
     ]
    },
    {
     "name": "stderr",
     "output_type": "stream",
     "text": [
      "/usr/local/lib/python3.7/site-packages/ipykernel_launcher.py:83: DeprecationWarning: find_elements_by_xpath is deprecated. Please use find_elements(by=By.XPATH, value=xpath) instead\n",
      "/usr/local/lib/python3.7/site-packages/ipykernel_launcher.py:84: DeprecationWarning: find_elements_by_xpath is deprecated. Please use find_elements(by=By.XPATH, value=xpath) instead\n",
      "/usr/local/lib/python3.7/site-packages/ipykernel_launcher.py:93: DeprecationWarning: find_elements_by_xpath is deprecated. Please use find_elements(by=By.XPATH, value=xpath) instead\n"
     ]
    },
    {
     "name": "stdout",
     "output_type": "stream",
     "text": [
      "          Date              Team    xG    xA  xPTS match_or_not\n",
      "0   16/08/2014           Arsenal  1.55  0.16  2.79            1\n",
      "1   16/08/2014           Swansea  0.28  1.17  0.48            1\n",
      "2   16/08/2014       Aston Villa  0.91  0.42  1.83            1\n",
      "3   16/08/2014         Tottenham  1.02  1.85  0.71            1\n",
      "4   16/08/2014              Hull  1.12  1.90  0.74            1\n",
      "..         ...               ...   ...   ...   ...          ...\n",
      "9   16/05/2015          West Ham  0.81  2.07  0.48            1\n",
      "10  16/05/2015  Newcastle United  2.11  0.47  2.54            1\n",
      "11  16/05/2015         Liverpool  1.11  2.00  0.69            1\n",
      "12  16/05/2015              Hull  1.13  1.70  0.88            1\n",
      "13  16/05/2015       Aston Villa  1.19  3.60  0.20            1\n",
      "\n",
      "[732 rows x 6 columns]\n",
      "May 17, 2015\n"
     ]
    },
    {
     "name": "stderr",
     "output_type": "stream",
     "text": [
      "/usr/local/lib/python3.7/site-packages/ipykernel_launcher.py:51: DeprecationWarning: find_elements_by_xpath is deprecated. Please use find_elements(by=By.XPATH, value=xpath) instead\n",
      "/usr/local/lib/python3.7/site-packages/ipykernel_launcher.py:67: DeprecationWarning: find_elements_by_xpath is deprecated. Please use find_elements(by=By.XPATH, value=xpath) instead\n",
      "/usr/local/lib/python3.7/site-packages/ipykernel_launcher.py:83: DeprecationWarning: find_elements_by_xpath is deprecated. Please use find_elements(by=By.XPATH, value=xpath) instead\n",
      "/usr/local/lib/python3.7/site-packages/ipykernel_launcher.py:84: DeprecationWarning: find_elements_by_xpath is deprecated. Please use find_elements(by=By.XPATH, value=xpath) instead\n",
      "/usr/local/lib/python3.7/site-packages/ipykernel_launcher.py:93: DeprecationWarning: find_elements_by_xpath is deprecated. Please use find_elements(by=By.XPATH, value=xpath) instead\n"
     ]
    },
    {
     "name": "stdout",
     "output_type": "stream",
     "text": [
      "          Date               Team    xG    xA  xPTS match_or_not\n",
      "0   16/08/2014            Arsenal  1.55  0.16  2.79            1\n",
      "1   16/08/2014            Swansea  0.28  1.17  0.48            1\n",
      "2   16/08/2014        Aston Villa  0.91  0.42  1.83            1\n",
      "3   16/08/2014          Tottenham  1.02  1.85  0.71            1\n",
      "4   16/08/2014               Hull  1.12  1.90  0.74            1\n",
      "..         ...                ...   ...   ...   ...          ...\n",
      "13  16/05/2015        Aston Villa  1.19  3.60  0.20            1\n",
      "0   17/05/2015    Manchester City  2.28  1.06  2.24            1\n",
      "1   17/05/2015            Arsenal  1.07  0.72  1.71            1\n",
      "2   17/05/2015  Manchester United  0.72  1.07  0.96            1\n",
      "3   17/05/2015            Swansea  1.06  2.28  0.57            1\n",
      "\n",
      "[736 rows x 6 columns]\n",
      "May 18, 2015\n"
     ]
    },
    {
     "name": "stderr",
     "output_type": "stream",
     "text": [
      "/usr/local/lib/python3.7/site-packages/ipykernel_launcher.py:51: DeprecationWarning: find_elements_by_xpath is deprecated. Please use find_elements(by=By.XPATH, value=xpath) instead\n",
      "/usr/local/lib/python3.7/site-packages/ipykernel_launcher.py:67: DeprecationWarning: find_elements_by_xpath is deprecated. Please use find_elements(by=By.XPATH, value=xpath) instead\n",
      "/usr/local/lib/python3.7/site-packages/ipykernel_launcher.py:83: DeprecationWarning: find_elements_by_xpath is deprecated. Please use find_elements(by=By.XPATH, value=xpath) instead\n",
      "/usr/local/lib/python3.7/site-packages/ipykernel_launcher.py:84: DeprecationWarning: find_elements_by_xpath is deprecated. Please use find_elements(by=By.XPATH, value=xpath) instead\n",
      "/usr/local/lib/python3.7/site-packages/ipykernel_launcher.py:93: DeprecationWarning: find_elements_by_xpath is deprecated. Please use find_elements(by=By.XPATH, value=xpath) instead\n"
     ]
    },
    {
     "name": "stdout",
     "output_type": "stream",
     "text": [
      "          Date                  Team    xG    xA  xPTS match_or_not\n",
      "0   16/08/2014               Arsenal  1.55  0.16  2.79            1\n",
      "1   16/08/2014               Swansea  0.28  1.17  0.48            1\n",
      "2   16/08/2014           Aston Villa  0.91  0.42  1.83            1\n",
      "3   16/08/2014             Tottenham  1.02  1.85  0.71            1\n",
      "4   16/08/2014                  Hull  1.12  1.90  0.74            1\n",
      "..         ...                   ...   ...   ...   ...          ...\n",
      "1   17/05/2015               Arsenal  1.07  0.72  1.71            1\n",
      "2   17/05/2015     Manchester United  0.72  1.07  0.96            1\n",
      "3   17/05/2015               Swansea  1.06  2.28  0.57            1\n",
      "0   18/05/2015  West Bromwich Albion  1.23  1.08  1.52            1\n",
      "1   18/05/2015               Chelsea  1.08  1.23  1.15            1\n",
      "\n",
      "[738 rows x 6 columns]\n",
      "May 19, 2015\n"
     ]
    },
    {
     "name": "stderr",
     "output_type": "stream",
     "text": [
      "/usr/local/lib/python3.7/site-packages/ipykernel_launcher.py:51: DeprecationWarning: find_elements_by_xpath is deprecated. Please use find_elements(by=By.XPATH, value=xpath) instead\n",
      "/usr/local/lib/python3.7/site-packages/ipykernel_launcher.py:67: DeprecationWarning: find_elements_by_xpath is deprecated. Please use find_elements(by=By.XPATH, value=xpath) instead\n"
     ]
    },
    {
     "name": "stdout",
     "output_type": "stream",
     "text": [
      "May 20, 2015\n"
     ]
    },
    {
     "name": "stderr",
     "output_type": "stream",
     "text": [
      "/usr/local/lib/python3.7/site-packages/ipykernel_launcher.py:83: DeprecationWarning: find_elements_by_xpath is deprecated. Please use find_elements(by=By.XPATH, value=xpath) instead\n",
      "/usr/local/lib/python3.7/site-packages/ipykernel_launcher.py:84: DeprecationWarning: find_elements_by_xpath is deprecated. Please use find_elements(by=By.XPATH, value=xpath) instead\n",
      "/usr/local/lib/python3.7/site-packages/ipykernel_launcher.py:93: DeprecationWarning: find_elements_by_xpath is deprecated. Please use find_elements(by=By.XPATH, value=xpath) instead\n"
     ]
    },
    {
     "name": "stdout",
     "output_type": "stream",
     "text": [
      "          Date                  Team    xG    xA  xPTS match_or_not\n",
      "0   16/08/2014               Arsenal  1.55  0.16  2.79            1\n",
      "1   16/08/2014               Swansea  0.28  1.17  0.48            1\n",
      "2   16/08/2014           Aston Villa  0.91  0.42  1.83            1\n",
      "3   16/08/2014             Tottenham  1.02  1.85  0.71            1\n",
      "4   16/08/2014                  Hull  1.12  1.90  0.74            1\n",
      "..         ...                   ...   ...   ...   ...          ...\n",
      "3   17/05/2015               Swansea  1.06  2.28  0.57            1\n",
      "0   18/05/2015  West Bromwich Albion  1.23  1.08  1.52            1\n",
      "1   18/05/2015               Chelsea  1.08  1.23  1.15            1\n",
      "0   20/05/2015            Sunderland  1.50  1.69  1.30            1\n",
      "1   20/05/2015               Arsenal  1.69  1.50  1.44            1\n",
      "\n",
      "[740 rows x 6 columns]\n",
      "May 21, 2015\n"
     ]
    },
    {
     "name": "stderr",
     "output_type": "stream",
     "text": [
      "/usr/local/lib/python3.7/site-packages/ipykernel_launcher.py:51: DeprecationWarning: find_elements_by_xpath is deprecated. Please use find_elements(by=By.XPATH, value=xpath) instead\n",
      "/usr/local/lib/python3.7/site-packages/ipykernel_launcher.py:67: DeprecationWarning: find_elements_by_xpath is deprecated. Please use find_elements(by=By.XPATH, value=xpath) instead\n"
     ]
    },
    {
     "name": "stdout",
     "output_type": "stream",
     "text": [
      "May 22, 2015\n",
      "May 23, 2015\n",
      "May 24, 2015\n"
     ]
    },
    {
     "name": "stderr",
     "output_type": "stream",
     "text": [
      "/usr/local/lib/python3.7/site-packages/ipykernel_launcher.py:83: DeprecationWarning: find_elements_by_xpath is deprecated. Please use find_elements(by=By.XPATH, value=xpath) instead\n",
      "/usr/local/lib/python3.7/site-packages/ipykernel_launcher.py:84: DeprecationWarning: find_elements_by_xpath is deprecated. Please use find_elements(by=By.XPATH, value=xpath) instead\n",
      "/usr/local/lib/python3.7/site-packages/ipykernel_launcher.py:93: DeprecationWarning: find_elements_by_xpath is deprecated. Please use find_elements(by=By.XPATH, value=xpath) instead\n"
     ]
    },
    {
     "name": "stdout",
     "output_type": "stream",
     "text": [
      "          Date                  Team    xG    xA  xPTS match_or_not\n",
      "0   16/08/2014               Arsenal  1.55  0.16  2.79            1\n",
      "1   16/08/2014               Swansea  0.28  1.17  0.48            1\n",
      "2   16/08/2014           Aston Villa  0.91  0.42  1.83            1\n",
      "3   16/08/2014             Tottenham  1.02  1.85  0.71            1\n",
      "4   16/08/2014                  Hull  1.12  1.90  0.74            1\n",
      "..         ...                   ...   ...   ...   ...          ...\n",
      "15  24/05/2015           Southampton  0.78  2.44  0.28            1\n",
      "16  24/05/2015              West Ham  0.42  1.64  0.42            1\n",
      "17  24/05/2015  West Bromwich Albion  0.57  3.17  0.11            1\n",
      "18  24/05/2015   Queens Park Rangers  1.27  2.17  0.77            1\n",
      "19  24/05/2015             Liverpool  1.02  2.16  0.53            1\n",
      "\n",
      "[760 rows x 6 columns]\n",
      "May 25, 2015\n"
     ]
    },
    {
     "name": "stderr",
     "output_type": "stream",
     "text": [
      "/usr/local/lib/python3.7/site-packages/ipykernel_launcher.py:51: DeprecationWarning: find_elements_by_xpath is deprecated. Please use find_elements(by=By.XPATH, value=xpath) instead\n",
      "/usr/local/lib/python3.7/site-packages/ipykernel_launcher.py:67: DeprecationWarning: find_elements_by_xpath is deprecated. Please use find_elements(by=By.XPATH, value=xpath) instead\n",
      "/usr/local/lib/python3.7/site-packages/ipykernel_launcher.py:83: DeprecationWarning: find_elements_by_xpath is deprecated. Please use find_elements(by=By.XPATH, value=xpath) instead\n",
      "/usr/local/lib/python3.7/site-packages/ipykernel_launcher.py:84: DeprecationWarning: find_elements_by_xpath is deprecated. Please use find_elements(by=By.XPATH, value=xpath) instead\n",
      "/usr/local/lib/python3.7/site-packages/ipykernel_launcher.py:93: DeprecationWarning: find_elements_by_xpath is deprecated. Please use find_elements(by=By.XPATH, value=xpath) instead\n"
     ]
    },
    {
     "name": "stdout",
     "output_type": "stream",
     "text": [
      "          Date                  Team    xG    xA  xPTS match_or_not\n",
      "0   16/08/2014               Arsenal  1.55  0.16  2.79            1\n",
      "1   16/08/2014               Swansea  0.28  1.17  0.48            1\n",
      "2   16/08/2014           Aston Villa  0.91  0.42  1.83            1\n",
      "3   16/08/2014             Tottenham  1.02  1.85  0.71            1\n",
      "4   16/08/2014                  Hull  1.12  1.90  0.74            1\n",
      "..         ...                   ...   ...   ...   ...          ...\n",
      "15  25/05/2015           Southampton  0.78  2.44  0.28            1\n",
      "16  25/05/2015              West Ham  0.42  1.64  0.42            1\n",
      "17  25/05/2015  West Bromwich Albion  0.57  3.17  0.11            1\n",
      "18  25/05/2015   Queens Park Rangers  1.27  2.17  0.77            1\n",
      "19  25/05/2015             Liverpool  1.02  2.16  0.53            1\n",
      "\n",
      "[780 rows x 6 columns]\n"
     ]
    }
   ],
   "source": [
    "import pandas as pd\n",
    "\n",
    "month_list = ['Aug', 'Sep', 'Oct', 'Nov', 'Dec', 'Jan', 'Feb', 'Mar', 'Apr', 'May', 'Jun', 'Jul']\n",
    "month_list_temp = ['Jan', 'Feb', 'Mar', 'Apr', 'May', 'Jun', 'Jul', 'Aug', 'Sep', 'Oct', 'Nov', 'Dec']\n",
    "\n",
    "# 날짜 초기값 설정\n",
    "day = 15\n",
    "year = 14\n",
    "index_month = 0\n",
    "\n",
    "# 빈 DataFrame 선언\n",
    "df = pd.DataFrame(columns=['Date', 'Team', 'xG', 'xA', 'xPTS', 'match_or_not'])\n",
    "\n",
    "while(1):\n",
    "    \n",
    "    # 날짜 수정\n",
    "    month = month_list[index_month]\n",
    "    day = day + 1\n",
    "    if month == 'Feb':\n",
    "        if day == 29:\n",
    "            day = 0\n",
    "            index_month = index_month + 1\n",
    "            continue\n",
    "    \n",
    "    elif month in ['Sep', 'Nov', 'Feb', 'Apr', 'Jun']:\n",
    "        if day == 31:\n",
    "            day = 0\n",
    "            index_month = index_month + 1\n",
    "            continue\n",
    "            \n",
    "    else:\n",
    "        if day == 32:\n",
    "            day = 0\n",
    "            index_month = index_month + 1\n",
    "            \n",
    "            if month == 'Dec':\n",
    "                year = year + 1\n",
    "            \n",
    "            continue\n",
    "    \n",
    "    \n",
    "    date = \"{} {}, 20{}\".format(month, day, year)\n",
    "    print(date)\n",
    "    \n",
    "    # 날짜 크롤링 및 입력\n",
    "    time.sleep(1)\n",
    "    date_start = driver.find_elements_by_xpath(\"\"\"//*[@class=\"datepicker hasDatepicker\"]\"\"\")\n",
    "    \n",
    "    date_start[0].clear()\n",
    "    date_start[0].send_keys(date)\n",
    "    date_start[0].send_keys(Keys.ENTER)\n",
    "    date_start[0].send_keys(Keys.ENTER)\n",
    "    time.sleep(1)\n",
    "\n",
    "    date_start[1].clear()\n",
    "    date_start[1].send_keys(date)\n",
    "    date_start[1].send_keys(Keys.ENTER)\n",
    "    date_start[1].send_keys(Keys.ENTER)\n",
    "    time.sleep(1)\n",
    "\n",
    "    # 치뤄진 경기 없으면 continue\n",
    "    xpath_match_or_not = '//*[@id=\"league-chemp\"]/table/tbody/tr[1]/td[3]'\n",
    "    match_or_not_temp = driver.find_elements_by_xpath(xpath_match_or_not)\n",
    "    time.sleep(1)\n",
    "    match_or_not_temp = match_or_not_temp[0].text\n",
    "    if match_or_not_temp == '0':\n",
    "        continue\n",
    "    \n",
    "    \n",
    "    # 팀 명, 경기 여부 크롤링\n",
    "    team_list = []\n",
    "    match_or_not_list = []\n",
    "    for i in range(1, 21):\n",
    "        xpath_str = '//*[@id=\"league-chemp\"]/table/tbody/tr[{}]/td[2]/a'.format(i)\n",
    "        time.sleep(1)\n",
    "        xpath_match = '//*[@id=\"league-chemp\"]/table/tbody/tr[{}]/td[3]'.format(i)\n",
    "        time.sleep(1)\n",
    "        \n",
    "        team = driver.find_elements_by_xpath(xpath_str)\n",
    "        match = driver.find_elements_by_xpath(xpath_match)\n",
    "        team = team[0].text\n",
    "        match = match[0].text\n",
    "\n",
    "        team_list.append(team)\n",
    "        match_or_not_list.append(match)\n",
    "    \n",
    "    \n",
    "    # xG 리스트 크롤링\n",
    "    xG = driver.find_elements_by_xpath('//div[@id=\"league-chemp\"]//table/tbody//td[@class=\"align-right nowrap\"]')\n",
    "    time.sleep(1)\n",
    "    \n",
    "    # xG, xA, xPTS 전처리\n",
    "    xG_list, xA_list, xPTS_list = [], [], []\n",
    "    \n",
    "    for i in range(len(xG)):\n",
    "        \n",
    "        xG_temp = xG[i].text\n",
    "        \n",
    "        if '-' in xG_temp:\n",
    "            index = xG_temp.find('-')\n",
    "            xG_temp = xG_temp[0:index]\n",
    "        if '+' in xG_temp:\n",
    "            index = xG_temp.find('+')\n",
    "            xG_temp = xG_temp[0:index]\n",
    "\n",
    "        if i % 3 == 0:\n",
    "            xG_list.append(xG_temp)\n",
    "        elif i % 3 == 1:\n",
    "            xA_list.append(xG_temp)\n",
    "        else:\n",
    "            xPTS_list.append(xG_temp)\n",
    "    \n",
    "    # 날짜 전처리\n",
    "    date_temp = date.replace(\",\", \"\")\n",
    "    date_temp = date_temp.split()\n",
    "\n",
    "    for month in month_list_temp:\n",
    "        if date_temp[0] == month:\n",
    "            index = month_list_temp.index(month)+1\n",
    "            index = str(index).zfill(2)\n",
    "\n",
    "    date_day = date_temp[1].zfill(2)\n",
    "    date_pretreat = \"{}/{}/{}\".format(date_day, index, date_temp[2])\n",
    "\n",
    "    # 최종 리스트 선언\n",
    "    df_temp = [[0 for col in range(6)] for row in range(20)]\n",
    "\n",
    "    for i in range(20):\n",
    "        df_temp[i][0] = date_pretreat\n",
    "        df_temp[i][1] = team_list[i]\n",
    "        df_temp[i][2] = xG_list[i]\n",
    "        df_temp[i][3] = xA_list[i]\n",
    "        df_temp[i][4] = xPTS_list[i]\n",
    "        df_temp[i][5] = match_or_not_list[i]\n",
    "    \n",
    "    # 치뤄지지 않은 경기(요소) 삭제\n",
    "    df_temp_final = df_temp.copy()\n",
    "    for i in reversed(range(len(df_temp_final))):\n",
    "        if df_temp_final[i][5] == '0':\n",
    "            del df_temp_final[i]\n",
    "\n",
    "    df_temp = pd.DataFrame(df_temp_final, columns=['Date', 'Team', 'xG', 'xA', 'xPTS', 'match_or_not'])\n",
    "    df = pd.concat([df, df_temp])\n",
    "    print(df)\n",
    "    \n",
    "    if date == \"May 25, 2015\":\n",
    "        break;\n"
   ]
  },
  {
   "cell_type": "code",
   "execution_count": 11,
   "id": "dc061d1c",
   "metadata": {},
   "outputs": [
    {
     "data": {
      "text/html": [
       "<div>\n",
       "<style scoped>\n",
       "    .dataframe tbody tr th:only-of-type {\n",
       "        vertical-align: middle;\n",
       "    }\n",
       "\n",
       "    .dataframe tbody tr th {\n",
       "        vertical-align: top;\n",
       "    }\n",
       "\n",
       "    .dataframe thead th {\n",
       "        text-align: right;\n",
       "    }\n",
       "</style>\n",
       "<table border=\"1\" class=\"dataframe\">\n",
       "  <thead>\n",
       "    <tr style=\"text-align: right;\">\n",
       "      <th></th>\n",
       "      <th>Date</th>\n",
       "      <th>Team</th>\n",
       "      <th>xG</th>\n",
       "      <th>xA</th>\n",
       "      <th>xPTS</th>\n",
       "      <th>match_or_not</th>\n",
       "    </tr>\n",
       "  </thead>\n",
       "  <tbody>\n",
       "    <tr>\n",
       "      <th>0</th>\n",
       "      <td>16/08/2014</td>\n",
       "      <td>Arsenal</td>\n",
       "      <td>1.55</td>\n",
       "      <td>0.16</td>\n",
       "      <td>2.79</td>\n",
       "      <td>1</td>\n",
       "    </tr>\n",
       "    <tr>\n",
       "      <th>1</th>\n",
       "      <td>16/08/2014</td>\n",
       "      <td>Swansea</td>\n",
       "      <td>0.28</td>\n",
       "      <td>1.17</td>\n",
       "      <td>0.48</td>\n",
       "      <td>1</td>\n",
       "    </tr>\n",
       "    <tr>\n",
       "      <th>2</th>\n",
       "      <td>16/08/2014</td>\n",
       "      <td>Aston Villa</td>\n",
       "      <td>0.91</td>\n",
       "      <td>0.42</td>\n",
       "      <td>1.83</td>\n",
       "      <td>1</td>\n",
       "    </tr>\n",
       "    <tr>\n",
       "      <th>3</th>\n",
       "      <td>16/08/2014</td>\n",
       "      <td>Tottenham</td>\n",
       "      <td>1.02</td>\n",
       "      <td>1.85</td>\n",
       "      <td>0.71</td>\n",
       "      <td>1</td>\n",
       "    </tr>\n",
       "    <tr>\n",
       "      <th>4</th>\n",
       "      <td>16/08/2014</td>\n",
       "      <td>Hull</td>\n",
       "      <td>1.12</td>\n",
       "      <td>1.90</td>\n",
       "      <td>0.74</td>\n",
       "      <td>1</td>\n",
       "    </tr>\n",
       "    <tr>\n",
       "      <th>...</th>\n",
       "      <td>...</td>\n",
       "      <td>...</td>\n",
       "      <td>...</td>\n",
       "      <td>...</td>\n",
       "      <td>...</td>\n",
       "      <td>...</td>\n",
       "    </tr>\n",
       "    <tr>\n",
       "      <th>775</th>\n",
       "      <td>25/05/2015</td>\n",
       "      <td>Southampton</td>\n",
       "      <td>0.78</td>\n",
       "      <td>2.44</td>\n",
       "      <td>0.28</td>\n",
       "      <td>1</td>\n",
       "    </tr>\n",
       "    <tr>\n",
       "      <th>776</th>\n",
       "      <td>25/05/2015</td>\n",
       "      <td>West Ham</td>\n",
       "      <td>0.42</td>\n",
       "      <td>1.64</td>\n",
       "      <td>0.42</td>\n",
       "      <td>1</td>\n",
       "    </tr>\n",
       "    <tr>\n",
       "      <th>777</th>\n",
       "      <td>25/05/2015</td>\n",
       "      <td>West Bromwich Albion</td>\n",
       "      <td>0.57</td>\n",
       "      <td>3.17</td>\n",
       "      <td>0.11</td>\n",
       "      <td>1</td>\n",
       "    </tr>\n",
       "    <tr>\n",
       "      <th>778</th>\n",
       "      <td>25/05/2015</td>\n",
       "      <td>Queens Park Rangers</td>\n",
       "      <td>1.27</td>\n",
       "      <td>2.17</td>\n",
       "      <td>0.77</td>\n",
       "      <td>1</td>\n",
       "    </tr>\n",
       "    <tr>\n",
       "      <th>779</th>\n",
       "      <td>25/05/2015</td>\n",
       "      <td>Liverpool</td>\n",
       "      <td>1.02</td>\n",
       "      <td>2.16</td>\n",
       "      <td>0.53</td>\n",
       "      <td>1</td>\n",
       "    </tr>\n",
       "  </tbody>\n",
       "</table>\n",
       "<p>780 rows × 6 columns</p>\n",
       "</div>"
      ],
      "text/plain": [
       "           Date                  Team    xG    xA  xPTS match_or_not\n",
       "0    16/08/2014               Arsenal  1.55  0.16  2.79            1\n",
       "1    16/08/2014               Swansea  0.28  1.17  0.48            1\n",
       "2    16/08/2014           Aston Villa  0.91  0.42  1.83            1\n",
       "3    16/08/2014             Tottenham  1.02  1.85  0.71            1\n",
       "4    16/08/2014                  Hull  1.12  1.90  0.74            1\n",
       "..          ...                   ...   ...   ...   ...          ...\n",
       "775  25/05/2015           Southampton  0.78  2.44  0.28            1\n",
       "776  25/05/2015              West Ham  0.42  1.64  0.42            1\n",
       "777  25/05/2015  West Bromwich Albion  0.57  3.17  0.11            1\n",
       "778  25/05/2015   Queens Park Rangers  1.27  2.17  0.77            1\n",
       "779  25/05/2015             Liverpool  1.02  2.16  0.53            1\n",
       "\n",
       "[780 rows x 6 columns]"
      ]
     },
     "execution_count": 11,
     "metadata": {},
     "output_type": "execute_result"
    }
   ],
   "source": [
    "df = df.reset_index(drop=True)\n",
    "df"
   ]
  },
  {
   "cell_type": "code",
   "execution_count": 12,
   "id": "a5630b66",
   "metadata": {},
   "outputs": [],
   "source": [
    "df.to_csv(\"xG_2014-15.csv\", index=False)"
   ]
  }
 ],
 "metadata": {
  "kernelspec": {
   "display_name": "Python 3",
   "language": "python",
   "name": "python3"
  },
  "language_info": {
   "codemirror_mode": {
    "name": "ipython",
    "version": 3
   },
   "file_extension": ".py",
   "mimetype": "text/x-python",
   "name": "python",
   "nbconvert_exporter": "python",
   "pygments_lexer": "ipython3",
   "version": "3.6.9"
  }
 },
 "nbformat": 4,
 "nbformat_minor": 5
}
