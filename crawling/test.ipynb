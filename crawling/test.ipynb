{
 "cells": [
  {
   "cell_type": "code",
   "execution_count": 9,
   "id": "58b4d8c0",
   "metadata": {
    "scrolled": true
   },
   "outputs": [],
   "source": [
    "# from selenium import webdriver\n",
    "\n",
    "# user_agent = 'Mozilla/5.0 (X11; Linux x86_64) AppleWebKit/537.36 (KHTML, like Gecko) Chrome/60.0.3112.50 Safari/537.36'\n",
    "\n",
    "# options = webdriver.ChromeOptions()\n",
    "# options.add_argument('--headless')\n",
    "# options.add_argument('--no-sandbox')\n",
    "# options.add_argument('--disable-dev-shm-usage')\n",
    "# options.add_argument('user-agent={0}'.format(user_agent))\n",
    "# driver = webdriver.Chrome('/chromedriver',options=options)\n",
    "# # 아무런 경고가 없다면 이상없이 작동되는 것입니다\n",
    "\n",
    "# driver.get(url='https://naver.com')\n",
    "# # 페이지 이동\n",
    "\n",
    "# print(driver.current_url)\n",
    "# # 이동되었는지 확인\n",
    "\n",
    "# driver.close()\n",
    "# # 종료"
   ]
  },
  {
   "cell_type": "code",
   "execution_count": 8,
   "id": "d862ea94",
   "metadata": {},
   "outputs": [],
   "source": [
    "# import requests\n",
    "# # 친한 형의 블로그 입니다!!\n",
    "# responese = requests.get('https://blog.naver.com/ldw0811')\n",
    "# print(responese.text)"
   ]
  },
  {
   "cell_type": "code",
   "execution_count": 1,
   "id": "c9047e05",
   "metadata": {},
   "outputs": [],
   "source": [
    "from selenium import webdriver\n",
    "from selenium.webdriver.common.keys import Keys"
   ]
  },
  {
   "cell_type": "code",
   "execution_count": 8,
   "id": "11451ee3",
   "metadata": {},
   "outputs": [
    {
     "name": "stderr",
     "output_type": "stream",
     "text": [
      "/usr/local/lib/python3.7/site-packages/ipykernel_launcher.py:6: DeprecationWarning: executable_path has been deprecated, please pass in a Service object\n",
      "  \n"
     ]
    }
   ],
   "source": [
    "options = webdriver.ChromeOptions()\n",
    "options.add_argument('--headless')\n",
    "options.add_argument('--no-sandbox')\n",
    "# options.add_argument('--disable-dev-shm-usage')\n",
    "# options.add_argument('user-agent={0}'.format(user_agent))\n",
    "driver_test = webdriver.Chrome('/chromedriver',options=options)"
   ]
  },
  {
   "cell_type": "code",
   "execution_count": 9,
   "id": "ddf0dfa8",
   "metadata": {},
   "outputs": [],
   "source": [
    "driver_test.get(\"https://www.python.org\")"
   ]
  },
  {
   "cell_type": "code",
   "execution_count": 10,
   "id": "379cb264",
   "metadata": {},
   "outputs": [
    {
     "name": "stdout",
     "output_type": "stream",
     "text": [
      "Welcome to Python.org\n"
     ]
    }
   ],
   "source": [
    "print(driver_test.title)"
   ]
  },
  {
   "cell_type": "code",
   "execution_count": 11,
   "id": "8ad9adb7",
   "metadata": {},
   "outputs": [
    {
     "name": "stderr",
     "output_type": "stream",
     "text": [
      "/usr/local/lib/python3.7/site-packages/ipykernel_launcher.py:1: DeprecationWarning: find_element_by_name is deprecated. Please use find_element(by=By.NAME, value=name) instead\n",
      "  \"\"\"Entry point for launching an IPython kernel.\n"
     ]
    }
   ],
   "source": [
    "search_bar = driver_test.find_element_by_name(\"q\")"
   ]
  },
  {
   "cell_type": "code",
   "execution_count": 13,
   "id": "ea3f36b9",
   "metadata": {},
   "outputs": [],
   "source": [
    "search_bar.clear()\n",
    "search_bar.send_keys(\"getting started with python\")\n",
    "\n",
    "search_bar.send_keys(Keys.RETURN)"
   ]
  },
  {
   "cell_type": "code",
   "execution_count": 15,
   "id": "f74edccb",
   "metadata": {},
   "outputs": [
    {
     "name": "stdout",
     "output_type": "stream",
     "text": [
      "https://www.python.org/search/?q=getting+started+with+python&submit=\n"
     ]
    }
   ],
   "source": [
    "print(driver_test.current_url)"
   ]
  },
  {
   "cell_type": "code",
   "execution_count": 16,
   "id": "af39a67e",
   "metadata": {},
   "outputs": [],
   "source": [
    "driver.close()"
   ]
  },
  {
   "cell_type": "code",
   "execution_count": null,
   "id": "0348adc9",
   "metadata": {},
   "outputs": [],
   "source": []
  },
  {
   "cell_type": "code",
   "execution_count": null,
   "id": "feb069a8",
   "metadata": {},
   "outputs": [],
   "source": []
  },
  {
   "cell_type": "code",
   "execution_count": 3,
   "id": "d1dd4e00",
   "metadata": {},
   "outputs": [],
   "source": [
    "driver.get(\"https://understat.com/league/EPL\")"
   ]
  },
  {
   "cell_type": "code",
   "execution_count": 4,
   "id": "09a4c69f",
   "metadata": {},
   "outputs": [
    {
     "name": "stdout",
     "output_type": "stream",
     "text": [
      "EPL xG Table and Scorers for the 2021/2022 season | Understat.com\n"
     ]
    }
   ],
   "source": [
    "print(driver.title)"
   ]
  },
  {
   "cell_type": "code",
   "execution_count": null,
   "id": "ca558af6",
   "metadata": {},
   "outputs": [],
   "source": [
    "div_elems = driver.find_elements_by_xpath(\"//div[@name]\")"
   ]
  },
  {
   "cell_type": "code",
   "execution_count": 39,
   "id": "bb1aaadf",
   "metadata": {},
   "outputs": [
    {
     "name": "stderr",
     "output_type": "stream",
     "text": [
      "/usr/local/lib/python3.7/site-packages/ipykernel_launcher.py:1: DeprecationWarning: find_elements_by_class_name is deprecated. Please use find_elements(by=By.CLASS_NAME, value=name) instead\n",
      "  \"\"\"Entry point for launching an IPython kernel.\n"
     ]
    }
   ],
   "source": [
    "test_xG = driver.find_elements_by_class_name(\"align-right\")"
   ]
  },
  {
   "cell_type": "code",
   "execution_count": 48,
   "id": "b79c6f16",
   "metadata": {},
   "outputs": [
    {
     "name": "stderr",
     "output_type": "stream",
     "text": [
      "/usr/local/lib/python3.7/site-packages/ipykernel_launcher.py:1: DeprecationWarning: find_elements_by_class_name is deprecated. Please use find_elements(by=By.CLASS_NAME, value=name) instead\n",
      "  \"\"\"Entry point for launching an IPython kernel.\n"
     ]
    }
   ],
   "source": [
    "test_xG = driver.find_elements_by_class_name(\"align-right nowrap\") # find_element_class_name"
   ]
  },
  {
   "cell_type": "code",
   "execution_count": 49,
   "id": "cc86f1eb",
   "metadata": {},
   "outputs": [],
   "source": [
    "for i in range(len(test_xG)):\n",
    "    print(test_xG[i].text)"
   ]
  },
  {
   "cell_type": "code",
   "execution_count": 50,
   "id": "151c76cc",
   "metadata": {},
   "outputs": [
    {
     "name": "stderr",
     "output_type": "stream",
     "text": [
      "/usr/local/lib/python3.7/site-packages/ipykernel_launcher.py:1: DeprecationWarning: find_elements_by_xpath is deprecated. Please use find_elements(by=By.XPATH, value=xpath) instead\n",
      "  \"\"\"Entry point for launching an IPython kernel.\n"
     ]
    }
   ],
   "source": [
    "div_elems = driver.find_elements_by_xpath(\"//div[@class]\")"
   ]
  },
  {
   "cell_type": "code",
   "execution_count": 53,
   "id": "7602a192",
   "metadata": {},
   "outputs": [
    {
     "data": {
      "text/plain": [
       "'EPL\\n2021/2022\\nHome EPL\\nprev week next week\\nSet time zone\\nOn Off\\nMonday, May 16, 2022\\nNewcastle United\\n20\\n1.680.49\\nArsenal\\nTuesday, May 17, 2022\\nSouthampton\\n12\\n0.121.19\\nLiverpool\\nThursday, May 19, 2022\\nEverton\\n32\\n0.811.60\\nCrystal Palace\\nAston Villa\\n11\\n1.001.63\\nBurnley\\nChelsea\\n11\\n1.620.04\\nLeicester\\nSunday, May 22, 2022\\nArsenal\\n51\\n4.361.09\\nEverton\\nBrentford\\n12\\n0.841.48\\nLeeds\\nBrighton\\n31\\n1.680.27\\nWest Ham\\nBurnley\\n12\\n1.491.74\\nNewcastle United\\nChelsea\\n21\\n2.590.58\\nWatford\\nCrystal Palace\\n10\\n0.350.78\\nManchester United\\nLeicester\\n41\\n3.421.05\\nSouthampton\\nLiverpool\\n31\\n3.191.12\\nWolverhampton Wanderers\\nManchester City\\n32\\n3.320.25\\nAston Villa\\nNorwich\\n05\\n0.313.82\\nTottenham\\nTable Charts overall home away\\n№ Team M W D L G GA PTS xG xGA xPTS\\n1 Manchester City 38 29 6 3 99 26 93 93.40-5.60 25.21-0.79 91.88-1.12\\n2 Liverpool 38 28 8 2 94 26 92 93.02-0.98 32.73+6.73 86.56-5.44\\n3 Chelsea 38 21 11 6 76 33 74 69.30-6.70 35.12+2.12 73.38-0.62\\n4 Tottenham 38 22 5 11 69 40 71 67.95-1.05 43.70+3.70 66.09-4.91\\n5 Arsenal 38 22 3 13 61 48 69 63.39+2.39 48.39+0.39 64.76-4.24\\n6 Manchester United 38 16 10 12 57 57 58 57.21+0.21 56.85-0.15 54.52-3.48\\n7 West Ham 38 16 8 14 60 51 56 54.98-5.02 53.88+2.88 53.56-2.44\\n8 Leicester 38 14 10 14 62 59 52 49.49-12.51 66.11+7.11 42.31-9.69\\n9 Brighton 38 12 15 11 42 44 51 49.57+7.57 47.21+3.21 54.18+3.18\\n10 Wolverhampton Wanderers 38 15 6 17 38 43 51 39.04+1.04 58.48+15.48 40.54-10.46\\n11 Newcastle United 38 13 10 15 44 62 49 41.53-2.47 62.71+0.71 41.53-7.47\\n12 Crystal Palace 38 11 15 12 50 46 48 48.84-1.16 41.33-4.67 58.15+10.15\\n13 Brentford 38 13 7 18 48 56 46 52.89+4.89 49.50-6.50 56.00+10.00\\n14 Aston Villa 38 13 6 19 52 54 45 43.13-8.87 53.10-0.90 46.20+1.20\\n15 Southampton 38 9 13 16 43 67 40 47.35+4.35 64.56-2.44 43.45+3.45\\n16 Everton 38 11 6 21 43 66 39 44.47+1.47 60.69-5.31 43.54+4.54\\n17 Leeds 38 9 11 18 42 79 38 51.19+9.19 71.31-7.69 43.86+5.86\\n18 Burnley 38 7 14 17 34 53 35 41.11+7.11 60.22+7.22 38.10+3.10\\n19 Watford 38 6 5 27 34 77 23 39.34+5.34 67.53-9.47 35.45+12.45\\n20 Norwich 38 5 7 26 23 84 22 31.51+8.51 80.08-3.92 25.04+3.04\\nPositions\\nAll\\nLast\\nAll games\\n1\\n2\\n3\\n4\\n5\\n...\\n54\\n№ Player Team Apps Min G A xG xA xG90 xA90\\n1 Son Heung-Min Tottenham 35 3051 23 7 16.99-6.01 7.85+0.85 0.50 0.23\\n2 Mohamed Salah Liverpool 35 2757 23 13 24.36+1.36 9.79-3.21 0.80 0.32\\n3 Cristiano Ronaldo Manchester United 30 2468 18 3 17.21-0.79 4.42+1.42 0.63 0.16\\n4 Harry Kane Tottenham 37 3229 17 9 20.69+3.69 9.82+0.82 0.58 0.27\\n5 Sadio Mané Liverpool 34 2833 16 2 16.83+0.83 5.27+3.27 0.53 0.17\\n6 Kevin De Bruyne Manchester City 30 2214 15 8 5.95-9.05 11.26+3.26 0.24 0.46\\n7 Jamie Vardy Leicester 25 1807 15 2 9.99-5.01 1.61-0.39 0.50 0.08\\n8 Diogo Jota Liverpool 35 2401 15 4 17.35+2.35 5.87+1.87 0.65 0.22\\n9 Wilfried Zaha Crystal Palace 33 2762 14 1 10.18-3.82 4.89+3.89 0.33 0.16\\n10 Raheem Sterling Manchester City 30 2119 13 5 15.78+2.78 5.02+0.02 0.67 0.21\\n1037 743 1099.07+62.07 779.45+36.45\\nEPL La liga Bundesliga Serie A Ligue 1 RFPL\\nsupport@understat.com\\n© understat 2017'"
      ]
     },
     "execution_count": 53,
     "metadata": {},
     "output_type": "execute_result"
    }
   ],
   "source": [
    "div_elems[0].text5"
   ]
  },
  {
   "cell_type": "code",
   "execution_count": 69,
   "id": "70fdda89",
   "metadata": {},
   "outputs": [
    {
     "name": "stderr",
     "output_type": "stream",
     "text": [
      "/usr/local/lib/python3.7/site-packages/ipykernel_launcher.py:1: DeprecationWarning: find_elements_by_xpath is deprecated. Please use find_elements(by=By.XPATH, value=xpath) instead\n",
      "  \"\"\"Entry point for launching an IPython kernel.\n"
     ]
    },
    {
     "data": {
      "text/plain": [
       "'93.40-5.60'"
      ]
     },
     "execution_count": 69,
     "metadata": {},
     "output_type": "execute_result"
    }
   ],
   "source": [
    "driver.find_elements_by_xpath('//div[@id=\"league-chemp\"]//table/tbody//td[@class=\"align-right nowrap\"]')[0].text"
   ]
  },
  {
   "cell_type": "code",
   "execution_count": 68,
   "id": "120328c2",
   "metadata": {},
   "outputs": [
    {
     "name": "stderr",
     "output_type": "stream",
     "text": [
      "/usr/local/lib/python3.7/site-packages/ipykernel_launcher.py:1: DeprecationWarning: find_elements_by_xpath is deprecated. Please use find_elements(by=By.XPATH, value=xpath) instead\n",
      "  \"\"\"Entry point for launching an IPython kernel.\n"
     ]
    },
    {
     "data": {
      "text/plain": [
       "[]"
      ]
     },
     "execution_count": 68,
     "metadata": {},
     "output_type": "execute_result"
    }
   ],
   "source": [
    "driver.find_elements_by_xpath('//div[@id=\"league-chemp\"]//table/tbody//td[@class=\"align-right nowrap\"]')"
   ]
  }
 ],
 "metadata": {
  "kernelspec": {
   "display_name": "Python 3 (ipykernel)",
   "language": "python",
   "name": "python3"
  },
  "language_info": {
   "codemirror_mode": {
    "name": "ipython",
    "version": 3
   },
   "file_extension": ".py",
   "mimetype": "text/x-python",
   "name": "python",
   "nbconvert_exporter": "python",
   "pygments_lexer": "ipython3",
   "version": "3.7.13"
  }
 },
 "nbformat": 4,
 "nbformat_minor": 5
}
